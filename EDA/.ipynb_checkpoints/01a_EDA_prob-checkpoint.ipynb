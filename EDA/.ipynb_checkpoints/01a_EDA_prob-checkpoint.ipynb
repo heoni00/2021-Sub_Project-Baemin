{
  "nbformat": 4,
  "nbformat_minor": 0,
  "metadata": {
    "colab": {
      "name": "n111a-eda.ipynb의 사본",
      "provenance": []
    },
    "kernelspec": {
      "display_name": "Python 3",
      "language": "python",
      "name": "python3"
    },
    "language_info": {
      "codemirror_mode": {
        "name": "ipython",
        "version": 3
      },
      "file_extension": ".py",
      "mimetype": "text/x-python",
      "name": "python",
      "nbconvert_exporter": "python",
      "pygments_lexer": "ipython3",
      "version": "3.8.2"
    }
  },
  "cells": [
    {
      "cell_type": "markdown",
      "metadata": {
        "id": "qoR8E-T2TYPd"
      },
      "source": [
        "## 1.데이터셋 불러오기 연습\n",
        "\n",
        "다음 url에서 엑셀 파일을 불러오세요. (pandas excel)\n",
        "\n",
        "<https://ds-lecture-data.s3.ap-northeast-2.amazonaws.com/stocks/Travel.xlsx>\n",
        "\n",
        "  - 데이터셋 변수의 이름은 `df1`, `df2`로 저장하세요.\n",
        "  - row가 아닌 column에 '매출액', '영업이익' 이 가도록 데이터를 transpose 하세요.\n",
        "  - 이후 아래 링크를 참조하여 첫번째 row를 column name으로 설정하세요.\n",
        "\n",
        "<https://stackoverflow.com/questions/31328861/python-pandas-replacing-header-with-top-row>\n",
        "\n",
        "- 파일은 2개의 시트로 구성되어 있으며 각각 이름은 `008770`, `035250` 입니다.\n",
        "\n"
      ]
    },
    {
      "cell_type": "markdown",
      "metadata": {
        "id": "156P6ndeKojO"
      },
      "source": [
        "## 2. 데이터 확인\n",
        "\n",
        "- 데이터의 dimension을 확인하세요.\n",
        "- 데이터의 결측치가 어디에 있는지 확인 후 0으로 대체하세요.\n",
        "- 각 데이터 별로 **FCF**의 값을 barplot으로 시각화하세요.\n",
        "  - 0보다 큰값, 작은값의 수의 총합을 `num1`, `num2`에 저장하세요\n"
      ]
    },
    {
      "cell_type": "code",
      "metadata": {
        "id": "s_ld2YJujRSb"
      },
      "source": [
        "num1 = '~'\n",
        "num2 = '~'"
      ],
      "execution_count": null,
      "outputs": []
    },
    {
      "cell_type": "markdown",
      "metadata": {
        "id": "OGMOBwEBTqKS"
      },
      "source": [
        "## 3. File export\n",
        "\n",
        "- 읽었던 엑셀 파일의 내용을 2개의 csv로 각각 출력하세요. (python export csv)\n",
        "\n",
        "  - 이름은 각각 `df1.csv`, `df2.csv` 입니다.\n"
      ]
    },
    {
      "cell_type": "code",
      "metadata": {
        "id": "xe47NX7qk53H"
      },
      "source": [
        "# 이 곳에 답안을 작성하시길 바랍니다"
      ],
      "execution_count": null,
      "outputs": []
    },
    {
      "cell_type": "markdown",
      "metadata": {
        "id": "DCZ01w4Ps-jO"
      },
      "source": [
        "## 4. Error Handling\n",
        "\n",
        "- 다음의 에러를 고치세요. 결과값은 6912가 나와야합니다.\n"
      ]
    },
    {
      "cell_type": "code",
      "metadata": {
        "colab": {
          "base_uri": "https://localhost:8080/",
          "height": 198
        },
        "id": "NJdISe69ZT7E",
        "outputId": "904545d9-2ed2-4ea8-b8ea-1c95614beba4"
      },
      "source": [
        "a = '1234'\n",
        "b = 5678\n",
        "\n",
        "a+b"
      ],
      "execution_count": null,
      "outputs": [
        {
          "output_type": "error",
          "ename": "TypeError",
          "evalue": "ignored",
          "traceback": [
            "\u001b[0;31m---------------------------------------------------------------------------\u001b[0m",
            "\u001b[0;31mTypeError\u001b[0m                                 Traceback (most recent call last)",
            "\u001b[0;32m<ipython-input-1-ff2b9b4199e0>\u001b[0m in \u001b[0;36m<module>\u001b[0;34m()\u001b[0m\n\u001b[1;32m      2\u001b[0m \u001b[0mb\u001b[0m \u001b[0;34m=\u001b[0m \u001b[0;36m5678\u001b[0m\u001b[0;34m\u001b[0m\u001b[0;34m\u001b[0m\u001b[0m\n\u001b[1;32m      3\u001b[0m \u001b[0;34m\u001b[0m\u001b[0m\n\u001b[0;32m----> 4\u001b[0;31m \u001b[0ma\u001b[0m\u001b[0;34m+\u001b[0m\u001b[0mb\u001b[0m\u001b[0;34m\u001b[0m\u001b[0;34m\u001b[0m\u001b[0m\n\u001b[0m",
            "\u001b[0;31mTypeError\u001b[0m: must be str, not int"
          ]
        }
      ]
    },
    {
      "cell_type": "markdown",
      "metadata": {
        "id": "KROePyMWQc08"
      },
      "source": [
        "## 5. EDA\n",
        "\n",
        "아래의 코드는 palmer penguin 데이터를 불러올 수 있는 코드입니다.\n",
        "\n",
        "```python\n",
        "import seaborn as sns\n",
        "\n",
        "pp = sns.load_dataset('penguins')\n",
        "```\n",
        "\n",
        "이를 참조하여, `pp`의 `species`와 `sex`변수에 대해서 cross-tabulation을 시행하고, 6개의 값들 중 가장 큰 값을 `num3`에, 가장 작은 값을 `num4`에 저장하세요."
      ]
    },
    {
      "cell_type": "code",
      "metadata": {
        "id": "GuENkrLISFeR"
      },
      "source": [
        "# 이 곳에 답안을 작성하시길 바랍니다"
      ],
      "execution_count": null,
      "outputs": []
    },
    {
      "cell_type": "markdown",
      "metadata": {
        "id": "axPHh5t5s124"
      },
      "source": [
        "## 🔥 도전과제 "
      ]
    },
    {
      "cell_type": "markdown",
      "metadata": {
        "id": "Obp0rnowSgF8"
      },
      "source": [
        "### penguins 데이터를 계속 사용합니다.\n",
        "\n",
        "이에 대해 아래의 task들을 시행하세요.\n",
        "\n",
        "- 결측치 처리 (제거)\n",
        "\n",
        "- bill_length_mm에 대해서 qqplot 그리기\n",
        "\n",
        "- island에 대해서 다른 4개의 numerical feature 를 boxplot으로 표현하기\n",
        "\n",
        "- 각 numerical feature에 대해서 summary statistics : mean, sd, Quantiles(1Q, 2Q, 3Q, 4Q)를 계산하세요."
      ]
    },
    {
      "cell_type": "code",
      "metadata": {
        "id": "0tVL1EYBTS45"
      },
      "source": [
        "# 이 곳에 답안을 작성하시길 바랍니다"
      ],
      "execution_count": null,
      "outputs": []
    }
  ]
}