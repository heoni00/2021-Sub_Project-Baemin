{
 "cells": [
  {
   "cell_type": "markdown",
   "metadata": {
    "id": "SnDJqBLi0FYW"
   },
   "source": [
    "## *SECTION 1 / SPRINT 1 / NOTE 2*\n",
    "\n",
    "# Assignment\n"
   ]
  },
  {
   "cell_type": "markdown",
   "metadata": {
    "id": "W5GjI1z5yNG4"
   },
   "source": [
    "## 1. Feature Engineering\n",
    "\n",
    "- `KT&G` 기업 데이터를 계속 사용합니다.\n",
    "  - 변수 이름은 `df`로 저장하세요.\n",
    "\n",
    "- 각 분기별 영업이익률을 직접 계산해보세요. \n",
    "  - Feature 이름은 `영업이익률2` 입니다."
   ]
  },
  {
   "cell_type": "code",
   "execution_count": 1,
   "metadata": {
    "id": "AazB4eFwym2p"
   },
   "outputs": [],
   "source": [
    "url = 'https://ds-lecture-data.s3.ap-northeast-2.amazonaws.com/kt%26g/kt%26g_0.csv' #파일 위치\n",
    "names = ['분기', '매출액', '영업이익', '영업이익(발표기준)', '세전계속사업이익',\n",
    "           '당기순이익', '당기순이익(지배)', '당기순이익(비지배)', '자산총계', '부채총계',\n",
    "           '자본총계', '자본총계(지배)', '자본총계(비지배)', '자본금', '영업활동현금흐름',\n",
    "           '투자활동현금흐름', '재무활동현금흐름', '영업이익률', '순이익률', 'ROE(%)',\n",
    "           'ROA(%)', '부채비율', '자본유보율', 'EPS(원)', 'PER(배)'] # 데이터 내부에 열들의 명칭이 없는 경우"
   ]
  },
  {
   "cell_type": "code",
   "execution_count": 2,
   "metadata": {},
   "outputs": [],
   "source": [
    "import pandas as pd\n",
    "\n",
    "df = pd.read_csv(url, header = None)\n",
    "df.columns = names"
   ]
  },
  {
   "cell_type": "code",
   "execution_count": 3,
   "metadata": {},
   "outputs": [
    {
     "data": {
      "text/html": [
       "<div>\n",
       "<style scoped>\n",
       "    .dataframe tbody tr th:only-of-type {\n",
       "        vertical-align: middle;\n",
       "    }\n",
       "\n",
       "    .dataframe tbody tr th {\n",
       "        vertical-align: top;\n",
       "    }\n",
       "\n",
       "    .dataframe thead th {\n",
       "        text-align: right;\n",
       "    }\n",
       "</style>\n",
       "<table border=\"1\" class=\"dataframe\">\n",
       "  <thead>\n",
       "    <tr style=\"text-align: right;\">\n",
       "      <th></th>\n",
       "      <th>분기</th>\n",
       "      <th>매출액</th>\n",
       "      <th>영업이익</th>\n",
       "      <th>영업이익(발표기준)</th>\n",
       "      <th>세전계속사업이익</th>\n",
       "      <th>당기순이익</th>\n",
       "      <th>당기순이익(지배)</th>\n",
       "      <th>당기순이익(비지배)</th>\n",
       "      <th>자산총계</th>\n",
       "      <th>부채총계</th>\n",
       "      <th>...</th>\n",
       "      <th>투자활동현금흐름</th>\n",
       "      <th>재무활동현금흐름</th>\n",
       "      <th>영업이익률</th>\n",
       "      <th>순이익률</th>\n",
       "      <th>ROE(%)</th>\n",
       "      <th>ROA(%)</th>\n",
       "      <th>부채비율</th>\n",
       "      <th>자본유보율</th>\n",
       "      <th>EPS(원)</th>\n",
       "      <th>PER(배)</th>\n",
       "    </tr>\n",
       "  </thead>\n",
       "  <tbody>\n",
       "    <tr>\n",
       "      <th>0</th>\n",
       "      <td>19/6</td>\n",
       "      <td>12,578</td>\n",
       "      <td>3,991</td>\n",
       "      <td>3,991</td>\n",
       "      <td>4,452</td>\n",
       "      <td>3,245</td>\n",
       "      <td>3,228</td>\n",
       "      <td>17</td>\n",
       "      <td>108,464</td>\n",
       "      <td>25,940</td>\n",
       "      <td>...</td>\n",
       "      <td>-1,878</td>\n",
       "      <td>-4,919</td>\n",
       "      <td>31.73</td>\n",
       "      <td>25.80</td>\n",
       "      <td>12.35</td>\n",
       "      <td>9.37</td>\n",
       "      <td>31.43</td>\n",
       "      <td>803.22</td>\n",
       "      <td>2,351</td>\n",
       "      <td>13.77</td>\n",
       "    </tr>\n",
       "    <tr>\n",
       "      <th>1</th>\n",
       "      <td>19/9</td>\n",
       "      <td>13,222</td>\n",
       "      <td>3,825</td>\n",
       "      <td>3,825</td>\n",
       "      <td>4,503</td>\n",
       "      <td>3,221</td>\n",
       "      <td>3,208</td>\n",
       "      <td>13</td>\n",
       "      <td>106,314</td>\n",
       "      <td>20,691</td>\n",
       "      <td>...</td>\n",
       "      <td>-83</td>\n",
       "      <td>-329</td>\n",
       "      <td>28.93</td>\n",
       "      <td>24.36</td>\n",
       "      <td>12.67</td>\n",
       "      <td>9.95</td>\n",
       "      <td>24.17</td>\n",
       "      <td>836.86</td>\n",
       "      <td>2,337</td>\n",
       "      <td>13.87</td>\n",
       "    </tr>\n",
       "    <tr>\n",
       "      <th>2</th>\n",
       "      <td>19/12</td>\n",
       "      <td>11,982</td>\n",
       "      <td>2,523</td>\n",
       "      <td>2,523</td>\n",
       "      <td>1,794</td>\n",
       "      <td>1,183</td>\n",
       "      <td>1,198</td>\n",
       "      <td>-15</td>\n",
       "      <td>107,121</td>\n",
       "      <td>20,062</td>\n",
       "      <td>...</td>\n",
       "      <td>-501</td>\n",
       "      <td>-129</td>\n",
       "      <td>21.06</td>\n",
       "      <td>9.87</td>\n",
       "      <td>12.39</td>\n",
       "      <td>9.96</td>\n",
       "      <td>23.04</td>\n",
       "      <td>850.82</td>\n",
       "      <td>873</td>\n",
       "      <td>12.42</td>\n",
       "    </tr>\n",
       "    <tr>\n",
       "      <th>3</th>\n",
       "      <td>20/3</td>\n",
       "      <td>11,784</td>\n",
       "      <td>3,150</td>\n",
       "      <td>3,150</td>\n",
       "      <td>4,156</td>\n",
       "      <td>2,939</td>\n",
       "      <td>2,930</td>\n",
       "      <td>9</td>\n",
       "      <td>108,594</td>\n",
       "      <td>24,862</td>\n",
       "      <td>...</td>\n",
       "      <td>-1,392</td>\n",
       "      <td>-86</td>\n",
       "      <td>26.73</td>\n",
       "      <td>24.94</td>\n",
       "      <td>13.05</td>\n",
       "      <td>9.79</td>\n",
       "      <td>29.69</td>\n",
       "      <td>823.16</td>\n",
       "      <td>2,134</td>\n",
       "      <td>9.71</td>\n",
       "    </tr>\n",
       "    <tr>\n",
       "      <th>4</th>\n",
       "      <td>20/6</td>\n",
       "      <td>13,188</td>\n",
       "      <td>3,947</td>\n",
       "      <td>3,947</td>\n",
       "      <td>4,020</td>\n",
       "      <td>2,935</td>\n",
       "      <td>2,931</td>\n",
       "      <td>4</td>\n",
       "      <td>110,282</td>\n",
       "      <td>23,386</td>\n",
       "      <td>...</td>\n",
       "      <td>-214</td>\n",
       "      <td>-5,501</td>\n",
       "      <td>29.93</td>\n",
       "      <td>22.25</td>\n",
       "      <td>12.20</td>\n",
       "      <td>9.40</td>\n",
       "      <td>26.91</td>\n",
       "      <td>837.40</td>\n",
       "      <td>2,135</td>\n",
       "      <td>10.46</td>\n",
       "    </tr>\n",
       "  </tbody>\n",
       "</table>\n",
       "<p>5 rows × 25 columns</p>\n",
       "</div>"
      ],
      "text/plain": [
       "      분기     매출액   영업이익 영업이익(발표기준) 세전계속사업이익  당기순이익 당기순이익(지배)  당기순이익(비지배)  \\\n",
       "0   19/6  12,578  3,991      3,991    4,452  3,245     3,228          17   \n",
       "1   19/9  13,222  3,825      3,825    4,503  3,221     3,208          13   \n",
       "2  19/12  11,982  2,523      2,523    1,794  1,183     1,198         -15   \n",
       "3   20/3  11,784  3,150      3,150    4,156  2,939     2,930           9   \n",
       "4   20/6  13,188  3,947      3,947    4,020  2,935     2,931           4   \n",
       "\n",
       "      자산총계    부채총계  ... 투자활동현금흐름 재무활동현금흐름  영업이익률   순이익률 ROE(%) ROA(%)   부채비율  \\\n",
       "0  108,464  25,940  ...   -1,878   -4,919  31.73  25.80  12.35   9.37  31.43   \n",
       "1  106,314  20,691  ...      -83     -329  28.93  24.36  12.67   9.95  24.17   \n",
       "2  107,121  20,062  ...     -501     -129  21.06   9.87  12.39   9.96  23.04   \n",
       "3  108,594  24,862  ...   -1,392      -86  26.73  24.94  13.05   9.79  29.69   \n",
       "4  110,282  23,386  ...     -214   -5,501  29.93  22.25  12.20   9.40  26.91   \n",
       "\n",
       "    자본유보율  EPS(원)  PER(배)  \n",
       "0  803.22   2,351   13.77  \n",
       "1  836.86   2,337   13.87  \n",
       "2  850.82     873   12.42  \n",
       "3  823.16   2,134    9.71  \n",
       "4  837.40   2,135   10.46  \n",
       "\n",
       "[5 rows x 25 columns]"
      ]
     },
     "execution_count": 3,
     "metadata": {},
     "output_type": "execute_result"
    }
   ],
   "source": [
    "df.head() "
   ]
  },
  {
   "cell_type": "markdown",
   "metadata": {},
   "source": [
    "### lambda 함수 \n",
    "\n",
    "- 한마디로 함수를 한줄로 표현하게 해준다. \n",
    "\n",
    "``` python \n",
    "lambda x : x.replace(\".\",\"\") # : 왼쪽이 함수 공식(?) 오른쪽이 반환값\n",
    "```\n",
    "\n",
    "### apply 함수 \n",
    "\n",
    "- 파라미터에 함수 조건식을 넣으면 데이터를 하나하나씩 넣고 반환해준다. "
   ]
  },
  {
   "cell_type": "code",
   "execution_count": 4,
   "metadata": {
    "tags": []
   },
   "outputs": [],
   "source": [
    "df.영업이익 = df.영업이익.apply(lambda x : x.replace(',','')) # 데이터 속 , 빼기 \n",
    "df.영업이익 = df.영업이익.astype(int) #데이터 프레임 속 열 타입 바꾸기 "
   ]
  },
  {
   "cell_type": "code",
   "execution_count": 5,
   "metadata": {},
   "outputs": [],
   "source": [
    "df.매출액 = df.매출액.apply(lambda x : x.replace(',','')) # 데이터 속 , 빼기 \n",
    "df.매출액 = df.매출액.astype(int) #데이터 프레임 속 열 타입 바꾸기 "
   ]
  },
  {
   "cell_type": "code",
   "execution_count": 7,
   "metadata": {},
   "outputs": [],
   "source": [
    "# 열추가 \n",
    "\n",
    "df['영업이익률2'] = df['영업이익']/df['매출액']*100"
   ]
  },
  {
   "cell_type": "markdown",
   "metadata": {},
   "source": [
    "- 아래 데이터를 참조하여 18/19년도에 대해서 Price to Dream Ratio (PDR)을 계산하세요.\n",
    "  - 변수 이름은 `df2`, feature 이름은 `PDR`로, `df2['PDR']`을 통해 `~` 값이 확인 되어야합니다. 아래의 전제조건을 활용하세요.\n",
    "  - 점유율 (일반담배 기준) / feature 이름 은 컬럼 이름\n",
    "  \n",
    "    - 18년 : 62%\n",
    "    - 19년 : 63.5% \n",
    "  - 시장의 규모 \n",
    "     - 18년 : 15조 \n",
    "     - 19년 : 15조\n",
    "\n",
    "||구분|종가|발행주식수|시가총액|시장점유율|PDR|\n",
    "|:-:|:-:|:-:|:-:|:-:|:-:|:-:|\n",
    "|0|18년|101500|137292497|13935188445500|62.0|~|\n",
    "|1|19년|93800|137292497|12878036218600|63.5|~|\n"
   ]
  },
  {
   "cell_type": "code",
   "execution_count": 25,
   "metadata": {},
   "outputs": [],
   "source": [
    "names = ['구분', '종가', '발행주식수', '시가총액', '시장점유율']"
   ]
  },
  {
   "cell_type": "code",
   "execution_count": 26,
   "metadata": {},
   "outputs": [
    {
     "data": {
      "text/html": [
       "<div>\n",
       "<style scoped>\n",
       "    .dataframe tbody tr th:only-of-type {\n",
       "        vertical-align: middle;\n",
       "    }\n",
       "\n",
       "    .dataframe tbody tr th {\n",
       "        vertical-align: top;\n",
       "    }\n",
       "\n",
       "    .dataframe thead th {\n",
       "        text-align: right;\n",
       "    }\n",
       "</style>\n",
       "<table border=\"1\" class=\"dataframe\">\n",
       "  <thead>\n",
       "    <tr style=\"text-align: right;\">\n",
       "      <th></th>\n",
       "      <th>구분</th>\n",
       "      <th>종가</th>\n",
       "      <th>발행주식수</th>\n",
       "      <th>시가총액</th>\n",
       "      <th>시장점유율</th>\n",
       "    </tr>\n",
       "  </thead>\n",
       "  <tbody>\n",
       "    <tr>\n",
       "      <th>0</th>\n",
       "      <td>18년</td>\n",
       "      <td>101500</td>\n",
       "      <td>137292497</td>\n",
       "      <td>13935188445500</td>\n",
       "      <td>62.0</td>\n",
       "    </tr>\n",
       "    <tr>\n",
       "      <th>1</th>\n",
       "      <td>19년</td>\n",
       "      <td>93800</td>\n",
       "      <td>137292497</td>\n",
       "      <td>12878036218600</td>\n",
       "      <td>63.5</td>\n",
       "    </tr>\n",
       "  </tbody>\n",
       "</table>\n",
       "</div>"
      ],
      "text/plain": [
       "    구분      종가      발행주식수            시가총액  시장점유율\n",
       "0  18년  101500  137292497  13935188445500   62.0\n",
       "1  19년   93800  137292497  12878036218600   63.5"
      ]
     },
     "execution_count": 26,
     "metadata": {},
     "output_type": "execute_result"
    }
   ],
   "source": [
    "df2 = pd.DataFrame([['18년', 101500, 137292497, 13935188445500, 62.0], \n",
    "                   ['19년', 93800, 137292497, 12878036218600, 63.5]],\n",
    "                   columns = names)\n",
    "df2"
   ]
  },
  {
   "cell_type": "code",
   "execution_count": null,
   "metadata": {},
   "outputs": [],
   "source": [
    "PDR = 시가총액 / 시장 규모  * 시장점유율"
   ]
  },
  {
   "cell_type": "code",
   "execution_count": 27,
   "metadata": {},
   "outputs": [],
   "source": [
    "df2['PDR'] = df2['시가총액']/15000000000000*df2['시장점유율']"
   ]
  },
  {
   "cell_type": "code",
   "execution_count": 28,
   "metadata": {},
   "outputs": [
    {
     "data": {
      "text/html": [
       "<div>\n",
       "<style scoped>\n",
       "    .dataframe tbody tr th:only-of-type {\n",
       "        vertical-align: middle;\n",
       "    }\n",
       "\n",
       "    .dataframe tbody tr th {\n",
       "        vertical-align: top;\n",
       "    }\n",
       "\n",
       "    .dataframe thead th {\n",
       "        text-align: right;\n",
       "    }\n",
       "</style>\n",
       "<table border=\"1\" class=\"dataframe\">\n",
       "  <thead>\n",
       "    <tr style=\"text-align: right;\">\n",
       "      <th></th>\n",
       "      <th>구분</th>\n",
       "      <th>종가</th>\n",
       "      <th>발행주식수</th>\n",
       "      <th>시가총액</th>\n",
       "      <th>시장점유율</th>\n",
       "      <th>PDR</th>\n",
       "    </tr>\n",
       "  </thead>\n",
       "  <tbody>\n",
       "    <tr>\n",
       "      <th>0</th>\n",
       "      <td>18년</td>\n",
       "      <td>101500</td>\n",
       "      <td>137292497</td>\n",
       "      <td>13935188445500</td>\n",
       "      <td>62.0</td>\n",
       "      <td>57.598779</td>\n",
       "    </tr>\n",
       "    <tr>\n",
       "      <th>1</th>\n",
       "      <td>19년</td>\n",
       "      <td>93800</td>\n",
       "      <td>137292497</td>\n",
       "      <td>12878036218600</td>\n",
       "      <td>63.5</td>\n",
       "      <td>54.517020</td>\n",
       "    </tr>\n",
       "  </tbody>\n",
       "</table>\n",
       "</div>"
      ],
      "text/plain": [
       "    구분      종가      발행주식수            시가총액  시장점유율        PDR\n",
       "0  18년  101500  137292497  13935188445500   62.0  57.598779\n",
       "1  19년   93800  137292497  12878036218600   63.5  54.517020"
      ]
     },
     "execution_count": 28,
     "metadata": {},
     "output_type": "execute_result"
    }
   ],
   "source": [
    "df2"
   ]
  },
  {
   "cell_type": "markdown",
   "metadata": {
    "id": "XBtwwrzAnKzk"
   },
   "source": [
    "## 2. String Manipulation\n",
    "\n",
    "- replace가 아닌 다른 방법을 사용하여 19년도 2분기의 매출액 을 integer로 변경하세요. 결과값은 12578이 나와야합니다.\n",
    "  \n"
   ]
  },
  {
   "cell_type": "code",
   "execution_count": 45,
   "metadata": {
    "id": "9-sR5inqnM0L"
   },
   "outputs": [
    {
     "data": {
      "text/plain": [
       "12578"
      ]
     },
     "execution_count": 45,
     "metadata": {},
     "output_type": "execute_result"
    }
   ],
   "source": [
    "df.loc[0,'매출액'].astype(int)"
   ]
  },
  {
   "cell_type": "markdown",
   "metadata": {
    "id": "357MIyg6nNWj"
   },
   "source": [
    "## 3. Apply\n",
    "- 데이터셋의 분기를 제외한 모든 feature에 대해서 수치형 데이터 (`int`, `float`) 로 수정하고, `describe`를 통해 summary statistics 를 확인하세요.\n",
    "- 단 결측치는 `0`으로 처리합니다."
   ]
  },
  {
   "cell_type": "code",
   "execution_count": 65,
   "metadata": {},
   "outputs": [
    {
     "data": {
      "text/plain": [
       "0    12578\n",
       "1    13222\n",
       "2    11982\n",
       "3    11784\n",
       "4    13188\n",
       "Name: 매출액, dtype: int32"
      ]
     },
     "execution_count": 65,
     "metadata": {},
     "output_type": "execute_result"
    }
   ],
   "source": [
    "df.매출액"
   ]
  },
  {
   "cell_type": "code",
   "execution_count": 73,
   "metadata": {},
   "outputs": [],
   "source": [
    "fill = df.iloc[:,1:]\n",
    "fill = fill.fillna(0)\n",
    "\n",
    "for i in ['영업이익(발표기준)', '세전계속사업이익', '당기순이익', '당기순이익(지배)',\n",
    "       '자산총계', '부채총계', '자본총계', '자본총계(지배)', '자본금',\n",
    "       '영업활동현금흐름', '투자활동현금흐름', '재무활동현금흐름', 'EPS(원)'] :\n",
    "    \n",
    "    fill['{}'.format(i)] = fill['{}'.format(i)].apply(lambda x : x.replace(',',''))\n",
    "    fill['{}'.format(i)] = fill['{}'.format(i)].astype(int)"
   ]
  },
  {
   "cell_type": "code",
   "execution_count": 75,
   "metadata": {},
   "outputs": [
    {
     "data": {
      "text/html": [
       "<div>\n",
       "<style scoped>\n",
       "    .dataframe tbody tr th:only-of-type {\n",
       "        vertical-align: middle;\n",
       "    }\n",
       "\n",
       "    .dataframe tbody tr th {\n",
       "        vertical-align: top;\n",
       "    }\n",
       "\n",
       "    .dataframe thead th {\n",
       "        text-align: right;\n",
       "    }\n",
       "</style>\n",
       "<table border=\"1\" class=\"dataframe\">\n",
       "  <thead>\n",
       "    <tr style=\"text-align: right;\">\n",
       "      <th></th>\n",
       "      <th>매출액</th>\n",
       "      <th>영업이익</th>\n",
       "      <th>영업이익(발표기준)</th>\n",
       "      <th>세전계속사업이익</th>\n",
       "      <th>당기순이익</th>\n",
       "      <th>당기순이익(지배)</th>\n",
       "      <th>당기순이익(비지배)</th>\n",
       "      <th>자산총계</th>\n",
       "      <th>부채총계</th>\n",
       "      <th>자본총계</th>\n",
       "      <th>...</th>\n",
       "      <th>재무활동현금흐름</th>\n",
       "      <th>영업이익률</th>\n",
       "      <th>순이익률</th>\n",
       "      <th>ROE(%)</th>\n",
       "      <th>ROA(%)</th>\n",
       "      <th>부채비율</th>\n",
       "      <th>자본유보율</th>\n",
       "      <th>EPS(원)</th>\n",
       "      <th>PER(배)</th>\n",
       "      <th>영업이익률2</th>\n",
       "    </tr>\n",
       "  </thead>\n",
       "  <tbody>\n",
       "    <tr>\n",
       "      <th>count</th>\n",
       "      <td>5.000000</td>\n",
       "      <td>5.000000</td>\n",
       "      <td>5.000000</td>\n",
       "      <td>5.000000</td>\n",
       "      <td>5.000000</td>\n",
       "      <td>5.000000</td>\n",
       "      <td>5.000000</td>\n",
       "      <td>5.000000</td>\n",
       "      <td>5.00000</td>\n",
       "      <td>5.00000</td>\n",
       "      <td>...</td>\n",
       "      <td>5.00000</td>\n",
       "      <td>5.000000</td>\n",
       "      <td>5.000000</td>\n",
       "      <td>5.000000</td>\n",
       "      <td>5.000000</td>\n",
       "      <td>5.000000</td>\n",
       "      <td>5.00000</td>\n",
       "      <td>5.000000</td>\n",
       "      <td>5.000000</td>\n",
       "      <td>5.000000</td>\n",
       "    </tr>\n",
       "    <tr>\n",
       "      <th>mean</th>\n",
       "      <td>12550.800000</td>\n",
       "      <td>3487.200000</td>\n",
       "      <td>3487.200000</td>\n",
       "      <td>3785.000000</td>\n",
       "      <td>2704.600000</td>\n",
       "      <td>2699.000000</td>\n",
       "      <td>5.600000</td>\n",
       "      <td>108155.000000</td>\n",
       "      <td>22988.20000</td>\n",
       "      <td>85166.80000</td>\n",
       "      <td>...</td>\n",
       "      <td>-2192.80000</td>\n",
       "      <td>27.676000</td>\n",
       "      <td>21.444000</td>\n",
       "      <td>12.532000</td>\n",
       "      <td>9.694000</td>\n",
       "      <td>27.048000</td>\n",
       "      <td>830.29200</td>\n",
       "      <td>1966.000000</td>\n",
       "      <td>12.046000</td>\n",
       "      <td>27.675106</td>\n",
       "    </tr>\n",
       "    <tr>\n",
       "      <th>std</th>\n",
       "      <td>664.979097</td>\n",
       "      <td>636.931079</td>\n",
       "      <td>636.931079</td>\n",
       "      <td>1131.079131</td>\n",
       "      <td>863.422724</td>\n",
       "      <td>851.338358</td>\n",
       "      <td>12.481987</td>\n",
       "      <td>1522.396795</td>\n",
       "      <td>2560.38419</td>\n",
       "      <td>1988.82596</td>\n",
       "      <td>...</td>\n",
       "      <td>2763.51139</td>\n",
       "      <td>4.115651</td>\n",
       "      <td>6.601267</td>\n",
       "      <td>0.335738</td>\n",
       "      <td>0.290224</td>\n",
       "      <td>3.554859</td>\n",
       "      <td>18.01957</td>\n",
       "      <td>619.939513</td>\n",
       "      <td>1.898112</td>\n",
       "      <td>4.116711</td>\n",
       "    </tr>\n",
       "    <tr>\n",
       "      <th>min</th>\n",
       "      <td>11784.000000</td>\n",
       "      <td>2523.000000</td>\n",
       "      <td>2523.000000</td>\n",
       "      <td>1794.000000</td>\n",
       "      <td>1183.000000</td>\n",
       "      <td>1198.000000</td>\n",
       "      <td>-15.000000</td>\n",
       "      <td>106314.000000</td>\n",
       "      <td>20062.00000</td>\n",
       "      <td>82524.00000</td>\n",
       "      <td>...</td>\n",
       "      <td>-5501.00000</td>\n",
       "      <td>21.060000</td>\n",
       "      <td>9.870000</td>\n",
       "      <td>12.200000</td>\n",
       "      <td>9.370000</td>\n",
       "      <td>23.040000</td>\n",
       "      <td>803.22000</td>\n",
       "      <td>873.000000</td>\n",
       "      <td>9.710000</td>\n",
       "      <td>21.056585</td>\n",
       "    </tr>\n",
       "    <tr>\n",
       "      <th>25%</th>\n",
       "      <td>11982.000000</td>\n",
       "      <td>3150.000000</td>\n",
       "      <td>3150.000000</td>\n",
       "      <td>4020.000000</td>\n",
       "      <td>2935.000000</td>\n",
       "      <td>2930.000000</td>\n",
       "      <td>4.000000</td>\n",
       "      <td>107121.000000</td>\n",
       "      <td>20691.00000</td>\n",
       "      <td>83732.00000</td>\n",
       "      <td>...</td>\n",
       "      <td>-4919.00000</td>\n",
       "      <td>26.730000</td>\n",
       "      <td>22.250000</td>\n",
       "      <td>12.350000</td>\n",
       "      <td>9.400000</td>\n",
       "      <td>24.170000</td>\n",
       "      <td>823.16000</td>\n",
       "      <td>2134.000000</td>\n",
       "      <td>10.460000</td>\n",
       "      <td>26.731161</td>\n",
       "    </tr>\n",
       "    <tr>\n",
       "      <th>50%</th>\n",
       "      <td>12578.000000</td>\n",
       "      <td>3825.000000</td>\n",
       "      <td>3825.000000</td>\n",
       "      <td>4156.000000</td>\n",
       "      <td>2939.000000</td>\n",
       "      <td>2931.000000</td>\n",
       "      <td>9.000000</td>\n",
       "      <td>108464.000000</td>\n",
       "      <td>23386.00000</td>\n",
       "      <td>85623.00000</td>\n",
       "      <td>...</td>\n",
       "      <td>-329.00000</td>\n",
       "      <td>28.930000</td>\n",
       "      <td>24.360000</td>\n",
       "      <td>12.390000</td>\n",
       "      <td>9.790000</td>\n",
       "      <td>26.910000</td>\n",
       "      <td>836.86000</td>\n",
       "      <td>2135.000000</td>\n",
       "      <td>12.420000</td>\n",
       "      <td>28.929058</td>\n",
       "    </tr>\n",
       "    <tr>\n",
       "      <th>75%</th>\n",
       "      <td>13188.000000</td>\n",
       "      <td>3947.000000</td>\n",
       "      <td>3947.000000</td>\n",
       "      <td>4452.000000</td>\n",
       "      <td>3221.000000</td>\n",
       "      <td>3208.000000</td>\n",
       "      <td>13.000000</td>\n",
       "      <td>108594.000000</td>\n",
       "      <td>24862.00000</td>\n",
       "      <td>86896.00000</td>\n",
       "      <td>...</td>\n",
       "      <td>-129.00000</td>\n",
       "      <td>29.930000</td>\n",
       "      <td>24.940000</td>\n",
       "      <td>12.670000</td>\n",
       "      <td>9.950000</td>\n",
       "      <td>29.690000</td>\n",
       "      <td>837.40000</td>\n",
       "      <td>2337.000000</td>\n",
       "      <td>13.770000</td>\n",
       "      <td>29.928723</td>\n",
       "    </tr>\n",
       "    <tr>\n",
       "      <th>max</th>\n",
       "      <td>13222.000000</td>\n",
       "      <td>3991.000000</td>\n",
       "      <td>3991.000000</td>\n",
       "      <td>4503.000000</td>\n",
       "      <td>3245.000000</td>\n",
       "      <td>3228.000000</td>\n",
       "      <td>17.000000</td>\n",
       "      <td>110282.000000</td>\n",
       "      <td>25940.00000</td>\n",
       "      <td>87059.00000</td>\n",
       "      <td>...</td>\n",
       "      <td>-86.00000</td>\n",
       "      <td>31.730000</td>\n",
       "      <td>25.800000</td>\n",
       "      <td>13.050000</td>\n",
       "      <td>9.960000</td>\n",
       "      <td>31.430000</td>\n",
       "      <td>850.82000</td>\n",
       "      <td>2351.000000</td>\n",
       "      <td>13.870000</td>\n",
       "      <td>31.730005</td>\n",
       "    </tr>\n",
       "  </tbody>\n",
       "</table>\n",
       "<p>8 rows × 25 columns</p>\n",
       "</div>"
      ],
      "text/plain": [
       "                매출액         영업이익   영업이익(발표기준)     세전계속사업이익        당기순이익  \\\n",
       "count      5.000000     5.000000     5.000000     5.000000     5.000000   \n",
       "mean   12550.800000  3487.200000  3487.200000  3785.000000  2704.600000   \n",
       "std      664.979097   636.931079   636.931079  1131.079131   863.422724   \n",
       "min    11784.000000  2523.000000  2523.000000  1794.000000  1183.000000   \n",
       "25%    11982.000000  3150.000000  3150.000000  4020.000000  2935.000000   \n",
       "50%    12578.000000  3825.000000  3825.000000  4156.000000  2939.000000   \n",
       "75%    13188.000000  3947.000000  3947.000000  4452.000000  3221.000000   \n",
       "max    13222.000000  3991.000000  3991.000000  4503.000000  3245.000000   \n",
       "\n",
       "         당기순이익(지배)  당기순이익(비지배)           자산총계         부채총계         자본총계  ...  \\\n",
       "count     5.000000    5.000000       5.000000      5.00000      5.00000  ...   \n",
       "mean   2699.000000    5.600000  108155.000000  22988.20000  85166.80000  ...   \n",
       "std     851.338358   12.481987    1522.396795   2560.38419   1988.82596  ...   \n",
       "min    1198.000000  -15.000000  106314.000000  20062.00000  82524.00000  ...   \n",
       "25%    2930.000000    4.000000  107121.000000  20691.00000  83732.00000  ...   \n",
       "50%    2931.000000    9.000000  108464.000000  23386.00000  85623.00000  ...   \n",
       "75%    3208.000000   13.000000  108594.000000  24862.00000  86896.00000  ...   \n",
       "max    3228.000000   17.000000  110282.000000  25940.00000  87059.00000  ...   \n",
       "\n",
       "         재무활동현금흐름      영업이익률       순이익률     ROE(%)    ROA(%)       부채비율  \\\n",
       "count     5.00000   5.000000   5.000000   5.000000  5.000000   5.000000   \n",
       "mean  -2192.80000  27.676000  21.444000  12.532000  9.694000  27.048000   \n",
       "std    2763.51139   4.115651   6.601267   0.335738  0.290224   3.554859   \n",
       "min   -5501.00000  21.060000   9.870000  12.200000  9.370000  23.040000   \n",
       "25%   -4919.00000  26.730000  22.250000  12.350000  9.400000  24.170000   \n",
       "50%    -329.00000  28.930000  24.360000  12.390000  9.790000  26.910000   \n",
       "75%    -129.00000  29.930000  24.940000  12.670000  9.950000  29.690000   \n",
       "max     -86.00000  31.730000  25.800000  13.050000  9.960000  31.430000   \n",
       "\n",
       "           자본유보율       EPS(원)     PER(배)     영업이익률2  \n",
       "count    5.00000     5.000000   5.000000   5.000000  \n",
       "mean   830.29200  1966.000000  12.046000  27.675106  \n",
       "std     18.01957   619.939513   1.898112   4.116711  \n",
       "min    803.22000   873.000000   9.710000  21.056585  \n",
       "25%    823.16000  2134.000000  10.460000  26.731161  \n",
       "50%    836.86000  2135.000000  12.420000  28.929058  \n",
       "75%    837.40000  2337.000000  13.770000  29.928723  \n",
       "max    850.82000  2351.000000  13.870000  31.730005  \n",
       "\n",
       "[8 rows x 25 columns]"
      ]
     },
     "execution_count": 75,
     "metadata": {},
     "output_type": "execute_result"
    }
   ],
   "source": [
    "fill.describe()"
   ]
  },
  {
   "cell_type": "markdown",
   "metadata": {
    "id": "L8k0LiHmo5EU"
   },
   "source": [
    "## 🔥 도전과제\n",
    "\n"
   ]
  },
  {
   "cell_type": "markdown",
   "metadata": {
    "id": "sm0x-1HEoss0"
   },
   "source": [
    "### NA Value Handling\n",
    "\n",
    "- 19년도 4분기의 당기순이익(비지배) 부분을 Na로 대체하세요\n",
    "- 이후 해당 결측치를 mean imputation 방법을 사용하여 처리하세요.\n",
    "\n"
   ]
  },
  {
   "cell_type": "code",
   "execution_count": null,
   "metadata": {
    "id": "B2GsUS0HosSD"
   },
   "outputs": [],
   "source": [
    "# 이 곳에 답안을 작성하시길 바랍니다"
   ]
  },
  {
   "cell_type": "markdown",
   "metadata": {
    "id": "x8gq5wkdotTj"
   },
   "source": [
    "### Feature Engineering\n",
    "\n",
    "Relative Perfomance 라는 새로운 feature를 계산하세요.\n",
    "\n",
    "이는 최근 1년치 매출액의 평균값을 기준으로 \n",
    "\n",
    "- 10% 이상 -> `S`\n",
    "- 5% 이상 -> `A`\n",
    "- -5 ~ 5% -> `B`\n",
    "- -5%이하 -> `C`\n",
    "- 10%이하 -> `D`\n",
    "\n",
    "라는 값을 갖는 feature입니다.\n",
    "\n",
    "20년도 2분기에 해당하는 결과값은 `A`가 나와야합니다.\n",
    "\n",
    "각각에 해당하는 등급이 나오기 위해서 필요한 매출액을 추가로 서술하세요."
   ]
  },
  {
   "cell_type": "code",
   "execution_count": null,
   "metadata": {
    "id": "JqoaRyQjpaRm"
   },
   "outputs": [],
   "source": [
    "# 이 곳에 답안을 작성하시길 바랍니다"
   ]
  }
 ],
 "metadata": {
  "colab": {
   "collapsed_sections": [],
   "name": "n112a-feature-engineering.ipynb의 사본",
   "provenance": []
  },
  "kernelspec": {
   "display_name": "Python 3",
   "language": "python",
   "name": "python3"
  },
  "language_info": {
   "codemirror_mode": {
    "name": "ipython",
    "version": 3
   },
   "file_extension": ".py",
   "mimetype": "text/x-python",
   "name": "python",
   "nbconvert_exporter": "python",
   "pygments_lexer": "ipython3",
   "version": "3.8.8"
  }
 },
 "nbformat": 4,
 "nbformat_minor": 4
}
