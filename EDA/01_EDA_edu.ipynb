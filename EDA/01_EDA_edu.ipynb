{
 "cells": [
  {
   "cell_type": "markdown",
   "metadata": {
    "id": "Ldr0HZ193GKb"
   },
   "source": [
    "## *SECTION 1 / SPRINT 1 / NOTE 1*\n",
    "\n",
    "---\n",
    "\n",
    "# Exploratory Data Analysis\n",
    "\n",
    "## 학습 목표 \n",
    "\n",
    "- `EDA`와 `pre-processing`에 대해서 이해한다.\n"
   ]
  },
  {
   "cell_type": "markdown",
   "metadata": {
    "id": "QszuYn1bnZSe"
   },
   "source": [
    "# 데이터셋 불러오기"
   ]
  },
  {
   "cell_type": "markdown",
   "metadata": {
    "id": "_7uhS1HHOaR-"
   },
   "source": [
    "## 개요\n",
    "\n",
    "- 데이터를 분석한다\n",
    "- 데이터를 다룬다\n",
    "- 데이터로 부터 모델링을 한다\n",
    "\n",
    "와 같은 것들은 앞으로 여러분들이 하게 될 일입니다.\n",
    "\n",
    "그러나 이를 위해서 제일 먼저 해야 할 것은 데이터를 불러오는 것이겠죠?\n",
    "\n",
    "오늘 우리는 \"파이썬\"에 데이터를 \"불러오는\" 것을 연습 할 건데요. \n",
    "\n",
    "이를 위해서 미리 편집해둔 `KT&G`(033780) 라는 기업의 재무재표 데이터 일부분을 사용 할 겁니다. \n",
    "\n",
    "`KT&G` 데이터셋은 다음 그림과 같은 형태를 가지고 있습니다.\n",
    "\n",
    "<img src='https://i.imgur.com/CBUJl84.png' width = '900'>\n",
    "\n",
    "원본 데이터는 [네이버 금융을 통해서 확인 할 수 있으며](https://finance.naver.com/item/coinfo.nhn?code=033780&target=finsum_more)\n",
    "\n",
    "편집되어 있는 링크의 주소는 다음과 같습니다.\n",
    "\n",
    "<https://ds-lecture-data.s3.ap-northeast-2.amazonaws.com/kt%26g/kt%26g_0.csv>\n",
    "\n",
    "\n"
   ]
  },
  {
   "cell_type": "markdown",
   "metadata": {
    "id": "pCpUGSa9DDuw"
   },
   "source": [
    "## 데이터셋을 불러오기 위한 단계:\n",
    "\n",
    "\n"
   ]
  },
  {
   "cell_type": "markdown",
   "metadata": {
    "id": "9VqUs2_0QHDB"
   },
   "source": [
    "### 1. Description을 통해 데이터셋에 대한 정보를 파악합니다.\n",
    "- 행과 열의 수\n",
    "- 열에 헤더가 있는지 (\"데이터 이름\"이 있는지?)\n",
    "- 결측 데이터 (Missing data)가 있는지 확인 \n",
    "- **원본의 형태를 확인하기 : 여러분이 기대하던 형태가 아닐 수도 있습니다.**\n",
    "\n",
    "❓ 데이터셋 정보 파악을 불러오기 전에 해야하는 이유는 무엇일까요? "
   ]
  },
  {
   "cell_type": "markdown",
   "metadata": {
    "id": "4Gjyf_RpQIpw"
   },
   "source": [
    "### 2. `pandas.read_csv()`를 사용하여 데이터셋 불러오기를 시도하고, 오류가 있다면 원인에 대해 조사하기\n",
    "\n",
    "- 원본 데이터셋에 따라서 때로는 행의 헤더 부분을 직접 입력 해야 할 수도 있습니다. \n"
   ]
  },
  {
   "cell_type": "markdown",
   "metadata": {
    "id": "vZobh57ag1S9"
   },
   "source": [
    "## 데이터셋을 확인하는 방법. (Colab 에서)\n",
    "\n",
    "❓ 개인적으로는 권장하지 않습니다."
   ]
  },
  {
   "cell_type": "code",
   "execution_count": null,
   "metadata": {
    "id": "sYypbXovgaSi"
   },
   "outputs": [],
   "source": [
    "# kt&g 로 변수 선언을 할 수 없기 때문에 ktng라고 선언합니다.\n",
    "\n",
    "ktng_data_url = 'https://ds-lecture-data.s3.ap-northeast-2.amazonaws.com/kt%26g/kt%26g_0.csv'"
   ]
  },
  {
   "cell_type": "markdown",
   "metadata": {
    "id": "KncohxMIg5Dq"
   },
   "source": [
    "### 1. URL을 통해서 불러오기"
   ]
  },
  {
   "cell_type": "code",
   "execution_count": null,
   "metadata": {
    "colab": {
     "base_uri": "https://localhost:8080/",
     "height": 210
    },
    "id": "-r24OTvggWub",
    "outputId": "b1f9ae73-c628-49e2-f254-5fa6164c96bb"
   },
   "outputs": [
    {
     "data": {
      "text/html": [
       "<div>\n",
       "<style scoped>\n",
       "    .dataframe tbody tr th:only-of-type {\n",
       "        vertical-align: middle;\n",
       "    }\n",
       "\n",
       "    .dataframe tbody tr th {\n",
       "        vertical-align: top;\n",
       "    }\n",
       "\n",
       "    .dataframe thead th {\n",
       "        text-align: right;\n",
       "    }\n",
       "</style>\n",
       "<table border=\"1\" class=\"dataframe\">\n",
       "  <thead>\n",
       "    <tr style=\"text-align: right;\">\n",
       "      <th></th>\n",
       "      <th>19/6</th>\n",
       "      <th>12,578</th>\n",
       "      <th>3,991</th>\n",
       "      <th>3,991.1</th>\n",
       "      <th>4,452</th>\n",
       "      <th>3,245</th>\n",
       "      <th>3,228</th>\n",
       "      <th>17</th>\n",
       "      <th>108,464</th>\n",
       "      <th>25,940</th>\n",
       "      <th>82,524</th>\n",
       "      <th>81,965</th>\n",
       "      <th>Unnamed: 12</th>\n",
       "      <th>9,550</th>\n",
       "      <th>4,641</th>\n",
       "      <th>-1,878</th>\n",
       "      <th>-4,919</th>\n",
       "      <th>31.73</th>\n",
       "      <th>25.80</th>\n",
       "      <th>12.35</th>\n",
       "      <th>9.37</th>\n",
       "      <th>31.43</th>\n",
       "      <th>803.22</th>\n",
       "      <th>2,351</th>\n",
       "      <th>13.77</th>\n",
       "    </tr>\n",
       "  </thead>\n",
       "  <tbody>\n",
       "    <tr>\n",
       "      <th>0</th>\n",
       "      <td>19/9</td>\n",
       "      <td>13,222</td>\n",
       "      <td>3,825</td>\n",
       "      <td>3,825</td>\n",
       "      <td>4,503</td>\n",
       "      <td>3,221</td>\n",
       "      <td>3,208</td>\n",
       "      <td>13</td>\n",
       "      <td>106,314</td>\n",
       "      <td>20,691</td>\n",
       "      <td>85,623</td>\n",
       "      <td>85,049</td>\n",
       "      <td>NaN</td>\n",
       "      <td>9,550</td>\n",
       "      <td>-2,278</td>\n",
       "      <td>-83</td>\n",
       "      <td>-329</td>\n",
       "      <td>28.93</td>\n",
       "      <td>24.36</td>\n",
       "      <td>12.67</td>\n",
       "      <td>9.95</td>\n",
       "      <td>24.17</td>\n",
       "      <td>836.86</td>\n",
       "      <td>2,337</td>\n",
       "      <td>13.87</td>\n",
       "    </tr>\n",
       "    <tr>\n",
       "      <th>1</th>\n",
       "      <td>19/12</td>\n",
       "      <td>11,982</td>\n",
       "      <td>2,523</td>\n",
       "      <td>2,523</td>\n",
       "      <td>1,794</td>\n",
       "      <td>1,183</td>\n",
       "      <td>1,198</td>\n",
       "      <td>-15</td>\n",
       "      <td>107,121</td>\n",
       "      <td>20,062</td>\n",
       "      <td>87,059</td>\n",
       "      <td>86,506</td>\n",
       "      <td>NaN</td>\n",
       "      <td>9,550</td>\n",
       "      <td>837</td>\n",
       "      <td>-501</td>\n",
       "      <td>-129</td>\n",
       "      <td>21.06</td>\n",
       "      <td>9.87</td>\n",
       "      <td>12.39</td>\n",
       "      <td>9.96</td>\n",
       "      <td>23.04</td>\n",
       "      <td>850.82</td>\n",
       "      <td>873</td>\n",
       "      <td>12.42</td>\n",
       "    </tr>\n",
       "    <tr>\n",
       "      <th>2</th>\n",
       "      <td>20/3</td>\n",
       "      <td>11,784</td>\n",
       "      <td>3,150</td>\n",
       "      <td>3,150</td>\n",
       "      <td>4,156</td>\n",
       "      <td>2,939</td>\n",
       "      <td>2,930</td>\n",
       "      <td>9</td>\n",
       "      <td>108,594</td>\n",
       "      <td>24,862</td>\n",
       "      <td>83,732</td>\n",
       "      <td>83,170</td>\n",
       "      <td>562.0</td>\n",
       "      <td>9,550</td>\n",
       "      <td>2,336</td>\n",
       "      <td>-1,392</td>\n",
       "      <td>-86</td>\n",
       "      <td>26.73</td>\n",
       "      <td>24.94</td>\n",
       "      <td>13.05</td>\n",
       "      <td>9.79</td>\n",
       "      <td>29.69</td>\n",
       "      <td>823.16</td>\n",
       "      <td>2,134</td>\n",
       "      <td>9.71</td>\n",
       "    </tr>\n",
       "    <tr>\n",
       "      <th>3</th>\n",
       "      <td>20/6</td>\n",
       "      <td>13,188</td>\n",
       "      <td>3,947</td>\n",
       "      <td>3,947</td>\n",
       "      <td>4,020</td>\n",
       "      <td>2,935</td>\n",
       "      <td>2,931</td>\n",
       "      <td>4</td>\n",
       "      <td>110,282</td>\n",
       "      <td>23,386</td>\n",
       "      <td>86,896</td>\n",
       "      <td>86,330</td>\n",
       "      <td>566.0</td>\n",
       "      <td>9,550</td>\n",
       "      <td>7,855</td>\n",
       "      <td>-214</td>\n",
       "      <td>-5,501</td>\n",
       "      <td>29.93</td>\n",
       "      <td>22.25</td>\n",
       "      <td>12.20</td>\n",
       "      <td>9.40</td>\n",
       "      <td>26.91</td>\n",
       "      <td>837.40</td>\n",
       "      <td>2,135</td>\n",
       "      <td>10.46</td>\n",
       "    </tr>\n",
       "  </tbody>\n",
       "</table>\n",
       "</div>"
      ],
      "text/plain": [
       "    19/6  12,578  3,991 3,991.1  4,452  ...  9.37  31.43  803.22  2,351  13.77\n",
       "0   19/9  13,222  3,825   3,825  4,503  ...  9.95  24.17  836.86  2,337  13.87\n",
       "1  19/12  11,982  2,523   2,523  1,794  ...  9.96  23.04  850.82    873  12.42\n",
       "2   20/3  11,784  3,150   3,150  4,156  ...  9.79  29.69  823.16  2,134   9.71\n",
       "3   20/6  13,188  3,947   3,947  4,020  ...  9.40  26.91  837.40  2,135  10.46\n",
       "\n",
       "[4 rows x 25 columns]"
      ]
     },
     "execution_count": 5,
     "metadata": {
      "tags": []
     },
     "output_type": "execute_result"
    }
   ],
   "source": [
    "import pandas as pd\n",
    "\n",
    "df = pd.read_csv(ktng_data_url) # pd라이브러리의 read_csv를 사용하여 ktng_data_url에 있는 데이터를 읽고, df라는 변수에 저장\n",
    "\n",
    "df.head() "
   ]
  },
  {
   "cell_type": "markdown",
   "metadata": {
    "id": "XFe1nA--2woJ"
   },
   "source": [
    "### ❓ 쉼표가 있는데 csv로 정상적으로 읽힌 이유는 무엇일까요?"
   ]
  },
  {
   "cell_type": "markdown",
   "metadata": {
    "id": "1hI3GvRgg818"
   },
   "source": [
    "### ❓ 문제가 생긴 경우, 왜 그런지에 대해서 확인해야 합니다. "
   ]
  },
  {
   "cell_type": "code",
   "execution_count": null,
   "metadata": {
    "id": "8PK-Njl0hJxz"
   },
   "outputs": [],
   "source": [
    "help(pd.read_csv) # colab에서 함수의 매뉴얼을 보는 방법입니다, 마찬가지로 별로 권장하지는 않습니다 : (help) "
   ]
  },
  {
   "cell_type": "markdown",
   "metadata": {
    "id": "PZjEBGGkSpiq"
   },
   "source": [
    "<https://pandas.pydata.org/pandas-docs/stable/reference/api/pandas.read_csv.html>"
   ]
  },
  {
   "cell_type": "markdown",
   "metadata": {
    "id": "xuX3bUdOhQ1S"
   },
   "source": [
    "### 다시 해봅시다"
   ]
  },
  {
   "cell_type": "code",
   "execution_count": null,
   "metadata": {
    "colab": {
     "base_uri": "https://localhost:8080/"
    },
    "id": "AJfCoAg-hRzq",
    "outputId": "202c356f-378f-479b-d489-51e34d2bf7ef"
   },
   "outputs": [
    {
     "name": "stdout",
     "output_type": "stream",
     "text": [
      "      분기     매출액   영업이익 영업이익(발표기준)  ...   부채비율   자본유보율 EPS(원)  PER(배)\n",
      "0   19/6  12,578  3,991      3,991  ...  31.43  803.22  2,351   13.77\n",
      "1   19/9  13,222  3,825      3,825  ...  24.17  836.86  2,337   13.87\n",
      "2  19/12  11,982  2,523      2,523  ...  23.04  850.82    873   12.42\n",
      "3   20/3  11,784  3,150      3,150  ...  29.69  823.16  2,134    9.71\n",
      "4   20/6  13,188  3,947      3,947  ...  26.91  837.40  2,135   10.46\n",
      "\n",
      "[5 rows x 25 columns]\n",
      "(5, 25)\n"
     ]
    }
   ],
   "source": [
    "column_headers = ['분기','매출액','영업이익','영업이익(발표기준)','세전계속사업이익',\n",
    "                  '당기순이익','당기순이익(지배)','당기순이익(비지배)','자산총계','부채총계',\n",
    "                  '자본총계','자본총계(지배)','자본총계(비지배)','자본금','영업활동현금흐름',\n",
    "                  '투자활동현금흐름','재무활동현금흐름','영업이익률','순이익률','ROE(%)',\n",
    "                  'ROA(%)','부채비율','자본유보율','EPS(원)','PER(배)']\n",
    "\n",
    "df = pd.read_csv(ktng_data_url, names = column_headers)\n",
    "\n",
    "print(df.head())\n",
    "print(df.shape)x"
   ]
  },
  {
   "cell_type": "markdown",
   "metadata": {
    "id": "WfvruV1j5c2B"
   },
   "source": [
    "### ❓print(df.head) 와 df.head는 어떤 차이가 있을까요?"
   ]
  },
  {
   "cell_type": "markdown",
   "metadata": {
    "id": "Hi71j4Y-Oj1q"
   },
   "source": [
    "### 2. 로컬 파일로 부터 데이터셋 불러오기 (CSV)\n",
    "\n",
    "모든 데이터를 온라인에서 구할 수 있는 것은 아닙니다. \n",
    "\n",
    "이때는 로컬 머신 (사용중인 PC)로 부터 파일을 업로드 해야 합니다. \n",
    "\n",
    "`colab`은 이 과정이 다른 소프트웨어 (예를 들자면, `Jupyter Notebook`) 에 비해 복잡합니다. \n",
    "\n",
    "`colab`은 `Google Drives`를 파일 시스템으로 사용 하기 때문에 이를 파일 경로를 직접 사용 할 수는 없습니다, 대신 작업을 위해서 `drive`에 파일을 업로드 해야만 합니다. "
   ]
  },
  {
   "cell_type": "markdown",
   "metadata": {
    "id": "9ocDcrXWhceM"
   },
   "source": [
    "### 방법 1: 구글 코랩 파일 업로드 패키지\n",
    "\n"
   ]
  },
  {
   "cell_type": "code",
   "execution_count": null,
   "metadata": {
    "colab": {
     "base_uri": "https://localhost:8080/",
     "height": 39,
     "resources": {
      "http://localhost:8080/nbextensions/google.colab/files.js": {
       "data": "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",
       "headers": [
        [
         "content-type",
         "application/javascript"
        ]
       ],
       "ok": true,
       "status": 200,
       "status_text": ""
      }
     }
    },
    "id": "_HQlN7vIhtZe",
    "outputId": "bb4e93c5-dcb6-41c3-ed29-262320ba3e62"
   },
   "outputs": [
    {
     "data": {
      "text/html": [
       "\n",
       "     <input type=\"file\" id=\"files-7f7727a0-3afc-4782-bc2a-f9f589bb7af0\" name=\"files[]\" multiple disabled\n",
       "        style=\"border:none\" />\n",
       "     <output id=\"result-7f7727a0-3afc-4782-bc2a-f9f589bb7af0\">\n",
       "      Upload widget is only available when the cell has been executed in the\n",
       "      current browser session. Please rerun this cell to enable.\n",
       "      </output>\n",
       "      <script src=\"/nbextensions/google.colab/files.js\"></script> "
      ],
      "text/plain": [
       "<IPython.core.display.HTML object>"
      ]
     },
     "metadata": {
      "tags": []
     },
     "output_type": "display_data"
    }
   ],
   "source": [
    "from google.colab import files\n",
    "uploaded = files.upload()"
   ]
  },
  {
   "cell_type": "markdown",
   "metadata": {
    "id": "sqmNtickhoP_"
   },
   "source": [
    "### 방법 2: GUI (Graphical User Interface) 사용"
   ]
  },
  {
   "cell_type": "code",
   "execution_count": null,
   "metadata": {
    "id": "SliGiU1zhbea"
   },
   "outputs": [],
   "source": [
    "# df = pd.read.csv('adult (6).data') # after upload\n",
    "# print(df.shape)"
   ]
  },
  {
   "cell_type": "markdown",
   "metadata": {
    "id": "j7QgopWc6lUJ"
   },
   "source": [
    "### ❓ 이러한 방법을 찾기 위해서 구글링 해야하는 것은 무엇일까요? ( colab local file upload )"
   ]
  },
  {
   "cell_type": "markdown",
   "metadata": {
    "id": "SfyIX2mF6Ocz"
   },
   "source": [
    "## ❓좋은 데이터셋의 의미는 뭘까요?\n",
    "\n",
    "<img src='https://i.imgur.com/iVGibwz.png'>\n",
    "\n",
    "<https://www.kaggle.com/shivamb/netflix-shows>"
   ]
  },
  {
   "cell_type": "markdown",
   "metadata": {
    "id": "Z3LJ5IZLTwvb"
   },
   "source": [
    "# EDA (Exploratory Data Analysis)\n",
    "\n"
   ]
  },
  {
   "cell_type": "markdown",
   "metadata": {
    "id": "-XUlRHsTU1_g"
   },
   "source": [
    "## 개요\n",
    "\n",
    "우리가 지인으로부터 생선을 선물 받았다고 해볼까요?\n",
    "\n",
    "이를 위해서 무슨 요리를 해야할까 고민하게 될 겁니다.\n",
    "\n",
    "그러나 가장 먼저 해야 할 것은 이 생선이 어떤 생선인지 이해하는 것입니다.\n",
    "\n",
    "<img src='https://i.imgur.com/IdqhSEr.png' width = '800'>\n",
    "\n",
    "\n",
    "- 이 생선에는 독이 있는지\n",
    "- 먹을 수 없는 부분이 있는지 (지느러미등..)\n",
    "- 생선이 맞긴 한 건지\n",
    "- 요리를 위한 가정이 맞는지 (**신선하다** -> **회도 가능하다**)\n",
    "\n",
    "와 같은 요인들을 고려해야합니다."
   ]
  },
  {
   "cell_type": "markdown",
   "metadata": {
    "id": "S9zsGMeUU3Kh"
   },
   "source": [
    "## 데이터\n",
    "\n",
    "데이터도 마찬가지로, 정말 정말 정말로 잘 설계되고, 수집된 데이터가 아니라면 \n",
    "\n",
    "raw data (원본데이터)를 바로 분석에 사용하기에는 어렵습니다.\n",
    "\n",
    "데이터는 일반적으로 **\"사각형\"**의 형태를 가지고 있습니다. (`Spreadsheet`, `DB`등)\n",
    "\n",
    "<img src='https://i.imgur.com/I0tzziJ.png' width = '500'> \n",
    "\n",
    "천재적인 인지능력이 있지 않는 이상, 이 테이블형태의 숫자만 보고 인사이트를 바로 얻기는 어렵겠죠.\n",
    "\n",
    "이를 위해서 전체적인 \"견적\"을 내는 분석이 EDA 입니다."
   ]
  },
  {
   "cell_type": "markdown",
   "metadata": {
    "id": "o-EwxcgCkX_f"
   },
   "source": [
    "## EDA \n",
    "\n",
    "EDA란, 데이터 분석에 있어서 매우 중요한, 초기 분석의 단계를 의미하며 \n",
    "- 시각화 같은 도구를 통해서 패턴을 발견하거나\n",
    "- 데이터의 특이성을 확인하거나\n",
    "- 통계와 그래픽 (혹은 시각적 표현)을 통해서 가설을 검정하는 과정 등을 포함합니다. \n",
    "\n",
    "EDA의 방법은 크게 2가지 (Graphic, Non-Graphic) 으로 나눠질 수 있으며\n",
    "\n",
    "- Graphic : 차트 혹은 그림 등을 이용하여 데이터를 확인하는 방법입니다.\n",
    "\n",
    "- Non-Graphic :그래픽적인 요소를 사용하지 않는 방법으로, 주로 **Summary Statistics**를 통해 데이터를 확인하는 방법입니다.\n",
    "\n",
    "동시에, EDA의 \"타겟\"(데이터) 또한 2가지 (Univariate, Multi-variate)로 나눠집니다.\n",
    "\n",
    "- Multi-variate 의 경우 여러 **변수들간의 관계를 보는 것**이 주요 목적입니다."
   ]
  },
  {
   "cell_type": "markdown",
   "metadata": {
    "id": "bG4mEMYfmgPX"
   },
   "source": [
    "### Uni - Non Graphic\n",
    "\n",
    "Sample Data의 Distribution을 확인하는 것이 주목적입니다.\n",
    "\n",
    "\n",
    "Numeric data의 경우 summary statistics를 제일 많이 활용하는데요. 이에는\n",
    "\n",
    "- Center (Mean, Median, Mod)\n",
    "- Spread (Variance, SD, IQR, Range)\n",
    "- Modality (Peak) # 자연어 분석 방법 / 데이터 내용을 어떻게 정의 하는가??\n",
    "- Shape (Tail, Skewness, Kurtosis)\n",
    "- Outliers 등을 확인합니다.\n",
    "\n",
    "Categorical data의 경우 occurence, frequency, tabulation등을 할 수 있습니다.\n",
    "\n",
    "| Statistic / College | H&SS | MCS | SCS | Other | Total |\n",
    "|:-:|:-:|:-:|:-:|:-:|:-:|\n",
    "|Count|5|6|4|5|20|\n",
    "|Propotion|0.25|0.3|0.2|0.25|1|\n",
    "|Percent|25%|30%|20%|25%|100%|\n"
   ]
  },
  {
   "cell_type": "markdown",
   "metadata": {
    "id": "vo2ANWuppses"
   },
   "source": [
    "### Uni - Graphic\n",
    "\n",
    "Histogram 혹은 Pie chart, Stem-leaf plot, Boxplot, QQplot 등을 사용합니다.\n",
    "\n",
    "그러나 만약 값들이 너무 다양하다면, Binning, Tabulation등을 활용 할 수도 있습니다.\n",
    "\n"
   ]
  },
  {
   "cell_type": "markdown",
   "metadata": {
    "id": "OJDQmDF6tfzE"
   },
   "source": [
    "###  QQPlot\n",
    "\n",
    "**데이터의 분포와 이론상 분포가 잘 일치하는가** 를 확인 할 수 있는 방법입니다.\n",
    "\n",
    "ex) **성적 분포가 고를 것이다.**\n",
    "\n",
    "- A반 : 10, 20, 30, 40, 50, 60, 70, 80, 90, 100\n",
    "\n",
    "- B반 : 10, 15, 20, 75, 80, 85, 90, 95, 95, 100\n",
    "\n",
    "<img src='https://i.imgur.com/S6a2oUz.png' width = '500'>\n",
    "\n",
    "<img src='https://i.imgur.com/6ryhglR.png' width = '500'>\n",
    "\n",
    "다른 QQPlot들\n",
    "\n",
    "<img src='https://i.imgur.com/Xxc824A.png' width = '500'>\n",
    "\n",
    "\n",
    "\n",
    "\n"
   ]
  },
  {
   "cell_type": "markdown",
   "metadata": {
    "id": "Ug2lq5MvJmxH"
   },
   "source": [
    "### Multi - Non Graphic\n",
    "\n",
    "- Relationship을 보는 것이 주된 목표이며 \n",
    "- Cross-Tabulation # 교차분석, 범주형 데이터의 라벨들을 교차해서 분석하는것!\n",
    "- Cross-Statistics (Correlation, Covariance)\n",
    "\n",
    "등을 사용합니다.\n",
    "\n",
    "|Subject ID|Age Group|Sex|\n",
    "|:-:|:-:|:-:|\n",
    "|GW|Young|F|\n",
    "|JA|Middle|F|\n",
    "|TJ|Young|M|\n",
    "|JMA|Young|M|\n",
    "|JMO|Middle|F|\n",
    "|JQA|Old|F|\n",
    "|AJ|Old|F|\n",
    "|MVB|Young|M|\n",
    "|WHH|Old|F|\n",
    "|JT|Young|F|\n",
    "|JKP|Middle|M|\n",
    "\n",
    "\n",
    "다음과 같은 Categorical 데이터는\n",
    "\n",
    "|Age Group / Sex|Female|Male|Total|\n",
    "|:-:|:-:|:-:|:-:|\n",
    "|Young|2|3|5|\n",
    "|Middle|2|1|3|\n",
    "|Old|3|0|3|\n",
    "|Total|7|4|11|\n",
    "\n",
    "과 같이 Cross-Tabulation을 적용 할 수 있으며 한편 Numerical Feature들의 경우 아래와 같이 Cross Statistics를 통해 EDA를 할 수도 있습니다. \n",
    "\n",
    "(원래는 색상이 없는 table이지만, 색상을 넣어 heat map 처럼 적용도 가능)\n",
    "\n",
    "<img src='https://www.vertica.com/wp-content/uploads/2019/09/corr_matrix_Titanic.png' width = '500'>"
   ]
  },
  {
   "cell_type": "markdown",
   "metadata": {
    "id": "bvpGPk2zMcOz"
   },
   "source": [
    "### Multi - Graphic\n",
    "\n",
    "- Category & Numeric : Boxplots, Stacked bar, Parallel Coordinate, Heatmap\n",
    "\n",
    "<img src='https://kr.mathworks.com/help/examples/stats/win64/CreateBoxPlotsForGroupedDataExample_01.png' width = '500'>\n",
    "\n",
    "<img src='https://chartio.com/assets/9bfb20/tutorials/charts/stacked-bar-charts/073137bf11f1c2226f68c3188128e28d66115622dcdecc9bc208a6d4117f53e8/stacked-bar-example-1.png' width = '500'>\n",
    "\n",
    "<img src='https://datavizcatalogue.com/methods/images/anatomy/SVG/parallel_coordinates.svg' width = '500'>\n",
    "\n",
    "<img src='https://www.grapecity.com/componentone/docs/win/online-flexchart/images/discrete-heatmap.png' width = '500'>\n",
    "\n",
    "\n",
    "- Numeric & Numeric : Scatter Plot\n",
    "\n",
    "<img src='https://upload.wikimedia.org/wikipedia/commons/thumb/a/af/Scatter_diagram_for_quality_characteristic_XXX.svg/1200px-Scatter_diagram_for_quality_characteristic_XXX.svg.png' width = '500'>\n"
   ]
  },
  {
   "cell_type": "markdown",
   "metadata": {
    "id": "5iFyoAdDOoqu"
   },
   "source": [
    "# pandas를 사용한 기초 EDA\n",
    "\n"
   ]
  },
  {
   "cell_type": "markdown",
   "metadata": {
    "id": "Oko53M30TnJ-"
   },
   "source": [
    "## Useful Pandas Functions"
   ]
  },
  {
   "cell_type": "markdown",
   "metadata": {
    "id": "k9DobU7dqILL"
   },
   "source": [
    "### Missing Data\n",
    "- isna\n",
    "- isnull\n",
    "- notna\n",
    "- notnull\n",
    "- dropna\n",
    "- fillna"
   ]
  },
  {
   "cell_type": "markdown",
   "metadata": {
    "id": "a73-C8tp7YMS"
   },
   "source": [
    "### Data Frame\n",
    "- index\n",
    "- columns\n",
    "- dtypes\n",
    "- info\n",
    "- select_dtypes\n",
    "- loc\n",
    "- iloc\n",
    "- insert\n",
    "- head\n",
    "- tail\n",
    "- apply\n",
    "- aggregate\n",
    "- drop\n",
    "- rename\n",
    "- replace\n",
    "- nsmallest\n",
    "- nlargest\n",
    "- sort_values\n",
    "- sort_index\n",
    "- value_counts\n",
    "- describe\n",
    "- shape\n"
   ]
  },
  {
   "cell_type": "markdown",
   "metadata": {
    "id": "7irQuvyg7sBk"
   },
   "source": [
    "### Vis\n",
    "- plot\n",
    "- plot.area\n",
    "- plot.bar\n",
    "- plot.barh\n",
    "- plot.box\n",
    "- plot.density\n",
    "- plot.hexbin\n",
    "- plot.hist\n",
    "- plot.kde\n",
    "- plot.line\n",
    "- plot.pie\n",
    "- plot.scatter"
   ]
  },
  {
   "cell_type": "markdown",
   "metadata": {
    "id": "CE1OpSBpljcU"
   },
   "source": [
    "## 위 내용을 참조하여 kt&g 의 매출액에 대해서 다음의 차트들을 생성해봅시다:\n",
    "\n",
    "- Line Plot \n",
    "- Scatter Plot\n",
    "- Bar plot\n",
    "\n",
    "위와 같은 그림들이 데이터에 대해서 어떻게 다르게 표현 될까요?\n",
    "\n",
    "데이터의 분포를 시각화 하는것이 왜 중요할까요?"
   ]
  },
  {
   "cell_type": "markdown",
   "metadata": {
    "id": "-cPyM8eLlIQB"
   },
   "source": [
    "### Line Plot"
   ]
  },
  {
   "cell_type": "code",
   "execution_count": null,
   "metadata": {
    "colab": {
     "base_uri": "https://localhost:8080/"
    },
    "id": "vGXfTAyJlU4J",
    "outputId": "73f668df-863a-4667-9db6-87be0a5b6eb2"
   },
   "outputs": [
    {
     "data": {
      "text/plain": [
       "0    25.80\n",
       "1    24.36\n",
       "2     9.87\n",
       "3    24.94\n",
       "4    22.25\n",
       "Name: 순이익률, dtype: float64"
      ]
     },
     "execution_count": 14,
     "metadata": {
      "tags": []
     },
     "output_type": "execute_result"
    }
   ],
   "source": [
    "df['순이익률']"
   ]
  },
  {
   "cell_type": "code",
   "execution_count": null,
   "metadata": {
    "colab": {
     "base_uri": "https://localhost:8080/",
     "height": 282
    },
    "id": "Nhp4OF_c8jJK",
    "outputId": "20e5f55b-6138-494d-9b0a-123a3d42296f"
   },
   "outputs": [
    {
     "data": {
      "text/plain": [
       "<matplotlib.axes._subplots.AxesSubplot at 0x7f4a38308630>"
      ]
     },
     "execution_count": 15,
     "metadata": {
      "tags": []
     },
     "output_type": "execute_result"
    },
    {
     "data": {
      "image/png": "[encoded data removed]",
      "text/plain": [
       "<Figure size 432x288 with 1 Axes>"
      ]
     },
     "metadata": {
      "needs_background": "light",
      "tags": []
     },
     "output_type": "display_data"
    }
   ],
   "source": [
    "df['순이익률'].plot()"
   ]
  },
  {
   "cell_type": "markdown",
   "metadata": {
    "id": "DMDxmjCI8l3t"
   },
   "source": [
    "### ❓ 위 그림이 의미하는 바는 무엇일까요? 어떻게 더 개선 할 수 있을까요? \n",
    "### ❓ <matplotlib.~~> 부분을 어떻게 지울 수 있을까요?"
   ]
  },
  {
   "cell_type": "markdown",
   "metadata": {
    "id": "MvT2W_HulJuR"
   },
   "source": [
    "### Histogram"
   ]
  },
  {
   "cell_type": "code",
   "execution_count": null,
   "metadata": {
    "colab": {
     "base_uri": "https://localhost:8080/",
     "height": 265
    },
    "id": "GJg_yWrMlVRs",
    "outputId": "9fac7673-3a15-42df-9498-9938b90afb40"
   },
   "outputs": [
    {
     "data": {
      "image/png": "[encoded data removed]",
      "text/plain": [
       "<Figure size 432x288 with 1 Axes>"
      ]
     },
     "metadata": {
      "needs_background": "light",
      "tags": []
     },
     "output_type": "display_data"
    }
   ],
   "source": [
    "df['순이익률'].plot.hist(); "
   ]
  },
  {
   "cell_type": "markdown",
   "metadata": {
    "id": "P67iVO7ulK5J"
   },
   "source": [
    "### Scatter Plot\n"
   ]
  },
  {
   "cell_type": "code",
   "execution_count": null,
   "metadata": {
    "colab": {
     "base_uri": "https://localhost:8080/",
     "height": 551
    },
    "id": "Tz9J6YqnlV0j",
    "outputId": "52bb87f8-408a-4a24-c135-efd709d294f0"
   },
   "outputs": [
    {
     "name": "stderr",
     "output_type": "stream",
     "text": [
      "/usr/local/lib/python3.6/dist-packages/matplotlib/backends/backend_agg.py:214: RuntimeWarning: Glyph 49692 missing from current font.\n",
      "  font.set_text(s, 0.0, flags=flags)\n",
      "/usr/local/lib/python3.6/dist-packages/matplotlib/backends/backend_agg.py:214: RuntimeWarning: Glyph 51060 missing from current font.\n",
      "  font.set_text(s, 0.0, flags=flags)\n",
      "/usr/local/lib/python3.6/dist-packages/matplotlib/backends/backend_agg.py:214: RuntimeWarning: Glyph 51061 missing from current font.\n",
      "  font.set_text(s, 0.0, flags=flags)\n",
      "/usr/local/lib/python3.6/dist-packages/matplotlib/backends/backend_agg.py:214: RuntimeWarning: Glyph 47456 missing from current font.\n",
      "  font.set_text(s, 0.0, flags=flags)\n",
      "/usr/local/lib/python3.6/dist-packages/matplotlib/backends/backend_agg.py:183: RuntimeWarning: Glyph 49692 missing from current font.\n",
      "  font.set_text(s, 0, flags=flags)\n",
      "/usr/local/lib/python3.6/dist-packages/matplotlib/backends/backend_agg.py:183: RuntimeWarning: Glyph 51060 missing from current font.\n",
      "  font.set_text(s, 0, flags=flags)\n",
      "/usr/local/lib/python3.6/dist-packages/matplotlib/backends/backend_agg.py:183: RuntimeWarning: Glyph 51061 missing from current font.\n",
      "  font.set_text(s, 0, flags=flags)\n",
      "/usr/local/lib/python3.6/dist-packages/matplotlib/backends/backend_agg.py:183: RuntimeWarning: Glyph 47456 missing from current font.\n",
      "  font.set_text(s, 0, flags=flags)\n"
     ]
    },
    {
     "data": {
      "image/png": "[encoded data removed]",
      "text/plain": [
       "<Figure size 432x288 with 1 Axes>"
      ]
     },
     "metadata": {
      "needs_background": "light",
      "tags": []
     },
     "output_type": "display_data"
    }
   ],
   "source": [
    "df.plot.scatter('순이익률', 'ROE(%)');"
   ]
  },
  {
   "cell_type": "markdown",
   "metadata": {
    "id": "xc7LMkbv9eVS"
   },
   "source": [
    "### ❓ 에러의 원인과 이를 위해서 어떻게 해야할까요?"
   ]
  },
  {
   "cell_type": "markdown",
   "metadata": {
    "id": "O5Q6uv49lOOZ"
   },
   "source": [
    "### Bar Plot "
   ]
  },
  {
   "cell_type": "code",
   "execution_count": null,
   "metadata": {
    "colab": {
     "base_uri": "https://localhost:8080/",
     "height": 262
    },
    "id": "MBpB3NqjlWc8",
    "outputId": "781c25ff-0498-4a57-e025-6b84592a57a6"
   },
   "outputs": [
    {
     "data": {
      "image/png": "[encoded data removed]",
      "text/plain": [
       "<Figure size 432x288 with 1 Axes>"
      ]
     },
     "metadata": {
      "needs_background": "light",
      "tags": []
     },
     "output_type": "display_data"
    }
   ],
   "source": [
    "df['순이익률'].plot.bar();"
   ]
  },
  {
   "cell_type": "markdown",
   "metadata": {
    "id": "41vdlMIL9x16"
   },
   "source": [
    "### Horizontal Bar Plot"
   ]
  },
  {
   "cell_type": "code",
   "execution_count": null,
   "metadata": {
    "colab": {
     "base_uri": "https://localhost:8080/",
     "height": 265
    },
    "id": "S3s-9q9b96L7",
    "outputId": "b65b8c92-c273-4d37-9eca-78b18f3c3ab4"
   },
   "outputs": [
    {
     "data": {
      "image/png": "[encoded data removed]",
      "text/plain": [
       "<Figure size 432x288 with 1 Axes>"
      ]
     },
     "metadata": {
      "needs_background": "light",
      "tags": []
     },
     "output_type": "display_data"
    }
   ],
   "source": [
    "df['순이익률'].plot.barh();"
   ]
  },
  {
   "cell_type": "markdown",
   "metadata": {
    "id": "WZld7EXn-D08"
   },
   "source": [
    "### ❓ 이 kt&g 데이터에 EDA를 하는 것으로 얻은 결론은 무엇이 있을까요?"
   ]
  },
  {
   "cell_type": "markdown",
   "metadata": {
    "id": "fnSHv1nYR6p4"
   },
   "source": [
    "# Data Preprocessing\n",
    "\n",
    "> Garbage In Garbage Out\n",
    "\n",
    "<img src='https://i.imgur.com/12gQMh2.png' width = '500'>\n",
    "\n",
    "데이터 혹은 분석 목적, 작업마다 해야하는 데이터의 전처리는 다르지만 크게 다음과 같은 flow를 갖습니다.\n",
    "\n",
    "<img src='https://i.imgur.com/RIMhucU.png' width = '800'>\n",
    "\n"
   ]
  },
  {
   "cell_type": "markdown",
   "metadata": {
    "id": "eQKLGul7aZXD"
   },
   "source": [
    "## Cleaning \n",
    "\n",
    "> noise 를 제거하거나, inconsistency 를 보정하는 과정을 의미합니다.\n",
    "\n",
    "데이터의 정확도, 완성도, 일관성, 신뢰성과 같은\n",
    "\n",
    "||Feature A|Feature B|Feature C|\n",
    "|:-:|:-:|:-:|:-:|\n",
    "|Data1|1|2|\"Chicken\"|\n",
    "|Data2|2||5|\n",
    "|Data3|4|3$|6|\n",
    "|Data4|4444|3|7|\n",
    "\n",
    "위의 예시와 같이\n",
    "\n",
    "값이 빠져있거나, 잘못 입력되거나 혹은 일관성을 가지지 않는 \n",
    "\n",
    "데이터들을 제거 / 보정 하는 과정들이 포함되어 있습니다.\n",
    "\n",
    "> 데이터를 분석하기 전에 **오류**를 깨끗이 다듬지 않으면 잘못된 데이터를 통해 잘못된 인사이트, 결론을 얻을 수 있습니다.\n",
    "\n",
    "<img src='https://i.imgur.com/roFkhbo.png'> \n",
    "\n",
    "\n"
   ]
  },
  {
   "cell_type": "markdown",
   "metadata": {
    "id": "A18c1vb_dMxu"
   },
   "source": [
    "### Missing Values \n",
    "\n",
    "- Ignore the tuple (결측치가 있는 데이터 삭제)\n",
    "- Manual Fill (수동으로 입력)\n",
    "- Global Constant (\"Unknown\")\n",
    "- Imputation (All mean, Class mean, Inference mean, Regression 등)"
   ]
  },
  {
   "cell_type": "markdown",
   "metadata": {
    "id": "CqcQn9GrdaDg"
   },
   "source": [
    "### Noisy data\n",
    "\n",
    "Noise란, 큰 방향성에서 벗어난 random error 혹은 variance를 포함하는 데이터를 말하며\n",
    "\n",
    "대부분 descriptive statistics 혹은 visualization등 (eda)을 통해 제거가 가능합니다.\n",
    "\n",
    "### Etc\n",
    "\n",
    "- Binning\n",
    "\n",
    "<img src='https://i.imgur.com/7Yve6h6.png' width = '500'>\n",
    "\n",
    "- Regression\n",
    "- Outlier analysis"
   ]
  },
  {
   "cell_type": "markdown",
   "metadata": {
    "id": "7mUPcM6Rab3A"
   },
   "source": [
    "## Integration\n",
    "\n",
    "> 여러개로 나누어져 있는 데이터들을 분석하기 편하게 하나로 합치는 과정을 의미합니다.\n",
    "\n",
    "추후에 한 예시로 `merge`를 배우게 됩니다."
   ]
  },
  {
   "cell_type": "markdown",
   "metadata": {
    "id": "nhdXVS8_adtY"
   },
   "source": [
    "## Transformation\n",
    "\n",
    "> 데이터의 **형태**를 변환하는 작업으로, scaling이라고 부르기도 합니다.\n",
    "\n",
    "추후에 `normalize` 등의 예시를 배우게 됩니다.\n"
   ]
  },
  {
   "cell_type": "markdown",
   "metadata": {
    "id": "7OAy2-q2aeTt"
   },
   "source": [
    "## Reduction\n",
    "\n",
    "> 데이터를 의미있게 줄이는 것을 의미하며, dimension reduction과 유사한 목적을 갖습니다.\n",
    "\n",
    "마찬가지로 추후에 `pca`등의 예시를 배우게 됩니다."
   ]
  }
 ],
 "metadata": {
  "colab": {
   "name": "n111-eda.ipynb의 사본",
   "provenance": []
  },
  "kernelspec": {
   "display_name": "Python 3",
   "language": "python",
   "name": "python3"
  },
  "language_info": {
   "codemirror_mode": {
    "name": "ipython",
    "version": 3
   },
   "file_extension": ".py",
   "mimetype": "text/x-python",
   "name": "python",
   "nbconvert_exporter": "python",
   "pygments_lexer": "ipython3",
   "version": "3.8.8"
  }
 },
 "nbformat": 4,
 "nbformat_minor": 4
}
