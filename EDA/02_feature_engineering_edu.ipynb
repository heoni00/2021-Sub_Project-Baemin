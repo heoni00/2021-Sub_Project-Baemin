{
 "cells": [
  {
   "cell_type": "markdown",
   "metadata": {
    "id": "7fknoKxGz_jk"
   },
   "source": [
    "## *SECTION 1 / SPRINT 1 / NOTE 2*\n",
    "\n",
    "---\n",
    "\n",
    "# Feature Engineering\n",
    "\n",
    "## 학습 목표 \n",
    "\n",
    "- Feature Engineering 의 목적을 이해 할 수 있다.\n",
    "- pandas를 통해 문자열(string)을 다룰 수 있다.\n",
    "- 데이터프레임에 `.apply()`를 사용하여 행을 수정하거나 새로 작업 할 수 있다.\n",
    "\n",
    "---"
   ]
  },
  {
   "cell_type": "markdown",
   "metadata": {
    "id": "MGHzNUcT30ui"
   },
   "source": [
    "## Feature Engineering이란\n",
    "\n"
   ]
  },
  {
   "cell_type": "markdown",
   "metadata": {
    "id": "gmEjMUhUnmIg"
   },
   "source": [
    "### 개요\n",
    "\n",
    "Feature Engineering 은 도메인 지식과 창의성을 바탕으로, 데이터셋에 존재하는 Feature들을 재조합하여 새로운 Feature를 만드는 것입니다. \n",
    "\n",
    "<img src='https://i.imgur.com/0IW7xm8.png' width = 500>\n",
    "\n",
    "가령 위 그림처럼 2개의 feature를 가진 데이터가 있다면, \n",
    "\n",
    "해당 feature를 조합하여 (`+`)\n",
    "\n",
    "새로운 feature를 만들어 낸 다음, 이를 분석에 사용 할 수 있을 것 입니다.\n",
    "\n",
    "여기서 조합은, 방금 말한것처럼 간단한 연산 일 수도 있고\n",
    "\n",
    "<img src='https://i.imgur.com/AHnak4A.png' width = 500>\n",
    "\n",
    "이미 실생활에서 사용 하고 있는 것처럼 조금 더 복잡한 연산 일 수도 있습니다.\n",
    "\n",
    "\n",
    "통계 분석 혹은 머신러닝, 더 나아가 딥러닝까지 대부분의 분석은 데이터에 있는 패턴을 인식하고, 해당 패턴들을 바탕으로 예측을 하기 때문에, \n",
    "\n",
    "더 좋은 퍼포먼스를 위하여 더 새롭고, 더 의미있는 패턴을 제공하는 것이 궁극적인 Feature engineering의 목적입니다.\n",
    "\n"
   ]
  },
  {
   "cell_type": "markdown",
   "metadata": {
    "id": "3dAt1afnoFEd"
   },
   "source": [
    "### DataFrame\n",
    "\n",
    "그 전에 우리가 점차 익숙해져가는 pandas의 dataframe에 대한 설명을 간단하게 하겠습니다.\n",
    "\n",
    "지금은 그냥 **테이블 형태의 데이터다** 정도로만 이해하셔도 충분합니다.\n",
    "\n",
    "<img src='https://i.imgur.com/w694Hye.png' width = 500>\n",
    "\n",
    "일반적으로 하나의 행에는 하나의 데이터 혹은 관측치.\n",
    "\n",
    "하나의 열에는 하나의 feature를 기반으로 저장하기를 권장합니다.\n",
    "\n",
    "이를 tidy 형태 라고 부르기도 하며, 이는 이후에 조금 더 배우겠지만 다른 라이브러리들과의 호환성을 위해서 라 생각하면 좋습니다."
   ]
  },
  {
   "cell_type": "markdown",
   "metadata": {
    "id": "QiQlWkhhno5k"
   },
   "source": [
    "### Dataset\n",
    "\n",
    "오늘 feature engineering을 연습하기 위해 사용할 데이터는 kt&g 라는 기업의 일부 재무정보 데이터이며 형태는 다음과 같습니다.\n",
    "\n",
    "<img src='https://i.imgur.com/fHop57h.png' width = 500>\n",
    "\n",
    "<https://finance.naver.com/item/coinfo.nhn?code=033780&target=finsum_more>\n",
    "\n"
   ]
  },
  {
   "cell_type": "code",
   "execution_count": 1,
   "metadata": {
    "colab": {
     "base_uri": "https://localhost:8080/",
     "height": 323
    },
    "id": "xpd-j_EdpwMr",
    "outputId": "8b7cbb3e-2dbc-441a-a7d5-f48947f36001"
   },
   "outputs": [
    {
     "data": {
      "text/html": [
       "<div>\n",
       "<style scoped>\n",
       "    .dataframe tbody tr th:only-of-type {\n",
       "        vertical-align: middle;\n",
       "    }\n",
       "\n",
       "    .dataframe tbody tr th {\n",
       "        vertical-align: top;\n",
       "    }\n",
       "\n",
       "    .dataframe thead th {\n",
       "        text-align: right;\n",
       "    }\n",
       "</style>\n",
       "<table border=\"1\" class=\"dataframe\">\n",
       "  <thead>\n",
       "    <tr style=\"text-align: right;\">\n",
       "      <th></th>\n",
       "      <th>분기</th>\n",
       "      <th>매출액</th>\n",
       "      <th>영업이익</th>\n",
       "      <th>영업이익(발표기준)</th>\n",
       "      <th>세전계속사업이익</th>\n",
       "      <th>당기순이익</th>\n",
       "      <th>당기순이익(지배)</th>\n",
       "      <th>당기순이익(비지배)</th>\n",
       "      <th>자산총계</th>\n",
       "      <th>부채총계</th>\n",
       "      <th>...</th>\n",
       "      <th>투자활동현금흐름</th>\n",
       "      <th>재무활동현금흐름</th>\n",
       "      <th>영업이익률</th>\n",
       "      <th>순이익률</th>\n",
       "      <th>ROE(%)</th>\n",
       "      <th>ROA(%)</th>\n",
       "      <th>부채비율</th>\n",
       "      <th>자본유보율</th>\n",
       "      <th>EPS(원)</th>\n",
       "      <th>PER(배)</th>\n",
       "    </tr>\n",
       "  </thead>\n",
       "  <tbody>\n",
       "    <tr>\n",
       "      <th>0</th>\n",
       "      <td>19/6</td>\n",
       "      <td>12,578</td>\n",
       "      <td>3,991</td>\n",
       "      <td>3,991</td>\n",
       "      <td>4,452</td>\n",
       "      <td>3,245</td>\n",
       "      <td>3,228</td>\n",
       "      <td>17</td>\n",
       "      <td>108,464</td>\n",
       "      <td>25,940</td>\n",
       "      <td>...</td>\n",
       "      <td>-1,878</td>\n",
       "      <td>-4,919</td>\n",
       "      <td>31.73</td>\n",
       "      <td>25.80</td>\n",
       "      <td>12.35</td>\n",
       "      <td>9.37</td>\n",
       "      <td>31.43</td>\n",
       "      <td>803.22</td>\n",
       "      <td>2,351</td>\n",
       "      <td>13.77</td>\n",
       "    </tr>\n",
       "    <tr>\n",
       "      <th>1</th>\n",
       "      <td>19/9</td>\n",
       "      <td>13,222</td>\n",
       "      <td>3,825</td>\n",
       "      <td>3,825</td>\n",
       "      <td>4,503</td>\n",
       "      <td>3,221</td>\n",
       "      <td>3,208</td>\n",
       "      <td>13</td>\n",
       "      <td>106,314</td>\n",
       "      <td>20,691</td>\n",
       "      <td>...</td>\n",
       "      <td>-83</td>\n",
       "      <td>-329</td>\n",
       "      <td>28.93</td>\n",
       "      <td>24.36</td>\n",
       "      <td>12.67</td>\n",
       "      <td>9.95</td>\n",
       "      <td>24.17</td>\n",
       "      <td>836.86</td>\n",
       "      <td>2,337</td>\n",
       "      <td>13.87</td>\n",
       "    </tr>\n",
       "    <tr>\n",
       "      <th>2</th>\n",
       "      <td>19/12</td>\n",
       "      <td>11,982</td>\n",
       "      <td>2,523</td>\n",
       "      <td>2,523</td>\n",
       "      <td>1,794</td>\n",
       "      <td>1,183</td>\n",
       "      <td>1,198</td>\n",
       "      <td>-15</td>\n",
       "      <td>107,121</td>\n",
       "      <td>20,062</td>\n",
       "      <td>...</td>\n",
       "      <td>-501</td>\n",
       "      <td>-129</td>\n",
       "      <td>21.06</td>\n",
       "      <td>9.87</td>\n",
       "      <td>12.39</td>\n",
       "      <td>9.96</td>\n",
       "      <td>23.04</td>\n",
       "      <td>850.82</td>\n",
       "      <td>873</td>\n",
       "      <td>12.42</td>\n",
       "    </tr>\n",
       "    <tr>\n",
       "      <th>3</th>\n",
       "      <td>20/3</td>\n",
       "      <td>11,784</td>\n",
       "      <td>3,150</td>\n",
       "      <td>3,150</td>\n",
       "      <td>4,156</td>\n",
       "      <td>2,939</td>\n",
       "      <td>2,930</td>\n",
       "      <td>9</td>\n",
       "      <td>108,594</td>\n",
       "      <td>24,862</td>\n",
       "      <td>...</td>\n",
       "      <td>-1,392</td>\n",
       "      <td>-86</td>\n",
       "      <td>26.73</td>\n",
       "      <td>24.94</td>\n",
       "      <td>13.05</td>\n",
       "      <td>9.79</td>\n",
       "      <td>29.69</td>\n",
       "      <td>823.16</td>\n",
       "      <td>2,134</td>\n",
       "      <td>9.71</td>\n",
       "    </tr>\n",
       "    <tr>\n",
       "      <th>4</th>\n",
       "      <td>20/6</td>\n",
       "      <td>13,188</td>\n",
       "      <td>3,947</td>\n",
       "      <td>3,947</td>\n",
       "      <td>4,020</td>\n",
       "      <td>2,935</td>\n",
       "      <td>2,931</td>\n",
       "      <td>4</td>\n",
       "      <td>110,282</td>\n",
       "      <td>23,386</td>\n",
       "      <td>...</td>\n",
       "      <td>-214</td>\n",
       "      <td>-5,501</td>\n",
       "      <td>29.93</td>\n",
       "      <td>22.25</td>\n",
       "      <td>12.20</td>\n",
       "      <td>9.40</td>\n",
       "      <td>26.91</td>\n",
       "      <td>837.40</td>\n",
       "      <td>2,135</td>\n",
       "      <td>10.46</td>\n",
       "    </tr>\n",
       "  </tbody>\n",
       "</table>\n",
       "<p>5 rows × 25 columns</p>\n",
       "</div>"
      ],
      "text/plain": [
       "      분기     매출액   영업이익 영업이익(발표기준) 세전계속사업이익  당기순이익 당기순이익(지배)  당기순이익(비지배)  \\\n",
       "0   19/6  12,578  3,991      3,991    4,452  3,245     3,228          17   \n",
       "1   19/9  13,222  3,825      3,825    4,503  3,221     3,208          13   \n",
       "2  19/12  11,982  2,523      2,523    1,794  1,183     1,198         -15   \n",
       "3   20/3  11,784  3,150      3,150    4,156  2,939     2,930           9   \n",
       "4   20/6  13,188  3,947      3,947    4,020  2,935     2,931           4   \n",
       "\n",
       "      자산총계    부채총계  ... 투자활동현금흐름 재무활동현금흐름  영업이익률   순이익률 ROE(%) ROA(%)   부채비율  \\\n",
       "0  108,464  25,940  ...   -1,878   -4,919  31.73  25.80  12.35   9.37  31.43   \n",
       "1  106,314  20,691  ...      -83     -329  28.93  24.36  12.67   9.95  24.17   \n",
       "2  107,121  20,062  ...     -501     -129  21.06   9.87  12.39   9.96  23.04   \n",
       "3  108,594  24,862  ...   -1,392      -86  26.73  24.94  13.05   9.79  29.69   \n",
       "4  110,282  23,386  ...     -214   -5,501  29.93  22.25  12.20   9.40  26.91   \n",
       "\n",
       "    자본유보율  EPS(원)  PER(배)  \n",
       "0  803.22   2,351   13.77  \n",
       "1  836.86   2,337   13.87  \n",
       "2  850.82     873   12.42  \n",
       "3  823.16   2,134    9.71  \n",
       "4  837.40   2,135   10.46  \n",
       "\n",
       "[5 rows x 25 columns]"
      ]
     },
     "execution_count": 1,
     "metadata": {},
     "output_type": "execute_result"
    }
   ],
   "source": [
    "import pandas as pd\n",
    "\n",
    "df = pd.read_csv('https://ds-lecture-data.s3.ap-northeast-2.amazonaws.com/kt%26g/kt%26g.csv')\n",
    "\n",
    "df"
   ]
  },
  {
   "cell_type": "code",
   "execution_count": null,
   "metadata": {
    "colab": {
     "base_uri": "https://localhost:8080/"
    },
    "id": "vqotfPtWqcRX",
    "outputId": "0d257455-8272-497d-c011-682776e7aa3b"
   },
   "outputs": [
    {
     "data": {
      "text/plain": [
       "분기             object\n",
       "매출액            object\n",
       "영업이익           object\n",
       "영업이익(발표기준)     object\n",
       "세전계속사업이익       object\n",
       "당기순이익          object\n",
       "당기순이익(지배)      object\n",
       "당기순이익(비지배)      int64\n",
       "자산총계           object\n",
       "부채총계           object\n",
       "자본총계           object\n",
       "자본총계(지배)       object\n",
       "자본총계(비지배)     float64\n",
       "자본금            object\n",
       "영업활동현금흐름       object\n",
       "투자활동현금흐름       object\n",
       "재무활동현금흐름       object\n",
       "영업이익률         float64\n",
       "순이익률          float64\n",
       "ROE(%)        float64\n",
       "ROA(%)        float64\n",
       "부채비율          float64\n",
       "자본유보율         float64\n",
       "EPS(원)         object\n",
       "PER(배)        float64\n",
       "dtype: object"
      ]
     },
     "execution_count": 6,
     "metadata": {
      "tags": []
     },
     "output_type": "execute_result"
    }
   ],
   "source": [
    "df.dtypes"
   ]
  },
  {
   "cell_type": "markdown",
   "metadata": {
    "id": "yfvyHa9IfGi9"
   },
   "source": [
    "데이터는 전부 숫자형 데이터지만 \n",
    "\n",
    "그 형태가 `object`, `float64`, `int64`등으로 다르게 표현되어 있습니다.\n",
    "\n"
   ]
  },
  {
   "cell_type": "code",
   "execution_count": null,
   "metadata": {
    "colab": {
     "base_uri": "https://localhost:8080/"
    },
    "id": "MDLnz1CX_eGc",
    "outputId": "ee827c86-93a6-4ee3-92f1-2825b2895058"
   },
   "outputs": [
    {
     "data": {
      "text/plain": [
       "0      NaN\n",
       "1      NaN\n",
       "2      NaN\n",
       "3    562.0\n",
       "4    566.0\n",
       "Name: 자본총계(비지배), dtype: float64"
      ]
     },
     "execution_count": 7,
     "metadata": {
      "tags": []
     },
     "output_type": "execute_result"
    }
   ],
   "source": [
    "df['자본총계(비지배)']"
   ]
  },
  {
   "cell_type": "markdown",
   "metadata": {
    "id": "1wn01aWQrGWi"
   },
   "source": [
    "일단 자본총계 (비지배) 부분을 집중해서 보면, `float64`로 표현되어 있습니다.\n",
    "\n",
    "값들이 \"진짜\" 실수형 값인가요?\n",
    "\n",
    "위에 쓰여진 NaN은, Not a Number의 줄임말로 pandas에서 결측치를 표현하는 방법입니다.\n",
    "\n",
    "NaN은 프로그래밍상 float라는 type을 갖습니다.\n",
    "\n",
    "이 때문에 562, 566은 int -> float로 어쩔 수 없이 type cast가 된 것입니다.\n"
   ]
  },
  {
   "cell_type": "markdown",
   "metadata": {
    "id": "1u-wdIevrvQA"
   },
   "source": [
    "### 🔥 Na, Null, NaN, 0, Undefined 의 차이를 알아보세요."
   ]
  },
  {
   "cell_type": "markdown",
   "metadata": {
    "id": "Ko_yfcFqg0pj"
   },
   "source": [
    "### Feature Engineering\n",
    "\n",
    "|순이익률|ROE(%)|ROA(%)|\n",
    "|:-:|:-:|:-:|\n",
    "|25.80|12.35|9.37|\n",
    "|24.36|12.67|9.95|\n",
    "|9.87|12.39|9.96|\n",
    "|24.94|13.05|9.79|\n",
    "|22.25|12.20|9.40|\n",
    "\n",
    "위 데이터를 기반으로 새로운 투자지표 \n",
    "\n",
    "\"J-value\" = `ROE` + `ROA`\n",
    "\n",
    "를 만들어 보겠습니다.\n"
   ]
  },
  {
   "cell_type": "code",
   "execution_count": null,
   "metadata": {
    "colab": {
     "base_uri": "https://localhost:8080/",
     "height": 343
    },
    "id": "mzxonVKytpew",
    "outputId": "cf1dbcf6-dd50-4b45-fb90-285bcc73b10d"
   },
   "outputs": [
    {
     "data": {
      "text/html": [
       "<div>\n",
       "<style scoped>\n",
       "    .dataframe tbody tr th:only-of-type {\n",
       "        vertical-align: middle;\n",
       "    }\n",
       "\n",
       "    .dataframe tbody tr th {\n",
       "        vertical-align: top;\n",
       "    }\n",
       "\n",
       "    .dataframe thead th {\n",
       "        text-align: right;\n",
       "    }\n",
       "</style>\n",
       "<table border=\"1\" class=\"dataframe\">\n",
       "  <thead>\n",
       "    <tr style=\"text-align: right;\">\n",
       "      <th></th>\n",
       "      <th>분기</th>\n",
       "      <th>매출액</th>\n",
       "      <th>영업이익</th>\n",
       "      <th>영업이익(발표기준)</th>\n",
       "      <th>세전계속사업이익</th>\n",
       "      <th>당기순이익</th>\n",
       "      <th>당기순이익(지배)</th>\n",
       "      <th>당기순이익(비지배)</th>\n",
       "      <th>자산총계</th>\n",
       "      <th>부채총계</th>\n",
       "      <th>자본총계</th>\n",
       "      <th>자본총계(지배)</th>\n",
       "      <th>자본총계(비지배)</th>\n",
       "      <th>자본금</th>\n",
       "      <th>영업활동현금흐름</th>\n",
       "      <th>투자활동현금흐름</th>\n",
       "      <th>재무활동현금흐름</th>\n",
       "      <th>영업이익률</th>\n",
       "      <th>순이익률</th>\n",
       "      <th>ROE(%)</th>\n",
       "      <th>ROA(%)</th>\n",
       "      <th>부채비율</th>\n",
       "      <th>자본유보율</th>\n",
       "      <th>EPS(원)</th>\n",
       "      <th>PER(배)</th>\n",
       "      <th>j-value</th>\n",
       "    </tr>\n",
       "  </thead>\n",
       "  <tbody>\n",
       "    <tr>\n",
       "      <th>0</th>\n",
       "      <td>19/6</td>\n",
       "      <td>12,578</td>\n",
       "      <td>3,991</td>\n",
       "      <td>3,991</td>\n",
       "      <td>4,452</td>\n",
       "      <td>3,245</td>\n",
       "      <td>3,228</td>\n",
       "      <td>17</td>\n",
       "      <td>108,464</td>\n",
       "      <td>25,940</td>\n",
       "      <td>82,524</td>\n",
       "      <td>81,965</td>\n",
       "      <td>NaN</td>\n",
       "      <td>9,550</td>\n",
       "      <td>4,641</td>\n",
       "      <td>-1,878</td>\n",
       "      <td>-4,919</td>\n",
       "      <td>31.73</td>\n",
       "      <td>25.80</td>\n",
       "      <td>12.35</td>\n",
       "      <td>9.37</td>\n",
       "      <td>31.43</td>\n",
       "      <td>803.22</td>\n",
       "      <td>2,351</td>\n",
       "      <td>13.77</td>\n",
       "      <td>21.72</td>\n",
       "    </tr>\n",
       "    <tr>\n",
       "      <th>1</th>\n",
       "      <td>19/9</td>\n",
       "      <td>13,222</td>\n",
       "      <td>3,825</td>\n",
       "      <td>3,825</td>\n",
       "      <td>4,503</td>\n",
       "      <td>3,221</td>\n",
       "      <td>3,208</td>\n",
       "      <td>13</td>\n",
       "      <td>106,314</td>\n",
       "      <td>20,691</td>\n",
       "      <td>85,623</td>\n",
       "      <td>85,049</td>\n",
       "      <td>NaN</td>\n",
       "      <td>9,550</td>\n",
       "      <td>-2,278</td>\n",
       "      <td>-83</td>\n",
       "      <td>-329</td>\n",
       "      <td>28.93</td>\n",
       "      <td>24.36</td>\n",
       "      <td>12.67</td>\n",
       "      <td>9.95</td>\n",
       "      <td>24.17</td>\n",
       "      <td>836.86</td>\n",
       "      <td>2,337</td>\n",
       "      <td>13.87</td>\n",
       "      <td>22.62</td>\n",
       "    </tr>\n",
       "    <tr>\n",
       "      <th>2</th>\n",
       "      <td>19/12</td>\n",
       "      <td>11,982</td>\n",
       "      <td>2,523</td>\n",
       "      <td>2,523</td>\n",
       "      <td>1,794</td>\n",
       "      <td>1,183</td>\n",
       "      <td>1,198</td>\n",
       "      <td>-15</td>\n",
       "      <td>107,121</td>\n",
       "      <td>20,062</td>\n",
       "      <td>87,059</td>\n",
       "      <td>86,506</td>\n",
       "      <td>NaN</td>\n",
       "      <td>9,550</td>\n",
       "      <td>837</td>\n",
       "      <td>-501</td>\n",
       "      <td>-129</td>\n",
       "      <td>21.06</td>\n",
       "      <td>9.87</td>\n",
       "      <td>12.39</td>\n",
       "      <td>9.96</td>\n",
       "      <td>23.04</td>\n",
       "      <td>850.82</td>\n",
       "      <td>873</td>\n",
       "      <td>12.42</td>\n",
       "      <td>22.35</td>\n",
       "    </tr>\n",
       "    <tr>\n",
       "      <th>3</th>\n",
       "      <td>20/3</td>\n",
       "      <td>11,784</td>\n",
       "      <td>3,150</td>\n",
       "      <td>3,150</td>\n",
       "      <td>4,156</td>\n",
       "      <td>2,939</td>\n",
       "      <td>2,930</td>\n",
       "      <td>9</td>\n",
       "      <td>108,594</td>\n",
       "      <td>24,862</td>\n",
       "      <td>83,732</td>\n",
       "      <td>83,170</td>\n",
       "      <td>562.0</td>\n",
       "      <td>9,550</td>\n",
       "      <td>2,336</td>\n",
       "      <td>-1,392</td>\n",
       "      <td>-86</td>\n",
       "      <td>26.73</td>\n",
       "      <td>24.94</td>\n",
       "      <td>13.05</td>\n",
       "      <td>9.79</td>\n",
       "      <td>29.69</td>\n",
       "      <td>823.16</td>\n",
       "      <td>2,134</td>\n",
       "      <td>9.71</td>\n",
       "      <td>22.84</td>\n",
       "    </tr>\n",
       "    <tr>\n",
       "      <th>4</th>\n",
       "      <td>20/6</td>\n",
       "      <td>13,188</td>\n",
       "      <td>3,947</td>\n",
       "      <td>3,947</td>\n",
       "      <td>4,020</td>\n",
       "      <td>2,935</td>\n",
       "      <td>2,931</td>\n",
       "      <td>4</td>\n",
       "      <td>110,282</td>\n",
       "      <td>23,386</td>\n",
       "      <td>86,896</td>\n",
       "      <td>86,330</td>\n",
       "      <td>566.0</td>\n",
       "      <td>9,550</td>\n",
       "      <td>7,855</td>\n",
       "      <td>-214</td>\n",
       "      <td>-5,501</td>\n",
       "      <td>29.93</td>\n",
       "      <td>22.25</td>\n",
       "      <td>12.20</td>\n",
       "      <td>9.40</td>\n",
       "      <td>26.91</td>\n",
       "      <td>837.40</td>\n",
       "      <td>2,135</td>\n",
       "      <td>10.46</td>\n",
       "      <td>21.60</td>\n",
       "    </tr>\n",
       "  </tbody>\n",
       "</table>\n",
       "</div>"
      ],
      "text/plain": [
       "      분기     매출액   영업이익 영업이익(발표기준)  ...   자본유보율 EPS(원) PER(배)  j-value\n",
       "0   19/6  12,578  3,991      3,991  ...  803.22  2,351  13.77    21.72\n",
       "1   19/9  13,222  3,825      3,825  ...  836.86  2,337  13.87    22.62\n",
       "2  19/12  11,982  2,523      2,523  ...  850.82    873  12.42    22.35\n",
       "3   20/3  11,784  3,150      3,150  ...  823.16  2,134   9.71    22.84\n",
       "4   20/6  13,188  3,947      3,947  ...  837.40  2,135  10.46    21.60\n",
       "\n",
       "[5 rows x 26 columns]"
      ]
     },
     "execution_count": 8,
     "metadata": {
      "tags": []
     },
     "output_type": "execute_result"
    }
   ],
   "source": [
    "df['j-value'] = df['ROE(%)'] + df['ROA(%)']\n",
    "df"
   ]
  },
  {
   "cell_type": "code",
   "execution_count": null,
   "metadata": {
    "colab": {
     "base_uri": "https://localhost:8080/",
     "height": 343
    },
    "id": "_GxPTgevhWnv",
    "outputId": "d40e3b43-a555-4f23-c855-3d8ed494831c"
   },
   "outputs": [
    {
     "data": {
      "text/html": [
       "<div>\n",
       "<style scoped>\n",
       "    .dataframe tbody tr th:only-of-type {\n",
       "        vertical-align: middle;\n",
       "    }\n",
       "\n",
       "    .dataframe tbody tr th {\n",
       "        vertical-align: top;\n",
       "    }\n",
       "\n",
       "    .dataframe thead th {\n",
       "        text-align: right;\n",
       "    }\n",
       "</style>\n",
       "<table border=\"1\" class=\"dataframe\">\n",
       "  <thead>\n",
       "    <tr style=\"text-align: right;\">\n",
       "      <th></th>\n",
       "      <th>분기</th>\n",
       "      <th>매출액</th>\n",
       "      <th>영업이익</th>\n",
       "      <th>영업이익(발표기준)</th>\n",
       "      <th>세전계속사업이익</th>\n",
       "      <th>당기순이익</th>\n",
       "      <th>당기순이익(지배)</th>\n",
       "      <th>당기순이익(비지배)</th>\n",
       "      <th>자산총계</th>\n",
       "      <th>부채총계</th>\n",
       "      <th>자본총계</th>\n",
       "      <th>자본총계(지배)</th>\n",
       "      <th>자본총계(비지배)</th>\n",
       "      <th>자본금</th>\n",
       "      <th>영업활동현금흐름</th>\n",
       "      <th>투자활동현금흐름</th>\n",
       "      <th>재무활동현금흐름</th>\n",
       "      <th>영업이익률</th>\n",
       "      <th>순이익률</th>\n",
       "      <th>ROE(%)</th>\n",
       "      <th>ROA(%)</th>\n",
       "      <th>부채비율</th>\n",
       "      <th>자본유보율</th>\n",
       "      <th>EPS(원)</th>\n",
       "      <th>PER(배)</th>\n",
       "      <th>j-value</th>\n",
       "      <th>자산</th>\n",
       "    </tr>\n",
       "  </thead>\n",
       "  <tbody>\n",
       "    <tr>\n",
       "      <th>0</th>\n",
       "      <td>19/6</td>\n",
       "      <td>12,578</td>\n",
       "      <td>3,991</td>\n",
       "      <td>3,991</td>\n",
       "      <td>4,452</td>\n",
       "      <td>3,245</td>\n",
       "      <td>3,228</td>\n",
       "      <td>17</td>\n",
       "      <td>108,464</td>\n",
       "      <td>25,940</td>\n",
       "      <td>82,524</td>\n",
       "      <td>81,965</td>\n",
       "      <td>NaN</td>\n",
       "      <td>9,550</td>\n",
       "      <td>4,641</td>\n",
       "      <td>-1,878</td>\n",
       "      <td>-4,919</td>\n",
       "      <td>31.73</td>\n",
       "      <td>25.80</td>\n",
       "      <td>12.35</td>\n",
       "      <td>9.37</td>\n",
       "      <td>31.43</td>\n",
       "      <td>803.22</td>\n",
       "      <td>2,351</td>\n",
       "      <td>13.77</td>\n",
       "      <td>21.72</td>\n",
       "      <td>25,94082,524</td>\n",
       "    </tr>\n",
       "    <tr>\n",
       "      <th>1</th>\n",
       "      <td>19/9</td>\n",
       "      <td>13,222</td>\n",
       "      <td>3,825</td>\n",
       "      <td>3,825</td>\n",
       "      <td>4,503</td>\n",
       "      <td>3,221</td>\n",
       "      <td>3,208</td>\n",
       "      <td>13</td>\n",
       "      <td>106,314</td>\n",
       "      <td>20,691</td>\n",
       "      <td>85,623</td>\n",
       "      <td>85,049</td>\n",
       "      <td>NaN</td>\n",
       "      <td>9,550</td>\n",
       "      <td>-2,278</td>\n",
       "      <td>-83</td>\n",
       "      <td>-329</td>\n",
       "      <td>28.93</td>\n",
       "      <td>24.36</td>\n",
       "      <td>12.67</td>\n",
       "      <td>9.95</td>\n",
       "      <td>24.17</td>\n",
       "      <td>836.86</td>\n",
       "      <td>2,337</td>\n",
       "      <td>13.87</td>\n",
       "      <td>22.62</td>\n",
       "      <td>20,69185,623</td>\n",
       "    </tr>\n",
       "    <tr>\n",
       "      <th>2</th>\n",
       "      <td>19/12</td>\n",
       "      <td>11,982</td>\n",
       "      <td>2,523</td>\n",
       "      <td>2,523</td>\n",
       "      <td>1,794</td>\n",
       "      <td>1,183</td>\n",
       "      <td>1,198</td>\n",
       "      <td>-15</td>\n",
       "      <td>107,121</td>\n",
       "      <td>20,062</td>\n",
       "      <td>87,059</td>\n",
       "      <td>86,506</td>\n",
       "      <td>NaN</td>\n",
       "      <td>9,550</td>\n",
       "      <td>837</td>\n",
       "      <td>-501</td>\n",
       "      <td>-129</td>\n",
       "      <td>21.06</td>\n",
       "      <td>9.87</td>\n",
       "      <td>12.39</td>\n",
       "      <td>9.96</td>\n",
       "      <td>23.04</td>\n",
       "      <td>850.82</td>\n",
       "      <td>873</td>\n",
       "      <td>12.42</td>\n",
       "      <td>22.35</td>\n",
       "      <td>20,06287,059</td>\n",
       "    </tr>\n",
       "    <tr>\n",
       "      <th>3</th>\n",
       "      <td>20/3</td>\n",
       "      <td>11,784</td>\n",
       "      <td>3,150</td>\n",
       "      <td>3,150</td>\n",
       "      <td>4,156</td>\n",
       "      <td>2,939</td>\n",
       "      <td>2,930</td>\n",
       "      <td>9</td>\n",
       "      <td>108,594</td>\n",
       "      <td>24,862</td>\n",
       "      <td>83,732</td>\n",
       "      <td>83,170</td>\n",
       "      <td>562.0</td>\n",
       "      <td>9,550</td>\n",
       "      <td>2,336</td>\n",
       "      <td>-1,392</td>\n",
       "      <td>-86</td>\n",
       "      <td>26.73</td>\n",
       "      <td>24.94</td>\n",
       "      <td>13.05</td>\n",
       "      <td>9.79</td>\n",
       "      <td>29.69</td>\n",
       "      <td>823.16</td>\n",
       "      <td>2,134</td>\n",
       "      <td>9.71</td>\n",
       "      <td>22.84</td>\n",
       "      <td>24,86283,732</td>\n",
       "    </tr>\n",
       "    <tr>\n",
       "      <th>4</th>\n",
       "      <td>20/6</td>\n",
       "      <td>13,188</td>\n",
       "      <td>3,947</td>\n",
       "      <td>3,947</td>\n",
       "      <td>4,020</td>\n",
       "      <td>2,935</td>\n",
       "      <td>2,931</td>\n",
       "      <td>4</td>\n",
       "      <td>110,282</td>\n",
       "      <td>23,386</td>\n",
       "      <td>86,896</td>\n",
       "      <td>86,330</td>\n",
       "      <td>566.0</td>\n",
       "      <td>9,550</td>\n",
       "      <td>7,855</td>\n",
       "      <td>-214</td>\n",
       "      <td>-5,501</td>\n",
       "      <td>29.93</td>\n",
       "      <td>22.25</td>\n",
       "      <td>12.20</td>\n",
       "      <td>9.40</td>\n",
       "      <td>26.91</td>\n",
       "      <td>837.40</td>\n",
       "      <td>2,135</td>\n",
       "      <td>10.46</td>\n",
       "      <td>21.60</td>\n",
       "      <td>23,38686,896</td>\n",
       "    </tr>\n",
       "  </tbody>\n",
       "</table>\n",
       "</div>"
      ],
      "text/plain": [
       "      분기     매출액   영업이익 영업이익(발표기준)  ... EPS(원) PER(배) j-value            자산\n",
       "0   19/6  12,578  3,991      3,991  ...  2,351  13.77   21.72  25,94082,524\n",
       "1   19/9  13,222  3,825      3,825  ...  2,337  13.87   22.62  20,69185,623\n",
       "2  19/12  11,982  2,523      2,523  ...    873  12.42   22.35  20,06287,059\n",
       "3   20/3  11,784  3,150      3,150  ...  2,134   9.71   22.84  24,86283,732\n",
       "4   20/6  13,188  3,947      3,947  ...  2,135  10.46   21.60  23,38686,896\n",
       "\n",
       "[5 rows x 27 columns]"
      ]
     },
     "execution_count": 9,
     "metadata": {
      "tags": []
     },
     "output_type": "execute_result"
    }
   ],
   "source": [
    "df['자산'] = df['부채총계'] + df['자본총계']\n",
    "df"
   ]
  },
  {
   "cell_type": "markdown",
   "metadata": {
    "id": "sKnLv6nGmU8N"
   },
   "source": [
    "## String"
   ]
  },
  {
   "cell_type": "markdown",
   "metadata": {
    "id": "dqd_Lpb9ntwT"
   },
   "source": [
    "### 개요\n",
    "\n",
    "`25,970` + `82,524` = `108,464` 가 되어야 합니다.\n",
    "\n",
    "그렇지만 우리의 결과는 `25,97082,524` 였습니다.\n",
    "\n",
    "<img src='https://i.imgur.com/80AOnF5.png' width = 500>\n",
    "\n",
    "이번에는 문자열(string)을 다루는 방법에 대해서 배워보겠습니다."
   ]
  },
  {
   "cell_type": "markdown",
   "metadata": {
    "id": "87lzDxnCr_6j"
   },
   "source": [
    "### 프로세스 소개\n",
    "\n",
    "<img src='https://i.imgur.com/WYQhrs8.png' width = 300>\n",
    "\n",
    "앞서 발생한 문제를 해결 하기 위해서, 다음과 같은 단계를 거쳐야합니다.\n",
    "\n",
    "1. 문자를 숫자로 바꾸기 위해 **숫자가 아닌 부분을 제거**\n",
    "\n",
    "2. 문자를 숫자로 **형변환**\n",
    "\n",
    "일반적으로 머신러닝 모델링에서는 문자열로 이루어진 값은 사용하지 않습니다. (매우 복잡한 문제입니다.)"
   ]
  },
  {
   "cell_type": "markdown",
   "metadata": {
    "id": "umnBqFa0t22W"
   },
   "source": [
    "### string replace\n",
    "\n",
    "<https://www.w3schools.com/python/ref_string_replace.asp>\n",
    "\n",
    "`replace`의 사용법은 다음과 같습니다.\n",
    "\n",
    "**string variable**.replace(“삭제할 글자“, ‘’) 의 형태로 사용 ( 공백으로 대치 )\n",
    "\n",
    "`s.replace(',', '')`\n",
    "\n",
    "### 🔥 <https://www.w3schools.com/python/python_strings.asp>\n"
   ]
  },
  {
   "cell_type": "code",
   "execution_count": null,
   "metadata": {
    "id": "q_AX0R-exXXT"
   },
   "outputs": [],
   "source": [
    "testString = '25,970'"
   ]
  },
  {
   "cell_type": "code",
   "execution_count": null,
   "metadata": {
    "colab": {
     "base_uri": "https://localhost:8080/",
     "height": 35
    },
    "id": "xm3EhscUzRdG",
    "outputId": "d18b9620-79a3-4547-aca4-e6734322e939"
   },
   "outputs": [
    {
     "data": {
      "application/vnd.google.colaboratory.intrinsic+json": {
       "type": "string"
      },
      "text/plain": [
       "'25970'"
      ]
     },
     "execution_count": 11,
     "metadata": {
      "tags": []
     },
     "output_type": "execute_result"
    }
   ],
   "source": [
    "testString.replace(',','')"
   ]
  },
  {
   "cell_type": "code",
   "execution_count": null,
   "metadata": {
    "colab": {
     "base_uri": "https://localhost:8080/",
     "height": 35
    },
    "id": "VzIXlQnxzURm",
    "outputId": "cd104017-e0c5-4168-dbd0-c9cc891ef925"
   },
   "outputs": [
    {
     "data": {
      "application/vnd.google.colaboratory.intrinsic+json": {
       "type": "string"
      },
      "text/plain": [
       "'25,970'"
      ]
     },
     "execution_count": 12,
     "metadata": {
      "tags": []
     },
     "output_type": "execute_result"
    }
   ],
   "source": [
    "testString"
   ]
  },
  {
   "cell_type": "markdown",
   "metadata": {
    "id": "-XiV5y_NxF0B"
   },
   "source": [
    "### Type casting\n",
    "\n",
    "<img src='https://i.imgur.com/Y15ZJoL.png' width = 400>"
   ]
  },
  {
   "cell_type": "code",
   "execution_count": null,
   "metadata": {
    "id": "-GvPGLBNzXJA"
   },
   "outputs": [],
   "source": [
    "testString = testString.replace(',','')"
   ]
  },
  {
   "cell_type": "code",
   "execution_count": null,
   "metadata": {
    "colab": {
     "base_uri": "https://localhost:8080/"
    },
    "id": "kcqneHUmvCs6",
    "outputId": "05300940-ce87-4387-de9b-5f66b4057868"
   },
   "outputs": [
    {
     "data": {
      "text/plain": [
       "25970"
      ]
     },
     "execution_count": 14,
     "metadata": {
      "tags": []
     },
     "output_type": "execute_result"
    }
   ],
   "source": [
    "int(testString)"
   ]
  },
  {
   "cell_type": "markdown",
   "metadata": {
    "id": "S_bTzHIJvc8M"
   },
   "source": [
    "### as Function\n",
    "\n",
    "<https://www.w3schools.com/python/python_functions.asp>"
   ]
  },
  {
   "cell_type": "code",
   "execution_count": null,
   "metadata": {
    "id": "GYJYsfQZvVcK"
   },
   "outputs": [],
   "source": [
    "# 입력된 문자열에 대해서 같은 작업을 하는 함수 작성\n",
    "def toInt(string):\n",
    "    return int(string.replace(',',''))"
   ]
  },
  {
   "cell_type": "code",
   "execution_count": null,
   "metadata": {
    "colab": {
     "base_uri": "https://localhost:8080/"
    },
    "id": "Ng3lQFD8vxQt",
    "outputId": "b742702d-4408-49f1-eb11-57c224fd966b"
   },
   "outputs": [
    {
     "data": {
      "text/plain": [
       "25970"
      ]
     },
     "execution_count": 16,
     "metadata": {
      "tags": []
     },
     "output_type": "execute_result"
    }
   ],
   "source": [
    "# 예시 데이터를 바탕으로 함수를 테스트\n",
    "toInt('25,970')"
   ]
  },
  {
   "cell_type": "code",
   "execution_count": null,
   "metadata": {
    "colab": {
     "base_uri": "https://localhost:8080/"
    },
    "id": "7cPxk1W9v2ul",
    "outputId": "d0093e3f-7940-4616-f9c2-d44337277b8e"
   },
   "outputs": [
    {
     "data": {
      "text/plain": [
       "int"
      ]
     },
     "execution_count": 17,
     "metadata": {
      "tags": []
     },
     "output_type": "execute_result"
    }
   ],
   "source": [
    "type(toInt('25,970'))"
   ]
  },
  {
   "cell_type": "markdown",
   "metadata": {
    "id": "hgxdjRqnv-ZH"
   },
   "source": [
    "## Apply"
   ]
  },
  {
   "cell_type": "markdown",
   "metadata": {
    "id": "6OHCQPd80QNG"
   },
   "source": [
    "### 개요\n",
    "\n",
    "<img src='https://i.imgur.com/n4vvIDr.png' width = 500>\n",
    "\n",
    "데이터의 모든 문자열에 대해서 일일히 `toInt`함수를 반복 할 수는 없음.\n",
    "\n",
    "대신 `column` 단위로 할 수 있지 않을까??\n",
    "\n",
    "<https://pandas.pydata.org/pandas-docs/stable/reference/api/pandas.DataFrame.apply.html>"
   ]
  },
  {
   "cell_type": "markdown",
   "metadata": {
    "id": "SFgnYIyI3CZb"
   },
   "source": [
    "### apply 사용법\n",
    "\n",
    "1. apply 안에 들어갈 함수를 선언\n",
    "2. column에 apply 적용."
   ]
  },
  {
   "cell_type": "code",
   "execution_count": null,
   "metadata": {
    "colab": {
     "base_uri": "https://localhost:8080/",
     "height": 343
    },
    "id": "eGJmf1IbwE1Q",
    "outputId": "57d921e3-3405-40c2-8d4a-b5f18152be4f"
   },
   "outputs": [
    {
     "data": {
      "text/html": [
       "<div>\n",
       "<style scoped>\n",
       "    .dataframe tbody tr th:only-of-type {\n",
       "        vertical-align: middle;\n",
       "    }\n",
       "\n",
       "    .dataframe tbody tr th {\n",
       "        vertical-align: top;\n",
       "    }\n",
       "\n",
       "    .dataframe thead th {\n",
       "        text-align: right;\n",
       "    }\n",
       "</style>\n",
       "<table border=\"1\" class=\"dataframe\">\n",
       "  <thead>\n",
       "    <tr style=\"text-align: right;\">\n",
       "      <th></th>\n",
       "      <th>분기</th>\n",
       "      <th>매출액</th>\n",
       "      <th>영업이익</th>\n",
       "      <th>영업이익(발표기준)</th>\n",
       "      <th>세전계속사업이익</th>\n",
       "      <th>당기순이익</th>\n",
       "      <th>당기순이익(지배)</th>\n",
       "      <th>당기순이익(비지배)</th>\n",
       "      <th>자산총계</th>\n",
       "      <th>부채총계</th>\n",
       "      <th>자본총계</th>\n",
       "      <th>자본총계(지배)</th>\n",
       "      <th>자본총계(비지배)</th>\n",
       "      <th>자본금</th>\n",
       "      <th>영업활동현금흐름</th>\n",
       "      <th>투자활동현금흐름</th>\n",
       "      <th>재무활동현금흐름</th>\n",
       "      <th>영업이익률</th>\n",
       "      <th>순이익률</th>\n",
       "      <th>ROE(%)</th>\n",
       "      <th>ROA(%)</th>\n",
       "      <th>부채비율</th>\n",
       "      <th>자본유보율</th>\n",
       "      <th>EPS(원)</th>\n",
       "      <th>PER(배)</th>\n",
       "      <th>j-value</th>\n",
       "      <th>자산</th>\n",
       "      <th>자산2</th>\n",
       "    </tr>\n",
       "  </thead>\n",
       "  <tbody>\n",
       "    <tr>\n",
       "      <th>0</th>\n",
       "      <td>19/6</td>\n",
       "      <td>12,578</td>\n",
       "      <td>3,991</td>\n",
       "      <td>3,991</td>\n",
       "      <td>4,452</td>\n",
       "      <td>3,245</td>\n",
       "      <td>3,228</td>\n",
       "      <td>17</td>\n",
       "      <td>108,464</td>\n",
       "      <td>25,940</td>\n",
       "      <td>82,524</td>\n",
       "      <td>81,965</td>\n",
       "      <td>NaN</td>\n",
       "      <td>9,550</td>\n",
       "      <td>4,641</td>\n",
       "      <td>-1,878</td>\n",
       "      <td>-4,919</td>\n",
       "      <td>31.73</td>\n",
       "      <td>25.80</td>\n",
       "      <td>12.35</td>\n",
       "      <td>9.37</td>\n",
       "      <td>31.43</td>\n",
       "      <td>803.22</td>\n",
       "      <td>2,351</td>\n",
       "      <td>13.77</td>\n",
       "      <td>21.72</td>\n",
       "      <td>25,94082,524</td>\n",
       "      <td>2594082524</td>\n",
       "    </tr>\n",
       "    <tr>\n",
       "      <th>1</th>\n",
       "      <td>19/9</td>\n",
       "      <td>13,222</td>\n",
       "      <td>3,825</td>\n",
       "      <td>3,825</td>\n",
       "      <td>4,503</td>\n",
       "      <td>3,221</td>\n",
       "      <td>3,208</td>\n",
       "      <td>13</td>\n",
       "      <td>106,314</td>\n",
       "      <td>20,691</td>\n",
       "      <td>85,623</td>\n",
       "      <td>85,049</td>\n",
       "      <td>NaN</td>\n",
       "      <td>9,550</td>\n",
       "      <td>-2,278</td>\n",
       "      <td>-83</td>\n",
       "      <td>-329</td>\n",
       "      <td>28.93</td>\n",
       "      <td>24.36</td>\n",
       "      <td>12.67</td>\n",
       "      <td>9.95</td>\n",
       "      <td>24.17</td>\n",
       "      <td>836.86</td>\n",
       "      <td>2,337</td>\n",
       "      <td>13.87</td>\n",
       "      <td>22.62</td>\n",
       "      <td>20,69185,623</td>\n",
       "      <td>2069185623</td>\n",
       "    </tr>\n",
       "    <tr>\n",
       "      <th>2</th>\n",
       "      <td>19/12</td>\n",
       "      <td>11,982</td>\n",
       "      <td>2,523</td>\n",
       "      <td>2,523</td>\n",
       "      <td>1,794</td>\n",
       "      <td>1,183</td>\n",
       "      <td>1,198</td>\n",
       "      <td>-15</td>\n",
       "      <td>107,121</td>\n",
       "      <td>20,062</td>\n",
       "      <td>87,059</td>\n",
       "      <td>86,506</td>\n",
       "      <td>NaN</td>\n",
       "      <td>9,550</td>\n",
       "      <td>837</td>\n",
       "      <td>-501</td>\n",
       "      <td>-129</td>\n",
       "      <td>21.06</td>\n",
       "      <td>9.87</td>\n",
       "      <td>12.39</td>\n",
       "      <td>9.96</td>\n",
       "      <td>23.04</td>\n",
       "      <td>850.82</td>\n",
       "      <td>873</td>\n",
       "      <td>12.42</td>\n",
       "      <td>22.35</td>\n",
       "      <td>20,06287,059</td>\n",
       "      <td>2006287059</td>\n",
       "    </tr>\n",
       "    <tr>\n",
       "      <th>3</th>\n",
       "      <td>20/3</td>\n",
       "      <td>11,784</td>\n",
       "      <td>3,150</td>\n",
       "      <td>3,150</td>\n",
       "      <td>4,156</td>\n",
       "      <td>2,939</td>\n",
       "      <td>2,930</td>\n",
       "      <td>9</td>\n",
       "      <td>108,594</td>\n",
       "      <td>24,862</td>\n",
       "      <td>83,732</td>\n",
       "      <td>83,170</td>\n",
       "      <td>562.0</td>\n",
       "      <td>9,550</td>\n",
       "      <td>2,336</td>\n",
       "      <td>-1,392</td>\n",
       "      <td>-86</td>\n",
       "      <td>26.73</td>\n",
       "      <td>24.94</td>\n",
       "      <td>13.05</td>\n",
       "      <td>9.79</td>\n",
       "      <td>29.69</td>\n",
       "      <td>823.16</td>\n",
       "      <td>2,134</td>\n",
       "      <td>9.71</td>\n",
       "      <td>22.84</td>\n",
       "      <td>24,86283,732</td>\n",
       "      <td>2486283732</td>\n",
       "    </tr>\n",
       "    <tr>\n",
       "      <th>4</th>\n",
       "      <td>20/6</td>\n",
       "      <td>13,188</td>\n",
       "      <td>3,947</td>\n",
       "      <td>3,947</td>\n",
       "      <td>4,020</td>\n",
       "      <td>2,935</td>\n",
       "      <td>2,931</td>\n",
       "      <td>4</td>\n",
       "      <td>110,282</td>\n",
       "      <td>23,386</td>\n",
       "      <td>86,896</td>\n",
       "      <td>86,330</td>\n",
       "      <td>566.0</td>\n",
       "      <td>9,550</td>\n",
       "      <td>7,855</td>\n",
       "      <td>-214</td>\n",
       "      <td>-5,501</td>\n",
       "      <td>29.93</td>\n",
       "      <td>22.25</td>\n",
       "      <td>12.20</td>\n",
       "      <td>9.40</td>\n",
       "      <td>26.91</td>\n",
       "      <td>837.40</td>\n",
       "      <td>2,135</td>\n",
       "      <td>10.46</td>\n",
       "      <td>21.60</td>\n",
       "      <td>23,38686,896</td>\n",
       "      <td>2338686896</td>\n",
       "    </tr>\n",
       "  </tbody>\n",
       "</table>\n",
       "</div>"
      ],
      "text/plain": [
       "      분기     매출액   영업이익 영업이익(발표기준)  ... PER(배) j-value            자산         자산2\n",
       "0   19/6  12,578  3,991      3,991  ...  13.77   21.72  25,94082,524  2594082524\n",
       "1   19/9  13,222  3,825      3,825  ...  13.87   22.62  20,69185,623  2069185623\n",
       "2  19/12  11,982  2,523      2,523  ...  12.42   22.35  20,06287,059  2006287059\n",
       "3   20/3  11,784  3,150      3,150  ...   9.71   22.84  24,86283,732  2486283732\n",
       "4   20/6  13,188  3,947      3,947  ...  10.46   21.60  23,38686,896  2338686896\n",
       "\n",
       "[5 rows x 28 columns]"
      ]
     },
     "execution_count": 18,
     "metadata": {
      "tags": []
     },
     "output_type": "execute_result"
    }
   ],
   "source": [
    "df['자산2'] = df['자산'].apply(toInt)\n",
    "\n",
    "df"
   ]
  },
  {
   "cell_type": "code",
   "execution_count": null,
   "metadata": {
    "colab": {
     "base_uri": "https://localhost:8080/",
     "height": 343
    },
    "id": "p8ewls492xHz",
    "outputId": "d9190f16-9735-4ad1-e361-ab67fa775015"
   },
   "outputs": [
    {
     "data": {
      "text/html": [
       "<div>\n",
       "<style scoped>\n",
       "    .dataframe tbody tr th:only-of-type {\n",
       "        vertical-align: middle;\n",
       "    }\n",
       "\n",
       "    .dataframe tbody tr th {\n",
       "        vertical-align: top;\n",
       "    }\n",
       "\n",
       "    .dataframe thead th {\n",
       "        text-align: right;\n",
       "    }\n",
       "</style>\n",
       "<table border=\"1\" class=\"dataframe\">\n",
       "  <thead>\n",
       "    <tr style=\"text-align: right;\">\n",
       "      <th></th>\n",
       "      <th>분기</th>\n",
       "      <th>매출액</th>\n",
       "      <th>영업이익</th>\n",
       "      <th>영업이익(발표기준)</th>\n",
       "      <th>세전계속사업이익</th>\n",
       "      <th>당기순이익</th>\n",
       "      <th>당기순이익(지배)</th>\n",
       "      <th>당기순이익(비지배)</th>\n",
       "      <th>자산총계</th>\n",
       "      <th>부채총계</th>\n",
       "      <th>자본총계</th>\n",
       "      <th>자본총계(지배)</th>\n",
       "      <th>자본총계(비지배)</th>\n",
       "      <th>자본금</th>\n",
       "      <th>영업활동현금흐름</th>\n",
       "      <th>투자활동현금흐름</th>\n",
       "      <th>재무활동현금흐름</th>\n",
       "      <th>영업이익률</th>\n",
       "      <th>순이익률</th>\n",
       "      <th>ROE(%)</th>\n",
       "      <th>ROA(%)</th>\n",
       "      <th>부채비율</th>\n",
       "      <th>자본유보율</th>\n",
       "      <th>EPS(원)</th>\n",
       "      <th>PER(배)</th>\n",
       "      <th>j-value</th>\n",
       "      <th>자산</th>\n",
       "      <th>자산2</th>\n",
       "    </tr>\n",
       "  </thead>\n",
       "  <tbody>\n",
       "    <tr>\n",
       "      <th>0</th>\n",
       "      <td>19/6</td>\n",
       "      <td>12,578</td>\n",
       "      <td>3,991</td>\n",
       "      <td>3,991</td>\n",
       "      <td>4,452</td>\n",
       "      <td>3,245</td>\n",
       "      <td>3,228</td>\n",
       "      <td>17</td>\n",
       "      <td>108,464</td>\n",
       "      <td>25940</td>\n",
       "      <td>82524</td>\n",
       "      <td>81,965</td>\n",
       "      <td>NaN</td>\n",
       "      <td>9,550</td>\n",
       "      <td>4,641</td>\n",
       "      <td>-1,878</td>\n",
       "      <td>-4,919</td>\n",
       "      <td>31.73</td>\n",
       "      <td>25.80</td>\n",
       "      <td>12.35</td>\n",
       "      <td>9.37</td>\n",
       "      <td>31.43</td>\n",
       "      <td>803.22</td>\n",
       "      <td>2,351</td>\n",
       "      <td>13.77</td>\n",
       "      <td>21.72</td>\n",
       "      <td>108464</td>\n",
       "      <td>2594082524</td>\n",
       "    </tr>\n",
       "    <tr>\n",
       "      <th>1</th>\n",
       "      <td>19/9</td>\n",
       "      <td>13,222</td>\n",
       "      <td>3,825</td>\n",
       "      <td>3,825</td>\n",
       "      <td>4,503</td>\n",
       "      <td>3,221</td>\n",
       "      <td>3,208</td>\n",
       "      <td>13</td>\n",
       "      <td>106,314</td>\n",
       "      <td>20691</td>\n",
       "      <td>85623</td>\n",
       "      <td>85,049</td>\n",
       "      <td>NaN</td>\n",
       "      <td>9,550</td>\n",
       "      <td>-2,278</td>\n",
       "      <td>-83</td>\n",
       "      <td>-329</td>\n",
       "      <td>28.93</td>\n",
       "      <td>24.36</td>\n",
       "      <td>12.67</td>\n",
       "      <td>9.95</td>\n",
       "      <td>24.17</td>\n",
       "      <td>836.86</td>\n",
       "      <td>2,337</td>\n",
       "      <td>13.87</td>\n",
       "      <td>22.62</td>\n",
       "      <td>106314</td>\n",
       "      <td>2069185623</td>\n",
       "    </tr>\n",
       "    <tr>\n",
       "      <th>2</th>\n",
       "      <td>19/12</td>\n",
       "      <td>11,982</td>\n",
       "      <td>2,523</td>\n",
       "      <td>2,523</td>\n",
       "      <td>1,794</td>\n",
       "      <td>1,183</td>\n",
       "      <td>1,198</td>\n",
       "      <td>-15</td>\n",
       "      <td>107,121</td>\n",
       "      <td>20062</td>\n",
       "      <td>87059</td>\n",
       "      <td>86,506</td>\n",
       "      <td>NaN</td>\n",
       "      <td>9,550</td>\n",
       "      <td>837</td>\n",
       "      <td>-501</td>\n",
       "      <td>-129</td>\n",
       "      <td>21.06</td>\n",
       "      <td>9.87</td>\n",
       "      <td>12.39</td>\n",
       "      <td>9.96</td>\n",
       "      <td>23.04</td>\n",
       "      <td>850.82</td>\n",
       "      <td>873</td>\n",
       "      <td>12.42</td>\n",
       "      <td>22.35</td>\n",
       "      <td>107121</td>\n",
       "      <td>2006287059</td>\n",
       "    </tr>\n",
       "    <tr>\n",
       "      <th>3</th>\n",
       "      <td>20/3</td>\n",
       "      <td>11,784</td>\n",
       "      <td>3,150</td>\n",
       "      <td>3,150</td>\n",
       "      <td>4,156</td>\n",
       "      <td>2,939</td>\n",
       "      <td>2,930</td>\n",
       "      <td>9</td>\n",
       "      <td>108,594</td>\n",
       "      <td>24862</td>\n",
       "      <td>83732</td>\n",
       "      <td>83,170</td>\n",
       "      <td>562.0</td>\n",
       "      <td>9,550</td>\n",
       "      <td>2,336</td>\n",
       "      <td>-1,392</td>\n",
       "      <td>-86</td>\n",
       "      <td>26.73</td>\n",
       "      <td>24.94</td>\n",
       "      <td>13.05</td>\n",
       "      <td>9.79</td>\n",
       "      <td>29.69</td>\n",
       "      <td>823.16</td>\n",
       "      <td>2,134</td>\n",
       "      <td>9.71</td>\n",
       "      <td>22.84</td>\n",
       "      <td>108594</td>\n",
       "      <td>2486283732</td>\n",
       "    </tr>\n",
       "    <tr>\n",
       "      <th>4</th>\n",
       "      <td>20/6</td>\n",
       "      <td>13,188</td>\n",
       "      <td>3,947</td>\n",
       "      <td>3,947</td>\n",
       "      <td>4,020</td>\n",
       "      <td>2,935</td>\n",
       "      <td>2,931</td>\n",
       "      <td>4</td>\n",
       "      <td>110,282</td>\n",
       "      <td>23386</td>\n",
       "      <td>86896</td>\n",
       "      <td>86,330</td>\n",
       "      <td>566.0</td>\n",
       "      <td>9,550</td>\n",
       "      <td>7,855</td>\n",
       "      <td>-214</td>\n",
       "      <td>-5,501</td>\n",
       "      <td>29.93</td>\n",
       "      <td>22.25</td>\n",
       "      <td>12.20</td>\n",
       "      <td>9.40</td>\n",
       "      <td>26.91</td>\n",
       "      <td>837.40</td>\n",
       "      <td>2,135</td>\n",
       "      <td>10.46</td>\n",
       "      <td>21.60</td>\n",
       "      <td>110282</td>\n",
       "      <td>2338686896</td>\n",
       "    </tr>\n",
       "  </tbody>\n",
       "</table>\n",
       "</div>"
      ],
      "text/plain": [
       "      분기     매출액   영업이익 영업이익(발표기준)  ... PER(배) j-value      자산         자산2\n",
       "0   19/6  12,578  3,991      3,991  ...  13.77   21.72  108464  2594082524\n",
       "1   19/9  13,222  3,825      3,825  ...  13.87   22.62  106314  2069185623\n",
       "2  19/12  11,982  2,523      2,523  ...  12.42   22.35  107121  2006287059\n",
       "3   20/3  11,784  3,150      3,150  ...   9.71   22.84  108594  2486283732\n",
       "4   20/6  13,188  3,947      3,947  ...  10.46   21.60  110282  2338686896\n",
       "\n",
       "[5 rows x 28 columns]"
      ]
     },
     "execution_count": 19,
     "metadata": {
      "tags": []
     },
     "output_type": "execute_result"
    }
   ],
   "source": [
    "df['부채총계'] = df['부채총계'].apply(toInt)\n",
    "df['자본총계'] = df['자본총계'].apply(toInt)\n",
    "\n",
    "df['자산'] = df['부채총계'] + df['자본총계']\n",
    "\n",
    "df"
   ]
  }
 ],
 "metadata": {
  "colab": {
   "collapsed_sections": [],
   "name": "n112-feature-engineering.ipynb의 사본",
   "provenance": []
  },
  "kernelspec": {
   "display_name": "Python 3",
   "language": "python",
   "name": "python3"
  },
  "language_info": {
   "codemirror_mode": {
    "name": "ipython",
    "version": 3
   },
   "file_extension": ".py",
   "mimetype": "text/x-python",
   "name": "python",
   "nbconvert_exporter": "python",
   "pygments_lexer": "ipython3",
   "version": "3.8.8"
  }
 },
 "nbformat": 4,
 "nbformat_minor": 4
}
