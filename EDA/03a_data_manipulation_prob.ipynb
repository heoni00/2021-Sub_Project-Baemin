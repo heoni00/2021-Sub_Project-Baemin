{
 "cells": [
  {
   "cell_type": "markdown",
   "metadata": {
    "id": "pmU5YUal1eTZ"
   },
   "source": [
    "\n",
    "\n",
    "## *SECTION 1 / SPRINT 1 / NOTE 3*\n",
    "\n",
    "# Assignment\n",
    "\n",
    "---\n",
    "\n",
    "## 1. Concat \n",
    "\n",
    "세션시간에 다뤘던 6개의 데이터를 1개로 합치세요.\n",
    "\n",
    "데이터를 불러오기 위하여 아래의 코드를 참조하세요.\n",
    "\n",
    "합쳐진 데이터의 이름은 `df`입니다.\n",
    "\n",
    "```python\n",
    "import pandas as pd\n",
    "\n",
    "urlhead = 'https://ds-lecture-data.s3.ap-northeast-2.amazonaws.com/stocks/'\n",
    "df1 = pd.read_csv(urlhead + '000080.csv') \n",
    "# '000890.csv'\n",
    "# '005300.csv'\n",
    "# '027740.csv'\n",
    "# '035810.csv'\n",
    "# '136480.csv'\n",
    "```\n",
    "\n",
    "\n",
    "\n",
    "단, 모든 feature, 모든 데이터에 대해서가 아닌\n",
    "\n",
    "- 매출액\n",
    "- 자산총계\n",
    "- EPS\n",
    "\n",
    "- 제일 최근 분기의 데이터\n",
    "\n",
    "에 대해서만 하면 됩니다.\n",
    "\n",
    "||매출액|자산총계|EPS(원)|종목명|\n",
    "|:-:|:-:|:-:|:-:|:-:|\n",
    "|2020/09|6,243|10,897|453|하이트진로|\n",
    "|...|...|...|...|...|\n",
    "|2020/09|2,613|2,695|62|하림|\n",
    "\n",
    "(첫부분은 값이 달라도 되며, 결과 shape는 6,4입니다.)\n",
    "\n",
    "힌트 : \n",
    "- 데이터를 transpose\n",
    "- column의 이름을 변경 및 설정\n",
    "- 데이터의 일부 feature 선택\n",
    "- `종목명`이라는 feature 지정\n",
    "- 이후 `concat`으로 합치기\n",
    "- 합친 이후의 index를 종목명으로 설정 및 drop\n",
    "\n",
    "이라는 단계를 거치면 될겁니다."
   ]
  },
  {
   "cell_type": "code",
   "execution_count": 25,
   "metadata": {},
   "outputs": [],
   "source": [
    "import pandas as pd\n",
    "\n",
    "urlhead = 'https://ds-lecture-data.s3.ap-northeast-2.amazonaws.com/stocks/'\n",
    "df1 = pd.read_csv(urlhead + '000080.csv') \n",
    "df2 = pd.read_csv(urlhead + '000890.csv') \n",
    "df3 = pd.read_csv(urlhead + '005300.csv') \n",
    "df4 = pd.read_csv(urlhead + '027740.csv') \n",
    "df5 = pd.read_csv(urlhead + '035810.csv') \n",
    "df6 = pd.read_csv(urlhead + '136480.csv') "
   ]
  },
  {
   "cell_type": "code",
   "execution_count": 26,
   "metadata": {},
   "outputs": [],
   "source": [
    "df_list = []\n",
    "\n",
    "\n",
    "for i in [df1, df2, df3, df4, df5, df6]:\n",
    "    i = i.T\n",
    "    i = i.rename(columns = i.iloc[0]).drop('Unnamed: 0', axis = 0)\n",
    "    \n",
    "    i = i.iloc[0:1][['매출액','자산총계','EPS(원)']]\n",
    "    \n",
    "    df_list.append(i)\n",
    "    \n",
    "df1 = df_list[0]\n",
    "df2 = df_list[1]\n",
    "df3 = df_list[2]\n",
    "df4 = df_list[3]\n",
    "df5 = df_list[4]\n",
    "df6 = df_list[5]    "
   ]
  },
  {
   "cell_type": "code",
   "execution_count": 27,
   "metadata": {},
   "outputs": [],
   "source": [
    "df = pd.concat([df1,df2,df3,df4,df5,df6], axis = 0)"
   ]
  },
  {
   "cell_type": "code",
   "execution_count": 28,
   "metadata": {},
   "outputs": [],
   "source": [
    "df['종목명'] = ['네이버','카카오','라인','쿠팡','당근마켓','토스']\n",
    "df = df.reset_index().set_index('종목명')\n",
    "df.drop('index', axis = 1, inplace = True)"
   ]
  },
  {
   "cell_type": "code",
   "execution_count": 31,
   "metadata": {},
   "outputs": [],
   "source": [
    "for i in ['매출액','자산총계','EPS(원)'] :\n",
    "    \n",
    "    df['{}'.format(i)] = df['{}'.format(i)].apply(lambda x : x.replace(',',''))\n",
    "    df['{}'.format(i)] = df['{}'.format(i)].astype(int)"
   ]
  },
  {
   "cell_type": "code",
   "execution_count": 32,
   "metadata": {},
   "outputs": [
    {
     "data": {
      "text/html": [
       "<div>\n",
       "<style scoped>\n",
       "    .dataframe tbody tr th:only-of-type {\n",
       "        vertical-align: middle;\n",
       "    }\n",
       "\n",
       "    .dataframe tbody tr th {\n",
       "        vertical-align: top;\n",
       "    }\n",
       "\n",
       "    .dataframe thead th {\n",
       "        text-align: right;\n",
       "    }\n",
       "</style>\n",
       "<table border=\"1\" class=\"dataframe\">\n",
       "  <thead>\n",
       "    <tr style=\"text-align: right;\">\n",
       "      <th></th>\n",
       "      <th>매출액</th>\n",
       "      <th>자산총계</th>\n",
       "      <th>EPS(원)</th>\n",
       "    </tr>\n",
       "    <tr>\n",
       "      <th>종목명</th>\n",
       "      <th></th>\n",
       "      <th></th>\n",
       "      <th></th>\n",
       "    </tr>\n",
       "  </thead>\n",
       "  <tbody>\n",
       "    <tr>\n",
       "      <th>네이버</th>\n",
       "      <td>5291</td>\n",
       "      <td>34061</td>\n",
       "      <td>363</td>\n",
       "    </tr>\n",
       "    <tr>\n",
       "      <th>카카오</th>\n",
       "      <td>196</td>\n",
       "      <td>1855</td>\n",
       "      <td>-2</td>\n",
       "    </tr>\n",
       "    <tr>\n",
       "      <th>라인</th>\n",
       "      <td>6775</td>\n",
       "      <td>36283</td>\n",
       "      <td>-5090</td>\n",
       "    </tr>\n",
       "    <tr>\n",
       "      <th>쿠팡</th>\n",
       "      <td>609</td>\n",
       "      <td>1990</td>\n",
       "      <td>-19</td>\n",
       "    </tr>\n",
       "    <tr>\n",
       "      <th>당근마켓</th>\n",
       "      <td>4071</td>\n",
       "      <td>17462</td>\n",
       "      <td>-16</td>\n",
       "    </tr>\n",
       "    <tr>\n",
       "      <th>토스</th>\n",
       "      <td>1968</td>\n",
       "      <td>8884</td>\n",
       "      <td>-376</td>\n",
       "    </tr>\n",
       "  </tbody>\n",
       "</table>\n",
       "</div>"
      ],
      "text/plain": [
       "       매출액   자산총계  EPS(원)\n",
       "종목명                      \n",
       "네이버   5291  34061     363\n",
       "카카오    196   1855      -2\n",
       "라인    6775  36283   -5090\n",
       "쿠팡     609   1990     -19\n",
       "당근마켓  4071  17462     -16\n",
       "토스    1968   8884    -376"
      ]
     },
     "execution_count": 32,
     "metadata": {},
     "output_type": "execute_result"
    }
   ],
   "source": [
    "df"
   ]
  },
  {
   "cell_type": "markdown",
   "metadata": {
    "id": "RsiWi4DuXPLP"
   },
   "source": [
    "## 2. Reshape \n",
    "\n",
    "방금 만든 데이터를 아래 예시와 같은 **tidy** 형태로 만드세요.\n",
    "\n",
    "이때 tidy 데이터의 이름은 `df_tidy` 입니다.\n",
    "\n",
    "|종목명|Feature|Value|\n",
    "|:-:|:-:|:-:|\n",
    "|하이트진로|매출액|6243|\n",
    "|보해양조|매출액|205|\n",
    "|롯데칠성|매출액|5980|\n",
    "|...|...|...|\n",
    "|마니커|EPS(원)|-61|\n",
    "|이지홀딩스|EPS(원)|1168|\n",
    "|하림|EPS(원)|62|\n",
    "\n",
    "이 후 아래의 코드를 정상적으로 실행했을때 나오는 box의 수를 `res`에 저장하세요.\n",
    "\n",
    "```python\n",
    "sns.boxplot(data = df_tidy, x = '종목명', y = 'value');\n",
    "```\n",
    "\n",
    "\n"
   ]
  },
  {
   "cell_type": "code",
   "execution_count": 33,
   "metadata": {
    "id": "gACCr67CoUv0"
   },
   "outputs": [],
   "source": [
    "df_tidy = df.reset_index()               #인덱스 따로 빼기 "
   ]
  },
  {
   "cell_type": "code",
   "execution_count": 34,
   "metadata": {},
   "outputs": [
    {
     "data": {
      "text/html": [
       "<div>\n",
       "<style scoped>\n",
       "    .dataframe tbody tr th:only-of-type {\n",
       "        vertical-align: middle;\n",
       "    }\n",
       "\n",
       "    .dataframe tbody tr th {\n",
       "        vertical-align: top;\n",
       "    }\n",
       "\n",
       "    .dataframe thead th {\n",
       "        text-align: right;\n",
       "    }\n",
       "</style>\n",
       "<table border=\"1\" class=\"dataframe\">\n",
       "  <thead>\n",
       "    <tr style=\"text-align: right;\">\n",
       "      <th></th>\n",
       "      <th>종목명</th>\n",
       "      <th>variable</th>\n",
       "      <th>value</th>\n",
       "    </tr>\n",
       "  </thead>\n",
       "  <tbody>\n",
       "    <tr>\n",
       "      <th>0</th>\n",
       "      <td>네이버</td>\n",
       "      <td>매출액</td>\n",
       "      <td>5291</td>\n",
       "    </tr>\n",
       "    <tr>\n",
       "      <th>1</th>\n",
       "      <td>카카오</td>\n",
       "      <td>매출액</td>\n",
       "      <td>196</td>\n",
       "    </tr>\n",
       "    <tr>\n",
       "      <th>2</th>\n",
       "      <td>라인</td>\n",
       "      <td>매출액</td>\n",
       "      <td>6775</td>\n",
       "    </tr>\n",
       "    <tr>\n",
       "      <th>3</th>\n",
       "      <td>쿠팡</td>\n",
       "      <td>매출액</td>\n",
       "      <td>609</td>\n",
       "    </tr>\n",
       "    <tr>\n",
       "      <th>4</th>\n",
       "      <td>당근마켓</td>\n",
       "      <td>매출액</td>\n",
       "      <td>4071</td>\n",
       "    </tr>\n",
       "    <tr>\n",
       "      <th>5</th>\n",
       "      <td>토스</td>\n",
       "      <td>매출액</td>\n",
       "      <td>1968</td>\n",
       "    </tr>\n",
       "    <tr>\n",
       "      <th>6</th>\n",
       "      <td>네이버</td>\n",
       "      <td>자산총계</td>\n",
       "      <td>34061</td>\n",
       "    </tr>\n",
       "    <tr>\n",
       "      <th>7</th>\n",
       "      <td>카카오</td>\n",
       "      <td>자산총계</td>\n",
       "      <td>1855</td>\n",
       "    </tr>\n",
       "    <tr>\n",
       "      <th>8</th>\n",
       "      <td>라인</td>\n",
       "      <td>자산총계</td>\n",
       "      <td>36283</td>\n",
       "    </tr>\n",
       "    <tr>\n",
       "      <th>9</th>\n",
       "      <td>쿠팡</td>\n",
       "      <td>자산총계</td>\n",
       "      <td>1990</td>\n",
       "    </tr>\n",
       "    <tr>\n",
       "      <th>10</th>\n",
       "      <td>당근마켓</td>\n",
       "      <td>자산총계</td>\n",
       "      <td>17462</td>\n",
       "    </tr>\n",
       "    <tr>\n",
       "      <th>11</th>\n",
       "      <td>토스</td>\n",
       "      <td>자산총계</td>\n",
       "      <td>8884</td>\n",
       "    </tr>\n",
       "    <tr>\n",
       "      <th>12</th>\n",
       "      <td>네이버</td>\n",
       "      <td>EPS(원)</td>\n",
       "      <td>363</td>\n",
       "    </tr>\n",
       "    <tr>\n",
       "      <th>13</th>\n",
       "      <td>카카오</td>\n",
       "      <td>EPS(원)</td>\n",
       "      <td>-2</td>\n",
       "    </tr>\n",
       "    <tr>\n",
       "      <th>14</th>\n",
       "      <td>라인</td>\n",
       "      <td>EPS(원)</td>\n",
       "      <td>-5090</td>\n",
       "    </tr>\n",
       "    <tr>\n",
       "      <th>15</th>\n",
       "      <td>쿠팡</td>\n",
       "      <td>EPS(원)</td>\n",
       "      <td>-19</td>\n",
       "    </tr>\n",
       "    <tr>\n",
       "      <th>16</th>\n",
       "      <td>당근마켓</td>\n",
       "      <td>EPS(원)</td>\n",
       "      <td>-16</td>\n",
       "    </tr>\n",
       "    <tr>\n",
       "      <th>17</th>\n",
       "      <td>토스</td>\n",
       "      <td>EPS(원)</td>\n",
       "      <td>-376</td>\n",
       "    </tr>\n",
       "  </tbody>\n",
       "</table>\n",
       "</div>"
      ],
      "text/plain": [
       "     종목명 variable  value\n",
       "0    네이버      매출액   5291\n",
       "1    카카오      매출액    196\n",
       "2     라인      매출액   6775\n",
       "3     쿠팡      매출액    609\n",
       "4   당근마켓      매출액   4071\n",
       "5     토스      매출액   1968\n",
       "6    네이버     자산총계  34061\n",
       "7    카카오     자산총계   1855\n",
       "8     라인     자산총계  36283\n",
       "9     쿠팡     자산총계   1990\n",
       "10  당근마켓     자산총계  17462\n",
       "11    토스     자산총계   8884\n",
       "12   네이버   EPS(원)    363\n",
       "13   카카오   EPS(원)     -2\n",
       "14    라인   EPS(원)  -5090\n",
       "15    쿠팡   EPS(원)    -19\n",
       "16  당근마켓   EPS(원)    -16\n",
       "17    토스   EPS(원)   -376"
      ]
     },
     "execution_count": 34,
     "metadata": {},
     "output_type": "execute_result"
    }
   ],
   "source": [
    "df_tidy = df_tidy.melt(id_vars = '종목명', value_vars = ['매출액','자산총계','EPS(원)'])\n",
    "df_tidy"
   ]
  },
  {
   "cell_type": "markdown",
   "metadata": {},
   "source": [
    "### Tidy 표 만들기 & 되돌리기\n",
    "\n",
    "방법 1 (Wide -> Tidy)\n",
    "\n",
    "``` python\n",
    "\n",
    "df = df.reset_index() # 인덱스를 빼서 칼럼으로 만들기 \n",
    "df.melt(id_vars = '핵심 칼럼', value_vars = ['col1','col2']) # melt 함수를 이용해서 칼럼을 Tidy 자료형으로 바꾸기. \n",
    "\n",
    "```\n",
    "\n",
    "방법 2 (tidy -> Wide) #피벗테이블\n",
    "\n",
    "``` python\n",
    "wide = df.pivot_table(index = '핵심 칼럼', columns = 'column', values = 'value')\n",
    "wide\n",
    "```"
   ]
  },
  {
   "cell_type": "code",
   "execution_count": 43,
   "metadata": {
    "tags": []
   },
   "outputs": [
    {
     "data": {
      "text/plain": [
       "<AxesSubplot:xlabel='종목명', ylabel='value'>"
      ]
     },
     "execution_count": 43,
     "metadata": {},
     "output_type": "execute_result"
    },
    {
     "name": "stderr",
     "output_type": "stream",
     "text": [
      "C:\\Users\\Oldcar\\anaconda3\\envs\\py38r40\\lib\\site-packages\\matplotlib\\backends\\backend_agg.py:238: RuntimeWarning: Glyph 45348 missing from current font.\n",
      "  font.set_text(s, 0.0, flags=flags)\n",
      "C:\\Users\\Oldcar\\anaconda3\\envs\\py38r40\\lib\\site-packages\\matplotlib\\backends\\backend_agg.py:238: RuntimeWarning: Glyph 51060 missing from current font.\n",
      "  font.set_text(s, 0.0, flags=flags)\n",
      "C:\\Users\\Oldcar\\anaconda3\\envs\\py38r40\\lib\\site-packages\\matplotlib\\backends\\backend_agg.py:238: RuntimeWarning: Glyph 48260 missing from current font.\n",
      "  font.set_text(s, 0.0, flags=flags)\n",
      "C:\\Users\\Oldcar\\anaconda3\\envs\\py38r40\\lib\\site-packages\\matplotlib\\backends\\backend_agg.py:238: RuntimeWarning: Glyph 52852 missing from current font.\n",
      "  font.set_text(s, 0.0, flags=flags)\n",
      "C:\\Users\\Oldcar\\anaconda3\\envs\\py38r40\\lib\\site-packages\\matplotlib\\backends\\backend_agg.py:238: RuntimeWarning: Glyph 50724 missing from current font.\n",
      "  font.set_text(s, 0.0, flags=flags)\n",
      "C:\\Users\\Oldcar\\anaconda3\\envs\\py38r40\\lib\\site-packages\\matplotlib\\backends\\backend_agg.py:238: RuntimeWarning: Glyph 46972 missing from current font.\n",
      "  font.set_text(s, 0.0, flags=flags)\n",
      "C:\\Users\\Oldcar\\anaconda3\\envs\\py38r40\\lib\\site-packages\\matplotlib\\backends\\backend_agg.py:238: RuntimeWarning: Glyph 51064 missing from current font.\n",
      "  font.set_text(s, 0.0, flags=flags)\n",
      "C:\\Users\\Oldcar\\anaconda3\\envs\\py38r40\\lib\\site-packages\\matplotlib\\backends\\backend_agg.py:238: RuntimeWarning: Glyph 53216 missing from current font.\n",
      "  font.set_text(s, 0.0, flags=flags)\n",
      "C:\\Users\\Oldcar\\anaconda3\\envs\\py38r40\\lib\\site-packages\\matplotlib\\backends\\backend_agg.py:238: RuntimeWarning: Glyph 54049 missing from current font.\n",
      "  font.set_text(s, 0.0, flags=flags)\n",
      "C:\\Users\\Oldcar\\anaconda3\\envs\\py38r40\\lib\\site-packages\\matplotlib\\backends\\backend_agg.py:238: RuntimeWarning: Glyph 45817 missing from current font.\n",
      "  font.set_text(s, 0.0, flags=flags)\n",
      "C:\\Users\\Oldcar\\anaconda3\\envs\\py38r40\\lib\\site-packages\\matplotlib\\backends\\backend_agg.py:238: RuntimeWarning: Glyph 44540 missing from current font.\n",
      "  font.set_text(s, 0.0, flags=flags)\n",
      "C:\\Users\\Oldcar\\anaconda3\\envs\\py38r40\\lib\\site-packages\\matplotlib\\backends\\backend_agg.py:238: RuntimeWarning: Glyph 47560 missing from current font.\n",
      "  font.set_text(s, 0.0, flags=flags)\n",
      "C:\\Users\\Oldcar\\anaconda3\\envs\\py38r40\\lib\\site-packages\\matplotlib\\backends\\backend_agg.py:238: RuntimeWarning: Glyph 53011 missing from current font.\n",
      "  font.set_text(s, 0.0, flags=flags)\n",
      "C:\\Users\\Oldcar\\anaconda3\\envs\\py38r40\\lib\\site-packages\\matplotlib\\backends\\backend_agg.py:238: RuntimeWarning: Glyph 53664 missing from current font.\n",
      "  font.set_text(s, 0.0, flags=flags)\n",
      "C:\\Users\\Oldcar\\anaconda3\\envs\\py38r40\\lib\\site-packages\\matplotlib\\backends\\backend_agg.py:238: RuntimeWarning: Glyph 49828 missing from current font.\n",
      "  font.set_text(s, 0.0, flags=flags)\n",
      "C:\\Users\\Oldcar\\anaconda3\\envs\\py38r40\\lib\\site-packages\\matplotlib\\backends\\backend_agg.py:238: RuntimeWarning: Glyph 51333 missing from current font.\n",
      "  font.set_text(s, 0.0, flags=flags)\n",
      "C:\\Users\\Oldcar\\anaconda3\\envs\\py38r40\\lib\\site-packages\\matplotlib\\backends\\backend_agg.py:238: RuntimeWarning: Glyph 47785 missing from current font.\n",
      "  font.set_text(s, 0.0, flags=flags)\n",
      "C:\\Users\\Oldcar\\anaconda3\\envs\\py38r40\\lib\\site-packages\\matplotlib\\backends\\backend_agg.py:238: RuntimeWarning: Glyph 47749 missing from current font.\n",
      "  font.set_text(s, 0.0, flags=flags)\n",
      "C:\\Users\\Oldcar\\anaconda3\\envs\\py38r40\\lib\\site-packages\\matplotlib\\backends\\backend_agg.py:201: RuntimeWarning: Glyph 45348 missing from current font.\n",
      "  font.set_text(s, 0, flags=flags)\n",
      "C:\\Users\\Oldcar\\anaconda3\\envs\\py38r40\\lib\\site-packages\\matplotlib\\backends\\backend_agg.py:201: RuntimeWarning: Glyph 51060 missing from current font.\n",
      "  font.set_text(s, 0, flags=flags)\n",
      "C:\\Users\\Oldcar\\anaconda3\\envs\\py38r40\\lib\\site-packages\\matplotlib\\backends\\backend_agg.py:201: RuntimeWarning: Glyph 48260 missing from current font.\n",
      "  font.set_text(s, 0, flags=flags)\n",
      "C:\\Users\\Oldcar\\anaconda3\\envs\\py38r40\\lib\\site-packages\\matplotlib\\backends\\backend_agg.py:201: RuntimeWarning: Glyph 52852 missing from current font.\n",
      "  font.set_text(s, 0, flags=flags)\n",
      "C:\\Users\\Oldcar\\anaconda3\\envs\\py38r40\\lib\\site-packages\\matplotlib\\backends\\backend_agg.py:201: RuntimeWarning: Glyph 50724 missing from current font.\n",
      "  font.set_text(s, 0, flags=flags)\n",
      "C:\\Users\\Oldcar\\anaconda3\\envs\\py38r40\\lib\\site-packages\\matplotlib\\backends\\backend_agg.py:201: RuntimeWarning: Glyph 46972 missing from current font.\n",
      "  font.set_text(s, 0, flags=flags)\n",
      "C:\\Users\\Oldcar\\anaconda3\\envs\\py38r40\\lib\\site-packages\\matplotlib\\backends\\backend_agg.py:201: RuntimeWarning: Glyph 51064 missing from current font.\n",
      "  font.set_text(s, 0, flags=flags)\n",
      "C:\\Users\\Oldcar\\anaconda3\\envs\\py38r40\\lib\\site-packages\\matplotlib\\backends\\backend_agg.py:201: RuntimeWarning: Glyph 53216 missing from current font.\n",
      "  font.set_text(s, 0, flags=flags)\n",
      "C:\\Users\\Oldcar\\anaconda3\\envs\\py38r40\\lib\\site-packages\\matplotlib\\backends\\backend_agg.py:201: RuntimeWarning: Glyph 54049 missing from current font.\n",
      "  font.set_text(s, 0, flags=flags)\n",
      "C:\\Users\\Oldcar\\anaconda3\\envs\\py38r40\\lib\\site-packages\\matplotlib\\backends\\backend_agg.py:201: RuntimeWarning: Glyph 45817 missing from current font.\n",
      "  font.set_text(s, 0, flags=flags)\n",
      "C:\\Users\\Oldcar\\anaconda3\\envs\\py38r40\\lib\\site-packages\\matplotlib\\backends\\backend_agg.py:201: RuntimeWarning: Glyph 44540 missing from current font.\n",
      "  font.set_text(s, 0, flags=flags)\n",
      "C:\\Users\\Oldcar\\anaconda3\\envs\\py38r40\\lib\\site-packages\\matplotlib\\backends\\backend_agg.py:201: RuntimeWarning: Glyph 47560 missing from current font.\n",
      "  font.set_text(s, 0, flags=flags)\n",
      "C:\\Users\\Oldcar\\anaconda3\\envs\\py38r40\\lib\\site-packages\\matplotlib\\backends\\backend_agg.py:201: RuntimeWarning: Glyph 53011 missing from current font.\n",
      "  font.set_text(s, 0, flags=flags)\n",
      "C:\\Users\\Oldcar\\anaconda3\\envs\\py38r40\\lib\\site-packages\\matplotlib\\backends\\backend_agg.py:201: RuntimeWarning: Glyph 53664 missing from current font.\n",
      "  font.set_text(s, 0, flags=flags)\n",
      "C:\\Users\\Oldcar\\anaconda3\\envs\\py38r40\\lib\\site-packages\\matplotlib\\backends\\backend_agg.py:201: RuntimeWarning: Glyph 49828 missing from current font.\n",
      "  font.set_text(s, 0, flags=flags)\n",
      "C:\\Users\\Oldcar\\anaconda3\\envs\\py38r40\\lib\\site-packages\\matplotlib\\backends\\backend_agg.py:201: RuntimeWarning: Glyph 51333 missing from current font.\n",
      "  font.set_text(s, 0, flags=flags)\n",
      "C:\\Users\\Oldcar\\anaconda3\\envs\\py38r40\\lib\\site-packages\\matplotlib\\backends\\backend_agg.py:201: RuntimeWarning: Glyph 47785 missing from current font.\n",
      "  font.set_text(s, 0, flags=flags)\n",
      "C:\\Users\\Oldcar\\anaconda3\\envs\\py38r40\\lib\\site-packages\\matplotlib\\backends\\backend_agg.py:201: RuntimeWarning: Glyph 47749 missing from current font.\n",
      "  font.set_text(s, 0, flags=flags)\n"
     ]
    },
    {
     "data": {
      "image/png": "[encoded data removed]",
      "text/plain": [
       "<Figure size 432x288 with 1 Axes>"
      ]
     },
     "metadata": {
      "needs_background": "light"
     },
     "output_type": "display_data"
    }
   ],
   "source": [
    "import seaborn as sns\n",
    "\n",
    "sns.boxplot(data = df_tidy, x = '종목명', y = 'value')"
   ]
  },
  {
   "cell_type": "code",
   "execution_count": 47,
   "metadata": {},
   "outputs": [
    {
     "data": {
      "text/plain": [
       "18"
      ]
     },
     "execution_count": 47,
     "metadata": {},
     "output_type": "execute_result"
    }
   ],
   "source": [
    "res = len(df_tidy.종목명)\n",
    "res"
   ]
  },
  {
   "cell_type": "markdown",
   "metadata": {
    "id": "8Yscu0NtMmRM"
   },
   "source": [
    "## 3. Merge & Join +\n",
    "\n",
    "pandas merge의 options중 how 에는 여러가지 옵션들이 있습니다.\n",
    "\n",
    "공식 레퍼런스를 검색, 참조하여\n",
    "\n",
    "아래 코드를 바탕으로 \n",
    "\n",
    "다음과 같은 결과물을 만드는 코드를 작성하세요\n",
    "\n",
    "변수의 이름은 `df2` 입니다.\n",
    "\n",
    "|key1|key2|A|B|C|D|\n",
    "|:-:|:-:|:-:|:-:|:-:|:-:|\n",
    "|K0|K0|A0|B0|C0|D0|\n",
    "|K0|K1|A1|B1|NaN|NaN|\n",
    "|K1|K0|A2|B2|C1|D1|\n",
    "|K1|K0|A2|B2|C2|D2|\n",
    "|K2|K1|A3|B3|NaN|NaN|\n",
    "\n",
    "\n",
    "\n"
   ]
  },
  {
   "cell_type": "code",
   "execution_count": 48,
   "metadata": {
    "id": "DlrGYjByMvn6"
   },
   "outputs": [],
   "source": [
    "import pandas as pd\n",
    "\n",
    "left = pd.DataFrame({'key1': ['K0', 'K0', 'K1', 'K2'],\n",
    "                     'key2': ['K0', 'K1', 'K0', 'K1'],\n",
    "                     'A': ['A0', 'A1', 'A2', 'A3'],\n",
    "                     'B': ['B0', 'B1', 'B2', 'B3']})\n",
    "\n",
    "right = pd.DataFrame({'key1': ['K0', 'K1', 'K1', 'K2'],\n",
    "                      'key2': ['K0', 'K0', 'K0', 'K0'],\n",
    "                      'C': ['C0', 'C1', 'C2', 'C3'],\n",
    "                      'D': ['D0', 'D1', 'D2', 'D3']})"
   ]
  },
  {
   "cell_type": "code",
   "execution_count": 58,
   "metadata": {},
   "outputs": [
    {
     "name": "stdout",
     "output_type": "stream",
     "text": [
      "  key1 key2   A   B\n",
      "0   K0   K0  A0  B0\n",
      "1   K0   K1  A1  B1\n",
      "2   K1   K0  A2  B2\n",
      "3   K2   K1  A3  B3\n",
      "  key1 key2   C   D\n",
      "0   K0   K0  C0  D0\n",
      "1   K1   K0  C1  D1\n",
      "2   K1   K0  C2  D2\n",
      "3   K2   K0  C3  D3\n"
     ]
    }
   ],
   "source": [
    "print(left)\n",
    "print(right)"
   ]
  },
  {
   "cell_type": "code",
   "execution_count": 57,
   "metadata": {},
   "outputs": [
    {
     "data": {
      "text/html": [
       "<div>\n",
       "<style scoped>\n",
       "    .dataframe tbody tr th:only-of-type {\n",
       "        vertical-align: middle;\n",
       "    }\n",
       "\n",
       "    .dataframe tbody tr th {\n",
       "        vertical-align: top;\n",
       "    }\n",
       "\n",
       "    .dataframe thead th {\n",
       "        text-align: right;\n",
       "    }\n",
       "</style>\n",
       "<table border=\"1\" class=\"dataframe\">\n",
       "  <thead>\n",
       "    <tr style=\"text-align: right;\">\n",
       "      <th></th>\n",
       "      <th>key1</th>\n",
       "      <th>key2</th>\n",
       "      <th>A</th>\n",
       "      <th>B</th>\n",
       "      <th>C</th>\n",
       "      <th>D</th>\n",
       "    </tr>\n",
       "  </thead>\n",
       "  <tbody>\n",
       "    <tr>\n",
       "      <th>0</th>\n",
       "      <td>K0</td>\n",
       "      <td>K0</td>\n",
       "      <td>A0</td>\n",
       "      <td>B0</td>\n",
       "      <td>C0</td>\n",
       "      <td>D0</td>\n",
       "    </tr>\n",
       "    <tr>\n",
       "      <th>1</th>\n",
       "      <td>K0</td>\n",
       "      <td>K1</td>\n",
       "      <td>A1</td>\n",
       "      <td>B1</td>\n",
       "      <td>NaN</td>\n",
       "      <td>NaN</td>\n",
       "    </tr>\n",
       "    <tr>\n",
       "      <th>2</th>\n",
       "      <td>K1</td>\n",
       "      <td>K0</td>\n",
       "      <td>A2</td>\n",
       "      <td>B2</td>\n",
       "      <td>C1</td>\n",
       "      <td>D1</td>\n",
       "    </tr>\n",
       "    <tr>\n",
       "      <th>3</th>\n",
       "      <td>K1</td>\n",
       "      <td>K0</td>\n",
       "      <td>A2</td>\n",
       "      <td>B2</td>\n",
       "      <td>C2</td>\n",
       "      <td>D2</td>\n",
       "    </tr>\n",
       "    <tr>\n",
       "      <th>4</th>\n",
       "      <td>K2</td>\n",
       "      <td>K1</td>\n",
       "      <td>A3</td>\n",
       "      <td>B3</td>\n",
       "      <td>NaN</td>\n",
       "      <td>NaN</td>\n",
       "    </tr>\n",
       "  </tbody>\n",
       "</table>\n",
       "</div>"
      ],
      "text/plain": [
       "  key1 key2   A   B    C    D\n",
       "0   K0   K0  A0  B0   C0   D0\n",
       "1   K0   K1  A1  B1  NaN  NaN\n",
       "2   K1   K0  A2  B2   C1   D1\n",
       "3   K1   K0  A2  B2   C2   D2\n",
       "4   K2   K1  A3  B3  NaN  NaN"
      ]
     },
     "execution_count": 57,
     "metadata": {},
     "output_type": "execute_result"
    }
   ],
   "source": [
    "df2 = pd.merge(left,right, how = 'left', on = ['key1', 'key2'])\n",
    "df2"
   ]
  },
  {
   "cell_type": "markdown",
   "metadata": {},
   "source": [
    "### merge() 함수\n",
    "\n",
    "`-` 데이터 프레임들을 합치는 함수이다. \n",
    "`-` 단순히 프레임을 붙이는게 아니라 인덱스 혹은 지정 컬럼의 값들을 겹치게 병합해준다. \n",
    "\n",
    "``` python\n",
    "pd.merge(df1, df2, how ='left', 'right', 'inner', 'outer', on = '속성명')\n",
    "\n",
    "```\n",
    "\n",
    "how에 따라 병합되는것이 다름 "
   ]
  },
  {
   "cell_type": "markdown",
   "metadata": {
    "id": "mnOuqL9K0dqh"
   },
   "source": [
    "## 🔥 도전과제"
   ]
  },
  {
   "cell_type": "markdown",
   "metadata": {
    "id": "GboSqR1qRoTO"
   },
   "source": [
    "아래 링크들을 참조하여, \n",
    "특정 테마별로 포함되어 있는 종목의 데이터를 직접 csv형태로 수집하고 (아래 적힌 3개씩)\n",
    "\n",
    "<https://finance.naver.com/sise/sise_group_detail.nhn?type=theme&no=408>\n",
    "\n",
    "<https://finance.naver.com/sise/sise_group_detail.nhn?type=theme&no=36>\n",
    "\n",
    "- 최종 분기에 해당하는 데이터\n",
    "\n",
    "- 테마별 평균 데이터를 결과물로 만드는 코드를 작성하세요.\n",
    "\n",
    "단, 모든 feature에 대해서가 아닌\n",
    "\n",
    "- 매출액\n",
    "- 자본총계\n",
    "- EPS\n",
    "\n",
    "에 대해서만 하면 됩니다.\n",
    "\n",
    "|종목명|매출액|자본총계|EPS|\n",
    "|:-:|:-:|:-:|:-:|\n",
    "|대한해운|...|...|...|...|\n",
    "|팬오션|...|...|...|...|\n",
    "|KSS해운|...|...|...|...|\n",
    "|세미콘라이트|...|...|...|...|\n",
    "|오성첨단소재|...|...|...|...|\n",
    "|에이아이비트|...|...|...|...|\n",
    "\n",
    "---\n",
    "\n",
    "|테마|매출액|자본총계|EPS|\n",
    "|:-:|:-:|:-:|:-:|\n",
    "|해운|...|...|...|\n",
    "|마리화나(대마)|...|...|...|\n",
    "\n",
    "이후 아래의 예시 처럼 seaborn을 사용하여 결과를 barplot으로 시각화하세요.\n",
    "\n",
    "단, 한글이 깨지는 에러를 여러분이 직접 고쳐야합니다."
   ]
  },
  {
   "cell_type": "code",
   "execution_count": null,
   "metadata": {
    "id": "B-QNMrVkYap4"
   },
   "outputs": [],
   "source": [
    "# 예시\n",
    "import pandas as pd\n",
    "import seaborn as sns\n",
    "\n",
    "dat = pd.DataFrame({\n",
    "    'name' : ['해운', '대마'],\n",
    "    'value' : [10000,5000]\n",
    "})"
   ]
  },
  {
   "cell_type": "code",
   "execution_count": null,
   "metadata": {
    "colab": {
     "base_uri": "https://localhost:8080/",
     "height": 551
    },
    "id": "gAqW4e88Uw6W",
    "outputId": "42d5e94e-6501-4987-c742-e444cdd70622"
   },
   "outputs": [
    {
     "name": "stderr",
     "output_type": "stream",
     "text": [
      "/Users/jeongminhan/opt/anaconda3/lib/python3.8/site-packages/matplotlib/backends/backend_agg.py:238: RuntimeWarning: Glyph 54644 missing from current font.\n",
      "  font.set_text(s, 0.0, flags=flags)\n",
      "/Users/jeongminhan/opt/anaconda3/lib/python3.8/site-packages/matplotlib/backends/backend_agg.py:238: RuntimeWarning: Glyph 50868 missing from current font.\n",
      "  font.set_text(s, 0.0, flags=flags)\n",
      "/Users/jeongminhan/opt/anaconda3/lib/python3.8/site-packages/matplotlib/backends/backend_agg.py:238: RuntimeWarning: Glyph 45824 missing from current font.\n",
      "  font.set_text(s, 0.0, flags=flags)\n",
      "/Users/jeongminhan/opt/anaconda3/lib/python3.8/site-packages/matplotlib/backends/backend_agg.py:238: RuntimeWarning: Glyph 47560 missing from current font.\n",
      "  font.set_text(s, 0.0, flags=flags)\n",
      "/Users/jeongminhan/opt/anaconda3/lib/python3.8/site-packages/matplotlib/backends/backend_agg.py:201: RuntimeWarning: Glyph 54644 missing from current font.\n",
      "  font.set_text(s, 0, flags=flags)\n",
      "/Users/jeongminhan/opt/anaconda3/lib/python3.8/site-packages/matplotlib/backends/backend_agg.py:201: RuntimeWarning: Glyph 50868 missing from current font.\n",
      "  font.set_text(s, 0, flags=flags)\n",
      "/Users/jeongminhan/opt/anaconda3/lib/python3.8/site-packages/matplotlib/backends/backend_agg.py:201: RuntimeWarning: Glyph 45824 missing from current font.\n",
      "  font.set_text(s, 0, flags=flags)\n",
      "/Users/jeongminhan/opt/anaconda3/lib/python3.8/site-packages/matplotlib/backends/backend_agg.py:201: RuntimeWarning: Glyph 47560 missing from current font.\n",
      "  font.set_text(s, 0, flags=flags)\n"
     ]
    },
    {
     "data": {
      "image/png": "[encoded data removed]",
      "text/plain": [
       "<Figure size 432x288 with 1 Axes>"
      ]
     },
     "metadata": {
      "needs_background": "light",
      "tags": []
     },
     "output_type": "display_data"
    }
   ],
   "source": [
    "sns.barplot(x = 'name', y = 'value', data = dat);"
   ]
  },
  {
   "cell_type": "code",
   "execution_count": null,
   "metadata": {
    "id": "oQAQ30DkY1DA"
   },
   "outputs": [],
   "source": [
    "# 한글 폰트 문제 해결 \n",
    "\n",
    "from matplotlib import font_manager, rc\n",
    "plt.rcParams['axes.unicode_minus']=False\n",
    "path='c:/Windows/Fonts/malgun.ttf'\n",
    "font_name=font_manager.FontProperties(fname=path).get_name()\n",
    "rc('font',family=font_name)"
   ]
  }
 ],
 "metadata": {
  "colab": {
   "collapsed_sections": [],
   "name": "n113a_data-manipulation.ipynb의 사본",
   "provenance": []
  },
  "kernelspec": {
   "display_name": "Python 3",
   "language": "python",
   "name": "python3"
  },
  "language_info": {
   "codemirror_mode": {
    "name": "ipython",
    "version": 3
   },
   "file_extension": ".py",
   "mimetype": "text/x-python",
   "name": "python",
   "nbconvert_exporter": "python",
   "pygments_lexer": "ipython3",
   "version": "3.8.8"
  }
 },
 "nbformat": 4,
 "nbformat_minor": 4
}
