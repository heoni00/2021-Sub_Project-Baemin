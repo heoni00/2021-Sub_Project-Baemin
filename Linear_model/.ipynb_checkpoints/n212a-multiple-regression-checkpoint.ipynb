{
 "cells": [
  {
   "cell_type": "markdown",
   "metadata": {
    "id": "X0WGDR0WZHKC"
   },
   "source": [
    "## *SECTION 2 / SPRINT 1 / NOTE 2*\n",
    "\n",
    "# Assignment\n",
    "---"
   ]
  },
  {
   "cell_type": "markdown",
   "metadata": {
    "id": "7IXUfiQ2UKj6"
   },
   "source": [
    "# 다중선형회귀(Multiple Linear Regression)\n",
    "\n",
    "이번 과제에서도 n211 과제 에서 다루었던 housing price dataset을 가지고 배운 내용을 연습해 보겠습니다.\n",
    "다음 링크에서 다운로드 받아 사용해 주세요. [House Sales in King County, USA](https://www.kaggle.com/harlfoxem/housesalesprediction)"
   ]
  },
  {
   "cell_type": "code",
   "execution_count": null,
   "metadata": {
    "id": "wC-H_9OgZHKH"
   },
   "outputs": [],
   "source": [
    "# 데이터는 캐글에서 받으셔도 되고 이 링크에서 불러와도 됩니다.\n",
    "import pandas as pd\n",
    "df = pd.read_csv('https://ds-lecture-data.s3.ap-northeast-2.amazonaws.com/kc_house_data/kc_house_data.csv')\n"
   ]
  },
  {
   "cell_type": "code",
   "execution_count": null,
   "metadata": {
    "id": "_al9XZ0LZHKI"
   },
   "outputs": [],
   "source": [
    "df.columns"
   ]
  },
  {
   "cell_type": "markdown",
   "metadata": {
    "id": "ZPZW-Cx7ZHKI"
   },
   "source": [
    "### 1) 데이터는 May 2014 ~ May 2015 의 2년치 데이터입니다. 2015-01-01 부터 큰 날짜의 데이터는 테스트, 그 이외의 데이터는 훈련 데이터셋으로 나누어 주세요\n",
    "- **훈련데이터 샘플의 갯수를 과제 제출폼에 제출하세요.**"
   ]
  },
  {
   "cell_type": "code",
   "execution_count": null,
   "metadata": {
    "id": "dUlxT_XQZHKJ"
   },
   "outputs": [],
   "source": [
    "### 이곳에서 과제를 진행해 주세요 ###"
   ]
  },
  {
   "cell_type": "markdown",
   "metadata": {
    "id": "QR86fWoxZHKJ"
   },
   "source": [
    "### 2) 두 특성(bathrooms, sqft_living)을 사용해서 다중선형회귀 모델을 만들어 보세요\n",
    "- 학습시 Parameters는 모두 기본값으로 합니다.\n",
    "- **테스트세트의 MAE 값을 과제 제출폼에 제출하세요.**"
   ]
  },
  {
   "cell_type": "code",
   "execution_count": null,
   "metadata": {
    "id": "KS68AxhwZHKK"
   },
   "outputs": [],
   "source": [
    "### 이곳에서 과제를 진행해 주세요 ###"
   ]
  },
  {
   "cell_type": "markdown",
   "metadata": {
    "id": "MTTKMHBAZHKK"
   },
   "source": [
    "### 3) 모델의 회귀계수(coefficients)와 절편(intercept)을 확인해 보세요.\n",
    "- **sqft_living의 회귀계수를 과제 제출폼에 제출하세요.**"
   ]
  },
  {
   "cell_type": "code",
   "execution_count": null,
   "metadata": {
    "id": "4CXSuhsvZHKL"
   },
   "outputs": [],
   "source": [
    "### 이곳에서 과제를 진행해 주세요 "
   ]
  },
  {
   "cell_type": "markdown",
   "metadata": {
    "id": "o9aYbkZNZHKL"
   },
   "source": [
    "### 4) MSE, RMSE, MAE, $R^2$ 를 훈련/테스트 데이터에 대해 확인해 보세요\n",
    "- **테스트 데이터에 대한 R^2 값을 과제 제출폼에 제출하세요.**"
   ]
  },
  {
   "cell_type": "code",
   "execution_count": null,
   "metadata": {
    "id": "DvW9QHCnZHKM"
   },
   "outputs": [],
   "source": [
    "### 이곳에서 과제를 진행해 주세요 ###"
   ]
  },
  {
   "cell_type": "markdown",
   "metadata": {
    "id": "td1z_8AqZHKM"
   },
   "source": [
    "## 🔥도전과제"
   ]
  },
  {
   "cell_type": "markdown",
   "metadata": {
    "id": "FGeYx3DvZHKM"
   },
   "source": [
    "### 5) 두가지 이상 특성을 선택하여 특성공학(feature engineering)을 진행합니다. (kaggle notebook을 참고하여 중요한 특성을 고르는 것이 힌트입니다.)\n",
    "- EDA를 자세히 진행하세요\n",
    "- 특성공학 과정을 자세히 기술하세요\n",
    "- 특성공학을 거친 특성을 포함해 다수의 특성을 사용한 모델을 학습하고 테스트 데이터에 대해 MSE, RMSE, MAE, R2 스코어를 계산하고 분석하세요\n",
    "- 만들어진 회귀계수를 사용해 모델을 설명하세요.\n",
    "- 모델이 과적합인지/과소적합인지 설명하세요.\n",
    "- 메신저 general 채널에서 4개 스코어를 제시하고 본인이 고른 특성, 특성공학 방법 등을 간략하게 공유하세요"
   ]
  },
  {
   "cell_type": "code",
   "execution_count": null,
   "metadata": {
    "id": "pFFEr092ZHKN"
   },
   "outputs": [],
   "source": [
    "### 이곳에서 과제를 진행해 주세요 ###"
   ]
  },
  {
   "cell_type": "markdown",
   "metadata": {
    "id": "npCNDtMrZHKN"
   },
   "source": [
    "## 참고자료\n",
    "* [Feature Engineering](https://en.wikipedia.org/wiki/Feature_engineering)\n",
    "* [\"A Few Useful Things to Know about Machine Learning\"](https://homes.cs.washington.edu/~pedrod/papers/cacm12.pdf)\n",
    "* [Machine Learning and AI via Brain simulations](https://forum.stanford.edu/events/2011/2011slides/plenary/2011plenaryNg.pdf)\n",
    "* [_An Introduction to Statistical Learning_](http://faculty.marshall.usc.edu/gareth-james/ISL/ISLR%20Seventh%20Printing.pdf),  Chapter 3.1, Simple Linear Regression, & Chapter 3.2, Multiple Linear Regression\n",
    "* [Brandon Foltz, Statistics 101: Simple Linear Regression](https://www.youtube.com/watch?v=ZkjP5RJLQF4)"
   ]
  }
 ],
 "metadata": {
  "colab": {
   "name": "n212a-multiple-regression.ipynb의 사본",
   "provenance": [
    {
     "file_id": "https://github.com/codestates/ds-section2-sprint1/blob/main/n212-multiple-regression/n212a-multiple-regression.ipynb",
     "timestamp": 1626792565895
    }
   ]
  },
  "kernelspec": {
   "display_name": "Python 3",
   "language": "python",
   "name": "python3"
  },
  "language_info": {
   "codemirror_mode": {
    "name": "ipython",
    "version": 3
   },
   "file_extension": ".py",
   "mimetype": "text/x-python",
   "name": "python",
   "nbconvert_exporter": "python",
   "pygments_lexer": "ipython3",
   "version": "3.8.8"
  }
 },
 "nbformat": 4,
 "nbformat_minor": 4
}
