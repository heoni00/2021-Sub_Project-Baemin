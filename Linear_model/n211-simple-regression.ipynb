{
 "cells": [
  {
   "cell_type": "markdown",
   "metadata": {
    "id": "W_iPwfjsWulf"
   },
   "source": [
    "\n",
    "\n",
    "## *SECTION 2 / SPRINT 1 / NOTE 1*\n",
    "\n",
    "---\n"
   ]
  },
  {
   "cell_type": "markdown",
   "metadata": {
    "id": "UhenDoc9XnIW"
   },
   "source": [
    "# 선형회귀(Linear Regression)"
   ]
  },
  {
   "cell_type": "markdown",
   "metadata": {
    "id": "rJgUUpO_XnIX"
   },
   "source": [
    "* 선형회귀모델을 이해합니다.\n",
    "* 지도학습(Supervised Learning)을 이해합니다.\n",
    "* 회귀모델에 기준모델을 설정할 수 있습니다.\n",
    "* Scikit-learn을 이용해 선형 회귀 모델을 만들어 사용하고 해석할 수 있습니다."
   ]
  },
  {
   "cell_type": "markdown",
   "metadata": {
    "id": "zcfrG0xBXnIY"
   },
   "source": [
    "## Warm up"
   ]
  },
  {
   "cell_type": "markdown",
   "metadata": {
    "id": "6Tvw4H1YXnIY"
   },
   "source": [
    "### 다음 영상을 시청해 주세요\n",
    "- [\"An Introduction to Linear Regression Analysis\"](https://youtu.be/zPG4NjIkCjc)\n",
    "- [\"How to calculate linear regression using least square method\"](https://youtu.be/JvS2triCgOY)\n",
    "    - 회귀선을 그리기 위한 계수들 ($b_0$, $b_1$) 구하는 공식을 눈여겨 보세요.\n",
    "\n",
    "- [\"What is tabular data?\"](https://www.youtube.com/watch?v=ILTfP3jdVKo)\n",
    "    - Tabular data의 특징을 세 부분으로 나누면?\n",
    "    \n",
    "- [Comparing Classification and Regression](https://youtu.be/G_0W912qmGc)\n",
    "    - 지도학습(Supervised Learning)에는 두 가지 방식이 있습니다: 회귀(Regression) and 분류(Classification)\n",
    "        - “How Much / How Many?” (회귀)\n",
    "        - “Is this A or B?” (분류)\n",
    "    - 회귀분석과, 분류의 타겟 특성은 무엇이 다른가요?\n",
    "\n",
    "#### 이번 강의에서 사용하는 데이터에 대한 설명을 읽어 보세요.\n",
    "\n",
    "[\"House Prices: Advanced Regression Techniques\"](https://www.kaggle.com/c/house-prices-advanced-regression-techniques/overview)\n",
    "\n",
    "#### 사용하는 변수는 다음과 같습니다.\n",
    "- SalePrice: 우리가 예측해야 하는 타겟값으로 주택판매가격(달러) 입니다.\n",
    "- LotArea: 집과 마당의 사이즈(square feet)\n",
    "- GrLivArea: 지상 생활면적(square feet)"
   ]
  },
  {
   "cell_type": "markdown",
   "metadata": {
    "id": "FvplmS_QXnIZ"
   },
   "source": [
    "---"
   ]
  },
  {
   "cell_type": "markdown",
   "metadata": {
    "id": "ZraShmB3Wuln"
   },
   "source": [
    "## 주택의 판매 가격을 어떻게 예측할 수 있을까요?\n",
    "\n",
    "오늘 사용할 데이터를 불러오겟습니다."
   ]
  },
  {
   "cell_type": "code",
   "execution_count": 2,
   "metadata": {
    "id": "SV404taLWulq"
   },
   "outputs": [],
   "source": [
    "import pandas as pd\n",
    "\n",
    "# 주어진 url 주소를 이용해 house prices 데이터를 가져옵니다.\n",
    "df = pd.read_csv('https://ds-lecture-data.s3.ap-northeast-2.amazonaws.com/house-prices/house_prices_train.csv')\n",
    "df_t = pd.read_csv('https://ds-lecture-data.s3.ap-northeast-2.amazonaws.com/house-prices/house_prices_test.csv')"
   ]
  },
  {
   "cell_type": "code",
   "execution_count": 3,
   "metadata": {
    "id": "ayl-44-YXnIb",
    "outputId": "bb0dd464-9c8c-4e03-f991-70b46501bdc8"
   },
   "outputs": [
    {
     "data": {
      "text/html": [
       "<div>\n",
       "<style scoped>\n",
       "    .dataframe tbody tr th:only-of-type {\n",
       "        vertical-align: middle;\n",
       "    }\n",
       "\n",
       "    .dataframe tbody tr th {\n",
       "        vertical-align: top;\n",
       "    }\n",
       "\n",
       "    .dataframe thead th {\n",
       "        text-align: right;\n",
       "    }\n",
       "</style>\n",
       "<table border=\"1\" class=\"dataframe\">\n",
       "  <thead>\n",
       "    <tr style=\"text-align: right;\">\n",
       "      <th></th>\n",
       "      <th>Id</th>\n",
       "      <th>MSSubClass</th>\n",
       "      <th>MSZoning</th>\n",
       "      <th>LotFrontage</th>\n",
       "      <th>LotArea</th>\n",
       "      <th>Street</th>\n",
       "      <th>Alley</th>\n",
       "      <th>LotShape</th>\n",
       "      <th>LandContour</th>\n",
       "      <th>Utilities</th>\n",
       "      <th>...</th>\n",
       "      <th>PoolArea</th>\n",
       "      <th>PoolQC</th>\n",
       "      <th>Fence</th>\n",
       "      <th>MiscFeature</th>\n",
       "      <th>MiscVal</th>\n",
       "      <th>MoSold</th>\n",
       "      <th>YrSold</th>\n",
       "      <th>SaleType</th>\n",
       "      <th>SaleCondition</th>\n",
       "      <th>SalePrice</th>\n",
       "    </tr>\n",
       "  </thead>\n",
       "  <tbody>\n",
       "    <tr>\n",
       "      <th>0</th>\n",
       "      <td>1</td>\n",
       "      <td>60</td>\n",
       "      <td>RL</td>\n",
       "      <td>65.0</td>\n",
       "      <td>8450</td>\n",
       "      <td>Pave</td>\n",
       "      <td>NaN</td>\n",
       "      <td>Reg</td>\n",
       "      <td>Lvl</td>\n",
       "      <td>AllPub</td>\n",
       "      <td>...</td>\n",
       "      <td>0</td>\n",
       "      <td>NaN</td>\n",
       "      <td>NaN</td>\n",
       "      <td>NaN</td>\n",
       "      <td>0</td>\n",
       "      <td>2</td>\n",
       "      <td>2008</td>\n",
       "      <td>WD</td>\n",
       "      <td>Normal</td>\n",
       "      <td>208500</td>\n",
       "    </tr>\n",
       "    <tr>\n",
       "      <th>1</th>\n",
       "      <td>2</td>\n",
       "      <td>20</td>\n",
       "      <td>RL</td>\n",
       "      <td>80.0</td>\n",
       "      <td>9600</td>\n",
       "      <td>Pave</td>\n",
       "      <td>NaN</td>\n",
       "      <td>Reg</td>\n",
       "      <td>Lvl</td>\n",
       "      <td>AllPub</td>\n",
       "      <td>...</td>\n",
       "      <td>0</td>\n",
       "      <td>NaN</td>\n",
       "      <td>NaN</td>\n",
       "      <td>NaN</td>\n",
       "      <td>0</td>\n",
       "      <td>5</td>\n",
       "      <td>2007</td>\n",
       "      <td>WD</td>\n",
       "      <td>Normal</td>\n",
       "      <td>181500</td>\n",
       "    </tr>\n",
       "    <tr>\n",
       "      <th>2</th>\n",
       "      <td>3</td>\n",
       "      <td>60</td>\n",
       "      <td>RL</td>\n",
       "      <td>68.0</td>\n",
       "      <td>11250</td>\n",
       "      <td>Pave</td>\n",
       "      <td>NaN</td>\n",
       "      <td>IR1</td>\n",
       "      <td>Lvl</td>\n",
       "      <td>AllPub</td>\n",
       "      <td>...</td>\n",
       "      <td>0</td>\n",
       "      <td>NaN</td>\n",
       "      <td>NaN</td>\n",
       "      <td>NaN</td>\n",
       "      <td>0</td>\n",
       "      <td>9</td>\n",
       "      <td>2008</td>\n",
       "      <td>WD</td>\n",
       "      <td>Normal</td>\n",
       "      <td>223500</td>\n",
       "    </tr>\n",
       "    <tr>\n",
       "      <th>3</th>\n",
       "      <td>4</td>\n",
       "      <td>70</td>\n",
       "      <td>RL</td>\n",
       "      <td>60.0</td>\n",
       "      <td>9550</td>\n",
       "      <td>Pave</td>\n",
       "      <td>NaN</td>\n",
       "      <td>IR1</td>\n",
       "      <td>Lvl</td>\n",
       "      <td>AllPub</td>\n",
       "      <td>...</td>\n",
       "      <td>0</td>\n",
       "      <td>NaN</td>\n",
       "      <td>NaN</td>\n",
       "      <td>NaN</td>\n",
       "      <td>0</td>\n",
       "      <td>2</td>\n",
       "      <td>2006</td>\n",
       "      <td>WD</td>\n",
       "      <td>Abnorml</td>\n",
       "      <td>140000</td>\n",
       "    </tr>\n",
       "    <tr>\n",
       "      <th>4</th>\n",
       "      <td>5</td>\n",
       "      <td>60</td>\n",
       "      <td>RL</td>\n",
       "      <td>84.0</td>\n",
       "      <td>14260</td>\n",
       "      <td>Pave</td>\n",
       "      <td>NaN</td>\n",
       "      <td>IR1</td>\n",
       "      <td>Lvl</td>\n",
       "      <td>AllPub</td>\n",
       "      <td>...</td>\n",
       "      <td>0</td>\n",
       "      <td>NaN</td>\n",
       "      <td>NaN</td>\n",
       "      <td>NaN</td>\n",
       "      <td>0</td>\n",
       "      <td>12</td>\n",
       "      <td>2008</td>\n",
       "      <td>WD</td>\n",
       "      <td>Normal</td>\n",
       "      <td>250000</td>\n",
       "    </tr>\n",
       "  </tbody>\n",
       "</table>\n",
       "<p>5 rows × 81 columns</p>\n",
       "</div>"
      ],
      "text/plain": [
       "   Id  MSSubClass MSZoning  LotFrontage  LotArea Street Alley LotShape  \\\n",
       "0   1          60       RL         65.0     8450   Pave   NaN      Reg   \n",
       "1   2          20       RL         80.0     9600   Pave   NaN      Reg   \n",
       "2   3          60       RL         68.0    11250   Pave   NaN      IR1   \n",
       "3   4          70       RL         60.0     9550   Pave   NaN      IR1   \n",
       "4   5          60       RL         84.0    14260   Pave   NaN      IR1   \n",
       "\n",
       "  LandContour Utilities  ... PoolArea PoolQC Fence MiscFeature MiscVal MoSold  \\\n",
       "0         Lvl    AllPub  ...        0    NaN   NaN         NaN       0      2   \n",
       "1         Lvl    AllPub  ...        0    NaN   NaN         NaN       0      5   \n",
       "2         Lvl    AllPub  ...        0    NaN   NaN         NaN       0      9   \n",
       "3         Lvl    AllPub  ...        0    NaN   NaN         NaN       0      2   \n",
       "4         Lvl    AllPub  ...        0    NaN   NaN         NaN       0     12   \n",
       "\n",
       "  YrSold  SaleType  SaleCondition  SalePrice  \n",
       "0   2008        WD         Normal     208500  \n",
       "1   2007        WD         Normal     181500  \n",
       "2   2008        WD         Normal     223500  \n",
       "3   2006        WD        Abnorml     140000  \n",
       "4   2008        WD         Normal     250000  \n",
       "\n",
       "[5 rows x 81 columns]"
      ]
     },
     "execution_count": 3,
     "metadata": {},
     "output_type": "execute_result"
    }
   ],
   "source": [
    "## head()로 데이터를 살펴봅니다.\n",
    "df.head()"
   ]
  },
  {
   "cell_type": "code",
   "execution_count": 4,
   "metadata": {
    "id": "xl1saVpdXnIc",
    "outputId": "908bd7c6-0e07-49a6-932a-c94e28740148"
   },
   "outputs": [
    {
     "data": {
      "text/html": [
       "<div>\n",
       "<style scoped>\n",
       "    .dataframe tbody tr th:only-of-type {\n",
       "        vertical-align: middle;\n",
       "    }\n",
       "\n",
       "    .dataframe tbody tr th {\n",
       "        vertical-align: top;\n",
       "    }\n",
       "\n",
       "    .dataframe thead th {\n",
       "        text-align: right;\n",
       "    }\n",
       "</style>\n",
       "<table border=\"1\" class=\"dataframe\">\n",
       "  <thead>\n",
       "    <tr style=\"text-align: right;\">\n",
       "      <th></th>\n",
       "      <th>Id</th>\n",
       "      <th>MSSubClass</th>\n",
       "      <th>MSZoning</th>\n",
       "      <th>LotFrontage</th>\n",
       "      <th>LotArea</th>\n",
       "      <th>Street</th>\n",
       "      <th>Alley</th>\n",
       "      <th>LotShape</th>\n",
       "      <th>LandContour</th>\n",
       "      <th>Utilities</th>\n",
       "      <th>...</th>\n",
       "      <th>ScreenPorch</th>\n",
       "      <th>PoolArea</th>\n",
       "      <th>PoolQC</th>\n",
       "      <th>Fence</th>\n",
       "      <th>MiscFeature</th>\n",
       "      <th>MiscVal</th>\n",
       "      <th>MoSold</th>\n",
       "      <th>YrSold</th>\n",
       "      <th>SaleType</th>\n",
       "      <th>SaleCondition</th>\n",
       "    </tr>\n",
       "  </thead>\n",
       "  <tbody>\n",
       "    <tr>\n",
       "      <th>0</th>\n",
       "      <td>1461</td>\n",
       "      <td>20</td>\n",
       "      <td>RH</td>\n",
       "      <td>80.0</td>\n",
       "      <td>11622</td>\n",
       "      <td>Pave</td>\n",
       "      <td>NaN</td>\n",
       "      <td>Reg</td>\n",
       "      <td>Lvl</td>\n",
       "      <td>AllPub</td>\n",
       "      <td>...</td>\n",
       "      <td>120</td>\n",
       "      <td>0</td>\n",
       "      <td>NaN</td>\n",
       "      <td>MnPrv</td>\n",
       "      <td>NaN</td>\n",
       "      <td>0</td>\n",
       "      <td>6</td>\n",
       "      <td>2010</td>\n",
       "      <td>WD</td>\n",
       "      <td>Normal</td>\n",
       "    </tr>\n",
       "    <tr>\n",
       "      <th>1</th>\n",
       "      <td>1462</td>\n",
       "      <td>20</td>\n",
       "      <td>RL</td>\n",
       "      <td>81.0</td>\n",
       "      <td>14267</td>\n",
       "      <td>Pave</td>\n",
       "      <td>NaN</td>\n",
       "      <td>IR1</td>\n",
       "      <td>Lvl</td>\n",
       "      <td>AllPub</td>\n",
       "      <td>...</td>\n",
       "      <td>0</td>\n",
       "      <td>0</td>\n",
       "      <td>NaN</td>\n",
       "      <td>NaN</td>\n",
       "      <td>Gar2</td>\n",
       "      <td>12500</td>\n",
       "      <td>6</td>\n",
       "      <td>2010</td>\n",
       "      <td>WD</td>\n",
       "      <td>Normal</td>\n",
       "    </tr>\n",
       "    <tr>\n",
       "      <th>2</th>\n",
       "      <td>1463</td>\n",
       "      <td>60</td>\n",
       "      <td>RL</td>\n",
       "      <td>74.0</td>\n",
       "      <td>13830</td>\n",
       "      <td>Pave</td>\n",
       "      <td>NaN</td>\n",
       "      <td>IR1</td>\n",
       "      <td>Lvl</td>\n",
       "      <td>AllPub</td>\n",
       "      <td>...</td>\n",
       "      <td>0</td>\n",
       "      <td>0</td>\n",
       "      <td>NaN</td>\n",
       "      <td>MnPrv</td>\n",
       "      <td>NaN</td>\n",
       "      <td>0</td>\n",
       "      <td>3</td>\n",
       "      <td>2010</td>\n",
       "      <td>WD</td>\n",
       "      <td>Normal</td>\n",
       "    </tr>\n",
       "    <tr>\n",
       "      <th>3</th>\n",
       "      <td>1464</td>\n",
       "      <td>60</td>\n",
       "      <td>RL</td>\n",
       "      <td>78.0</td>\n",
       "      <td>9978</td>\n",
       "      <td>Pave</td>\n",
       "      <td>NaN</td>\n",
       "      <td>IR1</td>\n",
       "      <td>Lvl</td>\n",
       "      <td>AllPub</td>\n",
       "      <td>...</td>\n",
       "      <td>0</td>\n",
       "      <td>0</td>\n",
       "      <td>NaN</td>\n",
       "      <td>NaN</td>\n",
       "      <td>NaN</td>\n",
       "      <td>0</td>\n",
       "      <td>6</td>\n",
       "      <td>2010</td>\n",
       "      <td>WD</td>\n",
       "      <td>Normal</td>\n",
       "    </tr>\n",
       "    <tr>\n",
       "      <th>4</th>\n",
       "      <td>1465</td>\n",
       "      <td>120</td>\n",
       "      <td>RL</td>\n",
       "      <td>43.0</td>\n",
       "      <td>5005</td>\n",
       "      <td>Pave</td>\n",
       "      <td>NaN</td>\n",
       "      <td>IR1</td>\n",
       "      <td>HLS</td>\n",
       "      <td>AllPub</td>\n",
       "      <td>...</td>\n",
       "      <td>144</td>\n",
       "      <td>0</td>\n",
       "      <td>NaN</td>\n",
       "      <td>NaN</td>\n",
       "      <td>NaN</td>\n",
       "      <td>0</td>\n",
       "      <td>1</td>\n",
       "      <td>2010</td>\n",
       "      <td>WD</td>\n",
       "      <td>Normal</td>\n",
       "    </tr>\n",
       "  </tbody>\n",
       "</table>\n",
       "<p>5 rows × 80 columns</p>\n",
       "</div>"
      ],
      "text/plain": [
       "     Id  MSSubClass MSZoning  LotFrontage  LotArea Street Alley LotShape  \\\n",
       "0  1461          20       RH         80.0    11622   Pave   NaN      Reg   \n",
       "1  1462          20       RL         81.0    14267   Pave   NaN      IR1   \n",
       "2  1463          60       RL         74.0    13830   Pave   NaN      IR1   \n",
       "3  1464          60       RL         78.0     9978   Pave   NaN      IR1   \n",
       "4  1465         120       RL         43.0     5005   Pave   NaN      IR1   \n",
       "\n",
       "  LandContour Utilities  ... ScreenPorch PoolArea PoolQC  Fence MiscFeature  \\\n",
       "0         Lvl    AllPub  ...         120        0    NaN  MnPrv         NaN   \n",
       "1         Lvl    AllPub  ...           0        0    NaN    NaN        Gar2   \n",
       "2         Lvl    AllPub  ...           0        0    NaN  MnPrv         NaN   \n",
       "3         Lvl    AllPub  ...           0        0    NaN    NaN         NaN   \n",
       "4         HLS    AllPub  ...         144        0    NaN    NaN         NaN   \n",
       "\n",
       "  MiscVal MoSold  YrSold  SaleType  SaleCondition  \n",
       "0       0      6    2010        WD         Normal  \n",
       "1   12500      6    2010        WD         Normal  \n",
       "2       0      3    2010        WD         Normal  \n",
       "3       0      6    2010        WD         Normal  \n",
       "4       0      1    2010        WD         Normal  \n",
       "\n",
       "[5 rows x 80 columns]"
      ]
     },
     "execution_count": 4,
     "metadata": {},
     "output_type": "execute_result"
    }
   ],
   "source": [
    "df_t.head()"
   ]
  },
  {
   "cell_type": "code",
   "execution_count": 5,
   "metadata": {
    "id": "DiOVuA4_XnId"
   },
   "outputs": [],
   "source": [
    "## 여러 특성 중 'GrLivArea', 'LotArea', 'SalePrice'를 사용합니다.\n",
    "df = df[['GrLivArea', 'LotArea', 'SalePrice']]\n",
    "df_t = df_t[['GrLivArea', 'LotArea']]"
   ]
  },
  {
   "cell_type": "code",
   "execution_count": 6,
   "metadata": {
    "id": "ai0w3oL8XnId",
    "outputId": "5debffc9-f663-4e50-ea1a-4f6417ad29a5"
   },
   "outputs": [
    {
     "data": {
      "text/html": [
       "<div>\n",
       "<style scoped>\n",
       "    .dataframe tbody tr th:only-of-type {\n",
       "        vertical-align: middle;\n",
       "    }\n",
       "\n",
       "    .dataframe tbody tr th {\n",
       "        vertical-align: top;\n",
       "    }\n",
       "\n",
       "    .dataframe thead th {\n",
       "        text-align: right;\n",
       "    }\n",
       "</style>\n",
       "<table border=\"1\" class=\"dataframe\">\n",
       "  <thead>\n",
       "    <tr style=\"text-align: right;\">\n",
       "      <th></th>\n",
       "      <th>GrLivArea</th>\n",
       "      <th>LotArea</th>\n",
       "      <th>SalePrice</th>\n",
       "    </tr>\n",
       "  </thead>\n",
       "  <tbody>\n",
       "    <tr>\n",
       "      <th>0</th>\n",
       "      <td>1710</td>\n",
       "      <td>8450</td>\n",
       "      <td>208500</td>\n",
       "    </tr>\n",
       "    <tr>\n",
       "      <th>1</th>\n",
       "      <td>1262</td>\n",
       "      <td>9600</td>\n",
       "      <td>181500</td>\n",
       "    </tr>\n",
       "    <tr>\n",
       "      <th>2</th>\n",
       "      <td>1786</td>\n",
       "      <td>11250</td>\n",
       "      <td>223500</td>\n",
       "    </tr>\n",
       "    <tr>\n",
       "      <th>3</th>\n",
       "      <td>1717</td>\n",
       "      <td>9550</td>\n",
       "      <td>140000</td>\n",
       "    </tr>\n",
       "    <tr>\n",
       "      <th>4</th>\n",
       "      <td>2198</td>\n",
       "      <td>14260</td>\n",
       "      <td>250000</td>\n",
       "    </tr>\n",
       "    <tr>\n",
       "      <th>...</th>\n",
       "      <td>...</td>\n",
       "      <td>...</td>\n",
       "      <td>...</td>\n",
       "    </tr>\n",
       "    <tr>\n",
       "      <th>1455</th>\n",
       "      <td>1647</td>\n",
       "      <td>7917</td>\n",
       "      <td>175000</td>\n",
       "    </tr>\n",
       "    <tr>\n",
       "      <th>1456</th>\n",
       "      <td>2073</td>\n",
       "      <td>13175</td>\n",
       "      <td>210000</td>\n",
       "    </tr>\n",
       "    <tr>\n",
       "      <th>1457</th>\n",
       "      <td>2340</td>\n",
       "      <td>9042</td>\n",
       "      <td>266500</td>\n",
       "    </tr>\n",
       "    <tr>\n",
       "      <th>1458</th>\n",
       "      <td>1078</td>\n",
       "      <td>9717</td>\n",
       "      <td>142125</td>\n",
       "    </tr>\n",
       "    <tr>\n",
       "      <th>1459</th>\n",
       "      <td>1256</td>\n",
       "      <td>9937</td>\n",
       "      <td>147500</td>\n",
       "    </tr>\n",
       "  </tbody>\n",
       "</table>\n",
       "<p>1460 rows × 3 columns</p>\n",
       "</div>"
      ],
      "text/plain": [
       "      GrLivArea  LotArea  SalePrice\n",
       "0          1710     8450     208500\n",
       "1          1262     9600     181500\n",
       "2          1786    11250     223500\n",
       "3          1717     9550     140000\n",
       "4          2198    14260     250000\n",
       "...         ...      ...        ...\n",
       "1455       1647     7917     175000\n",
       "1456       2073    13175     210000\n",
       "1457       2340     9042     266500\n",
       "1458       1078     9717     142125\n",
       "1459       1256     9937     147500\n",
       "\n",
       "[1460 rows x 3 columns]"
      ]
     },
     "execution_count": 6,
     "metadata": {},
     "output_type": "execute_result"
    }
   ],
   "source": [
    "## 테이블 형테 출력, 이런 형태의 데이터를 tabular data 라고 말합니다.\n",
    "df"
   ]
  },
  {
   "cell_type": "markdown",
   "metadata": {
    "id": "XPOzYqT3Wulo"
   },
   "source": [
    "### 주택 판매 가격을 예측하려고 할 때 여러분은 다음과 같은 방법을 사용할 수 있습니다"
   ]
  },
  {
   "cell_type": "markdown",
   "metadata": {
    "id": "5ezXj1joWulo"
   },
   "source": [
    "#### 1. 기존 경험을 바탕으로 예측\n",
    "\n",
    "한마디로 대충 어림짐작하는 것 입니다. 예를 들어 밤 하늘에 달무리가 진 것을 보고 다음날 날씨가 흐릴 것을 예측하는 것과 같습니다.\n",
    "\n",
    "보통 좋은 결과를 내기도 하지만 사람마다 편견이 존재하며 오류에 빠질 위험이 높습니다.\n",
    "\n",
    "- 이 옷은 [남자 or 여자] 아기 옷 일까요?\n",
    "\n",
    "<img src=\"https://i.imgur.com/3Y7qKqN.png?1\" width=\"300\"/>\n"
   ]
  },
  {
   "cell_type": "markdown",
   "metadata": {
    "id": "CIK7pbEpWulp"
   },
   "source": [
    "#### 2. 통계정보를 활용"
   ]
  },
  {
   "cell_type": "markdown",
   "metadata": {
    "id": "Jd3E27VhWulp"
   },
   "source": [
    "`SalePrice`의 통계 정보를 확인해 보겠습니다."
   ]
  },
  {
   "cell_type": "code",
   "execution_count": 7,
   "metadata": {
    "id": "lqLYrQj9XnIf",
    "outputId": "251bbbe7-0ff5-4c4b-ea28-bf23cb571338"
   },
   "outputs": [
    {
     "data": {
      "text/plain": [
       "(34900, 755000, 180921.19589041095, 163000.0)"
      ]
     },
     "execution_count": 7,
     "metadata": {},
     "output_type": "execute_result"
    }
   ],
   "source": [
    "# SalePrice의 최소, 최대, 평균, 중앙값 계산\n",
    "df['SalePrice'].min(), df['SalePrice'].max(), df['SalePrice'].mean(), df['SalePrice'].median()"
   ]
  },
  {
   "cell_type": "code",
   "execution_count": 8,
   "metadata": {
    "id": "l7UbxRxDXnIg"
   },
   "outputs": [],
   "source": [
    "# pandas 포멧팅을 사용하면, 판다스 객체들의 결과에서 쉼표를 넣고 소숫점 아래는 생략하도록 설정할 수 있습니다.\n",
    "# float 형식 소숫점 1자리, 쉼표 포함\n",
    "pd.set_option('display.float_format', '{:,.1f}'.format)\n",
    "\n",
    "# 기본 셋팅으로 돌아오기 위해서\n",
    "# pd.set_option('display.float_format', None) "
   ]
  },
  {
   "cell_type": "code",
   "execution_count": 9,
   "metadata": {
    "id": "S6G7jd3yXnIg",
    "outputId": "243fcb07-7d96-4fc3-c925-055630396364"
   },
   "outputs": [
    {
     "data": {
      "text/plain": [
       "count     1,460.0\n",
       "mean    180,921.2\n",
       "std      79,442.5\n",
       "min      34,900.0\n",
       "25%     129,975.0\n",
       "50%     163,000.0\n",
       "75%     214,000.0\n",
       "max     755,000.0\n",
       "Name: SalePrice, dtype: float64"
      ]
     },
     "execution_count": 9,
     "metadata": {},
     "output_type": "execute_result"
    }
   ],
   "source": [
    "## SalePrice 통계 정보를 요약해서 확인할 수도 있습니다.\n",
    "df['SalePrice'].describe()"
   ]
  },
  {
   "cell_type": "code",
   "execution_count": 10,
   "metadata": {
    "id": "-TqVJ7KlXnIg",
    "outputId": "c8897849-542b-4761-ddf4-65fab196a369"
   },
   "outputs": [
    {
     "data": {
      "image/png": "[encoded data removed]",
      "text/plain": [
       "<Figure size 360x360 with 1 Axes>"
      ]
     },
     "metadata": {
      "needs_background": "light"
     },
     "output_type": "display_data"
    }
   ],
   "source": [
    "import matplotlib.pyplot as plt\n",
    "import seaborn as sns\n",
    "\n",
    "## SalePrice의 확률밀도함수를 그려보겠습니다\n",
    "sns.displot(df['SalePrice'], kde=True)\n",
    "\n",
    "## 평균과, 중간값으로 수직선을 그려보겠습니다.\n",
    "plt.axvline(df['SalePrice'].mean(), color='blue')\n",
    "plt.axvline(df['SalePrice'].median(), color='red');"
   ]
  },
  {
   "cell_type": "markdown",
   "metadata": {
    "id": "Z28yRqpiXnIh"
   },
   "source": [
    "만일 가격을 처음으로 예측한다고 할 때, 가장 간단하고 직관적인 방법으로 평균이나 중간값을 이용해 보는 것도 좋은 선택일 것입니다.\n",
    "\n",
    "#### 기준모델(Baseline Model)\n",
    "이렇게 예측 모델을 구체적으로 만들기 전에 가장 간단하면서도 직관적이면서 최소한의 성능을 나타내는 기준이 되는 모델을 기준모델 이라고 합니다.\n",
    "여기서는 평균값을 기준으로 사용해서 평균기준모델이라고 말할 수 있겠습니다.\n",
    "\n",
    "참고로 문제별로 기준모델은 보통 다음과 같이 설정합니다.\n",
    "- 분류문제: 타겟의 최빈 클래스\n",
    "- 회귀문제: 타겟의 평균값\n",
    "- 시계열회귀문제: 이전 타임스탬프의 값"
   ]
  },
  {
   "cell_type": "code",
   "execution_count": 11,
   "metadata": {
    "colab": {
     "base_uri": "https://localhost:8080/",
     "height": 191
    },
    "executionInfo": {
     "elapsed": 42,
     "status": "error",
     "timestamp": 1627045906291,
     "user": {
      "displayName": "이아리",
      "photoUrl": "https://lh3.googleusercontent.com/a-/AOh14Gg_9zOjRuxnm5cXYUnTwVgTBNla-W9ycSZfRL03=s64",
      "userId": "11816708880707676333"
     },
     "user_tz": -540
    },
    "id": "o73UfcbMXnIh",
    "outputId": "25c69018-13bd-45a0-93a8-13a9576dd792"
   },
   "outputs": [],
   "source": [
    "## predict: 우리가 정한 기준모델인 평균으로 예측을 합니다\n",
    "predict = df['SalePrice'].mean()"
   ]
  },
  {
   "cell_type": "code",
   "execution_count": 12,
   "metadata": {
    "executionInfo": {
     "elapsed": 23,
     "status": "aborted",
     "timestamp": 1627045906282,
     "user": {
      "displayName": "이아리",
      "photoUrl": "https://lh3.googleusercontent.com/a-/AOh14Gg_9zOjRuxnm5cXYUnTwVgTBNla-W9ycSZfRL03=s64",
      "userId": "11816708880707676333"
     },
     "user_tz": -540
    },
    "id": "dnHFioc1XnIh"
   },
   "outputs": [],
   "source": [
    "## 평균값으로 예측할 때 샘플 별 평균값과의 차이(error)를 저장합니다\n",
    "errors = predict - df['SalePrice']"
   ]
  },
  {
   "cell_type": "code",
   "execution_count": 13,
   "metadata": {
    "executionInfo": {
     "elapsed": 25,
     "status": "aborted",
     "timestamp": 1627045906285,
     "user": {
      "displayName": "이아리",
      "photoUrl": "https://lh3.googleusercontent.com/a-/AOh14Gg_9zOjRuxnm5cXYUnTwVgTBNla-W9ycSZfRL03=s64",
      "userId": "11816708880707676333"
     },
     "user_tz": -540
    },
    "id": "mKu_ZVeIXnIi"
   },
   "outputs": [
    {
     "data": {
      "text/plain": [
       "0      -27,578.8\n",
       "1         -578.8\n",
       "2      -42,578.8\n",
       "3       40,921.2\n",
       "4      -69,078.8\n",
       "          ...   \n",
       "1455     5,921.2\n",
       "1456   -29,078.8\n",
       "1457   -85,578.8\n",
       "1458    38,796.2\n",
       "1459    33,421.2\n",
       "Name: SalePrice, Length: 1460, dtype: float64"
      ]
     },
     "execution_count": 13,
     "metadata": {},
     "output_type": "execute_result"
    }
   ],
   "source": [
    "errors"
   ]
  },
  {
   "cell_type": "code",
   "execution_count": 14,
   "metadata": {
    "executionInfo": {
     "elapsed": 26,
     "status": "aborted",
     "timestamp": 1627045906287,
     "user": {
      "displayName": "이아리",
      "photoUrl": "https://lh3.googleusercontent.com/a-/AOh14Gg_9zOjRuxnm5cXYUnTwVgTBNla-W9ycSZfRL03=s64",
      "userId": "11816708880707676333"
     },
     "user_tz": -540
    },
    "id": "Pz_thX9FXnIi"
   },
   "outputs": [],
   "source": [
    "## mean_absolute_error(MAE), error에 절대값을 취한 후 평균을 계산합니다.\n",
    "mean_absolute_error = errors.abs().mean()"
   ]
  },
  {
   "cell_type": "markdown",
   "metadata": {
    "id": "Kpq_35aMXnIi"
   },
   "source": [
    "Mean Absolute Error(MAE, 평균절대오차) 는 예측 error 의 절대값 평균을 나타냅니다.\n",
    "\n",
    "$$Error = (price - guess)$$\n",
    "\n",
    "\\begin{align}mae = (\\frac{1}{n})\\sum_{i=1}^{n}\\left | price_{i} - guess_{i} \\right |\\end{align}"
   ]
  },
  {
   "cell_type": "markdown",
   "metadata": {
    "id": "y2lCjZ7KXnIj"
   },
   "source": [
    "기준모델을 그려보겠습니다."
   ]
  },
  {
   "cell_type": "code",
   "execution_count": 15,
   "metadata": {
    "executionInfo": {
     "elapsed": 26,
     "status": "aborted",
     "timestamp": 1627045906288,
     "user": {
      "displayName": "이아리",
      "photoUrl": "https://lh3.googleusercontent.com/a-/AOh14Gg_9zOjRuxnm5cXYUnTwVgTBNla-W9ycSZfRL03=s64",
      "userId": "11816708880707676333"
     },
     "user_tz": -540
    },
    "id": "-3RVDrb4XnIj"
   },
   "outputs": [
    {
     "data": {
      "image/png": "[encoded data removed]",
      "text/plain": [
       "<Figure size 432x288 with 1 Axes>"
      ]
     },
     "metadata": {
      "needs_background": "light"
     },
     "output_type": "display_data"
    }
   ],
   "source": [
    "x = df['GrLivArea']\n",
    "y = df['SalePrice']\n",
    "\n",
    "predict = df['SalePrice'].mean()\n",
    "errors = predict - df['SalePrice']\n",
    "mean_absolute_error = errors.abs().mean()\n",
    "\n",
    "sns.lineplot(x=x, y=predict, color='red')\n",
    "sns.scatterplot(x=x, y=y, color='blue');"
   ]
  },
  {
   "cell_type": "code",
   "execution_count": 16,
   "metadata": {
    "executionInfo": {
     "elapsed": 26,
     "status": "aborted",
     "timestamp": 1627045906289,
     "user": {
      "displayName": "이아리",
      "photoUrl": "https://lh3.googleusercontent.com/a-/AOh14Gg_9zOjRuxnm5cXYUnTwVgTBNla-W9ycSZfRL03=s64",
      "userId": "11816708880707676333"
     },
     "user_tz": -540
    },
    "id": "yJm4xlvvWulu"
   },
   "outputs": [
    {
     "name": "stdout",
     "output_type": "stream",
     "text": [
      "예측한 주택 가격이 $180,921이며 절대평균에러가 $57,435임을 확인할 수 있습니다.\n"
     ]
    }
   ],
   "source": [
    "print(f'예측한 주택 가격이 ${predict:,.0f}이며 절대평균에러가 ${mean_absolute_error:,.0f}임을 확인할 수 있습니다.')"
   ]
  },
  {
   "cell_type": "markdown",
   "metadata": {
    "id": "8oqi26gSWulw"
   },
   "source": [
    "평균 예측은 에러가 상당히 크다는 것을 알 수 있었습니다.\n",
    "\n",
    "혹시 주택 가격이 전체공간크기(LotArea)와 같은 다른 특성과 어떤 상관관계(dependent)가 있을까요? 이 관계를 시각적으로 살펴보겠습니다."
   ]
  },
  {
   "cell_type": "code",
   "execution_count": 17,
   "metadata": {
    "executionInfo": {
     "elapsed": 26,
     "status": "aborted",
     "timestamp": 1627045906290,
     "user": {
      "displayName": "이아리",
      "photoUrl": "https://lh3.googleusercontent.com/a-/AOh14Gg_9zOjRuxnm5cXYUnTwVgTBNla-W9ycSZfRL03=s64",
      "userId": "11816708880707676333"
     },
     "user_tz": -540
    },
    "id": "EsS1uT2aWulw"
   },
   "outputs": [
    {
     "data": {
      "image/png": "[encoded data removed]",
      "text/plain": [
       "<Figure size 432x288 with 1 Axes>"
      ]
     },
     "metadata": {
      "needs_background": "light"
     },
     "output_type": "display_data"
    }
   ],
   "source": [
    "## matplotlib scatter plot: LotArea, SalePrice\n",
    "plt.scatter(df['LotArea'], df['SalePrice']);"
   ]
  },
  {
   "cell_type": "code",
   "execution_count": 18,
   "metadata": {
    "executionInfo": {
     "elapsed": 27,
     "status": "aborted",
     "timestamp": 1627045906291,
     "user": {
      "displayName": "이아리",
      "photoUrl": "https://lh3.googleusercontent.com/a-/AOh14Gg_9zOjRuxnm5cXYUnTwVgTBNla-W9ycSZfRL03=s64",
      "userId": "11816708880707676333"
     },
     "user_tz": -540
    },
    "id": "mGlsO7R_XnIm"
   },
   "outputs": [
    {
     "data": {
      "image/png": "[encoded data removed]",
      "text/plain": [
       "<Figure size 432x432 with 12 Axes>"
      ]
     },
     "metadata": {},
     "output_type": "display_data"
    }
   ],
   "source": [
    "sns.set(style='whitegrid', context='notebook')\n",
    "cols = ['GrLivArea', 'LotArea','SalePrice']\n",
    "sns.pairplot(df[cols], height=2);"
   ]
  },
  {
   "cell_type": "markdown",
   "metadata": {
    "id": "dHg8dxXjWul0"
   },
   "source": [
    "#### 3. 예측모델(Predictive Model) 활용\n",
    "\n",
    "scatterplot에 가장 잘 맞는(best fit) 직선을 그려주면 그것이 회귀 예측모델이 됩니다.\n",
    "\n",
    "- [scatterplot](https://www.plotly.express/plotly_express/#plotly_express.scatter)"
   ]
  },
  {
   "cell_type": "markdown",
   "metadata": {
    "id": "XTExpb02XnIn"
   },
   "source": [
    "그럼 회귀직선은 어떻게 만들 수 있을까요? 회귀분석에서 중요한 개념은 예측값과 잔차(residual) 입니다.\n",
    "예측값은 만들어진 모델이 추정하는 값이고, 잔차는 예측값과 관측값 차이 입니다.(오차(error)는 모집단에서의 예측값과 관측값 차이를 말합니다.)\n",
    "\n",
    "회귀선은 잔차 제곱들의 합인 RSS(residual sum of squares)를 최소화 하는 직선입니다. RSS는 SSE(Sum of Square Error)라고도 말하며 이 값이 회귀모델의 비용함수(Cost function)가 됩니다. 머신러닝에서는 이렇게 비용함수를 최소화 하는 모델을 찾는 과정을 학습이라고 합니다.\n",
    "\n",
    "${\\displaystyle \\operatorname {RSS} =\\sum _{i=1}^{n}(\\varepsilon _{i})^{2}=\\sum _{i=1}^{n}(y_{i}-f(x_{i}))^{2}=\\sum _{i=1}^{n}(y_{i}-(\\alpha x_{i} + \\beta))^{2}}$\n",
    "\n",
    "여기서 계수 $\\alpha$ 와 $\\beta$ 는 RSS를 최소화 하는 값으로 모델 학습을 통해서 얻어지는 값입니다.\n",
    "\n",
    "이렇게 잔차제곱합을 최소화하는 방법을 최소제곱회귀 혹은 Ordinary least squares(OLS)라고 부릅니다.\n",
    "\n",
    "OLS는 계수 계산을 위해 다음 공식을 사용합니다.(유도과정을 알고 싶으면 참고자료를 확인하세요)\n",
    "\n",
    "$\\beta =\\displaystyle {\\bar {y}}-\\alpha{\\bar {x}}$,\n",
    "\n",
    "$\\alpha ={\\frac {S_{xy}}{S_{xx}}}$\n",
    "\n",
    "${\\displaystyle S_{xy}=\\sum _{i=1}^{n}(x_{i}-{\\bar {x}})(y_{i}-{\\bar {y}})}$,   ${\\displaystyle S_{xx}=\\sum _{i=1}^{n}(x_{i}-{\\bar {x}})^{2}}$\n",
    "\n",
    "최소제곱법으로 선형 회귀계수를 쉽게 구할 수 있습니다."
   ]
  },
  {
   "cell_type": "code",
   "execution_count": 19,
   "metadata": {
    "colab": {
     "base_uri": "https://localhost:8080/",
     "height": 617
    },
    "id": "Nhb0q-liWul0",
    "outputId": "f66076ab-6e01-402a-d476-32be6efff844"
   },
   "outputs": [
    {
     "data": {
      "image/png": "[encoded data removed]",
      "text/plain": [
       "<Figure size 432x288 with 1 Axes>"
      ]
     },
     "metadata": {},
     "output_type": "display_data"
    }
   ],
   "source": [
    "## Seaborn regplot으로 그리면, \n",
    "sns.regplot(x=df['GrLivArea'], y=df['SalePrice']);"
   ]
  },
  {
   "cell_type": "code",
   "execution_count": 20,
   "metadata": {
    "id": "GHncC40uXnIo",
    "outputId": "b32d7232-c173-498f-a892-521a4f27c23c"
   },
   "outputs": [
    {
     "data": {
      "text/html": [
       "<div>\n",
       "<style scoped>\n",
       "    .dataframe tbody tr th:only-of-type {\n",
       "        vertical-align: middle;\n",
       "    }\n",
       "\n",
       "    .dataframe tbody tr th {\n",
       "        vertical-align: top;\n",
       "    }\n",
       "\n",
       "    .dataframe thead th {\n",
       "        text-align: right;\n",
       "    }\n",
       "</style>\n",
       "<table border=\"1\" class=\"dataframe\">\n",
       "  <thead>\n",
       "    <tr style=\"text-align: right;\">\n",
       "      <th></th>\n",
       "      <th>GrLivArea</th>\n",
       "      <th>LotArea</th>\n",
       "      <th>SalePrice</th>\n",
       "    </tr>\n",
       "  </thead>\n",
       "  <tbody>\n",
       "    <tr>\n",
       "      <th>185</th>\n",
       "      <td>3608</td>\n",
       "      <td>22950</td>\n",
       "      <td>475000</td>\n",
       "    </tr>\n",
       "    <tr>\n",
       "      <th>691</th>\n",
       "      <td>4316</td>\n",
       "      <td>21535</td>\n",
       "      <td>755000</td>\n",
       "    </tr>\n",
       "    <tr>\n",
       "      <th>1169</th>\n",
       "      <td>3627</td>\n",
       "      <td>35760</td>\n",
       "      <td>625000</td>\n",
       "    </tr>\n",
       "    <tr>\n",
       "      <th>1182</th>\n",
       "      <td>4476</td>\n",
       "      <td>15623</td>\n",
       "      <td>745000</td>\n",
       "    </tr>\n",
       "  </tbody>\n",
       "</table>\n",
       "</div>"
      ],
      "text/plain": [
       "      GrLivArea  LotArea  SalePrice\n",
       "185        3608    22950     475000\n",
       "691        4316    21535     755000\n",
       "1169       3627    35760     625000\n",
       "1182       4476    15623     745000"
      ]
     },
     "execution_count": 20,
     "metadata": {},
     "output_type": "execute_result"
    }
   ],
   "source": [
    "## GrLivArea > 3500 & GrLivArea < 4500 사이의 데이터를 보겠습니다.\n",
    "df[(df['GrLivArea'] > 3500) & (df['GrLivArea'] < 4500)]"
   ]
  },
  {
   "cell_type": "markdown",
   "metadata": {
    "id": "KnGbq5dGWul2"
   },
   "source": [
    "선형회귀는 주어져 있지 않은 점의 함수값을 보간(**interpolate**) 하여 예측하는데 도움을 줍니다.\n",
    "\n",
    "예를 들어 GrLivArea 3626 ~ 4315 sqft 사이에 주택의 가격 정보가 없습니다.   \n",
    "이때 선형회귀 모델을 사용해 4000 sqft 주택 가격을 어림잡아 예측해 볼 수 있습니다.\n"
   ]
  },
  {
   "cell_type": "markdown",
   "metadata": {
    "id": "DojBoEXPWul3"
   },
   "source": [
    "물론 선형회귀모델은 기존 데이터의 범위를 넘어서는 값을 예측하기 위한 외삽(**extrapolate**)도 제공해줍니다.  \n",
    "저희가 지금 다루는 데이터에는 6000 sqft 이상되는 주택의 거래 정보가 없습니다."
   ]
  },
  {
   "cell_type": "code",
   "execution_count": 21,
   "metadata": {
    "id": "evkbpNE_XnIp",
    "outputId": "bcc4e143-71a4-46e1-9339-9b8397ef78f6"
   },
   "outputs": [
    {
     "data": {
      "text/html": [
       "<div>\n",
       "<style scoped>\n",
       "    .dataframe tbody tr th:only-of-type {\n",
       "        vertical-align: middle;\n",
       "    }\n",
       "\n",
       "    .dataframe tbody tr th {\n",
       "        vertical-align: top;\n",
       "    }\n",
       "\n",
       "    .dataframe thead th {\n",
       "        text-align: right;\n",
       "    }\n",
       "</style>\n",
       "<table border=\"1\" class=\"dataframe\">\n",
       "  <thead>\n",
       "    <tr style=\"text-align: right;\">\n",
       "      <th></th>\n",
       "      <th>GrLivArea</th>\n",
       "      <th>LotArea</th>\n",
       "      <th>SalePrice</th>\n",
       "    </tr>\n",
       "  </thead>\n",
       "  <tbody>\n",
       "  </tbody>\n",
       "</table>\n",
       "</div>"
      ],
      "text/plain": [
       "Empty DataFrame\n",
       "Columns: [GrLivArea, LotArea, SalePrice]\n",
       "Index: []"
      ]
     },
     "execution_count": 21,
     "metadata": {},
     "output_type": "execute_result"
    }
   ],
   "source": [
    "df[(df['GrLivArea'] > 6000)].sort_values('GrLivArea')"
   ]
  },
  {
   "cell_type": "markdown",
   "metadata": {
    "id": "NpFJIdMUXnIq"
   },
   "source": [
    "이런 경우는 어떻게 예측해야 할까요?\n",
    "\n",
    "선형회귀 직선은 독립변수(independent variable, x)와 종속변수(dependent variable, y) 간의 관계를 요약해 줍니다.\n",
    "\n",
    "- **종속변수는 반응(Response)변수, 레이블(Label), 타겟(Target)등으로 불립니다.**\n",
    "- **독립변수는 예측(Predictor)변수, 설명(Explanatory), 특성(feature) 등으로 불립니다.**"
   ]
  },
  {
   "cell_type": "markdown",
   "metadata": {
    "id": "gcCoydrpWul3"
   },
   "source": [
    "## 그럼 scikit-learn을 사용해서 선형회귀모델을 만들어 보겠습니다"
   ]
  },
  {
   "cell_type": "markdown",
   "metadata": {
    "id": "r1e85ZhUWul5"
   },
   "source": [
    "scikit-learn은 머신러닝 모델을 만드는데 가장 많이 사용하는 라이브러리로 이번 섹션에서 계속 활용됩니다.\n",
    "\n",
    "#### scikit-Learn을 활용해 모델을 만들고 데이터를 분석하기 위해서는 다음과 같은 데이터 구조를 사용해야 합니다:\n",
    "\n",
    "<img src=\"https://www.researchgate.net/publication/301946040/figure/fig1/AS:362519232303116@1463442728351/Data-representation-in-scikit-learn.png\" alt=\"Data representation in scikit-learn\"/>\n",
    "\n",
    "- 특성 데이터와 타겟 데이터를 나누어 줍니다.\n",
    "\n",
    "- 특성행렬은 주로 `X` 로 표현하고 보통 2-차원 행렬입니다(`[n_samples, n_features]`). 주로 NumPy 행렬이나 Pandas 데이터프레임으로 표현합니다.\n",
    "\n",
    "- 타겟배열은 주로 y로 표현하고 보통 1타원 형태(`n_samples`) 입니다. 주로 Numpy 배열이나 Pandas Series로 표현합니다.\n"
   ]
  },
  {
   "cell_type": "markdown",
   "metadata": {
    "id": "gRsl-6mP5Uci"
   },
   "source": [
    "#### scikit-learn에는 수많은 머신러닝 모델이 구현되어 있는데 모두 유사한 프로세스를 통해서 사용할 수 있습니다. \n",
    "\n",
    "- 우선 여러분께서 풀어야 하는 문제를 풀기에 적합한 모델을 선택하여 클래스를 찾아본 후 관련 속성이나 하이퍼파라미터를 확인해 봅니다.\n",
    "- 문제에 따라서 약간 차이가 있겠지만 위에서 살펴본 것과 같이 데이터를 준비합니다.\n",
    "- `fit()` 메소드를 사용하여 모델을 학습합니다.\n",
    "- 'predict()' 메소드를 사용하여 새로운 데이터를 예측합니다.\n",
    "\n",
    "이런 프로세스는 앞으로도 계속 연습할 것이기 때문에 잘 알아 두시기 바랍니다.\n",
    "- [Basics of the API](https://jakevdp.github.io/PythonDataScienceHandbook/05.02-introducing-scikit-learn.html#Basics-of-the-API)"
   ]
  },
  {
   "cell_type": "markdown",
   "metadata": {
    "id": "lFYuvV19Wul6"
   },
   "source": [
    "## Simple Linear Regression (단순 선형 회귀)\n",
    "\n",
    "위에 언급한 방법에 따라서 머신러닝모델을 만들어 봅시다.\n",
    "\n",
    "- [Scikit-Learn LinearRegression documentation](https://scikit-learn.org/stable/modules/generated/sklearn.linear_model.LinearRegression.html)."
   ]
  },
  {
   "cell_type": "code",
   "execution_count": 22,
   "metadata": {
    "id": "WdTYebyJXnIs"
   },
   "outputs": [],
   "source": [
    "## Scikit-Learn 라이브러리에서 사용할 예측모델 클래스를 Import 합니다\n",
    "from sklearn.linear_model import LinearRegression"
   ]
  },
  {
   "cell_type": "code",
   "execution_count": 23,
   "metadata": {
    "id": "47O5owoaXnIt"
   },
   "outputs": [],
   "source": [
    "## 예측모델 인스턴스를 만듭니다\n",
    "model = LinearRegression()"
   ]
  },
  {
   "cell_type": "code",
   "execution_count": 34,
   "metadata": {
    "id": "bQzeZwRhXnIt"
   },
   "outputs": [],
   "source": [
    "## X 특성들의 테이블과, y 타겟 벡터를 만듭니다\n",
    "feature = ['GrLivArea']\n",
    "target = ['SalePrice']\n",
    "X_train = df[feature]\n",
    "y_train = df[target]"
   ]
  },
  {
   "cell_type": "code",
   "execution_count": 35,
   "metadata": {
    "id": "R3_U5MiiXnIt",
    "outputId": "dfd38d89-d460-425d-af12-6c2d3028cf68"
   },
   "outputs": [
    {
     "data": {
      "text/plain": [
       "LinearRegression()"
      ]
     },
     "execution_count": 35,
     "metadata": {},
     "output_type": "execute_result"
    }
   ],
   "source": [
    "## 모델을 학습(fit)합니다\n",
    "model.fit(X_train, y_train)"
   ]
  },
  {
   "cell_type": "code",
   "execution_count": 39,
   "metadata": {},
   "outputs": [
    {
     "ename": "AttributeError",
     "evalue": "'list' object has no attribute 'ndim'",
     "output_type": "error",
     "traceback": [
      "\u001b[1;31m---------------------------------------------------------------------------\u001b[0m",
      "\u001b[1;31mAttributeError\u001b[0m                            Traceback (most recent call last)",
      "\u001b[1;32m<ipython-input-39-d0de6fd57de9>\u001b[0m in \u001b[0;36m<module>\u001b[1;34m\u001b[0m\n\u001b[1;32m----> 1\u001b[1;33m \u001b[0mX_test\u001b[0m\u001b[1;33m.\u001b[0m\u001b[0mndim\u001b[0m\u001b[1;33m\u001b[0m\u001b[1;33m\u001b[0m\u001b[0m\n\u001b[0m",
      "\u001b[1;31mAttributeError\u001b[0m: 'list' object has no attribute 'ndim'"
     ]
    }
   ],
   "source": []
  },
  {
   "cell_type": "code",
   "execution_count": 41,
   "metadata": {
    "colab": {
     "base_uri": "https://localhost:8080/",
     "height": 51
    },
    "id": "-JKp8OL9Wul6",
    "lines_to_next_cell": 2,
    "outputId": "aba6b118-f18a-4e1a-958a-b16c5b624ad0"
   },
   "outputs": [
    {
     "name": "stdout",
     "output_type": "stream",
     "text": [
      "4000 sqft GrLivArea를 가지는 주택의 예상 가격은 $447090 입니다.\n"
     ]
    }
   ],
   "source": [
    "## 새로운 데이터 한 샘플을 선택해 학습한 모델을 통해 예측해 봅니다\n",
    "X_test = [[4000]]\n",
    "y_pred = model.predict(X_test) #모듈 안에는 리스트가 들어가야함 (2차원)\n",
    "\n",
    "print(f'{X_test[0][0]} sqft GrLivArea를 가지는 주택의 예상 가격은 ${int(y_pred)} 입니다.')"
   ]
  },
  {
   "cell_type": "code",
   "execution_count": 42,
   "metadata": {
    "id": "T0ijhJ3jXnIu"
   },
   "outputs": [],
   "source": [
    "## 전체 테스트 데이터를 모델을 통해 예측해 봅니다.\n",
    "X_test = [[x] for x in df_t['GrLivArea']]\n",
    "y_pred = model.predict(X_test)"
   ]
  },
  {
   "cell_type": "code",
   "execution_count": 43,
   "metadata": {
    "id": "McJ3ZYTZXnIu",
    "outputId": "4cd26abe-4dd0-4ab0-8389-e295e881165e"
   },
   "outputs": [
    {
     "data": {
      "text/plain": [
       "array([[114557.82748987],\n",
       "       [160945.27292207],\n",
       "       [193084.38061182],\n",
       "       ...,\n",
       "       [149696.58523066],\n",
       "       [122485.47405334],\n",
       "       [232829.74378814]])"
      ]
     },
     "execution_count": 43,
     "metadata": {},
     "output_type": "execute_result"
    }
   ],
   "source": [
    "## 전체 예측값 입니다.\n",
    "y_pred"
   ]
  },
  {
   "cell_type": "code",
   "execution_count": 44,
   "metadata": {
    "id": "aNSwjjUzXnIv",
    "outputId": "967928c1-92ab-4abd-fbf7-2afa5c0fb6ae"
   },
   "outputs": [
    {
     "data": {
      "image/png": "[encoded data removed]",
      "text/plain": [
       "<Figure size 432x288 with 1 Axes>"
      ]
     },
     "metadata": {},
     "output_type": "display_data"
    }
   ],
   "source": [
    "## train 데이터에 대한 그래프를 그려보겠습니다.\n",
    "plt.scatter(X_train, y_train, color='black', linewidth=1)\n",
    "\n",
    "## test 데이터에 대한 예측을 파란색 점으로 나타내 보겠습니다.\n",
    "plt.scatter(X_test, y_pred, color='blue', linewidth=1);"
   ]
  },
  {
   "cell_type": "markdown",
   "metadata": {
    "id": "ZfoKMo8WWumI"
   },
   "source": [
    "저희는 지금 이 [다이어그램](https://ogrisel.github.io/scikit-learn.org/sklearn-tutorial/tutorial/text_analytics/general_concepts.html#supervised-learning-model-fit-x-y)에서 표현한 일반적인 머신러닝 프로세스를 수행했습니다. 앞서 실행한 코드와 다이어그램 플로우를 비교해 보세요.\n",
    "\n",
    "\n",
    "<img src=\"https://ogrisel.github.io/scikit-learn.org/sklearn-tutorial/_images/plot_ML_flow_chart_12.png\" width=\"75%\">"
   ]
  },
  {
   "cell_type": "markdown",
   "metadata": {
    "id": "Ct9avYk8XnIv"
   },
   "source": [
    "머신러닝을 새로운 프로그래밍 패러다임으로 바라볼 수도 있습니다.\n",
    "\n",
    "<img src=\"https://pbs.twimg.com/media/ECQDlFOWkAEJzlY.jpg\" width=\"70%\">\n"
   ]
  },
  {
   "cell_type": "markdown",
   "metadata": {
    "id": "VLDPonPEXnIw"
   },
   "source": [
    "데이터를 입력하고 어떤 룰에 따라 답을 구해내는 일반적인 프로그래밍과 달리  \n",
    "머신러닝은 데이터와 답을 통해 룰을 찾아내는 방법이라고 볼 수 있습니다.\n",
    "— [a new programming paradigm](https://livebook.manning.com/book/deep-learning-with-python/chapter-1/)"
   ]
  },
  {
   "cell_type": "markdown",
   "metadata": {
    "id": "-26MCaeBWumM"
   },
   "source": [
    "## 선형회귀모델의 계수(Coefficients)"
   ]
  },
  {
   "cell_type": "markdown",
   "metadata": {
    "id": "7QpkRN0PWumP"
   },
   "source": [
    "모델이 주택의 크기와 가격 사이에서 어떤 관계를 학습했을까요?\n",
    "\n",
    "이 질문에 대한 답을 하기 위해 `LinearRegression` 객체의 `coef_`, `intercept_` 속성을 확인해 보겠습니다.\n",
    "- [sckit-learn.LinearRegression](https://scikit-learn.org/stable/modules/generated/sklearn.linear_model.LinearRegression.html)\n"
   ]
  },
  {
   "cell_type": "code",
   "execution_count": 45,
   "metadata": {
    "colab": {
     "base_uri": "https://localhost:8080/",
     "height": 34
    },
    "id": "DLvncqJ0WumQ",
    "outputId": "8e4eb40e-b350-4320-e90a-1e4605027b6d"
   },
   "outputs": [
    {
     "data": {
      "text/plain": [
       "array([[107.13035897]])"
      ]
     },
     "execution_count": 45,
     "metadata": {},
     "output_type": "execute_result"
    }
   ],
   "source": [
    "## 계수(coefficient)\n",
    "model.coef_"
   ]
  },
  {
   "cell_type": "code",
   "execution_count": 46,
   "metadata": {
    "id": "Pgp9QZa8XnIx",
    "outputId": "c0bf45fd-a7f0-4964-dd0b-9bd251c4c78c"
   },
   "outputs": [
    {
     "data": {
      "text/plain": [
       "array([18569.02585649])"
      ]
     },
     "execution_count": 46,
     "metadata": {},
     "output_type": "execute_result"
    }
   ],
   "source": [
    "## 절편(intercept)\n",
    "model.intercept_"
   ]
  },
  {
   "cell_type": "markdown",
   "metadata": {
    "id": "mT5jM1M3WumW"
   },
   "source": [
    "#### 예측함수를 만들어 새로운 데이터를 반복해서 예측하고 coefficient의 영향을 설명해 봅시다:"
   ]
  },
  {
   "cell_type": "code",
   "execution_count": 47,
   "metadata": {
    "id": "b2CEqLuxWumW"
   },
   "outputs": [],
   "source": [
    "def explain_prediction(sqft):\n",
    "    y_pred = model.predict([[sqft]])\n",
    "    pred = f\"{int(sqft)} sqft 주택 가격 예측: ${int(y_pred[0])} (1 sqft당 추가금: ${int(model.coef_[0])})\"\n",
    "\n",
    "    return pred"
   ]
  },
  {
   "cell_type": "code",
   "execution_count": 48,
   "metadata": {
    "id": "wDvFFG2uXnIy",
    "outputId": "1186b757-6bf2-4069-d426-80703121a144"
   },
   "outputs": [
    {
     "name": "stdout",
     "output_type": "stream",
     "text": [
      "4000 sqft 주택 가격 예측: $447090 (1 sqft당 추가금: $107)\n"
     ]
    }
   ],
   "source": [
    "## square_feet = 4000 인 테스트 데이터로 예측\n",
    "print(explain_prediction(4000))"
   ]
  },
  {
   "cell_type": "markdown",
   "metadata": {
    "id": "BAQAXUFDXnIy"
   },
   "source": [
    "#### ipywidgets를 사용해서 sqft를 바꾸어 가며 예측해 보겠습니다."
   ]
  },
  {
   "cell_type": "code",
   "execution_count": 49,
   "metadata": {
    "colab": {
     "base_uri": "https://localhost:8080/",
     "height": 34
    },
    "id": "zLPzHZBlXnIz",
    "outputId": "3a56631a-2e18-4f5a-bf4b-5847b49a9529"
   },
   "outputs": [
    {
     "data": {
      "application/vnd.jupyter.widget-view+json": {
       "model_id": "64d3689356a342ccb3f89fce8d24e83e",
       "version_major": 2,
       "version_minor": 0
      },
      "text/plain": [
       "interactive(children=(IntSlider(value=5250, description='sqft', max=10000, min=500), Output()), _dom_classes=(…"
      ]
     },
     "metadata": {},
     "output_type": "display_data"
    }
   ],
   "source": [
    "from ipywidgets import interact\n",
    "\n",
    "# 데코레이터 interact를 추가합니다.\n",
    "@interact\n",
    "\n",
    "def explain_prediction(sqft=(500,10000)):\n",
    "    y_pred = model.predict([[sqft]])\n",
    "    pred = f\"{int(sqft)} sqft 주택 가격 예측: ${int(y_pred[0])} (1 sqft당 추가금: ${int(model.coef_[0])})\"\n",
    "\n",
    "    return pred"
   ]
  },
  {
   "cell_type": "code",
   "execution_count": null,
   "metadata": {},
   "outputs": [],
   "source": []
  },
  {
   "cell_type": "markdown",
   "metadata": {
    "id": "k4FlvihhXnIz"
   },
   "source": [
    "## 마무리\n",
    "머신러닝 모델 중 처음으로 단순선형회귀모델에 관해서 배웠습니다.\n",
    "\n",
    "아직 한 종류의 특성을 사용한 단순한 모델이지만, 다음 시간에 배우게 될 다중선형회귀모델의 중요한 기초가 되니 오늘 배운 개념에 대해 잘 정리시면 도움이 많이 될 것입니다."
   ]
  },
  {
   "cell_type": "markdown",
   "metadata": {
    "id": "Vz8oqh_8Wumw"
   },
   "source": [
    "## 참고자료\n",
    "\n",
    "#### 기준모델\n",
    "- [Always start with a stupid model, no exceptions](https://blog.insightdatascience.com/always-start-with-a-stupid-model-no-exceptions-3a22314b9aaa)\n",
    "\n",
    "#### Scikit-Learn\n",
    "- [Python Data Science Handbook, Chapter 5.2: Introducing Scikit-Learn](https://jakevdp.github.io/PythonDataScienceHandbook/05.02-introducing-scikit-learn.html#Basics-of-the-API)\n",
    "- [2.4.2.2. Supervised Learning](https://ogrisel.github.io/scikit-learn.org/sklearn-tutorial/tutorial/text_analytics/general_concepts.html#supervised-learning-model-fit-x-y)\n",
    "- [sklearn.linear_model.LinearRegression](https://scikit-learn.org/stable/modules/generated/sklearn.linear_model.LinearRegression.html)\n",
    "- [sklearn.metrics.mean_absolute_error](https://scikit-learn.org/stable/modules/generated/sklearn.metrics.mean_absolute_error.html)\n",
    "\n",
    "#### 읽어보세요\n",
    "- [Art of Choosing Metrics in Supervised Models](https://towardsdatascience.com/art-of-choosing-metrics-in-supervised-models-part-1-f960ae46902e)\n",
    "- [The Discovery of Statistical Regression](https://priceonomics.com/the-discovery-of-statistical-regression/)\n",
    "\n",
    "#### 최소제곱법\n",
    "- [수학산책-최소제곱법](https://terms.naver.com/entry.nhn?cid=58944&docId=3569970&categoryId=58970)\n",
    "\n",
    "#### (참고) 더 세련된 시각화툴: Plotly\n",
    "- [Plotly Express](https://plot.ly/python/plotly-express/)\n",
    "- [plotly_express.scatter](https://www.plotly.express/plotly_express/#plotly_express.scatter)\n",
    "\n",
    "#### ipywidgets interact\n",
    "- [Using Interact](https://ipywidgets.readthedocs.io/en/stable/examples/Using%20Interact.html#Using-Interact)\n"
   ]
  }
 ],
 "metadata": {
  "colab": {
   "name": "n211-simple-regression.ipynb의 사본",
   "provenance": [
    {
     "file_id": "https://github.com/codestates/ds-section2-sprint1/blob/main/n211-simple-regression/n211-simple-regression.ipynb",
     "timestamp": 1626792223005
    }
   ]
  },
  "jupytext": {
   "main_language": "python"
  },
  "kernelspec": {
   "display_name": "Python 3",
   "language": "python",
   "name": "python3"
  },
  "language_info": {
   "codemirror_mode": {
    "name": "ipython",
    "version": 3
   },
   "file_extension": ".py",
   "mimetype": "text/x-python",
   "name": "python",
   "nbconvert_exporter": "python",
   "pygments_lexer": "ipython3",
   "version": "3.8.8"
  },
  "toc-autonumbering": false,
  "toc-showcode": false,
  "toc-showmarkdowntxt": false,
  "toc-showtags": false
 },
 "nbformat": 4,
 "nbformat_minor": 4
}
