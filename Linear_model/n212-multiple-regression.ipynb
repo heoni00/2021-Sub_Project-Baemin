{
 "cells": [
  {
   "cell_type": "markdown",
   "metadata": {
    "id": "XmOQQWETlITN"
   },
   "source": [
    "## *SECTION 2 / SPRINT 1 / NOTE 2*\n",
    "\n",
    "---\n",
    "\n",
    "# 다중선형회귀(Multiple Linear Regression)"
   ]
  },
  {
   "cell_type": "markdown",
   "metadata": {
    "id": "zmFCg6UArzn6"
   },
   "source": [
    "- 머신러닝모델을 만들 때 학습과 테스트 데이터를 분리 해야 하는 이유를 설명할 수 있습니다.\n",
    "- 다중선형회귀를 이해하고 사용할 수 있습니다.\n",
    "- 과적합/과소적합을 일반화 관점에서 설명할 수 있습니다.\n",
    "- 편향/분산의 트레이트오프 개념을 이해하고 일반화 관점에서 설명할 수 있습니다."
   ]
  },
  {
   "cell_type": "markdown",
   "metadata": {
    "id": "MjFdwO0lYrFY"
   },
   "source": [
    "## Warm up\n",
    "복습\n",
    "* 회귀모델을 만들 때 기준모델을 어떻게 정의하나요? 이 과정이 왜 중요할까요?\n",
    "* 회귀분석이 무엇인지 간단하게 설명해 보세요.\n",
    "\n",
    "다음 영상을 시청하세요.\n",
    "\n",
    "- [How to Calculate R Squared Using Regression Analysis](https://youtu.be/w2FKXOa0HGA)\n",
    "    - $R^2$ 값이 1에 가깝다는 것은 무엇을 의미하나요?\n",
    "\n",
    "- [Standard Error of the Estimate used in Regression Analysis (Mean Square Error)\n",
    "](https://youtu.be/r-txC-dpI-E)\n",
    "    - MSE 구하는 방법을 잘 살펴 보세요.\n",
    "    \n",
    "- [Training and testing](https://youtu.be/P2NqrFp8usY)\n",
    "    - 왜 훈련/테스트 데이터를 나누는 것일까요?\n",
    "\n",
    "- [Machine Learning Fundamentals: Bias and Variance](https://youtu.be/EuBBz3bI-aA)\n",
    "    - low bias, low variance 모델은 어떤 모델을 말하나요? 훈련/테스트세트를 사용해 설명해 보세요.\n",
    "\n",
    "\n",
    "#### 이번 강의에서 새롭게 사용하는 그래픽 라이브러리 입니다. 간단히 설명만 살펴보세요.\n",
    "\n",
    "* Plotly : [\"Getting Started with Plotly in Python\"](https://plot.ly/python/getting-started/#jupyterlab-support-python-35)\n"
   ]
  },
  {
   "cell_type": "markdown",
   "metadata": {
    "id": "TalzoPEVYrFZ"
   },
   "source": [
    "---"
   ]
  },
  {
   "cell_type": "markdown",
   "metadata": {
    "id": "lfSu67mLYrFZ"
   },
   "source": [
    "## 데이터를 학습/테스트 데이터로 나누어 봅시다.\n",
    "\n",
    "#### 이전 강의에서와 같이 주택 가격 데이터를 사용해 보겠습니다."
   ]
  },
  {
   "cell_type": "code",
   "execution_count": 5,
   "metadata": {
    "id": "ifJrzsIFYrFa"
   },
   "outputs": [],
   "source": [
    "import pandas as pd\n",
    "df = pd.read_csv('https://ds-lecture-data.s3.ap-northeast-2.amazonaws.com/house-prices/house_prices_train.csv')"
   ]
  },
  {
   "cell_type": "code",
   "execution_count": 6,
   "metadata": {
    "id": "TC2wxQQ1YrFb",
    "outputId": "093b62a5-b33a-4dbe-a4d6-b33327585ab4"
   },
   "outputs": [
    {
     "data": {
      "text/plain": [
       "Index(['Id', 'MSSubClass', 'MSZoning', 'LotFrontage', 'LotArea', 'Street',\n",
       "       'Alley', 'LotShape', 'LandContour', 'Utilities', 'LotConfig',\n",
       "       'LandSlope', 'Neighborhood', 'Condition1', 'Condition2', 'BldgType',\n",
       "       'HouseStyle', 'OverallQual', 'OverallCond', 'YearBuilt', 'YearRemodAdd',\n",
       "       'RoofStyle', 'RoofMatl', 'Exterior1st', 'Exterior2nd', 'MasVnrType',\n",
       "       'MasVnrArea', 'ExterQual', 'ExterCond', 'Foundation', 'BsmtQual',\n",
       "       'BsmtCond', 'BsmtExposure', 'BsmtFinType1', 'BsmtFinSF1',\n",
       "       'BsmtFinType2', 'BsmtFinSF2', 'BsmtUnfSF', 'TotalBsmtSF', 'Heating',\n",
       "       'HeatingQC', 'CentralAir', 'Electrical', '1stFlrSF', '2ndFlrSF',\n",
       "       'LowQualFinSF', 'GrLivArea', 'BsmtFullBath', 'BsmtHalfBath', 'FullBath',\n",
       "       'HalfBath', 'BedroomAbvGr', 'KitchenAbvGr', 'KitchenQual',\n",
       "       'TotRmsAbvGrd', 'Functional', 'Fireplaces', 'FireplaceQu', 'GarageType',\n",
       "       'GarageYrBlt', 'GarageFinish', 'GarageCars', 'GarageArea', 'GarageQual',\n",
       "       'GarageCond', 'PavedDrive', 'WoodDeckSF', 'OpenPorchSF',\n",
       "       'EnclosedPorch', '3SsnPorch', 'ScreenPorch', 'PoolArea', 'PoolQC',\n",
       "       'Fence', 'MiscFeature', 'MiscVal', 'MoSold', 'YrSold', 'SaleType',\n",
       "       'SaleCondition', 'SalePrice'],\n",
       "      dtype='object')"
      ]
     },
     "execution_count": 6,
     "metadata": {},
     "output_type": "execute_result"
    }
   ],
   "source": [
    "## 컬럼명을 살펴봅시다.\n",
    "df.columns"
   ]
  },
  {
   "cell_type": "markdown",
   "metadata": {
    "id": "LvrzIiQIYrFc"
   },
   "source": [
    "이 데이터를 가지고 몇가지 회귀 모델을 만들어 보고, 모델의 성능을 평가하기 위해 훈련/테스트 데이터로 나누어 봅시다.\n",
    "\n",
    "- 우리가 정말 관심있는것은 모델 학습에 사용한 **훈련(train) 데이터를 잘 맞추는 모델이 아니라, 학습에 사용하지 않은 테스트(test) 데이터를 얼마나 잘 맞추는지** 입니다.\n",
    "\n",
    "- 데이터를 훈련/테스트 데이터로 나누어야 우리가 **만든 모델의 예측 성능을 제대로 평가**할 수 있습니다."
   ]
  },
  {
   "cell_type": "markdown",
   "metadata": {
    "id": "ivKv6Z3MYrFd"
   },
   "source": [
    "다시 강조하자면 **학습에 사용하는 데이터와 모델을 평가하는데 사용하는 데이터가 달라야 한다**는 의미입니다.\n",
    "\n",
    "**그렇다면 데이터를 어떻게 나누어야 할까요?**\n",
    "\n",
    "> 데이터를 무작위로 선택해 나누는 방법이 일반적이지만, 시계열 데이터를 가지고 과거에서 미래를 예측하려고 하는 경우 무작위로 데이터를 섞으면 절대로 안될것 입니다. 이때는 훈련 데이터 보다 테스트 데이터가 미래의 것이어야 할 것입니다."
   ]
  },
  {
   "cell_type": "markdown",
   "metadata": {
    "id": "1dEf1Ve8YrFe"
   },
   "source": [
    "#### 그러면 데이터를 나누어 볼까요?\n",
    "\n",
    "이 데이터는 시간/날짜에 관한 정보를 포함한 특성들이 있습니다. 하지만 우리는 시간변화에 상관없는 집값 예측이 목표이기 때문에 **무작위로 훈련/테스트 데이터셋**으로 나누어 보겠습니다."
   ]
  },
  {
   "cell_type": "code",
   "execution_count": 8,
   "metadata": {
    "id": "Sat3E154YrFe",
    "outputId": "c28774d4-46f4-4828-c0c1-8ddef1ce081c"
   },
   "outputs": [
    {
     "data": {
      "text/plain": [
       "1095.0"
      ]
     },
     "execution_count": 8,
     "metadata": {},
     "output_type": "execute_result"
    }
   ],
   "source": [
    "## 데이터의 75% 갯수\n",
    "len(df)*0.75"
   ]
  },
  {
   "cell_type": "code",
   "execution_count": 9,
   "metadata": {
    "id": "UTJZNMBAYrFf"
   },
   "outputs": [],
   "source": [
    "## train/test 데이터를 sample 메소드를 사용해 나누겠습니다.\n",
    "train = df.sample(frac=0.75,random_state=1) # 랜덤 정하기 \n",
    "test = df.drop(train.index) "
   ]
  },
  {
   "cell_type": "markdown",
   "metadata": {
    "id": "FRbbqyW8YrFf"
   },
   "source": [
    "훈련/테스트 데이터셋이 어떻게 나뉘었는지 볼까요?"
   ]
  },
  {
   "cell_type": "code",
   "execution_count": null,
   "metadata": {
    "id": "fRWU6Y-EYrFf",
    "outputId": "c3518176-cf58-4380-b69f-db3038f4ff84"
   },
   "outputs": [
    {
     "data": {
      "text/html": [
       "<div>\n",
       "<style scoped>\n",
       "    .dataframe tbody tr th:only-of-type {\n",
       "        vertical-align: middle;\n",
       "    }\n",
       "\n",
       "    .dataframe tbody tr th {\n",
       "        vertical-align: top;\n",
       "    }\n",
       "\n",
       "    .dataframe thead th {\n",
       "        text-align: right;\n",
       "    }\n",
       "</style>\n",
       "<table border=\"1\" class=\"dataframe\">\n",
       "  <thead>\n",
       "    <tr style=\"text-align: right;\">\n",
       "      <th></th>\n",
       "      <th>Id</th>\n",
       "      <th>MSSubClass</th>\n",
       "      <th>MSZoning</th>\n",
       "      <th>LotFrontage</th>\n",
       "      <th>LotArea</th>\n",
       "      <th>Street</th>\n",
       "      <th>Alley</th>\n",
       "      <th>LotShape</th>\n",
       "      <th>LandContour</th>\n",
       "      <th>Utilities</th>\n",
       "      <th>...</th>\n",
       "      <th>PoolArea</th>\n",
       "      <th>PoolQC</th>\n",
       "      <th>Fence</th>\n",
       "      <th>MiscFeature</th>\n",
       "      <th>MiscVal</th>\n",
       "      <th>MoSold</th>\n",
       "      <th>YrSold</th>\n",
       "      <th>SaleType</th>\n",
       "      <th>SaleCondition</th>\n",
       "      <th>SalePrice</th>\n",
       "    </tr>\n",
       "  </thead>\n",
       "  <tbody>\n",
       "    <tr>\n",
       "      <th>258</th>\n",
       "      <td>259</td>\n",
       "      <td>60</td>\n",
       "      <td>RL</td>\n",
       "      <td>80.0</td>\n",
       "      <td>12435</td>\n",
       "      <td>Pave</td>\n",
       "      <td>NaN</td>\n",
       "      <td>Reg</td>\n",
       "      <td>Lvl</td>\n",
       "      <td>AllPub</td>\n",
       "      <td>...</td>\n",
       "      <td>0</td>\n",
       "      <td>NaN</td>\n",
       "      <td>NaN</td>\n",
       "      <td>NaN</td>\n",
       "      <td>0</td>\n",
       "      <td>5</td>\n",
       "      <td>2008</td>\n",
       "      <td>WD</td>\n",
       "      <td>Normal</td>\n",
       "      <td>231500</td>\n",
       "    </tr>\n",
       "    <tr>\n",
       "      <th>267</th>\n",
       "      <td>268</td>\n",
       "      <td>75</td>\n",
       "      <td>RL</td>\n",
       "      <td>60.0</td>\n",
       "      <td>8400</td>\n",
       "      <td>Pave</td>\n",
       "      <td>NaN</td>\n",
       "      <td>Reg</td>\n",
       "      <td>Bnk</td>\n",
       "      <td>AllPub</td>\n",
       "      <td>...</td>\n",
       "      <td>0</td>\n",
       "      <td>NaN</td>\n",
       "      <td>NaN</td>\n",
       "      <td>NaN</td>\n",
       "      <td>0</td>\n",
       "      <td>7</td>\n",
       "      <td>2008</td>\n",
       "      <td>WD</td>\n",
       "      <td>Normal</td>\n",
       "      <td>179500</td>\n",
       "    </tr>\n",
       "    <tr>\n",
       "      <th>288</th>\n",
       "      <td>289</td>\n",
       "      <td>20</td>\n",
       "      <td>RL</td>\n",
       "      <td>NaN</td>\n",
       "      <td>9819</td>\n",
       "      <td>Pave</td>\n",
       "      <td>NaN</td>\n",
       "      <td>IR1</td>\n",
       "      <td>Lvl</td>\n",
       "      <td>AllPub</td>\n",
       "      <td>...</td>\n",
       "      <td>0</td>\n",
       "      <td>NaN</td>\n",
       "      <td>MnPrv</td>\n",
       "      <td>NaN</td>\n",
       "      <td>0</td>\n",
       "      <td>2</td>\n",
       "      <td>2010</td>\n",
       "      <td>WD</td>\n",
       "      <td>Normal</td>\n",
       "      <td>122000</td>\n",
       "    </tr>\n",
       "    <tr>\n",
       "      <th>649</th>\n",
       "      <td>650</td>\n",
       "      <td>180</td>\n",
       "      <td>RM</td>\n",
       "      <td>21.0</td>\n",
       "      <td>1936</td>\n",
       "      <td>Pave</td>\n",
       "      <td>NaN</td>\n",
       "      <td>Reg</td>\n",
       "      <td>Lvl</td>\n",
       "      <td>AllPub</td>\n",
       "      <td>...</td>\n",
       "      <td>0</td>\n",
       "      <td>NaN</td>\n",
       "      <td>MnPrv</td>\n",
       "      <td>NaN</td>\n",
       "      <td>0</td>\n",
       "      <td>12</td>\n",
       "      <td>2007</td>\n",
       "      <td>WD</td>\n",
       "      <td>Normal</td>\n",
       "      <td>84500</td>\n",
       "    </tr>\n",
       "    <tr>\n",
       "      <th>1233</th>\n",
       "      <td>1234</td>\n",
       "      <td>20</td>\n",
       "      <td>RL</td>\n",
       "      <td>NaN</td>\n",
       "      <td>12160</td>\n",
       "      <td>Pave</td>\n",
       "      <td>NaN</td>\n",
       "      <td>IR1</td>\n",
       "      <td>Lvl</td>\n",
       "      <td>AllPub</td>\n",
       "      <td>...</td>\n",
       "      <td>0</td>\n",
       "      <td>NaN</td>\n",
       "      <td>MnPrv</td>\n",
       "      <td>NaN</td>\n",
       "      <td>0</td>\n",
       "      <td>5</td>\n",
       "      <td>2010</td>\n",
       "      <td>COD</td>\n",
       "      <td>Abnorml</td>\n",
       "      <td>142000</td>\n",
       "    </tr>\n",
       "  </tbody>\n",
       "</table>\n",
       "<p>5 rows × 81 columns</p>\n",
       "</div>"
      ],
      "text/plain": [
       "        Id  MSSubClass MSZoning  LotFrontage  LotArea Street Alley LotShape  \\\n",
       "258    259          60       RL         80.0    12435   Pave   NaN      Reg   \n",
       "267    268          75       RL         60.0     8400   Pave   NaN      Reg   \n",
       "288    289          20       RL          NaN     9819   Pave   NaN      IR1   \n",
       "649    650         180       RM         21.0     1936   Pave   NaN      Reg   \n",
       "1233  1234          20       RL          NaN    12160   Pave   NaN      IR1   \n",
       "\n",
       "     LandContour Utilities  ... PoolArea PoolQC  Fence MiscFeature MiscVal  \\\n",
       "258          Lvl    AllPub  ...        0    NaN    NaN         NaN       0   \n",
       "267          Bnk    AllPub  ...        0    NaN    NaN         NaN       0   \n",
       "288          Lvl    AllPub  ...        0    NaN  MnPrv         NaN       0   \n",
       "649          Lvl    AllPub  ...        0    NaN  MnPrv         NaN       0   \n",
       "1233         Lvl    AllPub  ...        0    NaN  MnPrv         NaN       0   \n",
       "\n",
       "     MoSold YrSold  SaleType  SaleCondition  SalePrice  \n",
       "258       5   2008        WD         Normal     231500  \n",
       "267       7   2008        WD         Normal     179500  \n",
       "288       2   2010        WD         Normal     122000  \n",
       "649      12   2007        WD         Normal      84500  \n",
       "1233      5   2010       COD        Abnorml     142000  \n",
       "\n",
       "[5 rows x 81 columns]"
      ]
     },
     "execution_count": 42,
     "metadata": {
      "tags": []
     },
     "output_type": "execute_result"
    }
   ],
   "source": [
    "## head\n",
    "train.head()"
   ]
  },
  {
   "cell_type": "code",
   "execution_count": null,
   "metadata": {
    "colab": {
     "base_uri": "https://localhost:8080/",
     "height": 34
    },
    "id": "IwsFNRRl5ago",
    "outputId": "542f2884-d952-4e54-e6ff-f2268da01336"
   },
   "outputs": [
    {
     "data": {
      "text/plain": [
       "(1095, 365)"
      ]
     },
     "execution_count": 43,
     "metadata": {
      "tags": []
     },
     "output_type": "execute_result"
    }
   ],
   "source": [
    "## train, test 길이 비교\n",
    "len(train), len(test)"
   ]
  },
  {
   "cell_type": "markdown",
   "metadata": {
    "id": "WTzRzrRwYrFg"
   },
   "source": [
    "지금은 단순하게 데이터의 일정 부분을 테스트 셋으로 떼어 놓았습니다.\n",
    "데이터셋을 준비했으니,"
   ]
  },
  {
   "cell_type": "markdown",
   "metadata": {
    "id": "0jqNcyDg5agr"
   },
   "source": [
    "## 다중선형회귀모델을 학습해 봅시다."
   ]
  },
  {
   "cell_type": "markdown",
   "metadata": {
    "id": "BzEcjXpp5ags"
   },
   "source": [
    "이번에는 이전 강의에서 배운것 처럼\n",
    "- 기준모델과 (특성 없음)\n",
    "- 단순선형회귀 모델을 만들고 (특성 한 개 사용)\n",
    "- 2 개 이상의 특성들을 사용하는 다중선형회귀모델을 만들어 봅시다."
   ]
  },
  {
   "cell_type": "markdown",
   "metadata": {
    "id": "6mYp_0Aq5ags"
   },
   "source": [
    "### 기준모델"
   ]
  },
  {
   "cell_type": "markdown",
   "metadata": {
    "id": "d_0nPUcQ0RpB"
   },
   "source": [
    "우선 **타겟인 SalePrice의 평균**을 기준모델로 사용해 보겠습니다. "
   ]
  },
  {
   "cell_type": "code",
   "execution_count": null,
   "metadata": {
    "colab": {
     "base_uri": "https://localhost:8080/",
     "height": 34
    },
    "id": "mjm2CBV1ty35",
    "outputId": "4d074079-62c0-447b-c197-d3aa5990c963"
   },
   "outputs": [
    {
     "data": {
      "text/plain": [
       "180327.24200913243"
      ]
     },
     "execution_count": 44,
     "metadata": {
      "tags": []
     },
     "output_type": "execute_result"
    }
   ],
   "source": [
    "# SalePrice 평균\n",
    "train['SalePrice'].mean()"
   ]
  },
  {
   "cell_type": "code",
   "execution_count": null,
   "metadata": {
    "id": "ex2qGMExYrFi"
   },
   "outputs": [],
   "source": [
    "# label 정의\n",
    "target = 'SalePrice'\n",
    "y_train = train[target]\n",
    "y_test = test[target]"
   ]
  },
  {
   "cell_type": "code",
   "execution_count": null,
   "metadata": {
    "id": "OQ4JGKetYrFi"
   },
   "outputs": [],
   "source": [
    "# SalePrice 평균값으로 예측(기준모델)\n",
    "predict = y_train.mean()"
   ]
  },
  {
   "cell_type": "code",
   "execution_count": null,
   "metadata": {
    "id": "bh39UNHMYrFj",
    "outputId": "859efaa4-66dd-4c75-d4f8-f2e5048f0d70"
   },
   "outputs": [
    {
     "data": {
      "text/plain": [
       "180327.24200913243"
      ]
     },
     "execution_count": 47,
     "metadata": {
      "tags": []
     },
     "output_type": "execute_result"
    }
   ],
   "source": [
    "predict"
   ]
  },
  {
   "cell_type": "code",
   "execution_count": null,
   "metadata": {
    "id": "0UT1UR7aYrFj",
    "outputId": "e49d9fff-7552-4778-8f98-79eafef6103e"
   },
   "outputs": [
    {
     "name": "stdout",
     "output_type": "stream",
     "text": [
      "훈련 에러: 57775.57\n"
     ]
    }
   ],
   "source": [
    "# 기준모델로 훈련 에러(MAE) 계산\n",
    "from sklearn.metrics import mean_absolute_error\n",
    "y_pred = [predict] * len(y_train)\n",
    "mae = mean_absolute_error(y_train, y_pred)\n",
    "\n",
    "print(f'훈련 에러: {mae:.2f}')"
   ]
  },
  {
   "cell_type": "code",
   "execution_count": null,
   "metadata": {
    "colab": {
     "base_uri": "https://localhost:8080/",
     "height": 68
    },
    "id": "3ma2uzUD5agv",
    "outputId": "e29c30e3-e06c-4a9b-8d15-07855519c066"
   },
   "outputs": [
    {
     "name": "stdout",
     "output_type": "stream",
     "text": [
      "테스트 에러: 55862.90\n"
     ]
    }
   ],
   "source": [
    "# 테스트 에러(MAE)\n",
    "y_pred = [predict] * len(y_test)\n",
    "mae = mean_absolute_error(y_test, y_pred)\n",
    "print(f'테스트 에러: {mae:.2f}')"
   ]
  },
  {
   "cell_type": "markdown",
   "metadata": {
    "id": "JTaTwOCN5ag2"
   },
   "source": [
    "### scikit-learn을 사용해서 단순선형회귀모델을 만들어 봅시다."
   ]
  },
  {
   "cell_type": "markdown",
   "metadata": {
    "id": "RaQj9J7P5agy"
   },
   "source": [
    "먼저 GrLivArea (지상생활면적, sqft)와 SalePrice를 사용, scatterplot을 그리고 OLS 라인을 그려 봅시다."
   ]
  },
  {
   "cell_type": "code",
   "execution_count": null,
   "metadata": {
    "id": "aMlYMC9sYrFk",
    "outputId": "0451e04e-4231-4414-a8dc-91522ac00ce7"
   },
   "outputs": [
    {
     "data": {
      "image/png": "[encoded data removed]",
      "text/plain": [
       "<Figure size 360x360 with 1 Axes>"
      ]
     },
     "metadata": {
      "needs_background": "light",
      "tags": []
     },
     "output_type": "display_data"
    }
   ],
   "source": [
    "import seaborn as sns\n",
    "sns.regplot(x=train['GrLivArea'], y=train['SalePrice']).set_title('Housing Prices');"
   ]
  },
  {
   "cell_type": "markdown",
   "metadata": {
    "id": "GiPG8l9PYrFl"
   },
   "source": [
    "이번에는 sklearn으로 단순선형회귀모델을 학습해 봅시다."
   ]
  },
  {
   "cell_type": "code",
   "execution_count": null,
   "metadata": {
    "id": "RUCkRA4mYrFl",
    "outputId": "b9dc1889-a663-4749-f03d-73a11ae1bfa2"
   },
   "outputs": [
    {
     "name": "stdout",
     "output_type": "stream",
     "text": [
      "훈련 에러: 38327.78\n"
     ]
    }
   ],
   "source": [
    "from sklearn.linear_model import LinearRegression\n",
    "\n",
    "model = LinearRegression()\n",
    "\n",
    "features = ['GrLivArea']\n",
    "X_train = train[features]\n",
    "X_test = test[features]\n",
    "\n",
    "# 모델 fit\n",
    "model.fit(X_train, y_train)\n",
    "y_pred = model.predict(X_train)\n",
    "mae = mean_absolute_error(y_train, y_pred)\n",
    "print(f'훈련 에러: {mae:.2f}')"
   ]
  },
  {
   "cell_type": "code",
   "execution_count": null,
   "metadata": {
    "id": "mAO8CedxYrFl",
    "outputId": "b44376e4-beb8-460a-b2fb-3887db80dba6"
   },
   "outputs": [
    {
     "name": "stdout",
     "output_type": "stream",
     "text": [
      "테스트 에러: 35476.63\n"
     ]
    }
   ],
   "source": [
    "# 테스트 데이터에 적용\n",
    "y_pred = model.predict(X_test)\n",
    "mae = mean_absolute_error(y_test, y_pred)\n",
    "print(f'테스트 에러: {mae:.2f}')"
   ]
  },
  {
   "cell_type": "markdown",
   "metadata": {
    "id": "pMW4wSmC5ag4"
   },
   "source": [
    "**기준모델과 비교해 보면 에러가 줄어든 것을 확인할 수 있습니다.**"
   ]
  },
  {
   "cell_type": "markdown",
   "metadata": {
    "id": "8PBgsYaa5ag4"
   },
   "source": [
    "### 다중선형회귀모델 학습 (특성 2개 이상)"
   ]
  },
  {
   "cell_type": "markdown",
   "metadata": {
    "id": "H9fEbVTE0ZMe"
   },
   "source": [
    "우선 OverallQual 특성을 추가하여 그래프를 확인해 보겠습니다."
   ]
  },
  {
   "cell_type": "code",
   "execution_count": null,
   "metadata": {
    "id": "nuqe9wteYrFn",
    "outputId": "ef7a30ab-417e-4f58-eff0-fe799d55322e"
   },
   "outputs": [
    {
     "data": {
      "image/png": "[encoded data removed]",
      "text/plain": [
       "<Figure size 748.8x514.8 with 1 Axes>"
      ]
     },
     "metadata": {
      "needs_background": "light",
      "tags": []
     },
     "output_type": "display_data"
    }
   ],
   "source": [
    "import matplotlib.pyplot as plt\n",
    "import numpy as np\n",
    "from matplotlib import style\n",
    "\n",
    "style.use('seaborn-talk')\n",
    "fig = plt.figure()\n",
    "\n",
    "# for 3d plot\n",
    "ax = fig.gca(projection='3d')\n",
    "\n",
    "ax.scatter(train['GrLivArea'], train['OverallQual'], train['SalePrice'])\n",
    "ax.set_xlabel('GrLivArea', labelpad=12)\n",
    "ax.set_ylabel('OverallQual', labelpad=10)\n",
    "ax.set_zlabel('SalePrice', labelpad=20)\n",
    "\n",
    "plt.suptitle('Housing Prices', fontsize=15)\n",
    "plt.show()\n",
    "\n",
    "# (참고) plotly를 사용해서 상대적으로 간단히 그래프를 그릴 수도 있습니다.\n",
    "# px.scatter_3d(\n",
    "#     train,\n",
    "#     x='GrLivArea', \n",
    "#     y='OverallQual', \n",
    "#     z='SalePrice',  \n",
    "#     title='House Prices'\n",
    "# )"
   ]
  },
  {
   "cell_type": "markdown",
   "metadata": {
    "id": "MNoTuf9v7l6A"
   },
   "source": [
    "scikit-learn을 사용해서 다중선형회귀 모델을 만들어 봅시다."
   ]
  },
  {
   "cell_type": "code",
   "execution_count": null,
   "metadata": {
    "id": "y5122s62YrFo"
   },
   "outputs": [],
   "source": [
    "# 다중모델 학습을 위한 특성\n",
    "features = ['GrLivArea', \n",
    "            'OverallQual']\n",
    "X_train = train[features]\n",
    "X_test = test[features]"
   ]
  },
  {
   "cell_type": "code",
   "execution_count": null,
   "metadata": {
    "id": "f1Weku4hYrFo",
    "outputId": "ea2a3efe-87d0-4a92-8ec7-f19f334fa74b"
   },
   "outputs": [
    {
     "name": "stdout",
     "output_type": "stream",
     "text": [
      "훈련 에러: 29129.58\n"
     ]
    }
   ],
   "source": [
    "# 모델 fit\n",
    "model.fit(X_train, y_train)\n",
    "y_pred = model.predict(X_train)\n",
    "mae = mean_absolute_error(y_train, y_pred)\n",
    "print(f'훈련 에러: {mae:.2f}')\n"
   ]
  },
  {
   "cell_type": "code",
   "execution_count": null,
   "metadata": {
    "colab": {
     "base_uri": "https://localhost:8080/",
     "height": 68
    },
    "id": "_Mijdiua5ag8",
    "outputId": "4f04cc5f-cd34-4f58-b546-3bdbacea1864"
   },
   "outputs": [
    {
     "name": "stdout",
     "output_type": "stream",
     "text": [
      "테스트 에러: 27598.31\n"
     ]
    }
   ],
   "source": [
    "# 테스트 데이터에 적용해 봅시다 \n",
    "y_pred = model.predict(X_test)\n",
    "mae = mean_absolute_error(y_test, y_pred)\n",
    "print(f'테스트 에러: {mae:.2f}')\n"
   ]
  },
  {
   "cell_type": "markdown",
   "metadata": {
    "id": "gFWUbulkYrFp"
   },
   "source": [
    "하나의 특성을 사용한 단순선형회귀모델보다 테스트 오류가 더 줄어든 것을 확인할 수 있습니다. "
   ]
  },
  {
   "cell_type": "markdown",
   "metadata": {
    "id": "9zKDY_CJ5ag-"
   },
   "source": [
    "#### 단순선형회귀 모델과 비교하면 어떤가요?"
   ]
  },
  {
   "cell_type": "markdown",
   "metadata": {
    "id": "t27N85U85ahA"
   },
   "source": [
    "단순선형회귀에서는 모델이 직선의 방정식으로 표현이 되었다면, 이번에는 특성이 두 개이므로 평면의 방정식으로 표현이 됩니다.\n",
    "\n",
    "Plotly를 사용하여 3D 평면을 표현해 보겠습니다."
   ]
  },
  {
   "cell_type": "code",
   "execution_count": null,
   "metadata": {
    "id": "MQ73YaIF0gJC"
   },
   "outputs": [],
   "source": [
    "import numpy as np\n",
    "import plotly.express as px\n",
    "import plotly.graph_objs as go\n",
    "import itertools\n",
    "\n",
    "def surface_3d(df, f1, f2, target, length=20, **kwargs):\n",
    "    \"\"\"\n",
    "    2특성 1타겟 선형모델평면을 시각화 합니다.\n",
    "    \n",
    "    df : 데이터프레임\n",
    "    f1 : 특성 1 열 이름\n",
    "    f2 : 특성 2 열 이름\n",
    "    target : 타겟 열 이름\n",
    "    length : 각 특성의 관측치 갯수\n",
    "    \n",
    "    \"\"\"\n",
    "    \n",
    "    # scatter plot(https://plotly.com/python-api-reference/generated/plotly.express.scatter_3d)\n",
    "    plot = px.scatter_3d(df, x=f1, y=f2, z=target, opacity=0.5, **kwargs)\n",
    "    \n",
    "    # 다중선형회귀방정식 학습\n",
    "    model = LinearRegression()\n",
    "    model.fit(df[[f1, f2]], df[target])    \n",
    "\n",
    "    # 좌표축 설정\n",
    "    x_axis = np.linspace(df[f1].min(), df[f1].max(), length)\n",
    "    y_axis = np.linspace(df[f2].min(), df[f2].max(), length)\n",
    "    coords = list(itertools.product(x_axis, y_axis))\n",
    "    \n",
    "    # 예측\n",
    "    pred = model.predict(coords)\n",
    "    z_axis = pred.reshape(length, length).T\n",
    "    \n",
    "    # plot 예측평면\n",
    "    plot.add_trace(go.Surface(x=x_axis, y=y_axis, z=z_axis, colorscale='Viridis'))\n",
    "    \n",
    "    return plot"
   ]
  },
  {
   "cell_type": "code",
   "execution_count": null,
   "metadata": {
    "colab": {
     "base_uri": "https://localhost:8080/",
     "height": 617
    },
    "id": "f2TMPMM4u_5I",
    "outputId": "415ffe80-e782-471f-8748-cd8e86abb255"
   },
   "outputs": [
    {
     "data": {
      "application/vnd.plotly.v1+json": {
       "config": {
        "plotlyServerURL": "https://plot.ly"
       },
       "data": [
        {
         "hovertemplate": "GrLivArea=%{x}<br>OverallQual=%{y}<br>SalePrice=%{z}<extra></extra>",
         "legendgroup": "",
         "marker": {
          "color": "#636efa",
          "opacity": 0.5,
          "symbol": "circle"
         },
         "mode": "markers",
         "name": "",
         "scene": "scene",
         "showlegend": false,
         "type": "scatter3d",
         "x": [
          1792,
          2192,
          900,
          630,
          1188,
          2161,
          2374,
          1200,
          1948,
          1644,
          1484,
          904,
          1555,
          1842,
          1654,
          1248,
          894,
          1235,
          1524,
          923,
          1040,
          2290,
          1616,
          1718,
          784,
          1851,
          1362,
          1349,
          3140,
          1365,
          2138,
          1218,
          864,
          924,
          1297,
          1944,
          972,
          869,
          2329,
          1346,
          1716,
          1196,
          803,
          893,
          1690,
          1657,
          1111,
          1266,
          1468,
          2167,
          882,
          3493,
          778,
          2020,
          1240,
          789,
          950,
          1430,
          1128,
          1732,
          1516,
          2452,
          841,
          768,
          1486,
          999,
          1469,
          1850,
          1126,
          1526,
          3086,
          1452,
          2468,
          1646,
          1466,
          1358,
          1482,
          1308,
          2633,
          1258,
          2142,
          1573,
          860,
          1264,
          1714,
          1200,
          1426,
          1158,
          1845,
          1683,
          1402,
          1309,
          864,
          1224,
          1301,
          1250,
          912,
          1339,
          1026,
          1159,
          1968,
          816,
          1363,
          872,
          1008,
          1768,
          1316,
          1717,
          1482,
          2622,
          1539,
          2008,
          1117,
          1414,
          1801,
          1456,
          1466,
          955,
          1920,
          1707,
          1604,
          1489,
          2794,
          1818,
          2521,
          1298,
          1766,
          1044,
          2090,
          1692,
          2172,
          944,
          1008,
          1200,
          764,
          1494,
          3627,
          1702,
          2291,
          912,
          1517,
          2872,
          1414,
          1557,
          1317,
          1797,
          1134,
          1430,
          1861,
          925,
          1253,
          1481,
          864,
          1600,
          1626,
          2576,
          1526,
          1211,
          1140,
          1475,
          800,
          1073,
          1556,
          1004,
          918,
          1144,
          1573,
          1524,
          1728,
          1347,
          1947,
          1824,
          2236,
          1689,
          1675,
          936,
          2119,
          1786,
          1271,
          1342,
          988,
          1456,
          1632,
          912,
          1836,
          1795,
          2042,
          2473,
          1635,
          864,
          858,
          1507,
          987,
          1739,
          1385,
          2263,
          1630,
          1244,
          1152,
          708,
          1661,
          2127,
          1445,
          1571,
          1709,
          1284,
          1221,
          2462,
          2727,
          1786,
          1668,
          833,
          1458,
          864,
          1718,
          1939,
          874,
          1040,
          1572,
          988,
          4476,
          864,
          1471,
          1920,
          1367,
          864,
          1590,
          1291,
          1224,
          1430,
          1360,
          1640,
          1208,
          1539,
          1620,
          1535,
          2531,
          948,
          1738,
          2392,
          1792,
          1802,
          1040,
          1788,
          1039,
          2229,
          1190,
          1578,
          1389,
          988,
          899,
          752,
          1553,
          1279,
          1664,
          1176,
          1217,
          605,
          1698,
          1040,
          1296,
          2136,
          1768,
          1337,
          1304,
          1686,
          988,
          999,
          1136,
          987,
          1725,
          1498,
          1184,
          974,
          1868,
          1124,
          1302,
          912,
          1991,
          1086,
          1652,
          1057,
          1576,
          1074,
          1935,
          1541,
          1412,
          882,
          1656,
          968,
          835,
          2078,
          2200,
          1294,
          1310,
          1982,
          1593,
          2054,
          1086,
          988,
          1251,
          1120,
          1236,
          1682,
          1056,
          1888,
          1116,
          1743,
          1656,
          1266,
          1350,
          1824,
          1178,
          1614,
          1456,
          796,
          1970,
          1442,
          1440,
          1647,
          1660,
          1556,
          1869,
          2097,
          1164,
          2945,
          1145,
          2127,
          1487,
          1369,
          923,
          1742,
          1958,
          1704,
          1572,
          1680,
          958,
          1056,
          2418,
          1456,
          1661,
          1801,
          747,
          1518,
          1040,
          1126,
          1392,
          1212,
          1506,
          935,
          1550,
          1080,
          1922,
          1268,
          1092,
          1768,
          1665,
          1090,
          936,
          2452,
          1360,
          1414,
          1365,
          1668,
          2080,
          1694,
          1576,
          1958,
          1803,
          1164,
          894,
          1337,
          1436,
          1314,
          1869,
          2634,
          1092,
          1310,
          1472,
          2713,
          1501,
          480,
          1932,
          1774,
          866,
          2290,
          1512,
          2018,
          1912,
          886,
          1973,
          1442,
          1146,
          1372,
          1548,
          958,
          796,
          2263,
          1620,
          2097,
          1800,
          1370,
          2784,
          1567,
          1432,
          1721,
          1128,
          1269,
          1552,
          1258,
          1573,
          2715,
          1446,
          1200,
          864,
          996,
          2337,
          1192,
          1224,
          1593,
          720,
          894,
          1440,
          864,
          2196,
          1588,
          1746,
          1453,
          1328,
          968,
          1509,
          1225,
          3228,
          1496,
          1554,
          1250,
          1671,
          2515,
          1411,
          2062,
          1065,
          2345,
          1306,
          1796,
          952,
          912,
          1850,
          1320,
          1771,
          1724,
          1981,
          864,
          894,
          1068,
          1188,
          2256,
          1196,
          1056,
          960,
          1530,
          2090,
          1163,
          1344,
          1294,
          971,
          1915,
          1710,
          1236,
          2113,
          1121,
          2728,
          2110,
          1489,
          913,
          1509,
          960,
          1247,
          1734,
          2084,
          1971,
          2526,
          1494,
          1200,
          768,
          1664,
          1756,
          2372,
          1212,
          1525,
          1694,
          1144,
          2110,
          1220,
          816,
          1442,
          804,
          1734,
          882,
          1339,
          1498,
          1050,
          1208,
          1561,
          2417,
          1960,
          1040,
          1056,
          2126,
          1324,
          980,
          1641,
          1288,
          987,
          1708,
          1220,
          790,
          2002,
          1041,
          1479,
          5642,
          1246,
          1530,
          1368,
          1969,
          2519,
          788,
          816,
          2654,
          1478,
          1258,
          1192,
          1721,
          1040,
          1077,
          1489,
          1040,
          1221,
          1844,
          910,
          1181,
          1575,
          864,
          1664,
          1216,
          1635,
          754,
          1680,
          1567,
          1141,
          1126,
          2285,
          1764,
          1382,
          1976,
          1355,
          2520,
          1482,
          1479,
          2243,
          1872,
          894,
          1374,
          1826,
          1224,
          2320,
          2340,
          2596,
          1258,
          2112,
          1296,
          848,
          987,
          848,
          1500,
          1582,
          1230,
          1082,
          1100,
          1744,
          2358,
          1577,
          1646,
          2365,
          1908,
          2898,
          1663,
          2158,
          2094,
          1336,
          1203,
          1668,
          630,
          1987,
          1779,
          1792,
          2108,
          1324,
          1935,
          1660,
          2448,
          1719,
          1173,
          1812,
          1154,
          1660,
          780,
          1494,
          1578,
          1478,
          1728,
          816,
          1687,
          1241,
          1742,
          2730,
          1720,
          1440,
          1844,
          1148,
          2046,
          1728,
          1392,
          1180,
          1441,
          1103,
          1718,
          1604,
          2060,
          1786,
          1795,
          986,
          1094,
          1431,
          438,
          1144,
          1131,
          1218,
          1442,
          2028,
          1125,
          902,
          1362,
          1865,
          1978,
          1005,
          1484,
          1154,
          1689,
          1214,
          2324,
          1376,
          1629,
          1494,
          2132,
          1370,
          894,
          1904,
          1360,
          784,
          894,
          1474,
          1929,
          1959,
          2034,
          1804,
          1656,
          1750,
          1710,
          960,
          1140,
          1479,
          1959,
          1767,
          1509,
          894,
          1242,
          2828,
          924,
          1121,
          1701,
          1928,
          1294,
          1092,
          1232,
          1470,
          698,
          845,
          1476,
          1234,
          1694,
          1652,
          1595,
          1616,
          1073,
          1386,
          1200,
          1699,
          1003,
          1416,
          1652,
          1416,
          1072,
          2514,
          1811,
          904,
          1148,
          960,
          2524,
          1477,
          924,
          1962,
          1069,
          861,
          2087,
          2020,
          1208,
          2224,
          1604,
          816,
          2201,
          1344,
          1357,
          1006,
          1504,
          864,
          1535,
          2262,
          1265,
          1456,
          1269,
          1262,
          1352,
          1216,
          1314,
          904,
          1601,
          825,
          1768,
          1072,
          1836,
          990,
          1383,
          1839,
          1525,
          1761,
          1138,
          1513,
          1123,
          1580,
          1391,
          1062,
          1004,
          848,
          1196,
          1494,
          1940,
          1426,
          2263,
          1775,
          1504,
          1047,
          1680,
          1060,
          729,
          2287,
          965,
          1389,
          1700,
          1040,
          1226,
          1048,
          2076,
          1459,
          2260,
          1790,
          1605,
          1218,
          1630,
          1954,
          1069,
          2482,
          1422,
          1717,
          1502,
          630,
          1855,
          1363,
          1324,
          985,
          1560,
          1215,
          630,
          1636,
          3608,
          2184,
          1337,
          1152,
          816,
          1776,
          1111,
          1120,
          1392,
          773,
          1092,
          2447,
          1125,
          840,
          1902,
          1625,
          1656,
          1548,
          1406,
          1709,
          1048,
          1214,
          1700,
          1252,
          1688,
          1646,
          1720,
          1092,
          1352,
          1752,
          1876,
          1394,
          1434,
          747,
          2646,
          1716,
          2149,
          864,
          1114,
          1950,
          2392,
          1405,
          1523,
          1316,
          1574,
          907,
          1394,
          1710,
          912,
          1165,
          1646,
          2207,
          864,
          1228,
          1456,
          1040,
          1600,
          1644,
          1382,
          2259,
          1872,
          1340,
          3279,
          2668,
          2046,
          1056,
          952,
          1057,
          990,
          1176,
          1262,
          1375,
          1334,
          1936,
          1762,
          1953,
          954,
          964,
          1301,
          2320,
          1338,
          1314,
          1412,
          1473,
          2234,
          1118,
          848,
          2332,
          1327,
          1733,
          1200,
          1728,
          1396,
          1928,
          2217,
          1204,
          1717,
          990,
          1431,
          1050,
          1537,
          1212,
          1118,
          768,
          2364,
          1510,
          1419,
          875,
          3222,
          864,
          1608,
          334,
          1097,
          1456,
          1095,
          1632,
          1440,
          2240,
          900,
          1774,
          1253,
          1218,
          1393,
          1563,
          720,
          1490,
          1661,
          1502,
          1904,
          2610,
          1632,
          1015,
          1839,
          1040,
          1277,
          1040,
          935,
          1392,
          1886,
          1588,
          1336,
          1779,
          1928,
          1363,
          1986,
          1183,
          1517,
          4676,
          1392,
          1112,
          1099,
          3447,
          2035,
          1122,
          1134,
          1470,
          1478,
          1419,
          2526,
          1110,
          1040,
          1629,
          2640,
          1362,
          1522,
          2466,
          1504,
          1200,
          2000,
          767,
          1632,
          1665,
          1114,
          1250,
          2267,
          1132,
          1795,
          1820,
          1092,
          1734,
          1639,
          1505,
          1470,
          1863,
          2574,
          1690,
          1261,
          3194,
          968,
          1535,
          1109,
          2554,
          1022,
          1674,
          1252,
          1644,
          1691,
          1670,
          1200,
          845,
          2620,
          894,
          1131,
          1989,
          1617,
          958,
          1694,
          1787,
          520,
          1283,
          1285,
          1152,
          1322,
          1968,
          1905,
          1458,
          1144,
          3395,
          1328,
          1088,
          1571,
          1034,
          816,
          2030,
          894,
          1924,
          2520,
          672,
          1576,
          1602,
          1376,
          792,
          1733,
          1800,
          1067,
          1752,
          2403,
          4316,
          1343,
          1638,
          1268,
          1428,
          2090,
          2344,
          3112,
          1558,
          1048,
          1128,
          1080,
          1856,
          1395,
          1902,
          1541,
          1586,
          928,
          2198,
          1092,
          1337,
          1868,
          1032,
          858,
          1229,
          1072,
          1194,
          902,
          1911,
          1167,
          1111,
          1416,
          1559,
          1144,
          1679,
          1712,
          1218,
          1358,
          1252,
          2084,
          1768,
          848,
          1319,
          1582,
          1118,
          884,
          2210,
          981,
          1689,
          1626,
          1920,
          1664,
          1130,
          1547,
          1452,
          936,
          1484,
          1456,
          1416,
          1344,
          1720,
          912,
          1472,
          2555,
          1464
         ],
         "y": [
          7,
          5,
          5,
          4,
          5,
          8,
          8,
          7,
          7,
          7,
          5,
          1,
          7,
          9,
          7,
          5,
          5,
          5,
          7,
          6,
          5,
          4,
          8,
          10,
          6,
          6,
          6,
          7,
          9,
          5,
          5,
          6,
          5,
          4,
          5,
          9,
          6,
          4,
          7,
          4,
          5,
          6,
          5,
          5,
          6,
          6,
          7,
          7,
          8,
          7,
          5,
          7,
          5,
          8,
          7,
          5,
          5,
          7,
          5,
          6,
          6,
          8,
          4,
          5,
          5,
          5,
          6,
          7,
          5,
          5,
          5,
          4,
          8,
          7,
          5,
          7,
          7,
          5,
          10,
          7,
          6,
          4,
          5,
          5,
          7,
          5,
          6,
          6,
          6,
          6,
          7,
          6,
          4,
          4,
          5,
          5,
          5,
          5,
          6,
          5,
          5,
          5,
          4,
          4,
          5,
          7,
          6,
          7,
          6,
          8,
          5,
          5,
          6,
          7,
          8,
          6,
          8,
          5,
          5,
          8,
          5,
          8,
          8,
          7,
          6,
          6,
          9,
          5,
          7,
          7,
          7,
          3,
          5,
          5,
          5,
          6,
          10,
          9,
          7,
          6,
          5,
          6,
          6,
          7,
          4,
          7,
          5,
          7,
          7,
          5,
          7,
          6,
          4,
          6,
          7,
          8,
          3,
          5,
          4,
          5,
          2,
          5,
          6,
          6,
          6,
          5,
          6,
          5,
          5,
          5,
          7,
          6,
          7,
          8,
          6,
          5,
          6,
          6,
          5,
          6,
          5,
          7,
          5,
          5,
          8,
          5,
          8,
          8,
          6,
          6,
          4,
          5,
          6,
          8,
          5,
          8,
          7,
          6,
          6,
          4,
          7,
          7,
          6,
          6,
          9,
          5,
          7,
          7,
          8,
          5,
          7,
          5,
          6,
          4,
          8,
          8,
          5,
          3,
          5,
          4,
          10,
          5,
          6,
          7,
          5,
          5,
          8,
          6,
          6,
          7,
          5,
          7,
          4,
          5,
          9,
          5,
          8,
          4,
          4,
          8,
          9,
          7,
          4,
          4,
          5,
          6,
          5,
          6,
          5,
          6,
          5,
          6,
          7,
          6,
          5,
          6,
          7,
          4,
          9,
          5,
          8,
          5,
          7,
          6,
          5,
          6,
          5,
          7,
          6,
          6,
          7,
          6,
          5,
          5,
          5,
          5,
          5,
          5,
          6,
          5,
          5,
          5,
          5,
          5,
          8,
          7,
          6,
          4,
          8,
          4,
          5,
          8,
          5,
          4,
          7,
          7,
          6,
          6,
          5,
          5,
          6,
          5,
          5,
          7,
          6,
          6,
          6,
          6,
          5,
          7,
          6,
          6,
          4,
          7,
          6,
          4,
          8,
          7,
          6,
          5,
          7,
          6,
          5,
          7,
          5,
          10,
          7,
          7,
          6,
          6,
          5,
          8,
          7,
          8,
          6,
          5,
          6,
          4,
          7,
          6,
          7,
          7,
          4,
          8,
          4,
          5,
          6,
          6,
          9,
          5,
          7,
          7,
          9,
          5,
          5,
          4,
          7,
          5,
          4,
          8,
          8,
          8,
          5,
          8,
          5,
          8,
          5,
          6,
          5,
          7,
          5,
          6,
          7,
          7,
          9,
          5,
          4,
          6,
          5,
          9,
          6,
          2,
          8,
          7,
          5,
          8,
          6,
          9,
          6,
          5,
          8,
          6,
          7,
          7,
          7,
          6,
          5,
          8,
          5,
          8,
          8,
          8,
          7,
          8,
          7,
          6,
          4,
          5,
          7,
          6,
          5,
          8,
          7,
          6,
          3,
          6,
          5,
          4,
          5,
          8,
          4,
          4,
          5,
          5,
          7,
          8,
          9,
          7,
          5,
          3,
          6,
          4,
          8,
          8,
          8,
          7,
          6,
          6,
          7,
          7,
          5,
          6,
          3,
          6,
          4,
          5,
          9,
          5,
          5,
          7,
          4,
          5,
          5,
          6,
          5,
          7,
          6,
          5,
          4,
          7,
          8,
          3,
          5,
          6,
          5,
          8,
          7,
          5,
          8,
          4,
          9,
          7,
          6,
          6,
          7,
          4,
          8,
          8,
          10,
          7,
          6,
          8,
          6,
          5,
          7,
          6,
          5,
          6,
          6,
          8,
          5,
          7,
          4,
          5,
          7,
          5,
          6,
          5,
          7,
          7,
          5,
          7,
          9,
          8,
          6,
          5,
          5,
          5,
          8,
          5,
          7,
          8,
          6,
          7,
          7,
          6,
          5,
          5,
          7,
          10,
          5,
          7,
          6,
          7,
          7,
          4,
          5,
          6,
          6,
          6,
          5,
          5,
          5,
          5,
          6,
          5,
          5,
          6,
          5,
          4,
          6,
          5,
          6,
          5,
          6,
          6,
          6,
          6,
          6,
          4,
          8,
          6,
          6,
          8,
          5,
          7,
          7,
          7,
          7,
          8,
          5,
          4,
          7,
          6,
          5,
          7,
          9,
          4,
          6,
          4,
          6,
          6,
          6,
          6,
          5,
          4,
          6,
          4,
          7,
          8,
          6,
          8,
          8,
          8,
          8,
          4,
          6,
          7,
          5,
          5,
          9,
          4,
          8,
          7,
          5,
          6,
          4,
          7,
          6,
          8,
          8,
          7,
          5,
          4,
          8,
          5,
          7,
          8,
          6,
          6,
          6,
          5,
          7,
          8,
          7,
          7,
          4,
          8,
          5,
          7,
          6,
          5,
          4,
          6,
          6,
          7,
          7,
          7,
          7,
          8,
          6,
          6,
          6,
          2,
          5,
          4,
          6,
          6,
          8,
          5,
          5,
          5,
          7,
          7,
          4,
          6,
          5,
          6,
          5,
          9,
          5,
          8,
          7,
          8,
          7,
          5,
          5,
          5,
          5,
          5,
          7,
          7,
          7,
          7,
          7,
          5,
          6,
          8,
          4,
          5,
          7,
          7,
          7,
          6,
          5,
          7,
          8,
          5,
          5,
          5,
          7,
          7,
          4,
          6,
          6,
          5,
          4,
          6,
          8,
          8,
          8,
          6,
          6,
          5,
          6,
          7,
          3,
          6,
          7,
          8,
          6,
          6,
          7,
          6,
          5,
          5,
          4,
          8,
          7,
          5,
          7,
          6,
          4,
          6,
          5,
          6,
          9,
          6,
          6,
          6,
          4,
          6,
          5,
          7,
          4,
          7,
          8,
          5,
          6,
          8,
          6,
          6,
          6,
          7,
          6,
          5,
          5,
          5,
          6,
          7,
          5,
          5,
          6,
          7,
          7,
          6,
          5,
          4,
          8,
          7,
          6,
          6,
          6,
          4,
          6,
          9,
          7,
          7,
          7,
          7,
          4,
          6,
          5,
          3,
          7,
          5,
          7,
          6,
          5,
          7,
          5,
          10,
          7,
          7,
          7,
          3,
          6,
          8,
          7,
          6,
          8,
          6,
          7,
          6,
          4,
          6,
          5,
          6,
          5,
          7,
          6,
          5,
          8,
          10,
          9,
          8,
          5,
          5,
          7,
          5,
          4,
          7,
          5,
          6,
          6,
          6,
          5,
          7,
          8,
          7,
          6,
          6,
          7,
          5,
          5,
          5,
          7,
          6,
          8,
          7,
          4,
          5,
          9,
          6,
          5,
          7,
          4,
          7,
          5,
          7,
          4,
          6,
          7,
          10,
          7,
          6,
          7,
          6,
          4,
          6,
          7,
          5,
          6,
          8,
          7,
          4,
          5,
          8,
          5,
          5,
          6,
          4,
          6,
          7,
          7,
          8,
          9,
          8,
          5,
          5,
          5,
          5,
          6,
          6,
          6,
          6,
          8,
          7,
          8,
          5,
          5,
          7,
          6,
          8,
          5,
          6,
          5,
          9,
          6,
          6,
          10,
          5,
          3,
          7,
          5,
          6,
          6,
          8,
          6,
          8,
          4,
          7,
          5,
          6,
          7,
          6,
          5,
          9,
          4,
          8,
          5,
          7,
          5,
          6,
          1,
          6,
          7,
          6,
          7,
          4,
          5,
          5,
          4,
          6,
          6,
          5,
          8,
          6,
          7,
          6,
          7,
          8,
          8,
          6,
          5,
          7,
          3,
          7,
          4,
          5,
          6,
          7,
          4,
          4,
          5,
          5,
          7,
          7,
          3,
          8,
          10,
          6,
          5,
          5,
          8,
          7,
          5,
          5,
          4,
          7,
          8,
          8,
          5,
          3,
          8,
          7,
          6,
          5,
          8,
          7,
          5,
          8,
          7,
          6,
          8,
          5,
          7,
          6,
          4,
          8,
          7,
          5,
          5,
          6,
          5,
          6,
          7,
          8,
          7,
          6,
          8,
          5,
          5,
          5,
          7,
          5,
          6,
          5,
          5,
          5,
          7,
          7,
          4,
          5,
          5,
          5,
          8,
          6,
          6,
          6,
          8,
          4,
          5,
          6,
          4,
          6,
          8,
          9,
          6,
          5,
          6,
          6,
          8,
          8,
          5,
          5,
          6,
          5,
          8,
          8,
          5,
          7,
          6,
          6,
          5,
          7,
          9,
          4,
          8,
          7,
          10,
          5,
          6,
          5,
          7,
          7,
          7,
          8,
          5,
          5,
          5,
          6,
          9,
          6,
          6,
          7,
          6,
          5,
          8,
          4,
          7,
          6,
          6,
          4,
          6,
          5,
          6,
          5,
          8,
          6,
          5,
          5,
          5,
          5,
          6,
          5,
          6,
          7,
          6,
          7,
          7,
          6,
          5,
          7,
          5,
          5,
          6,
          6,
          7,
          7,
          5,
          6,
          5,
          7,
          7,
          5,
          7,
          7,
          5,
          6,
          7,
          6,
          7,
          6,
          5
         ],
         "z": [
          231500,
          179500,
          122000,
          84500,
          142000,
          325624,
          285000,
          151000,
          195000,
          275000,
          175000,
          61000,
          174000,
          385000,
          230000,
          87000,
          125000,
          98600,
          260000,
          143000,
          124000,
          122500,
          236500,
          337500,
          76000,
          187000,
          128000,
          179000,
          485000,
          122500,
          106000,
          118000,
          127000,
          80000,
          153000,
          360000,
          132000,
          85500,
          262280,
          112000,
          131000,
          139000,
          87000,
          135000,
          181000,
          163500,
          116900,
          159895,
          244600,
          294000,
          97000,
          295000,
          120500,
          239500,
          194000,
          115000,
          119500,
          180000,
          118000,
          178000,
          167000,
          267000,
          82000,
          133900,
          167000,
          132500,
          135000,
          248000,
          160000,
          144500,
          200500,
          113000,
          354000,
          164000,
          170000,
          224000,
          163900,
          160000,
          466500,
          172500,
          193500,
          133000,
          137000,
          167500,
          196500,
          146000,
          159500,
          158000,
          189000,
          172500,
          194201,
          181000,
          115000,
          101800,
          100000,
          139000,
          115000,
          139000,
          156000,
          158000,
          172000,
          138000,
          125500,
          123000,
          134500,
          163000,
          169990,
          140000,
          140000,
          325000,
          157500,
          225000,
          107000,
          185500,
          239900,
          163990,
          201000,
          127000,
          172500,
          228000,
          117000,
          232600,
          403000,
          169500,
          151400,
          180000,
          370878,
          55993,
          207500,
          224500,
          280000,
          82000,
          137000,
          130500,
          73000,
          217000,
          625000,
          367294,
          230000,
          142000,
          115000,
          272000,
          176500,
          234000,
          40000,
          213500,
          126000,
          187100,
          200000,
          117500,
          176000,
          174000,
          97000,
          169000,
          154000,
          361919,
          85000,
          134000,
          96500,
          127000,
          60000,
          108480,
          151000,
          135000,
          99500,
          124000,
          177500,
          144000,
          119000,
          107500,
          254900,
          180500,
          222000,
          271000,
          181000,
          140000,
          158000,
          204750,
          135000,
          161500,
          128500,
          179540,
          143000,
          147000,
          280000,
          131500,
          253293,
          317000,
          210000,
          120000,
          110000,
          127000,
          106000,
          172500,
          166000,
          258000,
          213000,
          150000,
          158500,
          82500,
          212000,
          238000,
          158000,
          178000,
          328900,
          110000,
          185000,
          320000,
          315000,
          228950,
          180000,
          117000,
          176000,
          111250,
          297000,
          266000,
          130000,
          93500,
          186700,
          91000,
          745000,
          62383,
          172500,
          170000,
          119000,
          129900,
          210000,
          173000,
          164500,
          170000,
          125500,
          183000,
          103000,
          141500,
          315500,
          118858,
          290000,
          119000,
          104900,
          348000,
          374000,
          200100,
          132250,
          161500,
          131500,
          104000,
          132500,
          133000,
          170000,
          180000,
          130000,
          125000,
          186500,
          171500,
          100000,
          114500,
          173000,
          86000,
          320000,
          133000,
          220000,
          137900,
          224900,
          153500,
          115000,
          207500,
          113000,
          178400,
          140000,
          83000,
          197000,
          187500,
          81000,
          93500,
          197500,
          93000,
          106000,
          144000,
          220000,
          144900,
          139000,
          132000,
          149000,
          153500,
          263435,
          205000,
          132500,
          103200,
          249700,
          64500,
          83000,
          339750,
          145900,
          106250,
          164990,
          228500,
          193000,
          244000,
          159950,
          119000,
          160000,
          147000,
          134450,
          174000,
          144000,
          190000,
          160000,
          175000,
          135000,
          176000,
          168500,
          139000,
          102776,
          221500,
          148500,
          55000,
          281000,
          179900,
          182900,
          217500,
          195000,
          154000,
          124900,
          228000,
          125000,
          438780,
          160200,
          271000,
          113000,
          103600,
          119500,
          275000,
          250000,
          306000,
          168000,
          136905,
          128000,
          107000,
          341000,
          176000,
          224900,
          289000,
          79900,
          274000,
          109900,
          175000,
          166000,
          151000,
          264132,
          79500,
          241000,
          141000,
          377426,
          132000,
          141000,
          136500,
          205950,
          157000,
          93000,
          309000,
          187500,
          178000,
          125000,
          232000,
          135000,
          307000,
          223500,
          145000,
          155000,
          140000,
          149900,
          181000,
          210000,
          230000,
          318061,
          200000,
          83500,
          112000,
          125000,
          446261,
          165600,
          35311,
          394617,
          129900,
          110500,
          255900,
          168500,
          378500,
          163000,
          91300,
          395000,
          185000,
          187500,
          250580,
          205000,
          143750,
          85000,
          287000,
          152000,
          423000,
          312500,
          202500,
          250000,
          264561,
          188500,
          201000,
          68400,
          155000,
          212900,
          145000,
          162900,
          299800,
          175000,
          125000,
          67000,
          147000,
          90000,
          135000,
          153337,
          286000,
          34900,
          110000,
          79000,
          115000,
          271900,
          227000,
          377500,
          190000,
          170000,
          37900,
          183200,
          128950,
          430000,
          225000,
          209500,
          171900,
          173000,
          200624,
          82500,
          277000,
          126500,
          239000,
          76500,
          140000,
          135750,
          125000,
          326000,
          164500,
          115000,
          188000,
          135000,
          128500,
          109500,
          154500,
          157900,
          236000,
          110000,
          142000,
          129000,
          259000,
          240000,
          126175,
          144000,
          179200,
          128500,
          220000,
          240000,
          135000,
          350000,
          140000,
          437154,
          244000,
          139500,
          129000,
          180000,
          145000,
          197000,
          318000,
          385000,
          253000,
          136000,
          270000,
          177500,
          129500,
          162900,
          204000,
          107500,
          186000,
          177000,
          245350,
          129000,
          205000,
          102000,
          124500,
          180500,
          119000,
          159000,
          106500,
          180000,
          204900,
          128900,
          195400,
          277500,
          260000,
          216500,
          109500,
          139000,
          185000,
          254000,
          135000,
          178000,
          245500,
          118000,
          130000,
          194000,
          91000,
          145000,
          124500,
          226000,
          160000,
          154000,
          260000,
          114504,
          190000,
          335000,
          100000,
          130500,
          250000,
          157500,
          105000,
          78000,
          180000,
          127000,
          118000,
          185750,
          129500,
          104900,
          223000,
          116000,
          137500,
          179200,
          99900,
          172400,
          118500,
          117000,
          84500,
          177000,
          196000,
          142500,
          108000,
          248000,
          231500,
          176000,
          440000,
          127500,
          290000,
          143000,
          184000,
          225000,
          261500,
          130000,
          105000,
          155000,
          115000,
          169000,
          266500,
          342643,
          108959,
          206900,
          90000,
          140000,
          85400,
          136500,
          173900,
          190000,
          121600,
          119200,
          141000,
          194500,
          122000,
          140200,
          275000,
          337000,
          202900,
          287000,
          256000,
          243000,
          263000,
          157000,
          110000,
          285000,
          75500,
          301500,
          197900,
          136000,
          235000,
          128000,
          197900,
          188700,
          402000,
          324000,
          170000,
          140000,
          125500,
          290000,
          124900,
          279500,
          287090,
          156500,
          150900,
          120500,
          160000,
          199900,
          168000,
          301000,
          260400,
          118000,
          257000,
          123500,
          284000,
          207500,
          121500,
          137500,
          148500,
          110500,
          185000,
          220000,
          214000,
          223500,
          147000,
          102000,
          155000,
          165000,
          60000,
          139950,
          89471,
          131000,
          157900,
          369900,
          155000,
          125500,
          143000,
          235000,
          176000,
          115000,
          174000,
          154000,
          127500,
          143000,
          345000,
          105000,
          284000,
          221000,
          316600,
          152000,
          138500,
          138000,
          130000,
          109500,
          128200,
          168500,
          226000,
          215000,
          219500,
          189000,
          135000,
          160000,
          372402,
          112000,
          84500,
          191000,
          171000,
          239000,
          175000,
          142500,
          175500,
          424870,
          110000,
          139000,
          171000,
          219500,
          193879,
          55000,
          162500,
          177000,
          118000,
          84000,
          173500,
          179900,
          318000,
          392500,
          140000,
          152000,
          156000,
          158900,
          184900,
          95000,
          142500,
          155000,
          251000,
          179900,
          148000,
          250000,
          230000,
          109900,
          132500,
          94750,
          278000,
          145000,
          122900,
          239799,
          140000,
          82500,
          187500,
          144000,
          165000,
          350000,
          181000,
          118500,
          274970,
          97000,
          177000,
          80000,
          191000,
          120500,
          214000,
          305000,
          179900,
          172785,
          192000,
          185000,
          158000,
          164000,
          207500,
          119000,
          140000,
          125000,
          175000,
          140000,
          216837,
          145000,
          165000,
          257500,
          235000,
          227875,
          145000,
          137500,
          100000,
          235128,
          196000,
          146800,
          149000,
          149300,
          109900,
          177500,
          395192,
          189950,
          235000,
          213000,
          181000,
          100000,
          222000,
          129900,
          52000,
          225000,
          119900,
          135000,
          200000,
          150500,
          198900,
          113000,
          465000,
          192000,
          328000,
          193000,
          107400,
          208300,
          295493,
          311500,
          127500,
          281213,
          175500,
          187500,
          165000,
          81000,
          136900,
          164900,
          160000,
          149900,
          201000,
          155000,
          92000,
          255000,
          475000,
          335000,
          180000,
          180500,
          129900,
          192500,
          101000,
          129000,
          146000,
          110000,
          88000,
          169000,
          125000,
          87000,
          335000,
          235000,
          165400,
          155000,
          89500,
          130000,
          98300,
          140000,
          165500,
          160000,
          200000,
          248900,
          196500,
          88000,
          130000,
          319900,
          185000,
          167500,
          189000,
          80000,
          260000,
          135900,
          239686,
          141000,
          155000,
          239000,
          386250,
          171750,
          180000,
          200141,
          190000,
          109008,
          159000,
          208500,
          114500,
          174900,
          293077,
          180000,
          116050,
          149350,
          215000,
          133700,
          207500,
          167000,
          148000,
          217000,
          241500,
          181134,
          538000,
          412500,
          372500,
          145000,
          139000,
          109000,
          126000,
          134900,
          181500,
          140000,
          167900,
          230500,
          157000,
          252000,
          132500,
          163500,
          187750,
          259500,
          213500,
          145000,
          175000,
          143000,
          501837,
          171000,
          155900,
          426000,
          150750,
          139600,
          144152,
          142600,
          153575,
          137000,
          268000,
          162000,
          255500,
          123600,
          192000,
          136500,
          174000,
          178000,
          116000,
          133000,
          611657,
          108000,
          184100,
          105000,
          320000,
          129000,
          137450,
          39300,
          152000,
          189000,
          140000,
          176500,
          150000,
          142953,
          134800,
          87000,
          157000,
          113000,
          135500,
          245000,
          105900,
          184000,
          165500,
          233170,
          275000,
          303477,
          139000,
          88000,
          221000,
          92900,
          167000,
          90000,
          137000,
          110000,
          199900,
          134432,
          108000,
          170000,
          160000,
          241500,
          205000,
          120000,
          230000,
          184750,
          161750,
          85000,
          144000,
          381000,
          222500,
          147000,
          135000,
          135000,
          222000,
          392000,
          290000,
          165500,
          87500,
          270000,
          265979,
          163000,
          102000,
          340000,
          203000,
          179000,
          305900,
          133000,
          173000,
          227000,
          159000,
          164700,
          200000,
          176000,
          230000,
          201800,
          139000,
          126000,
          115000,
          145000,
          185000,
          219210,
          276000,
          144000,
          163000,
          359100,
          100000,
          118964,
          139000,
          159500,
          85000,
          185000,
          127000,
          146500,
          127000,
          240000,
          151000,
          129500,
          190000,
          123000,
          66500,
          255000,
          193000,
          151500,
          136500,
          275000,
          68500,
          140000,
          143500,
          82000,
          147000,
          269500,
          320000,
          97500,
          131400,
          200000,
          143000,
          170000,
          239000,
          109000,
          110000,
          195000,
          129000,
          280000,
          310000,
          108000,
          197000,
          215000,
          119500,
          109500,
          225000,
          239000,
          128000,
          164000,
          244400,
          755000,
          154900,
          192000,
          133000,
          227680,
          200000,
          265000,
          235000,
          152000,
          135000,
          155000,
          136000,
          394432,
          162000,
          112000,
          220000,
          181000,
          112500,
          250000,
          75000,
          185000,
          178000,
          148000,
          88000,
          124000,
          145000,
          159500,
          131000,
          215000,
          173000,
          95000,
          153900,
          153500,
          143000,
          193500,
          145000,
          91500,
          207000,
          235000,
          233000,
          226700,
          143000,
          123000,
          185900,
          119900,
          144000,
          117500,
          143250,
          248328,
          173000,
          137000,
          159000,
          120000,
          215200,
          183900,
          129000,
          213000,
          155835,
          112000,
          137500,
          183500,
          156000,
          160000,
          191000,
          175000
         ]
        },
        {
         "colorscale": [
          [
           0,
           "#440154"
          ],
          [
           0.1111111111111111,
           "#482878"
          ],
          [
           0.2222222222222222,
           "#3e4989"
          ],
          [
           0.3333333333333333,
           "#31688e"
          ],
          [
           0.4444444444444444,
           "#26828e"
          ],
          [
           0.5555555555555556,
           "#1f9e89"
          ],
          [
           0.6666666666666666,
           "#35b779"
          ],
          [
           0.7777777777777778,
           "#6ece58"
          ],
          [
           0.8888888888888888,
           "#b5de2b"
          ],
          [
           1,
           "#fde725"
          ]
         ],
         "type": "surface",
         "x": [
          334,
          613.3684210526316,
          892.7368421052631,
          1172.1052631578946,
          1451.4736842105262,
          1730.842105263158,
          2010.2105263157894,
          2289.578947368421,
          2568.9473684210525,
          2848.315789473684,
          3127.684210526316,
          3407.052631578947,
          3686.4210526315787,
          3965.7894736842104,
          4245.157894736842,
          4524.526315789473,
          4803.894736842105,
          5083.263157894737,
          5362.631578947368,
          5642
         ],
         "y": [
          1,
          1.4736842105263157,
          1.9473684210526314,
          2.4210526315789473,
          2.894736842105263,
          3.3684210526315788,
          3.8421052631578947,
          4.315789473684211,
          4.789473684210526,
          5.263157894736842,
          5.7368421052631575,
          6.2105263157894735,
          6.684210526315789,
          7.157894736842105,
          7.63157894736842,
          8.105263157894736,
          8.578947368421051,
          9.052631578947368,
          9.526315789473683,
          10
         ],
         "z": [
          [
           -51513.49535165938,
           -36315.44667668805,
           -21117.398001716705,
           -5919.349326745374,
           9278.699348225957,
           24476.748023197317,
           39674.79669816865,
           54872.84537313998,
           70070.89404811134,
           85268.94272308267,
           100466.991398054,
           115665.04007302533,
           130863.08874799666,
           146061.13742296802,
           161259.18609793935,
           176457.23477291068,
           191655.28344788202,
           206853.33212285335,
           222051.38079782468,
           237249.429472796
          ],
          [
           -35853.75966979102,
           -20655.71099481969,
           -5457.662319848343,
           9740.386355122988,
           24938.43503009432,
           40136.48370506568,
           55334.53238003701,
           70532.58105500834,
           85730.6297299797,
           100928.67840495103,
           116126.72707992236,
           131324.7757548937,
           146522.82442986502,
           161720.87310483636,
           176918.9217798077,
           192116.97045477902,
           207315.01912975035,
           222513.06780472174,
           237711.11647969307,
           252909.1651546644
          ],
          [
           -20194.023987922657,
           -4995.9753129513265,
           10202.073362020019,
           25400.12203699135,
           40598.17071196268,
           55796.21938693404,
           70994.26806190537,
           86192.3167368767,
           101390.36541184806,
           116588.4140868194,
           131786.46276179072,
           146984.51143676206,
           162182.56011173336,
           177380.60878670475,
           192578.65746167608,
           207776.7061366474,
           222974.75481161874,
           238172.80348659007,
           253370.8521615614,
           268568.9008365327
          ],
          [
           -4534.288306054295,
           10663.76036891705,
           25861.80904388838,
           41059.85771885971,
           56257.90639383104,
           71455.9550688024,
           86654.00374377373,
           101852.05241874506,
           117050.10109371642,
           132248.14976868776,
           147446.1984436591,
           162644.24711863042,
           177842.29579360175,
           193040.34446857314,
           208238.39314354447,
           223436.4418185158,
           238634.49049348713,
           253832.53916845846,
           269030.58784342976,
           284228.6365184011
          ],
          [
           11125.447375814052,
           26323.496050785383,
           41521.544725756714,
           56719.593400728045,
           71917.6420756994,
           87115.69075067076,
           102313.7394256421,
           117511.78810061343,
           132709.83677558476,
           147907.8854505561,
           163105.93412552742,
           178303.98280049875,
           193502.03147547008,
           208700.08015044147,
           223898.1288254128,
           239096.17750038413,
           254294.22617535546,
           269492.2748503268,
           284690.32352529815,
           299888.3722002695
          ],
          [
           26785.18305768243,
           41983.231732653774,
           57181.280407625105,
           72379.32908259644,
           87577.37775756777,
           102775.42643253913,
           117973.47510751046,
           133171.5237824818,
           148369.57245745315,
           163567.62113242448,
           178765.6698073958,
           193963.71848236714,
           209161.76715733847,
           224359.8158323098,
           239557.86450728113,
           254755.91318225247,
           269953.96185722377,
           285152.0105321952,
           300350.05920716655,
           315548.1078821379
          ],
          [
           42444.918739550805,
           57642.967414522136,
           72841.01608949347,
           88039.0647644648,
           103237.11343943616,
           118435.16211440749,
           133633.21078937882,
           148831.25946435015,
           164029.30813932154,
           179227.35681429287,
           194425.4054892642,
           209623.45416423553,
           224821.50283920686,
           240019.5515141782,
           255217.60018914953,
           270415.6488641208,
           285613.69753909216,
           300811.7462140635,
           316009.7948890348,
           331207.84356400615
          ],
          [
           58104.654421419196,
           73302.70309639053,
           88500.75177136186,
           103698.80044633319,
           118896.84912130455,
           134094.89779627588,
           149292.9464712472,
           164490.99514621854,
           179689.04382118993,
           194887.09249616126,
           210085.1411711326,
           225283.18984610392,
           240481.23852107525,
           255679.2871960466,
           270877.3358710179,
           286075.3845459892,
           301273.43322096055,
           316471.4818959319,
           331669.5305709032,
           346867.57924587454
          ],
          [
           73764.39010328753,
           88962.43877825886,
           104160.48745323019,
           119358.53612820152,
           134556.58480317288,
           149754.6334781442,
           164952.68215311554,
           180150.73082808687,
           195348.7795030582,
           210546.82817802954,
           225744.87685300087,
           240942.9255279722,
           256140.97420294353,
           271339.02287791495,
           286537.0715528863,
           301735.1202278576,
           316933.16890282894,
           332131.2175778003,
           347329.2662527716,
           362527.31492774293
          ],
          [
           89424.12578515589,
           104622.17446012722,
           119820.22313509855,
           135018.27181006988,
           150216.32048504121,
           165414.3691600126,
           180612.41783498393,
           195810.46650995527,
           211008.5151849266,
           226206.56385989793,
           241404.61253486926,
           256602.6612098406,
           271800.7098848119,
           286998.7585597832,
           302196.80723475455,
           317394.8559097259,
           332592.9045846972,
           347790.95325966866,
           362989.00193464,
           378187.0506096113
          ],
          [
           105083.86146702425,
           120281.91014199558,
           135479.95881696692,
           150678.00749193825,
           165876.0561669096,
           181074.10484188094,
           196272.15351685227,
           211470.2021918236,
           226668.250866795,
           241866.29954176632,
           257064.34821673765,
           272262.39689170895,
           287460.4455666803,
           302658.4942416516,
           317856.54291662294,
           333054.5915915943,
           348252.6402665656,
           363450.68894153694,
           378648.73761650827,
           393846.7862914796
          ],
          [
           120743.59714889262,
           135941.64582386395,
           151139.69449883528,
           166337.7431738066,
           181535.79184877794,
           196733.84052374927,
           211931.8891987206,
           227129.93787369193,
           242327.98654866332,
           257526.03522363465,
           272724.083898606,
           287922.13257357734,
           303120.1812485487,
           318318.22992352,
           333516.27859849134,
           348714.32727346267,
           363912.375948434,
           379110.4246234053,
           394308.47329837666,
           409506.521973348
          ],
          [
           136403.332830761,
           151601.38150573234,
           166799.43018070367,
           181997.478855675,
           197195.52753064633,
           212393.57620561766,
           227591.624880589,
           242789.67355556032,
           257987.7222305317,
           273185.7709055031,
           288383.8195804744,
           303581.86825544573,
           318779.91693041706,
           333977.9656053884,
           349176.0142803597,
           364374.06295533106,
           379572.1116303024,
           394770.1603052737,
           409968.20898024505,
           425166.2576552164
          ],
          [
           152063.06851262937,
           167261.11718760067,
           182459.16586257206,
           197657.2145375434,
           212855.26321251472,
           228053.31188748605,
           243251.36056245738,
           258449.4092374287,
           273647.4579124,
           288845.50658737135,
           304043.5552623427,
           319241.603937314,
           334439.65261228534,
           349637.7012872568,
           364835.7499622281,
           380033.79863719945,
           395231.8473121708,
           410429.8959871421,
           425627.94466211344,
           440825.9933370848
          ],
          [
           167722.80419449767,
           182920.852869469,
           198118.90154444033,
           213316.95021941166,
           228514.99889438305,
           243713.04756935438,
           258911.09624432572,
           274109.1449192971,
           289307.1935942684,
           304505.24226923974,
           319703.29094421107,
           334901.3396191824,
           350099.38829415373,
           365297.43696912506,
           380495.4856440964,
           395693.5343190677,
           410891.58299403905,
           426089.6316690104,
           441287.6803439817,
           456485.72901895305
          ],
          [
           183382.53987636606,
           198580.5885513374,
           213778.63722630873,
           228976.68590128006,
           244174.7345762514,
           259372.78325122272,
           274570.831926194,
           289768.88060116535,
           304966.9292761368,
           320164.9779511081,
           335363.02662607946,
           350561.0753010508,
           365759.1239760221,
           380957.17265099345,
           396155.2213259648,
           411353.2700009361,
           426551.31867590745,
           441749.3673508788,
           456947.4160258501,
           472145.46470082144
          ],
          [
           199042.2755582344,
           214240.32423320573,
           229438.37290817706,
           244636.4215831484,
           259834.47025811972,
           275032.5189330911,
           290230.5676080624,
           305428.61628303374,
           320626.6649580051,
           335824.7136329764,
           351022.76230794773,
           366220.81098291907,
           381418.8596578904,
           396616.9083328617,
           411814.95700783306,
           427013.0056828044,
           442211.0543577757,
           457409.10303274705,
           472607.1517077184,
           487805.2003826897
          ],
          [
           214702.0112401028,
           229900.05991507412,
           245098.10859004545,
           260296.15726501678,
           275494.20593998814,
           290692.2546149595,
           305890.3032899308,
           321088.35196490213,
           336286.40063987346,
           351484.4493148448,
           366682.4979898161,
           381880.54666478746,
           397078.5953397588,
           412276.6440147301,
           427474.69268970145,
           442672.7413646728,
           457870.7900396441,
           473068.83871461544,
           488266.8873895868,
           503464.9360645581
          ],
          [
           230361.74692197118,
           245559.7955969425,
           260757.84427191384,
           275955.8929468852,
           291153.94162185653,
           306351.99029682786,
           321550.0389717992,
           336748.0876467705,
           351946.13632174185,
           367144.1849967132,
           382342.2336716845,
           397540.28234665585,
           412738.3310216272,
           427936.3796965985,
           443134.42837156984,
           458332.4770465412,
           473530.5257215125,
           488728.57439648383,
           503926.62307145516,
           519124.6717464265
          ],
          [
           246021.48260383957,
           261219.5312788109,
           276417.57995378226,
           291615.6286287536,
           306813.6773037249,
           322011.72597869625,
           337209.7746536676,
           352407.8233286389,
           367605.87200361025,
           382803.9206785816,
           398001.9693535529,
           413200.01802852424,
           428398.06670349557,
           443596.1153784669,
           458794.16405343823,
           473992.21272840956,
           489190.2614033809,
           504388.3100783522,
           519586.35875332355,
           534784.4074282949
          ]
         ]
        }
       ],
       "layout": {
        "autosize": true,
        "legend": {
         "tracegroupgap": 0
        },
        "scene": {
         "aspectmode": "auto",
         "aspectratio": {
          "x": 1,
          "y": 1,
          "z": 1
         },
         "domain": {
          "x": [
           0,
           1
          ],
          "y": [
           0,
           1
          ]
         },
         "xaxis": {
          "title": {
           "text": "GrLivArea"
          },
          "type": "linear"
         },
         "yaxis": {
          "title": {
           "text": "OverallQual"
          },
          "type": "linear"
         },
         "zaxis": {
          "title": {
           "text": "SalePrice"
          },
          "type": "linear"
         }
        },
        "template": {
         "data": {
          "bar": [
           {
            "error_x": {
             "color": "#2a3f5f"
            },
            "error_y": {
             "color": "#2a3f5f"
            },
            "marker": {
             "line": {
              "color": "#E5ECF6",
              "width": 0.5
             }
            },
            "type": "bar"
           }
          ],
          "barpolar": [
           {
            "marker": {
             "line": {
              "color": "#E5ECF6",
              "width": 0.5
             }
            },
            "type": "barpolar"
           }
          ],
          "carpet": [
           {
            "aaxis": {
             "endlinecolor": "#2a3f5f",
             "gridcolor": "white",
             "linecolor": "white",
             "minorgridcolor": "white",
             "startlinecolor": "#2a3f5f"
            },
            "baxis": {
             "endlinecolor": "#2a3f5f",
             "gridcolor": "white",
             "linecolor": "white",
             "minorgridcolor": "white",
             "startlinecolor": "#2a3f5f"
            },
            "type": "carpet"
           }
          ],
          "choropleth": [
           {
            "colorbar": {
             "outlinewidth": 0,
             "ticks": ""
            },
            "type": "choropleth"
           }
          ],
          "contour": [
           {
            "colorbar": {
             "outlinewidth": 0,
             "ticks": ""
            },
            "colorscale": [
             [
              0,
              "#0d0887"
             ],
             [
              0.1111111111111111,
              "#46039f"
             ],
             [
              0.2222222222222222,
              "#7201a8"
             ],
             [
              0.3333333333333333,
              "#9c179e"
             ],
             [
              0.4444444444444444,
              "#bd3786"
             ],
             [
              0.5555555555555556,
              "#d8576b"
             ],
             [
              0.6666666666666666,
              "#ed7953"
             ],
             [
              0.7777777777777778,
              "#fb9f3a"
             ],
             [
              0.8888888888888888,
              "#fdca26"
             ],
             [
              1,
              "#f0f921"
             ]
            ],
            "type": "contour"
           }
          ],
          "contourcarpet": [
           {
            "colorbar": {
             "outlinewidth": 0,
             "ticks": ""
            },
            "type": "contourcarpet"
           }
          ],
          "heatmap": [
           {
            "colorbar": {
             "outlinewidth": 0,
             "ticks": ""
            },
            "colorscale": [
             [
              0,
              "#0d0887"
             ],
             [
              0.1111111111111111,
              "#46039f"
             ],
             [
              0.2222222222222222,
              "#7201a8"
             ],
             [
              0.3333333333333333,
              "#9c179e"
             ],
             [
              0.4444444444444444,
              "#bd3786"
             ],
             [
              0.5555555555555556,
              "#d8576b"
             ],
             [
              0.6666666666666666,
              "#ed7953"
             ],
             [
              0.7777777777777778,
              "#fb9f3a"
             ],
             [
              0.8888888888888888,
              "#fdca26"
             ],
             [
              1,
              "#f0f921"
             ]
            ],
            "type": "heatmap"
           }
          ],
          "heatmapgl": [
           {
            "colorbar": {
             "outlinewidth": 0,
             "ticks": ""
            },
            "colorscale": [
             [
              0,
              "#0d0887"
             ],
             [
              0.1111111111111111,
              "#46039f"
             ],
             [
              0.2222222222222222,
              "#7201a8"
             ],
             [
              0.3333333333333333,
              "#9c179e"
             ],
             [
              0.4444444444444444,
              "#bd3786"
             ],
             [
              0.5555555555555556,
              "#d8576b"
             ],
             [
              0.6666666666666666,
              "#ed7953"
             ],
             [
              0.7777777777777778,
              "#fb9f3a"
             ],
             [
              0.8888888888888888,
              "#fdca26"
             ],
             [
              1,
              "#f0f921"
             ]
            ],
            "type": "heatmapgl"
           }
          ],
          "histogram": [
           {
            "marker": {
             "colorbar": {
              "outlinewidth": 0,
              "ticks": ""
             }
            },
            "type": "histogram"
           }
          ],
          "histogram2d": [
           {
            "colorbar": {
             "outlinewidth": 0,
             "ticks": ""
            },
            "colorscale": [
             [
              0,
              "#0d0887"
             ],
             [
              0.1111111111111111,
              "#46039f"
             ],
             [
              0.2222222222222222,
              "#7201a8"
             ],
             [
              0.3333333333333333,
              "#9c179e"
             ],
             [
              0.4444444444444444,
              "#bd3786"
             ],
             [
              0.5555555555555556,
              "#d8576b"
             ],
             [
              0.6666666666666666,
              "#ed7953"
             ],
             [
              0.7777777777777778,
              "#fb9f3a"
             ],
             [
              0.8888888888888888,
              "#fdca26"
             ],
             [
              1,
              "#f0f921"
             ]
            ],
            "type": "histogram2d"
           }
          ],
          "histogram2dcontour": [
           {
            "colorbar": {
             "outlinewidth": 0,
             "ticks": ""
            },
            "colorscale": [
             [
              0,
              "#0d0887"
             ],
             [
              0.1111111111111111,
              "#46039f"
             ],
             [
              0.2222222222222222,
              "#7201a8"
             ],
             [
              0.3333333333333333,
              "#9c179e"
             ],
             [
              0.4444444444444444,
              "#bd3786"
             ],
             [
              0.5555555555555556,
              "#d8576b"
             ],
             [
              0.6666666666666666,
              "#ed7953"
             ],
             [
              0.7777777777777778,
              "#fb9f3a"
             ],
             [
              0.8888888888888888,
              "#fdca26"
             ],
             [
              1,
              "#f0f921"
             ]
            ],
            "type": "histogram2dcontour"
           }
          ],
          "mesh3d": [
           {
            "colorbar": {
             "outlinewidth": 0,
             "ticks": ""
            },
            "type": "mesh3d"
           }
          ],
          "parcoords": [
           {
            "line": {
             "colorbar": {
              "outlinewidth": 0,
              "ticks": ""
             }
            },
            "type": "parcoords"
           }
          ],
          "pie": [
           {
            "automargin": true,
            "type": "pie"
           }
          ],
          "scatter": [
           {
            "marker": {
             "colorbar": {
              "outlinewidth": 0,
              "ticks": ""
             }
            },
            "type": "scatter"
           }
          ],
          "scatter3d": [
           {
            "line": {
             "colorbar": {
              "outlinewidth": 0,
              "ticks": ""
             }
            },
            "marker": {
             "colorbar": {
              "outlinewidth": 0,
              "ticks": ""
             }
            },
            "type": "scatter3d"
           }
          ],
          "scattercarpet": [
           {
            "marker": {
             "colorbar": {
              "outlinewidth": 0,
              "ticks": ""
             }
            },
            "type": "scattercarpet"
           }
          ],
          "scattergeo": [
           {
            "marker": {
             "colorbar": {
              "outlinewidth": 0,
              "ticks": ""
             }
            },
            "type": "scattergeo"
           }
          ],
          "scattergl": [
           {
            "marker": {
             "colorbar": {
              "outlinewidth": 0,
              "ticks": ""
             }
            },
            "type": "scattergl"
           }
          ],
          "scattermapbox": [
           {
            "marker": {
             "colorbar": {
              "outlinewidth": 0,
              "ticks": ""
             }
            },
            "type": "scattermapbox"
           }
          ],
          "scatterpolar": [
           {
            "marker": {
             "colorbar": {
              "outlinewidth": 0,
              "ticks": ""
             }
            },
            "type": "scatterpolar"
           }
          ],
          "scatterpolargl": [
           {
            "marker": {
             "colorbar": {
              "outlinewidth": 0,
              "ticks": ""
             }
            },
            "type": "scatterpolargl"
           }
          ],
          "scatterternary": [
           {
            "marker": {
             "colorbar": {
              "outlinewidth": 0,
              "ticks": ""
             }
            },
            "type": "scatterternary"
           }
          ],
          "surface": [
           {
            "colorbar": {
             "outlinewidth": 0,
             "ticks": ""
            },
            "colorscale": [
             [
              0,
              "#0d0887"
             ],
             [
              0.1111111111111111,
              "#46039f"
             ],
             [
              0.2222222222222222,
              "#7201a8"
             ],
             [
              0.3333333333333333,
              "#9c179e"
             ],
             [
              0.4444444444444444,
              "#bd3786"
             ],
             [
              0.5555555555555556,
              "#d8576b"
             ],
             [
              0.6666666666666666,
              "#ed7953"
             ],
             [
              0.7777777777777778,
              "#fb9f3a"
             ],
             [
              0.8888888888888888,
              "#fdca26"
             ],
             [
              1,
              "#f0f921"
             ]
            ],
            "type": "surface"
           }
          ],
          "table": [
           {
            "cells": {
             "fill": {
              "color": "#EBF0F8"
             },
             "line": {
              "color": "white"
             }
            },
            "header": {
             "fill": {
              "color": "#C8D4E3"
             },
             "line": {
              "color": "white"
             }
            },
            "type": "table"
           }
          ]
         },
         "layout": {
          "annotationdefaults": {
           "arrowcolor": "#2a3f5f",
           "arrowhead": 0,
           "arrowwidth": 1
          },
          "coloraxis": {
           "colorbar": {
            "outlinewidth": 0,
            "ticks": ""
           }
          },
          "colorscale": {
           "diverging": [
            [
             0,
             "#8e0152"
            ],
            [
             0.1,
             "#c51b7d"
            ],
            [
             0.2,
             "#de77ae"
            ],
            [
             0.3,
             "#f1b6da"
            ],
            [
             0.4,
             "#fde0ef"
            ],
            [
             0.5,
             "#f7f7f7"
            ],
            [
             0.6,
             "#e6f5d0"
            ],
            [
             0.7,
             "#b8e186"
            ],
            [
             0.8,
             "#7fbc41"
            ],
            [
             0.9,
             "#4d9221"
            ],
            [
             1,
             "#276419"
            ]
           ],
           "sequential": [
            [
             0,
             "#0d0887"
            ],
            [
             0.1111111111111111,
             "#46039f"
            ],
            [
             0.2222222222222222,
             "#7201a8"
            ],
            [
             0.3333333333333333,
             "#9c179e"
            ],
            [
             0.4444444444444444,
             "#bd3786"
            ],
            [
             0.5555555555555556,
             "#d8576b"
            ],
            [
             0.6666666666666666,
             "#ed7953"
            ],
            [
             0.7777777777777778,
             "#fb9f3a"
            ],
            [
             0.8888888888888888,
             "#fdca26"
            ],
            [
             1,
             "#f0f921"
            ]
           ],
           "sequentialminus": [
            [
             0,
             "#0d0887"
            ],
            [
             0.1111111111111111,
             "#46039f"
            ],
            [
             0.2222222222222222,
             "#7201a8"
            ],
            [
             0.3333333333333333,
             "#9c179e"
            ],
            [
             0.4444444444444444,
             "#bd3786"
            ],
            [
             0.5555555555555556,
             "#d8576b"
            ],
            [
             0.6666666666666666,
             "#ed7953"
            ],
            [
             0.7777777777777778,
             "#fb9f3a"
            ],
            [
             0.8888888888888888,
             "#fdca26"
            ],
            [
             1,
             "#f0f921"
            ]
           ]
          },
          "colorway": [
           "#636efa",
           "#EF553B",
           "#00cc96",
           "#ab63fa",
           "#FFA15A",
           "#19d3f3",
           "#FF6692",
           "#B6E880",
           "#FF97FF",
           "#FECB52"
          ],
          "font": {
           "color": "#2a3f5f"
          },
          "geo": {
           "bgcolor": "white",
           "lakecolor": "white",
           "landcolor": "#E5ECF6",
           "showlakes": true,
           "showland": true,
           "subunitcolor": "white"
          },
          "hoverlabel": {
           "align": "left"
          },
          "hovermode": "closest",
          "mapbox": {
           "style": "light"
          },
          "paper_bgcolor": "white",
          "plot_bgcolor": "#E5ECF6",
          "polar": {
           "angularaxis": {
            "gridcolor": "white",
            "linecolor": "white",
            "ticks": ""
           },
           "bgcolor": "#E5ECF6",
           "radialaxis": {
            "gridcolor": "white",
            "linecolor": "white",
            "ticks": ""
           }
          },
          "scene": {
           "xaxis": {
            "backgroundcolor": "#E5ECF6",
            "gridcolor": "white",
            "gridwidth": 2,
            "linecolor": "white",
            "showbackground": true,
            "ticks": "",
            "zerolinecolor": "white"
           },
           "yaxis": {
            "backgroundcolor": "#E5ECF6",
            "gridcolor": "white",
            "gridwidth": 2,
            "linecolor": "white",
            "showbackground": true,
            "ticks": "",
            "zerolinecolor": "white"
           },
           "zaxis": {
            "backgroundcolor": "#E5ECF6",
            "gridcolor": "white",
            "gridwidth": 2,
            "linecolor": "white",
            "showbackground": true,
            "ticks": "",
            "zerolinecolor": "white"
           }
          },
          "shapedefaults": {
           "line": {
            "color": "#2a3f5f"
           }
          },
          "ternary": {
           "aaxis": {
            "gridcolor": "white",
            "linecolor": "white",
            "ticks": ""
           },
           "baxis": {
            "gridcolor": "white",
            "linecolor": "white",
            "ticks": ""
           },
           "bgcolor": "#E5ECF6",
           "caxis": {
            "gridcolor": "white",
            "linecolor": "white",
            "ticks": ""
           }
          },
          "title": {
           "x": 0.05
          },
          "xaxis": {
           "automargin": true,
           "gridcolor": "white",
           "linecolor": "white",
           "ticks": "",
           "title": {
            "standoff": 15
           },
           "zerolinecolor": "white",
           "zerolinewidth": 2
          },
          "yaxis": {
           "automargin": true,
           "gridcolor": "white",
           "linecolor": "white",
           "ticks": "",
           "title": {
            "standoff": 15
           },
           "zerolinecolor": "white",
           "zerolinewidth": 2
          }
         }
        },
        "title": {
         "text": "House Prices"
        }
       }
      },
      "image/png": "[encoded data removed]",
      "text/html": [
       "<div>\n",
       "        \n",
       "        \n",
       "            <div id=\"a18b6c89-0a32-463a-bef3-667e673d7f0c\" class=\"plotly-graph-div\" style=\"height:525px; width:100%;\"></div>\n",
       "            <script type=\"text/javascript\">\n",
       "                require([\"plotly\"], function(Plotly) {\n",
       "                    window.PLOTLYENV=window.PLOTLYENV || {};\n",
       "                    \n",
       "                if (document.getElementById(\"a18b6c89-0a32-463a-bef3-667e673d7f0c\")) {\n",
       "                    Plotly.newPlot(\n",
       "                        'a18b6c89-0a32-463a-bef3-667e673d7f0c',\n",
       "                        [{\"hovertemplate\": \"GrLivArea=%{x}<br>OverallQual=%{y}<br>SalePrice=%{z}<extra></extra>\", \"legendgroup\": \"\", \"marker\": {\"color\": \"#636efa\", \"opacity\": 0.5, \"symbol\": \"circle\"}, \"mode\": \"markers\", \"name\": \"\", \"scene\": \"scene\", \"showlegend\": false, \"type\": \"scatter3d\", \"x\": [1792, 2192, 900, 630, 1188, 2161, 2374, 1200, 1948, 1644, 1484, 904, 1555, 1842, 1654, 1248, 894, 1235, 1524, 923, 1040, 2290, 1616, 1718, 784, 1851, 1362, 1349, 3140, 1365, 2138, 1218, 864, 924, 1297, 1944, 972, 869, 2329, 1346, 1716, 1196, 803, 893, 1690, 1657, 1111, 1266, 1468, 2167, 882, 3493, 778, 2020, 1240, 789, 950, 1430, 1128, 1732, 1516, 2452, 841, 768, 1486, 999, 1469, 1850, 1126, 1526, 3086, 1452, 2468, 1646, 1466, 1358, 1482, 1308, 2633, 1258, 2142, 1573, 860, 1264, 1714, 1200, 1426, 1158, 1845, 1683, 1402, 1309, 864, 1224, 1301, 1250, 912, 1339, 1026, 1159, 1968, 816, 1363, 872, 1008, 1768, 1316, 1717, 1482, 2622, 1539, 2008, 1117, 1414, 1801, 1456, 1466, 955, 1920, 1707, 1604, 1489, 2794, 1818, 2521, 1298, 1766, 1044, 2090, 1692, 2172, 944, 1008, 1200, 764, 1494, 3627, 1702, 2291, 912, 1517, 2872, 1414, 1557, 1317, 1797, 1134, 1430, 1861, 925, 1253, 1481, 864, 1600, 1626, 2576, 1526, 1211, 1140, 1475, 800, 1073, 1556, 1004, 918, 1144, 1573, 1524, 1728, 1347, 1947, 1824, 2236, 1689, 1675, 936, 2119, 1786, 1271, 1342, 988, 1456, 1632, 912, 1836, 1795, 2042, 2473, 1635, 864, 858, 1507, 987, 1739, 1385, 2263, 1630, 1244, 1152, 708, 1661, 2127, 1445, 1571, 1709, 1284, 1221, 2462, 2727, 1786, 1668, 833, 1458, 864, 1718, 1939, 874, 1040, 1572, 988, 4476, 864, 1471, 1920, 1367, 864, 1590, 1291, 1224, 1430, 1360, 1640, 1208, 1539, 1620, 1535, 2531, 948, 1738, 2392, 1792, 1802, 1040, 1788, 1039, 2229, 1190, 1578, 1389, 988, 899, 752, 1553, 1279, 1664, 1176, 1217, 605, 1698, 1040, 1296, 2136, 1768, 1337, 1304, 1686, 988, 999, 1136, 987, 1725, 1498, 1184, 974, 1868, 1124, 1302, 912, 1991, 1086, 1652, 1057, 1576, 1074, 1935, 1541, 1412, 882, 1656, 968, 835, 2078, 2200, 1294, 1310, 1982, 1593, 2054, 1086, 988, 1251, 1120, 1236, 1682, 1056, 1888, 1116, 1743, 1656, 1266, 1350, 1824, 1178, 1614, 1456, 796, 1970, 1442, 1440, 1647, 1660, 1556, 1869, 2097, 1164, 2945, 1145, 2127, 1487, 1369, 923, 1742, 1958, 1704, 1572, 1680, 958, 1056, 2418, 1456, 1661, 1801, 747, 1518, 1040, 1126, 1392, 1212, 1506, 935, 1550, 1080, 1922, 1268, 1092, 1768, 1665, 1090, 936, 2452, 1360, 1414, 1365, 1668, 2080, 1694, 1576, 1958, 1803, 1164, 894, 1337, 1436, 1314, 1869, 2634, 1092, 1310, 1472, 2713, 1501, 480, 1932, 1774, 866, 2290, 1512, 2018, 1912, 886, 1973, 1442, 1146, 1372, 1548, 958, 796, 2263, 1620, 2097, 1800, 1370, 2784, 1567, 1432, 1721, 1128, 1269, 1552, 1258, 1573, 2715, 1446, 1200, 864, 996, 2337, 1192, 1224, 1593, 720, 894, 1440, 864, 2196, 1588, 1746, 1453, 1328, 968, 1509, 1225, 3228, 1496, 1554, 1250, 1671, 2515, 1411, 2062, 1065, 2345, 1306, 1796, 952, 912, 1850, 1320, 1771, 1724, 1981, 864, 894, 1068, 1188, 2256, 1196, 1056, 960, 1530, 2090, 1163, 1344, 1294, 971, 1915, 1710, 1236, 2113, 1121, 2728, 2110, 1489, 913, 1509, 960, 1247, 1734, 2084, 1971, 2526, 1494, 1200, 768, 1664, 1756, 2372, 1212, 1525, 1694, 1144, 2110, 1220, 816, 1442, 804, 1734, 882, 1339, 1498, 1050, 1208, 1561, 2417, 1960, 1040, 1056, 2126, 1324, 980, 1641, 1288, 987, 1708, 1220, 790, 2002, 1041, 1479, 5642, 1246, 1530, 1368, 1969, 2519, 788, 816, 2654, 1478, 1258, 1192, 1721, 1040, 1077, 1489, 1040, 1221, 1844, 910, 1181, 1575, 864, 1664, 1216, 1635, 754, 1680, 1567, 1141, 1126, 2285, 1764, 1382, 1976, 1355, 2520, 1482, 1479, 2243, 1872, 894, 1374, 1826, 1224, 2320, 2340, 2596, 1258, 2112, 1296, 848, 987, 848, 1500, 1582, 1230, 1082, 1100, 1744, 2358, 1577, 1646, 2365, 1908, 2898, 1663, 2158, 2094, 1336, 1203, 1668, 630, 1987, 1779, 1792, 2108, 1324, 1935, 1660, 2448, 1719, 1173, 1812, 1154, 1660, 780, 1494, 1578, 1478, 1728, 816, 1687, 1241, 1742, 2730, 1720, 1440, 1844, 1148, 2046, 1728, 1392, 1180, 1441, 1103, 1718, 1604, 2060, 1786, 1795, 986, 1094, 1431, 438, 1144, 1131, 1218, 1442, 2028, 1125, 902, 1362, 1865, 1978, 1005, 1484, 1154, 1689, 1214, 2324, 1376, 1629, 1494, 2132, 1370, 894, 1904, 1360, 784, 894, 1474, 1929, 1959, 2034, 1804, 1656, 1750, 1710, 960, 1140, 1479, 1959, 1767, 1509, 894, 1242, 2828, 924, 1121, 1701, 1928, 1294, 1092, 1232, 1470, 698, 845, 1476, 1234, 1694, 1652, 1595, 1616, 1073, 1386, 1200, 1699, 1003, 1416, 1652, 1416, 1072, 2514, 1811, 904, 1148, 960, 2524, 1477, 924, 1962, 1069, 861, 2087, 2020, 1208, 2224, 1604, 816, 2201, 1344, 1357, 1006, 1504, 864, 1535, 2262, 1265, 1456, 1269, 1262, 1352, 1216, 1314, 904, 1601, 825, 1768, 1072, 1836, 990, 1383, 1839, 1525, 1761, 1138, 1513, 1123, 1580, 1391, 1062, 1004, 848, 1196, 1494, 1940, 1426, 2263, 1775, 1504, 1047, 1680, 1060, 729, 2287, 965, 1389, 1700, 1040, 1226, 1048, 2076, 1459, 2260, 1790, 1605, 1218, 1630, 1954, 1069, 2482, 1422, 1717, 1502, 630, 1855, 1363, 1324, 985, 1560, 1215, 630, 1636, 3608, 2184, 1337, 1152, 816, 1776, 1111, 1120, 1392, 773, 1092, 2447, 1125, 840, 1902, 1625, 1656, 1548, 1406, 1709, 1048, 1214, 1700, 1252, 1688, 1646, 1720, 1092, 1352, 1752, 1876, 1394, 1434, 747, 2646, 1716, 2149, 864, 1114, 1950, 2392, 1405, 1523, 1316, 1574, 907, 1394, 1710, 912, 1165, 1646, 2207, 864, 1228, 1456, 1040, 1600, 1644, 1382, 2259, 1872, 1340, 3279, 2668, 2046, 1056, 952, 1057, 990, 1176, 1262, 1375, 1334, 1936, 1762, 1953, 954, 964, 1301, 2320, 1338, 1314, 1412, 1473, 2234, 1118, 848, 2332, 1327, 1733, 1200, 1728, 1396, 1928, 2217, 1204, 1717, 990, 1431, 1050, 1537, 1212, 1118, 768, 2364, 1510, 1419, 875, 3222, 864, 1608, 334, 1097, 1456, 1095, 1632, 1440, 2240, 900, 1774, 1253, 1218, 1393, 1563, 720, 1490, 1661, 1502, 1904, 2610, 1632, 1015, 1839, 1040, 1277, 1040, 935, 1392, 1886, 1588, 1336, 1779, 1928, 1363, 1986, 1183, 1517, 4676, 1392, 1112, 1099, 3447, 2035, 1122, 1134, 1470, 1478, 1419, 2526, 1110, 1040, 1629, 2640, 1362, 1522, 2466, 1504, 1200, 2000, 767, 1632, 1665, 1114, 1250, 2267, 1132, 1795, 1820, 1092, 1734, 1639, 1505, 1470, 1863, 2574, 1690, 1261, 3194, 968, 1535, 1109, 2554, 1022, 1674, 1252, 1644, 1691, 1670, 1200, 845, 2620, 894, 1131, 1989, 1617, 958, 1694, 1787, 520, 1283, 1285, 1152, 1322, 1968, 1905, 1458, 1144, 3395, 1328, 1088, 1571, 1034, 816, 2030, 894, 1924, 2520, 672, 1576, 1602, 1376, 792, 1733, 1800, 1067, 1752, 2403, 4316, 1343, 1638, 1268, 1428, 2090, 2344, 3112, 1558, 1048, 1128, 1080, 1856, 1395, 1902, 1541, 1586, 928, 2198, 1092, 1337, 1868, 1032, 858, 1229, 1072, 1194, 902, 1911, 1167, 1111, 1416, 1559, 1144, 1679, 1712, 1218, 1358, 1252, 2084, 1768, 848, 1319, 1582, 1118, 884, 2210, 981, 1689, 1626, 1920, 1664, 1130, 1547, 1452, 936, 1484, 1456, 1416, 1344, 1720, 912, 1472, 2555, 1464], \"y\": [7, 5, 5, 4, 5, 8, 8, 7, 7, 7, 5, 1, 7, 9, 7, 5, 5, 5, 7, 6, 5, 4, 8, 10, 6, 6, 6, 7, 9, 5, 5, 6, 5, 4, 5, 9, 6, 4, 7, 4, 5, 6, 5, 5, 6, 6, 7, 7, 8, 7, 5, 7, 5, 8, 7, 5, 5, 7, 5, 6, 6, 8, 4, 5, 5, 5, 6, 7, 5, 5, 5, 4, 8, 7, 5, 7, 7, 5, 10, 7, 6, 4, 5, 5, 7, 5, 6, 6, 6, 6, 7, 6, 4, 4, 5, 5, 5, 5, 6, 5, 5, 5, 4, 4, 5, 7, 6, 7, 6, 8, 5, 5, 6, 7, 8, 6, 8, 5, 5, 8, 5, 8, 8, 7, 6, 6, 9, 5, 7, 7, 7, 3, 5, 5, 5, 6, 10, 9, 7, 6, 5, 6, 6, 7, 4, 7, 5, 7, 7, 5, 7, 6, 4, 6, 7, 8, 3, 5, 4, 5, 2, 5, 6, 6, 6, 5, 6, 5, 5, 5, 7, 6, 7, 8, 6, 5, 6, 6, 5, 6, 5, 7, 5, 5, 8, 5, 8, 8, 6, 6, 4, 5, 6, 8, 5, 8, 7, 6, 6, 4, 7, 7, 6, 6, 9, 5, 7, 7, 8, 5, 7, 5, 6, 4, 8, 8, 5, 3, 5, 4, 10, 5, 6, 7, 5, 5, 8, 6, 6, 7, 5, 7, 4, 5, 9, 5, 8, 4, 4, 8, 9, 7, 4, 4, 5, 6, 5, 6, 5, 6, 5, 6, 7, 6, 5, 6, 7, 4, 9, 5, 8, 5, 7, 6, 5, 6, 5, 7, 6, 6, 7, 6, 5, 5, 5, 5, 5, 5, 6, 5, 5, 5, 5, 5, 8, 7, 6, 4, 8, 4, 5, 8, 5, 4, 7, 7, 6, 6, 5, 5, 6, 5, 5, 7, 6, 6, 6, 6, 5, 7, 6, 6, 4, 7, 6, 4, 8, 7, 6, 5, 7, 6, 5, 7, 5, 10, 7, 7, 6, 6, 5, 8, 7, 8, 6, 5, 6, 4, 7, 6, 7, 7, 4, 8, 4, 5, 6, 6, 9, 5, 7, 7, 9, 5, 5, 4, 7, 5, 4, 8, 8, 8, 5, 8, 5, 8, 5, 6, 5, 7, 5, 6, 7, 7, 9, 5, 4, 6, 5, 9, 6, 2, 8, 7, 5, 8, 6, 9, 6, 5, 8, 6, 7, 7, 7, 6, 5, 8, 5, 8, 8, 8, 7, 8, 7, 6, 4, 5, 7, 6, 5, 8, 7, 6, 3, 6, 5, 4, 5, 8, 4, 4, 5, 5, 7, 8, 9, 7, 5, 3, 6, 4, 8, 8, 8, 7, 6, 6, 7, 7, 5, 6, 3, 6, 4, 5, 9, 5, 5, 7, 4, 5, 5, 6, 5, 7, 6, 5, 4, 7, 8, 3, 5, 6, 5, 8, 7, 5, 8, 4, 9, 7, 6, 6, 7, 4, 8, 8, 10, 7, 6, 8, 6, 5, 7, 6, 5, 6, 6, 8, 5, 7, 4, 5, 7, 5, 6, 5, 7, 7, 5, 7, 9, 8, 6, 5, 5, 5, 8, 5, 7, 8, 6, 7, 7, 6, 5, 5, 7, 10, 5, 7, 6, 7, 7, 4, 5, 6, 6, 6, 5, 5, 5, 5, 6, 5, 5, 6, 5, 4, 6, 5, 6, 5, 6, 6, 6, 6, 6, 4, 8, 6, 6, 8, 5, 7, 7, 7, 7, 8, 5, 4, 7, 6, 5, 7, 9, 4, 6, 4, 6, 6, 6, 6, 5, 4, 6, 4, 7, 8, 6, 8, 8, 8, 8, 4, 6, 7, 5, 5, 9, 4, 8, 7, 5, 6, 4, 7, 6, 8, 8, 7, 5, 4, 8, 5, 7, 8, 6, 6, 6, 5, 7, 8, 7, 7, 4, 8, 5, 7, 6, 5, 4, 6, 6, 7, 7, 7, 7, 8, 6, 6, 6, 2, 5, 4, 6, 6, 8, 5, 5, 5, 7, 7, 4, 6, 5, 6, 5, 9, 5, 8, 7, 8, 7, 5, 5, 5, 5, 5, 7, 7, 7, 7, 7, 5, 6, 8, 4, 5, 7, 7, 7, 6, 5, 7, 8, 5, 5, 5, 7, 7, 4, 6, 6, 5, 4, 6, 8, 8, 8, 6, 6, 5, 6, 7, 3, 6, 7, 8, 6, 6, 7, 6, 5, 5, 4, 8, 7, 5, 7, 6, 4, 6, 5, 6, 9, 6, 6, 6, 4, 6, 5, 7, 4, 7, 8, 5, 6, 8, 6, 6, 6, 7, 6, 5, 5, 5, 6, 7, 5, 5, 6, 7, 7, 6, 5, 4, 8, 7, 6, 6, 6, 4, 6, 9, 7, 7, 7, 7, 4, 6, 5, 3, 7, 5, 7, 6, 5, 7, 5, 10, 7, 7, 7, 3, 6, 8, 7, 6, 8, 6, 7, 6, 4, 6, 5, 6, 5, 7, 6, 5, 8, 10, 9, 8, 5, 5, 7, 5, 4, 7, 5, 6, 6, 6, 5, 7, 8, 7, 6, 6, 7, 5, 5, 5, 7, 6, 8, 7, 4, 5, 9, 6, 5, 7, 4, 7, 5, 7, 4, 6, 7, 10, 7, 6, 7, 6, 4, 6, 7, 5, 6, 8, 7, 4, 5, 8, 5, 5, 6, 4, 6, 7, 7, 8, 9, 8, 5, 5, 5, 5, 6, 6, 6, 6, 8, 7, 8, 5, 5, 7, 6, 8, 5, 6, 5, 9, 6, 6, 10, 5, 3, 7, 5, 6, 6, 8, 6, 8, 4, 7, 5, 6, 7, 6, 5, 9, 4, 8, 5, 7, 5, 6, 1, 6, 7, 6, 7, 4, 5, 5, 4, 6, 6, 5, 8, 6, 7, 6, 7, 8, 8, 6, 5, 7, 3, 7, 4, 5, 6, 7, 4, 4, 5, 5, 7, 7, 3, 8, 10, 6, 5, 5, 8, 7, 5, 5, 4, 7, 8, 8, 5, 3, 8, 7, 6, 5, 8, 7, 5, 8, 7, 6, 8, 5, 7, 6, 4, 8, 7, 5, 5, 6, 5, 6, 7, 8, 7, 6, 8, 5, 5, 5, 7, 5, 6, 5, 5, 5, 7, 7, 4, 5, 5, 5, 8, 6, 6, 6, 8, 4, 5, 6, 4, 6, 8, 9, 6, 5, 6, 6, 8, 8, 5, 5, 6, 5, 8, 8, 5, 7, 6, 6, 5, 7, 9, 4, 8, 7, 10, 5, 6, 5, 7, 7, 7, 8, 5, 5, 5, 6, 9, 6, 6, 7, 6, 5, 8, 4, 7, 6, 6, 4, 6, 5, 6, 5, 8, 6, 5, 5, 5, 5, 6, 5, 6, 7, 6, 7, 7, 6, 5, 7, 5, 5, 6, 6, 7, 7, 5, 6, 5, 7, 7, 5, 7, 7, 5, 6, 7, 6, 7, 6, 5], \"z\": [231500, 179500, 122000, 84500, 142000, 325624, 285000, 151000, 195000, 275000, 175000, 61000, 174000, 385000, 230000, 87000, 125000, 98600, 260000, 143000, 124000, 122500, 236500, 337500, 76000, 187000, 128000, 179000, 485000, 122500, 106000, 118000, 127000, 80000, 153000, 360000, 132000, 85500, 262280, 112000, 131000, 139000, 87000, 135000, 181000, 163500, 116900, 159895, 244600, 294000, 97000, 295000, 120500, 239500, 194000, 115000, 119500, 180000, 118000, 178000, 167000, 267000, 82000, 133900, 167000, 132500, 135000, 248000, 160000, 144500, 200500, 113000, 354000, 164000, 170000, 224000, 163900, 160000, 466500, 172500, 193500, 133000, 137000, 167500, 196500, 146000, 159500, 158000, 189000, 172500, 194201, 181000, 115000, 101800, 100000, 139000, 115000, 139000, 156000, 158000, 172000, 138000, 125500, 123000, 134500, 163000, 169990, 140000, 140000, 325000, 157500, 225000, 107000, 185500, 239900, 163990, 201000, 127000, 172500, 228000, 117000, 232600, 403000, 169500, 151400, 180000, 370878, 55993, 207500, 224500, 280000, 82000, 137000, 130500, 73000, 217000, 625000, 367294, 230000, 142000, 115000, 272000, 176500, 234000, 40000, 213500, 126000, 187100, 200000, 117500, 176000, 174000, 97000, 169000, 154000, 361919, 85000, 134000, 96500, 127000, 60000, 108480, 151000, 135000, 99500, 124000, 177500, 144000, 119000, 107500, 254900, 180500, 222000, 271000, 181000, 140000, 158000, 204750, 135000, 161500, 128500, 179540, 143000, 147000, 280000, 131500, 253293, 317000, 210000, 120000, 110000, 127000, 106000, 172500, 166000, 258000, 213000, 150000, 158500, 82500, 212000, 238000, 158000, 178000, 328900, 110000, 185000, 320000, 315000, 228950, 180000, 117000, 176000, 111250, 297000, 266000, 130000, 93500, 186700, 91000, 745000, 62383, 172500, 170000, 119000, 129900, 210000, 173000, 164500, 170000, 125500, 183000, 103000, 141500, 315500, 118858, 290000, 119000, 104900, 348000, 374000, 200100, 132250, 161500, 131500, 104000, 132500, 133000, 170000, 180000, 130000, 125000, 186500, 171500, 100000, 114500, 173000, 86000, 320000, 133000, 220000, 137900, 224900, 153500, 115000, 207500, 113000, 178400, 140000, 83000, 197000, 187500, 81000, 93500, 197500, 93000, 106000, 144000, 220000, 144900, 139000, 132000, 149000, 153500, 263435, 205000, 132500, 103200, 249700, 64500, 83000, 339750, 145900, 106250, 164990, 228500, 193000, 244000, 159950, 119000, 160000, 147000, 134450, 174000, 144000, 190000, 160000, 175000, 135000, 176000, 168500, 139000, 102776, 221500, 148500, 55000, 281000, 179900, 182900, 217500, 195000, 154000, 124900, 228000, 125000, 438780, 160200, 271000, 113000, 103600, 119500, 275000, 250000, 306000, 168000, 136905, 128000, 107000, 341000, 176000, 224900, 289000, 79900, 274000, 109900, 175000, 166000, 151000, 264132, 79500, 241000, 141000, 377426, 132000, 141000, 136500, 205950, 157000, 93000, 309000, 187500, 178000, 125000, 232000, 135000, 307000, 223500, 145000, 155000, 140000, 149900, 181000, 210000, 230000, 318061, 200000, 83500, 112000, 125000, 446261, 165600, 35311, 394617, 129900, 110500, 255900, 168500, 378500, 163000, 91300, 395000, 185000, 187500, 250580, 205000, 143750, 85000, 287000, 152000, 423000, 312500, 202500, 250000, 264561, 188500, 201000, 68400, 155000, 212900, 145000, 162900, 299800, 175000, 125000, 67000, 147000, 90000, 135000, 153337, 286000, 34900, 110000, 79000, 115000, 271900, 227000, 377500, 190000, 170000, 37900, 183200, 128950, 430000, 225000, 209500, 171900, 173000, 200624, 82500, 277000, 126500, 239000, 76500, 140000, 135750, 125000, 326000, 164500, 115000, 188000, 135000, 128500, 109500, 154500, 157900, 236000, 110000, 142000, 129000, 259000, 240000, 126175, 144000, 179200, 128500, 220000, 240000, 135000, 350000, 140000, 437154, 244000, 139500, 129000, 180000, 145000, 197000, 318000, 385000, 253000, 136000, 270000, 177500, 129500, 162900, 204000, 107500, 186000, 177000, 245350, 129000, 205000, 102000, 124500, 180500, 119000, 159000, 106500, 180000, 204900, 128900, 195400, 277500, 260000, 216500, 109500, 139000, 185000, 254000, 135000, 178000, 245500, 118000, 130000, 194000, 91000, 145000, 124500, 226000, 160000, 154000, 260000, 114504, 190000, 335000, 100000, 130500, 250000, 157500, 105000, 78000, 180000, 127000, 118000, 185750, 129500, 104900, 223000, 116000, 137500, 179200, 99900, 172400, 118500, 117000, 84500, 177000, 196000, 142500, 108000, 248000, 231500, 176000, 440000, 127500, 290000, 143000, 184000, 225000, 261500, 130000, 105000, 155000, 115000, 169000, 266500, 342643, 108959, 206900, 90000, 140000, 85400, 136500, 173900, 190000, 121600, 119200, 141000, 194500, 122000, 140200, 275000, 337000, 202900, 287000, 256000, 243000, 263000, 157000, 110000, 285000, 75500, 301500, 197900, 136000, 235000, 128000, 197900, 188700, 402000, 324000, 170000, 140000, 125500, 290000, 124900, 279500, 287090, 156500, 150900, 120500, 160000, 199900, 168000, 301000, 260400, 118000, 257000, 123500, 284000, 207500, 121500, 137500, 148500, 110500, 185000, 220000, 214000, 223500, 147000, 102000, 155000, 165000, 60000, 139950, 89471, 131000, 157900, 369900, 155000, 125500, 143000, 235000, 176000, 115000, 174000, 154000, 127500, 143000, 345000, 105000, 284000, 221000, 316600, 152000, 138500, 138000, 130000, 109500, 128200, 168500, 226000, 215000, 219500, 189000, 135000, 160000, 372402, 112000, 84500, 191000, 171000, 239000, 175000, 142500, 175500, 424870, 110000, 139000, 171000, 219500, 193879, 55000, 162500, 177000, 118000, 84000, 173500, 179900, 318000, 392500, 140000, 152000, 156000, 158900, 184900, 95000, 142500, 155000, 251000, 179900, 148000, 250000, 230000, 109900, 132500, 94750, 278000, 145000, 122900, 239799, 140000, 82500, 187500, 144000, 165000, 350000, 181000, 118500, 274970, 97000, 177000, 80000, 191000, 120500, 214000, 305000, 179900, 172785, 192000, 185000, 158000, 164000, 207500, 119000, 140000, 125000, 175000, 140000, 216837, 145000, 165000, 257500, 235000, 227875, 145000, 137500, 100000, 235128, 196000, 146800, 149000, 149300, 109900, 177500, 395192, 189950, 235000, 213000, 181000, 100000, 222000, 129900, 52000, 225000, 119900, 135000, 200000, 150500, 198900, 113000, 465000, 192000, 328000, 193000, 107400, 208300, 295493, 311500, 127500, 281213, 175500, 187500, 165000, 81000, 136900, 164900, 160000, 149900, 201000, 155000, 92000, 255000, 475000, 335000, 180000, 180500, 129900, 192500, 101000, 129000, 146000, 110000, 88000, 169000, 125000, 87000, 335000, 235000, 165400, 155000, 89500, 130000, 98300, 140000, 165500, 160000, 200000, 248900, 196500, 88000, 130000, 319900, 185000, 167500, 189000, 80000, 260000, 135900, 239686, 141000, 155000, 239000, 386250, 171750, 180000, 200141, 190000, 109008, 159000, 208500, 114500, 174900, 293077, 180000, 116050, 149350, 215000, 133700, 207500, 167000, 148000, 217000, 241500, 181134, 538000, 412500, 372500, 145000, 139000, 109000, 126000, 134900, 181500, 140000, 167900, 230500, 157000, 252000, 132500, 163500, 187750, 259500, 213500, 145000, 175000, 143000, 501837, 171000, 155900, 426000, 150750, 139600, 144152, 142600, 153575, 137000, 268000, 162000, 255500, 123600, 192000, 136500, 174000, 178000, 116000, 133000, 611657, 108000, 184100, 105000, 320000, 129000, 137450, 39300, 152000, 189000, 140000, 176500, 150000, 142953, 134800, 87000, 157000, 113000, 135500, 245000, 105900, 184000, 165500, 233170, 275000, 303477, 139000, 88000, 221000, 92900, 167000, 90000, 137000, 110000, 199900, 134432, 108000, 170000, 160000, 241500, 205000, 120000, 230000, 184750, 161750, 85000, 144000, 381000, 222500, 147000, 135000, 135000, 222000, 392000, 290000, 165500, 87500, 270000, 265979, 163000, 102000, 340000, 203000, 179000, 305900, 133000, 173000, 227000, 159000, 164700, 200000, 176000, 230000, 201800, 139000, 126000, 115000, 145000, 185000, 219210, 276000, 144000, 163000, 359100, 100000, 118964, 139000, 159500, 85000, 185000, 127000, 146500, 127000, 240000, 151000, 129500, 190000, 123000, 66500, 255000, 193000, 151500, 136500, 275000, 68500, 140000, 143500, 82000, 147000, 269500, 320000, 97500, 131400, 200000, 143000, 170000, 239000, 109000, 110000, 195000, 129000, 280000, 310000, 108000, 197000, 215000, 119500, 109500, 225000, 239000, 128000, 164000, 244400, 755000, 154900, 192000, 133000, 227680, 200000, 265000, 235000, 152000, 135000, 155000, 136000, 394432, 162000, 112000, 220000, 181000, 112500, 250000, 75000, 185000, 178000, 148000, 88000, 124000, 145000, 159500, 131000, 215000, 173000, 95000, 153900, 153500, 143000, 193500, 145000, 91500, 207000, 235000, 233000, 226700, 143000, 123000, 185900, 119900, 144000, 117500, 143250, 248328, 173000, 137000, 159000, 120000, 215200, 183900, 129000, 213000, 155835, 112000, 137500, 183500, 156000, 160000, 191000, 175000]}, {\"colorscale\": [[0.0, \"#440154\"], [0.1111111111111111, \"#482878\"], [0.2222222222222222, \"#3e4989\"], [0.3333333333333333, \"#31688e\"], [0.4444444444444444, \"#26828e\"], [0.5555555555555556, \"#1f9e89\"], [0.6666666666666666, \"#35b779\"], [0.7777777777777778, \"#6ece58\"], [0.8888888888888888, \"#b5de2b\"], [1.0, \"#fde725\"]], \"type\": \"surface\", \"x\": [334.0, 613.3684210526316, 892.7368421052631, 1172.1052631578946, 1451.4736842105262, 1730.842105263158, 2010.2105263157894, 2289.578947368421, 2568.9473684210525, 2848.315789473684, 3127.684210526316, 3407.052631578947, 3686.4210526315787, 3965.7894736842104, 4245.157894736842, 4524.526315789473, 4803.894736842105, 5083.263157894737, 5362.631578947368, 5642.0], \"y\": [1.0, 1.4736842105263157, 1.9473684210526314, 2.4210526315789473, 2.894736842105263, 3.3684210526315788, 3.8421052631578947, 4.315789473684211, 4.789473684210526, 5.263157894736842, 5.7368421052631575, 6.2105263157894735, 6.684210526315789, 7.157894736842105, 7.63157894736842, 8.105263157894736, 8.578947368421051, 9.052631578947368, 9.526315789473683, 10.0], \"z\": [[-51513.49535165938, -36315.44667668805, -21117.398001716705, -5919.349326745374, 9278.699348225957, 24476.748023197317, 39674.79669816865, 54872.84537313998, 70070.89404811134, 85268.94272308267, 100466.991398054, 115665.04007302533, 130863.08874799666, 146061.13742296802, 161259.18609793935, 176457.23477291068, 191655.28344788202, 206853.33212285335, 222051.38079782468, 237249.429472796], [-35853.75966979102, -20655.71099481969, -5457.662319848343, 9740.386355122988, 24938.43503009432, 40136.48370506568, 55334.53238003701, 70532.58105500834, 85730.6297299797, 100928.67840495103, 116126.72707992236, 131324.7757548937, 146522.82442986502, 161720.87310483636, 176918.9217798077, 192116.97045477902, 207315.01912975035, 222513.06780472174, 237711.11647969307, 252909.1651546644], [-20194.023987922657, -4995.9753129513265, 10202.073362020019, 25400.12203699135, 40598.17071196268, 55796.21938693404, 70994.26806190537, 86192.3167368767, 101390.36541184806, 116588.4140868194, 131786.46276179072, 146984.51143676206, 162182.56011173336, 177380.60878670475, 192578.65746167608, 207776.7061366474, 222974.75481161874, 238172.80348659007, 253370.8521615614, 268568.9008365327], [-4534.288306054295, 10663.76036891705, 25861.80904388838, 41059.85771885971, 56257.90639383104, 71455.9550688024, 86654.00374377373, 101852.05241874506, 117050.10109371642, 132248.14976868776, 147446.1984436591, 162644.24711863042, 177842.29579360175, 193040.34446857314, 208238.39314354447, 223436.4418185158, 238634.49049348713, 253832.53916845846, 269030.58784342976, 284228.6365184011], [11125.447375814052, 26323.496050785383, 41521.544725756714, 56719.593400728045, 71917.6420756994, 87115.69075067076, 102313.7394256421, 117511.78810061343, 132709.83677558476, 147907.8854505561, 163105.93412552742, 178303.98280049875, 193502.03147547008, 208700.08015044147, 223898.1288254128, 239096.17750038413, 254294.22617535546, 269492.2748503268, 284690.32352529815, 299888.3722002695], [26785.18305768243, 41983.231732653774, 57181.280407625105, 72379.32908259644, 87577.37775756777, 102775.42643253913, 117973.47510751046, 133171.5237824818, 148369.57245745315, 163567.62113242448, 178765.6698073958, 193963.71848236714, 209161.76715733847, 224359.8158323098, 239557.86450728113, 254755.91318225247, 269953.96185722377, 285152.0105321952, 300350.05920716655, 315548.1078821379], [42444.918739550805, 57642.967414522136, 72841.01608949347, 88039.0647644648, 103237.11343943616, 118435.16211440749, 133633.21078937882, 148831.25946435015, 164029.30813932154, 179227.35681429287, 194425.4054892642, 209623.45416423553, 224821.50283920686, 240019.5515141782, 255217.60018914953, 270415.6488641208, 285613.69753909216, 300811.7462140635, 316009.7948890348, 331207.84356400615], [58104.654421419196, 73302.70309639053, 88500.75177136186, 103698.80044633319, 118896.84912130455, 134094.89779627588, 149292.9464712472, 164490.99514621854, 179689.04382118993, 194887.09249616126, 210085.1411711326, 225283.18984610392, 240481.23852107525, 255679.2871960466, 270877.3358710179, 286075.3845459892, 301273.43322096055, 316471.4818959319, 331669.5305709032, 346867.57924587454], [73764.39010328753, 88962.43877825886, 104160.48745323019, 119358.53612820152, 134556.58480317288, 149754.6334781442, 164952.68215311554, 180150.73082808687, 195348.7795030582, 210546.82817802954, 225744.87685300087, 240942.9255279722, 256140.97420294353, 271339.02287791495, 286537.0715528863, 301735.1202278576, 316933.16890282894, 332131.2175778003, 347329.2662527716, 362527.31492774293], [89424.12578515589, 104622.17446012722, 119820.22313509855, 135018.27181006988, 150216.32048504121, 165414.3691600126, 180612.41783498393, 195810.46650995527, 211008.5151849266, 226206.56385989793, 241404.61253486926, 256602.6612098406, 271800.7098848119, 286998.7585597832, 302196.80723475455, 317394.8559097259, 332592.9045846972, 347790.95325966866, 362989.00193464, 378187.0506096113], [105083.86146702425, 120281.91014199558, 135479.95881696692, 150678.00749193825, 165876.0561669096, 181074.10484188094, 196272.15351685227, 211470.2021918236, 226668.250866795, 241866.29954176632, 257064.34821673765, 272262.39689170895, 287460.4455666803, 302658.4942416516, 317856.54291662294, 333054.5915915943, 348252.6402665656, 363450.68894153694, 378648.73761650827, 393846.7862914796], [120743.59714889262, 135941.64582386395, 151139.69449883528, 166337.7431738066, 181535.79184877794, 196733.84052374927, 211931.8891987206, 227129.93787369193, 242327.98654866332, 257526.03522363465, 272724.083898606, 287922.13257357734, 303120.1812485487, 318318.22992352, 333516.27859849134, 348714.32727346267, 363912.375948434, 379110.4246234053, 394308.47329837666, 409506.521973348], [136403.332830761, 151601.38150573234, 166799.43018070367, 181997.478855675, 197195.52753064633, 212393.57620561766, 227591.624880589, 242789.67355556032, 257987.7222305317, 273185.7709055031, 288383.8195804744, 303581.86825544573, 318779.91693041706, 333977.9656053884, 349176.0142803597, 364374.06295533106, 379572.1116303024, 394770.1603052737, 409968.20898024505, 425166.2576552164], [152063.06851262937, 167261.11718760067, 182459.16586257206, 197657.2145375434, 212855.26321251472, 228053.31188748605, 243251.36056245738, 258449.4092374287, 273647.4579124, 288845.50658737135, 304043.5552623427, 319241.603937314, 334439.65261228534, 349637.7012872568, 364835.7499622281, 380033.79863719945, 395231.8473121708, 410429.8959871421, 425627.94466211344, 440825.9933370848], [167722.80419449767, 182920.852869469, 198118.90154444033, 213316.95021941166, 228514.99889438305, 243713.04756935438, 258911.09624432572, 274109.1449192971, 289307.1935942684, 304505.24226923974, 319703.29094421107, 334901.3396191824, 350099.38829415373, 365297.43696912506, 380495.4856440964, 395693.5343190677, 410891.58299403905, 426089.6316690104, 441287.6803439817, 456485.72901895305], [183382.53987636606, 198580.5885513374, 213778.63722630873, 228976.68590128006, 244174.7345762514, 259372.78325122272, 274570.831926194, 289768.88060116535, 304966.9292761368, 320164.9779511081, 335363.02662607946, 350561.0753010508, 365759.1239760221, 380957.17265099345, 396155.2213259648, 411353.2700009361, 426551.31867590745, 441749.3673508788, 456947.4160258501, 472145.46470082144], [199042.2755582344, 214240.32423320573, 229438.37290817706, 244636.4215831484, 259834.47025811972, 275032.5189330911, 290230.5676080624, 305428.61628303374, 320626.6649580051, 335824.7136329764, 351022.76230794773, 366220.81098291907, 381418.8596578904, 396616.9083328617, 411814.95700783306, 427013.0056828044, 442211.0543577757, 457409.10303274705, 472607.1517077184, 487805.2003826897], [214702.0112401028, 229900.05991507412, 245098.10859004545, 260296.15726501678, 275494.20593998814, 290692.2546149595, 305890.3032899308, 321088.35196490213, 336286.40063987346, 351484.4493148448, 366682.4979898161, 381880.54666478746, 397078.5953397588, 412276.6440147301, 427474.69268970145, 442672.7413646728, 457870.7900396441, 473068.83871461544, 488266.8873895868, 503464.9360645581], [230361.74692197118, 245559.7955969425, 260757.84427191384, 275955.8929468852, 291153.94162185653, 306351.99029682786, 321550.0389717992, 336748.0876467705, 351946.13632174185, 367144.1849967132, 382342.2336716845, 397540.28234665585, 412738.3310216272, 427936.3796965985, 443134.42837156984, 458332.4770465412, 473530.5257215125, 488728.57439648383, 503926.62307145516, 519124.6717464265], [246021.48260383957, 261219.5312788109, 276417.57995378226, 291615.6286287536, 306813.6773037249, 322011.72597869625, 337209.7746536676, 352407.8233286389, 367605.87200361025, 382803.9206785816, 398001.9693535529, 413200.01802852424, 428398.06670349557, 443596.1153784669, 458794.16405343823, 473992.21272840956, 489190.2614033809, 504388.3100783522, 519586.35875332355, 534784.4074282949]]}],\n",
       "                        {\"legend\": {\"tracegroupgap\": 0}, \"scene\": {\"domain\": {\"x\": [0.0, 1.0], \"y\": [0.0, 1.0]}, \"xaxis\": {\"title\": {\"text\": \"GrLivArea\"}}, \"yaxis\": {\"title\": {\"text\": \"OverallQual\"}}, \"zaxis\": {\"title\": {\"text\": \"SalePrice\"}}}, \"template\": {\"data\": {\"bar\": [{\"error_x\": {\"color\": \"#2a3f5f\"}, \"error_y\": {\"color\": \"#2a3f5f\"}, \"marker\": {\"line\": {\"color\": \"#E5ECF6\", \"width\": 0.5}}, \"type\": \"bar\"}], \"barpolar\": [{\"marker\": {\"line\": {\"color\": \"#E5ECF6\", \"width\": 0.5}}, \"type\": \"barpolar\"}], \"carpet\": [{\"aaxis\": {\"endlinecolor\": \"#2a3f5f\", \"gridcolor\": \"white\", \"linecolor\": \"white\", \"minorgridcolor\": \"white\", \"startlinecolor\": \"#2a3f5f\"}, \"baxis\": {\"endlinecolor\": \"#2a3f5f\", \"gridcolor\": \"white\", \"linecolor\": \"white\", \"minorgridcolor\": \"white\", \"startlinecolor\": \"#2a3f5f\"}, \"type\": \"carpet\"}], \"choropleth\": [{\"colorbar\": {\"outlinewidth\": 0, \"ticks\": \"\"}, \"type\": \"choropleth\"}], \"contour\": [{\"colorbar\": {\"outlinewidth\": 0, \"ticks\": \"\"}, \"colorscale\": [[0.0, \"#0d0887\"], [0.1111111111111111, \"#46039f\"], [0.2222222222222222, \"#7201a8\"], [0.3333333333333333, \"#9c179e\"], [0.4444444444444444, \"#bd3786\"], [0.5555555555555556, \"#d8576b\"], [0.6666666666666666, \"#ed7953\"], [0.7777777777777778, \"#fb9f3a\"], [0.8888888888888888, \"#fdca26\"], [1.0, \"#f0f921\"]], \"type\": \"contour\"}], \"contourcarpet\": [{\"colorbar\": {\"outlinewidth\": 0, \"ticks\": \"\"}, \"type\": \"contourcarpet\"}], \"heatmap\": [{\"colorbar\": {\"outlinewidth\": 0, \"ticks\": \"\"}, \"colorscale\": [[0.0, \"#0d0887\"], [0.1111111111111111, \"#46039f\"], [0.2222222222222222, \"#7201a8\"], [0.3333333333333333, \"#9c179e\"], [0.4444444444444444, \"#bd3786\"], [0.5555555555555556, \"#d8576b\"], [0.6666666666666666, \"#ed7953\"], [0.7777777777777778, \"#fb9f3a\"], [0.8888888888888888, \"#fdca26\"], [1.0, \"#f0f921\"]], \"type\": \"heatmap\"}], \"heatmapgl\": [{\"colorbar\": {\"outlinewidth\": 0, \"ticks\": \"\"}, \"colorscale\": [[0.0, \"#0d0887\"], [0.1111111111111111, \"#46039f\"], [0.2222222222222222, \"#7201a8\"], [0.3333333333333333, \"#9c179e\"], [0.4444444444444444, \"#bd3786\"], [0.5555555555555556, \"#d8576b\"], [0.6666666666666666, \"#ed7953\"], [0.7777777777777778, \"#fb9f3a\"], [0.8888888888888888, \"#fdca26\"], [1.0, \"#f0f921\"]], \"type\": \"heatmapgl\"}], \"histogram\": [{\"marker\": {\"colorbar\": {\"outlinewidth\": 0, \"ticks\": \"\"}}, \"type\": \"histogram\"}], \"histogram2d\": [{\"colorbar\": {\"outlinewidth\": 0, \"ticks\": \"\"}, \"colorscale\": [[0.0, \"#0d0887\"], [0.1111111111111111, \"#46039f\"], [0.2222222222222222, \"#7201a8\"], [0.3333333333333333, \"#9c179e\"], [0.4444444444444444, \"#bd3786\"], [0.5555555555555556, \"#d8576b\"], [0.6666666666666666, \"#ed7953\"], [0.7777777777777778, \"#fb9f3a\"], [0.8888888888888888, \"#fdca26\"], [1.0, \"#f0f921\"]], \"type\": \"histogram2d\"}], \"histogram2dcontour\": [{\"colorbar\": {\"outlinewidth\": 0, \"ticks\": \"\"}, \"colorscale\": [[0.0, \"#0d0887\"], [0.1111111111111111, \"#46039f\"], [0.2222222222222222, \"#7201a8\"], [0.3333333333333333, \"#9c179e\"], [0.4444444444444444, \"#bd3786\"], [0.5555555555555556, \"#d8576b\"], [0.6666666666666666, \"#ed7953\"], [0.7777777777777778, \"#fb9f3a\"], [0.8888888888888888, \"#fdca26\"], [1.0, \"#f0f921\"]], \"type\": \"histogram2dcontour\"}], \"mesh3d\": [{\"colorbar\": {\"outlinewidth\": 0, \"ticks\": \"\"}, \"type\": \"mesh3d\"}], \"parcoords\": [{\"line\": {\"colorbar\": {\"outlinewidth\": 0, \"ticks\": \"\"}}, \"type\": \"parcoords\"}], \"pie\": [{\"automargin\": true, \"type\": \"pie\"}], \"scatter\": [{\"marker\": {\"colorbar\": {\"outlinewidth\": 0, \"ticks\": \"\"}}, \"type\": \"scatter\"}], \"scatter3d\": [{\"line\": {\"colorbar\": {\"outlinewidth\": 0, \"ticks\": \"\"}}, \"marker\": {\"colorbar\": {\"outlinewidth\": 0, \"ticks\": \"\"}}, \"type\": \"scatter3d\"}], \"scattercarpet\": [{\"marker\": {\"colorbar\": {\"outlinewidth\": 0, \"ticks\": \"\"}}, \"type\": \"scattercarpet\"}], \"scattergeo\": [{\"marker\": {\"colorbar\": {\"outlinewidth\": 0, \"ticks\": \"\"}}, \"type\": \"scattergeo\"}], \"scattergl\": [{\"marker\": {\"colorbar\": {\"outlinewidth\": 0, \"ticks\": \"\"}}, \"type\": \"scattergl\"}], \"scattermapbox\": [{\"marker\": {\"colorbar\": {\"outlinewidth\": 0, \"ticks\": \"\"}}, \"type\": \"scattermapbox\"}], \"scatterpolar\": [{\"marker\": {\"colorbar\": {\"outlinewidth\": 0, \"ticks\": \"\"}}, \"type\": \"scatterpolar\"}], \"scatterpolargl\": [{\"marker\": {\"colorbar\": {\"outlinewidth\": 0, \"ticks\": \"\"}}, \"type\": \"scatterpolargl\"}], \"scatterternary\": [{\"marker\": {\"colorbar\": {\"outlinewidth\": 0, \"ticks\": \"\"}}, \"type\": \"scatterternary\"}], \"surface\": [{\"colorbar\": {\"outlinewidth\": 0, \"ticks\": \"\"}, \"colorscale\": [[0.0, \"#0d0887\"], [0.1111111111111111, \"#46039f\"], [0.2222222222222222, \"#7201a8\"], [0.3333333333333333, \"#9c179e\"], [0.4444444444444444, \"#bd3786\"], [0.5555555555555556, \"#d8576b\"], [0.6666666666666666, \"#ed7953\"], [0.7777777777777778, \"#fb9f3a\"], [0.8888888888888888, \"#fdca26\"], [1.0, \"#f0f921\"]], \"type\": \"surface\"}], \"table\": [{\"cells\": {\"fill\": {\"color\": \"#EBF0F8\"}, \"line\": {\"color\": \"white\"}}, \"header\": {\"fill\": {\"color\": \"#C8D4E3\"}, \"line\": {\"color\": \"white\"}}, \"type\": \"table\"}]}, \"layout\": {\"annotationdefaults\": {\"arrowcolor\": \"#2a3f5f\", \"arrowhead\": 0, \"arrowwidth\": 1}, \"coloraxis\": {\"colorbar\": {\"outlinewidth\": 0, \"ticks\": \"\"}}, \"colorscale\": {\"diverging\": [[0, \"#8e0152\"], [0.1, \"#c51b7d\"], [0.2, \"#de77ae\"], [0.3, \"#f1b6da\"], [0.4, \"#fde0ef\"], [0.5, \"#f7f7f7\"], [0.6, \"#e6f5d0\"], [0.7, \"#b8e186\"], [0.8, \"#7fbc41\"], [0.9, \"#4d9221\"], [1, \"#276419\"]], \"sequential\": [[0.0, \"#0d0887\"], [0.1111111111111111, \"#46039f\"], [0.2222222222222222, \"#7201a8\"], [0.3333333333333333, \"#9c179e\"], [0.4444444444444444, \"#bd3786\"], [0.5555555555555556, \"#d8576b\"], [0.6666666666666666, \"#ed7953\"], [0.7777777777777778, \"#fb9f3a\"], [0.8888888888888888, \"#fdca26\"], [1.0, \"#f0f921\"]], \"sequentialminus\": [[0.0, \"#0d0887\"], [0.1111111111111111, \"#46039f\"], [0.2222222222222222, \"#7201a8\"], [0.3333333333333333, \"#9c179e\"], [0.4444444444444444, \"#bd3786\"], [0.5555555555555556, \"#d8576b\"], [0.6666666666666666, \"#ed7953\"], [0.7777777777777778, \"#fb9f3a\"], [0.8888888888888888, \"#fdca26\"], [1.0, \"#f0f921\"]]}, \"colorway\": [\"#636efa\", \"#EF553B\", \"#00cc96\", \"#ab63fa\", \"#FFA15A\", \"#19d3f3\", \"#FF6692\", \"#B6E880\", \"#FF97FF\", \"#FECB52\"], \"font\": {\"color\": \"#2a3f5f\"}, \"geo\": {\"bgcolor\": \"white\", \"lakecolor\": \"white\", \"landcolor\": \"#E5ECF6\", \"showlakes\": true, \"showland\": true, \"subunitcolor\": \"white\"}, \"hoverlabel\": {\"align\": \"left\"}, \"hovermode\": \"closest\", \"mapbox\": {\"style\": \"light\"}, \"paper_bgcolor\": \"white\", \"plot_bgcolor\": \"#E5ECF6\", \"polar\": {\"angularaxis\": {\"gridcolor\": \"white\", \"linecolor\": \"white\", \"ticks\": \"\"}, \"bgcolor\": \"#E5ECF6\", \"radialaxis\": {\"gridcolor\": \"white\", \"linecolor\": \"white\", \"ticks\": \"\"}}, \"scene\": {\"xaxis\": {\"backgroundcolor\": \"#E5ECF6\", \"gridcolor\": \"white\", \"gridwidth\": 2, \"linecolor\": \"white\", \"showbackground\": true, \"ticks\": \"\", \"zerolinecolor\": \"white\"}, \"yaxis\": {\"backgroundcolor\": \"#E5ECF6\", \"gridcolor\": \"white\", \"gridwidth\": 2, \"linecolor\": \"white\", \"showbackground\": true, \"ticks\": \"\", \"zerolinecolor\": \"white\"}, \"zaxis\": {\"backgroundcolor\": \"#E5ECF6\", \"gridcolor\": \"white\", \"gridwidth\": 2, \"linecolor\": \"white\", \"showbackground\": true, \"ticks\": \"\", \"zerolinecolor\": \"white\"}}, \"shapedefaults\": {\"line\": {\"color\": \"#2a3f5f\"}}, \"ternary\": {\"aaxis\": {\"gridcolor\": \"white\", \"linecolor\": \"white\", \"ticks\": \"\"}, \"baxis\": {\"gridcolor\": \"white\", \"linecolor\": \"white\", \"ticks\": \"\"}, \"bgcolor\": \"#E5ECF6\", \"caxis\": {\"gridcolor\": \"white\", \"linecolor\": \"white\", \"ticks\": \"\"}}, \"title\": {\"x\": 0.05}, \"xaxis\": {\"automargin\": true, \"gridcolor\": \"white\", \"linecolor\": \"white\", \"ticks\": \"\", \"title\": {\"standoff\": 15}, \"zerolinecolor\": \"white\", \"zerolinewidth\": 2}, \"yaxis\": {\"automargin\": true, \"gridcolor\": \"white\", \"linecolor\": \"white\", \"ticks\": \"\", \"title\": {\"standoff\": 15}, \"zerolinecolor\": \"white\", \"zerolinewidth\": 2}}}, \"title\": {\"text\": \"House Prices\"}},\n",
       "                        {\"responsive\": true}\n",
       "                    ).then(function(){\n",
       "                            \n",
       "var gd = document.getElementById('a18b6c89-0a32-463a-bef3-667e673d7f0c');\n",
       "var x = new MutationObserver(function (mutations, observer) {{\n",
       "        var display = window.getComputedStyle(gd).display;\n",
       "        if (!display || display === 'none') {{\n",
       "            console.log([gd, 'removed!']);\n",
       "            Plotly.purge(gd);\n",
       "            observer.disconnect();\n",
       "        }}\n",
       "}});\n",
       "\n",
       "// Listen for the removal of the full notebook cells\n",
       "var notebookContainer = gd.closest('#notebook-container');\n",
       "if (notebookContainer) {{\n",
       "    x.observe(notebookContainer, {childList: true});\n",
       "}}\n",
       "\n",
       "// Listen for the clearing of the current output cell\n",
       "var outputEl = gd.closest('.output');\n",
       "if (outputEl) {{\n",
       "    x.observe(outputEl, {childList: true});\n",
       "}}\n",
       "\n",
       "                        })\n",
       "                };\n",
       "                });\n",
       "            </script>\n",
       "        </div>"
      ]
     },
     "metadata": {
      "tags": []
     },
     "output_type": "display_data"
    }
   ],
   "source": [
    "surface_3d(\n",
    "    train,\n",
    "    f1='GrLivArea', \n",
    "    f2='OverallQual', \n",
    "    target='SalePrice',  \n",
    "    title='House Prices'\n",
    ")"
   ]
  },
  {
   "cell_type": "markdown",
   "metadata": {
    "id": "SJ490-qEvfSr"
   },
   "source": [
    "## 회귀계수를 해석해 보고 모델을 평가해 봅시다"
   ]
  },
  {
   "cell_type": "markdown",
   "metadata": {
    "id": "8YR1p7eexIf6"
   },
   "source": [
    "- 단순선형회귀식은 다음과 같았습니다: \n",
    "$y = \\beta_0 + \\beta_1 x $\n",
    "\n",
    "- 지금 다룬 2특성의 다중선형회귀 식은 다음과 같습니다: \n",
    "$y = \\beta_0 + \\beta_1x_1 + \\beta_2x_2$\n",
    "\n",
    "- 계수들(coefficients or parameters) $\\beta_0$~$\\beta_2$ 는 어떻게 구할까요? "
   ]
  },
  {
   "cell_type": "code",
   "execution_count": null,
   "metadata": {
    "colab": {
     "base_uri": "https://localhost:8080/",
     "height": 34
    },
    "id": "lFhJqqSS-i9d",
    "outputId": "7027ec15-317d-4248-f78a-4ab2bab3c7fe"
   },
   "outputs": [
    {
     "data": {
      "text/plain": [
       "(-102743.02342270731, array([   54.40145532, 33059.44199506]))"
      ]
     },
     "execution_count": 64,
     "metadata": {
      "tags": []
     },
     "output_type": "execute_result"
    }
   ],
   "source": [
    "## 절편(intercept)과 계수들(coefficients)\n",
    "model.intercept_, model.coef_"
   ]
  },
  {
   "cell_type": "code",
   "execution_count": null,
   "metadata": {
    "colab": {
     "base_uri": "https://localhost:8080/",
     "height": 34
    },
    "id": "dxXoa0FW5ahH",
    "outputId": "352f9b4d-fa7d-4b1b-df63-97e88c46e09a"
   },
   "outputs": [
    {
     "name": "stdout",
     "output_type": "stream",
     "text": [
      "y = -102743 + 54x₁ + 33059x₂\n"
     ]
    }
   ],
   "source": [
    "## 회귀식을 만들어 봅시다.\n",
    "b0 = model.intercept_\n",
    "b1, b2 = model.coef_\n",
    "\n",
    "print(f'y = {b0:.0f} + {b1:.0f}x\\u2081 + {b2:.0f}x\\u2082')"
   ]
  },
  {
   "cell_type": "markdown",
   "metadata": {
    "id": "Vf8s9srD5ahM"
   },
   "source": [
    "$\\beta_1$과 $\\beta_2$ 모두 양수입니다. 이것은 $x_1$, $x_2$이 증가할 때마다 $y$ 도 증가한다는 뜻입니다.\n",
    "만약 음수인 경우에는 $y$ 가 감소한다는 뜻이겠지요."
   ]
  },
  {
   "cell_type": "markdown",
   "metadata": {
    "id": "dcQFYX0yYrFt"
   },
   "source": [
    "한 번 가상의 관측 데이터를 넣어보고 모델이 어떻게 예측하는지 봅시다."
   ]
  },
  {
   "cell_type": "code",
   "execution_count": null,
   "metadata": {
    "colab": {
     "base_uri": "https://localhost:8080/",
     "height": 34
    },
    "id": "Rup9q-6gAIZD",
    "outputId": "d8a2fb58-f506-4a39-e1ec-6db15a5378d1"
   },
   "outputs": [
    {
     "data": {
      "text/plain": [
       "array([336654.30716253])"
      ]
     },
     "execution_count": 66,
     "metadata": {
      "tags": []
     },
     "output_type": "execute_result"
    }
   ],
   "source": [
    "model.predict([[2000, 10]])"
   ]
  },
  {
   "cell_type": "code",
   "execution_count": null,
   "metadata": {
    "colab": {
     "base_uri": "https://localhost:8080/",
     "height": 34
    },
    "id": "1onFls9AAh5Z",
    "outputId": "42860ad3-def1-451c-df8c-299b99eff6cb"
   },
   "outputs": [
    {
     "data": {
      "text/plain": [
       "array([105238.21319714])"
      ]
     },
     "execution_count": 67,
     "metadata": {
      "tags": []
     },
     "output_type": "execute_result"
    }
   ],
   "source": [
    "model.predict([[2000, 3]])"
   ]
  },
  {
   "cell_type": "markdown",
   "metadata": {
    "id": "CWYSFWjWYrFt"
   },
   "source": [
    "선형회귀는 다른 ML 모델에 비해 상대적으로 학습이 빠르고 설명력이 강합니다. 하지만 선형 모델의 이므로 과소적합(underfitting)이 잘 일어난다는 단점이 있습니다. 과소적합에 대해서는 강의 뒷 부분에서 편향과 분산에 대해서 다룰 때 자세히 알아보겠습니다."
   ]
  },
  {
   "cell_type": "markdown",
   "metadata": {
    "id": "o1_b4j6ZtZgb"
   },
   "source": [
    "### 회귀모델을 평가하는 평가지표들(evaluation metrics)"
   ]
  },
  {
   "cell_type": "markdown",
   "metadata": {
    "id": "D8moJTC6uDuh"
   },
   "source": [
    "만들어진 회귀모델을 평가하는데는 다음과 같은 평가지표들이 있습니다.\n",
    "\n",
    "* MSE (Mean Squared Error) = \n",
    "$\\frac{1}{n}\\sum_{i=1}^{n}(y_{i} - \\hat{y_{i}})^{2}$\n",
    "* MAE (Mean absolute error) = $\\frac{1}{n}\\sum_{i=1}^{n}\\left | y_{i} - \\hat{y_{i}} \\right |$\n",
    "* RMSE (Root Mean Squared Error) = \n",
    "$\\sqrt{MSE}$\n",
    "* R-squared (Coefficient of determination) = \n",
    "$1 - \\frac{\\sum_{i=1}^{n}(y_{i} - \\hat{y_{i}})^{2}}{\\sum_{i=1}^{n}(y_{i} - \\bar{y_{i}})^{2}} = 1 - \\frac{SSE}{SST} = \\frac {SSR}{SST}$\n",
    "\n",
    "- 참고\n",
    "    - SSE(Sum of Squares `Error`, 관측치와 예측치 차이): $\\sum_{i=1}^{n}(y_{i} - \\hat{y_{i}})^{2}$\n",
    "    - SSR(Sum of Squares due to `Regression`, 예측치와 평균 차이): $\\sum_{i=1}^{n}(\\hat{y_{i}} - \\bar{y_{i}})^{2}$\n",
    "    - SST(Sum of Squares `Total`, 관측치와 평균 차이): $\\sum_{i=1}^{n}(y_{i} - \\bar{y_{i}})^{2}$ , SSE + SSR\n"
   ]
  },
  {
   "cell_type": "markdown",
   "metadata": {
    "id": "c1GQac37YrFu"
   },
   "source": [
    "각 평가지표의 차이를 살펴보기 위하여 간단한 데이터를 만들어 봅시다."
   ]
  },
  {
   "cell_type": "code",
   "execution_count": null,
   "metadata": {
    "id": "ITMjAoc4YrFu"
   },
   "outputs": [],
   "source": [
    "from sklearn.metrics import  mean_squared_error, mean_absolute_error, r2_score\n",
    "\n",
    "df_study = pd.DataFrame([[1, 2, 3], [2, 1, 3], [3, 3, 6], [4, 5, 9], [4, 4, 8], [5, 5, 10], [7, 7, 14], [9, 8, 17], [10, 9, 19], [10, 10, 20]])\n",
    "df_study.columns = ['Q1','Q2','Total']"
   ]
  },
  {
   "cell_type": "code",
   "execution_count": null,
   "metadata": {
    "id": "QauUEko0YrFv",
    "outputId": "70a223a2-ec38-4776-f1ae-18ec5da93dca"
   },
   "outputs": [
    {
     "data": {
      "text/html": [
       "<div>\n",
       "<style scoped>\n",
       "    .dataframe tbody tr th:only-of-type {\n",
       "        vertical-align: middle;\n",
       "    }\n",
       "\n",
       "    .dataframe tbody tr th {\n",
       "        vertical-align: top;\n",
       "    }\n",
       "\n",
       "    .dataframe thead th {\n",
       "        text-align: right;\n",
       "    }\n",
       "</style>\n",
       "<table border=\"1\" class=\"dataframe\">\n",
       "  <thead>\n",
       "    <tr style=\"text-align: right;\">\n",
       "      <th></th>\n",
       "      <th>Q1</th>\n",
       "      <th>Q2</th>\n",
       "      <th>Total</th>\n",
       "    </tr>\n",
       "  </thead>\n",
       "  <tbody>\n",
       "    <tr>\n",
       "      <th>0</th>\n",
       "      <td>1</td>\n",
       "      <td>2</td>\n",
       "      <td>3</td>\n",
       "    </tr>\n",
       "    <tr>\n",
       "      <th>1</th>\n",
       "      <td>2</td>\n",
       "      <td>1</td>\n",
       "      <td>3</td>\n",
       "    </tr>\n",
       "    <tr>\n",
       "      <th>2</th>\n",
       "      <td>3</td>\n",
       "      <td>3</td>\n",
       "      <td>6</td>\n",
       "    </tr>\n",
       "    <tr>\n",
       "      <th>3</th>\n",
       "      <td>4</td>\n",
       "      <td>5</td>\n",
       "      <td>9</td>\n",
       "    </tr>\n",
       "    <tr>\n",
       "      <th>4</th>\n",
       "      <td>4</td>\n",
       "      <td>4</td>\n",
       "      <td>8</td>\n",
       "    </tr>\n",
       "    <tr>\n",
       "      <th>5</th>\n",
       "      <td>5</td>\n",
       "      <td>5</td>\n",
       "      <td>10</td>\n",
       "    </tr>\n",
       "    <tr>\n",
       "      <th>6</th>\n",
       "      <td>7</td>\n",
       "      <td>7</td>\n",
       "      <td>14</td>\n",
       "    </tr>\n",
       "    <tr>\n",
       "      <th>7</th>\n",
       "      <td>9</td>\n",
       "      <td>8</td>\n",
       "      <td>17</td>\n",
       "    </tr>\n",
       "    <tr>\n",
       "      <th>8</th>\n",
       "      <td>10</td>\n",
       "      <td>9</td>\n",
       "      <td>19</td>\n",
       "    </tr>\n",
       "    <tr>\n",
       "      <th>9</th>\n",
       "      <td>10</td>\n",
       "      <td>10</td>\n",
       "      <td>20</td>\n",
       "    </tr>\n",
       "  </tbody>\n",
       "</table>\n",
       "</div>"
      ],
      "text/plain": [
       "   Q1  Q2  Total\n",
       "0   1   2      3\n",
       "1   2   1      3\n",
       "2   3   3      6\n",
       "3   4   5      9\n",
       "4   4   4      8\n",
       "5   5   5     10\n",
       "6   7   7     14\n",
       "7   9   8     17\n",
       "8  10   9     19\n",
       "9  10  10     20"
      ]
     },
     "execution_count": 69,
     "metadata": {
      "tags": []
     },
     "output_type": "execute_result"
    }
   ],
   "source": [
    "df_study"
   ]
  },
  {
   "cell_type": "code",
   "execution_count": null,
   "metadata": {
    "id": "BmdIG_W_8tTE"
   },
   "outputs": [],
   "source": [
    "from IPython.display import display\n",
    "from matplotlib.patches import Rectangle\n",
    "\n",
    "def evaluation_metrics(df, feature, target, slope, intercept):\n",
    "    \"\"\"\n",
    "    2d 선형회귀직선과 제곱오차(squared errors)를 확인하기 위한 함수\n",
    "    df : Pandas 데이터프레임\n",
    "    feature : 특징 열\n",
    "    target : 타겟 열\n",
    "    slope : 선형방정식의 기울기\n",
    "    intercept : 선형방정식의 y 절편\n",
    "    \"\"\"\n",
    "    \n",
    "    x = df[feature]\n",
    "    y = df[target]\n",
    "    \n",
    "    # plot 데이터\n",
    "    ax = plt.axes()\n",
    "    df.plot.scatter(feature, target, ax=ax)\n",
    "    \n",
    "    # 예측\n",
    "    y_pred = slope * x + intercept\n",
    "    \n",
    "    # plot 예측\n",
    "    ax.plot(x, y_pred)\n",
    "    \n",
    "    # Plot 제곱오차(MSE)\n",
    "    x_left, x_right = ax.get_xlim() # x-axis view limits\n",
    "    y_bottom, y_top = ax.get_ylim()\n",
    "    scale = (x_right - x_left) / (y_top - y_bottom)\n",
    "\n",
    "    for f, t, p in zip(x, y, y_pred):\n",
    "        xy = (f, min(t, p))\n",
    "        h = abs(t - p)\n",
    "        w_scaled = h * scale\n",
    "        ax.add_patch(Rectangle(xy=xy, width=w_scaled, height=h, alpha=0.2))\n",
    "    \n",
    "    # 회귀방정식 평가지표\n",
    "    mse = mean_squared_error(y, y_pred)\n",
    "    mae = mean_absolute_error(y, y_pred)\n",
    "    rmse = mse ** 0.5\n",
    "    r2 = r2_score(y, y_pred)\n",
    "\n",
    "    display(pd.DataFrame([['MSE', mse],['MAE', mae],['RMSE', rmse],['R2', r2]], columns=['Metric', 'Score']))"
   ]
  },
  {
   "cell_type": "code",
   "execution_count": null,
   "metadata": {
    "colab": {
     "base_uri": "https://localhost:8080/",
     "height": 514
    },
    "id": "8bsq0zoE5ahq",
    "outputId": "606d87fa-00fe-4fea-f4b1-f8b83b43d8c0"
   },
   "outputs": [
    {
     "data": {
      "text/html": [
       "<div>\n",
       "<style scoped>\n",
       "    .dataframe tbody tr th:only-of-type {\n",
       "        vertical-align: middle;\n",
       "    }\n",
       "\n",
       "    .dataframe tbody tr th {\n",
       "        vertical-align: top;\n",
       "    }\n",
       "\n",
       "    .dataframe thead th {\n",
       "        text-align: right;\n",
       "    }\n",
       "</style>\n",
       "<table border=\"1\" class=\"dataframe\">\n",
       "  <thead>\n",
       "    <tr style=\"text-align: right;\">\n",
       "      <th></th>\n",
       "      <th>Metric</th>\n",
       "      <th>Score</th>\n",
       "    </tr>\n",
       "  </thead>\n",
       "  <tbody>\n",
       "    <tr>\n",
       "      <th>0</th>\n",
       "      <td>MSE</td>\n",
       "      <td>35.690000</td>\n",
       "    </tr>\n",
       "    <tr>\n",
       "      <th>1</th>\n",
       "      <td>MAE</td>\n",
       "      <td>5.280000</td>\n",
       "    </tr>\n",
       "    <tr>\n",
       "      <th>2</th>\n",
       "      <td>RMSE</td>\n",
       "      <td>5.974111</td>\n",
       "    </tr>\n",
       "    <tr>\n",
       "      <th>3</th>\n",
       "      <td>R2</td>\n",
       "      <td>0.000000</td>\n",
       "    </tr>\n",
       "  </tbody>\n",
       "</table>\n",
       "</div>"
      ],
      "text/plain": [
       "  Metric      Score\n",
       "0    MSE  35.690000\n",
       "1    MAE   5.280000\n",
       "2   RMSE   5.974111\n",
       "3     R2   0.000000"
      ]
     },
     "metadata": {
      "tags": []
     },
     "output_type": "display_data"
    },
    {
     "data": {
      "image/png": "[encoded data removed]",
      "text/plain": [
       "<Figure size 748.8x514.8 with 1 Axes>"
      ]
     },
     "metadata": {
      "needs_background": "light",
      "tags": []
     },
     "output_type": "display_data"
    }
   ],
   "source": [
    "evaluation_metrics(df_study, 'Q1', 'Total', 0, df_study['Total'].mean())"
   ]
  },
  {
   "cell_type": "markdown",
   "metadata": {
    "id": "5RVz4qYR5ahr"
   },
   "source": [
    "Total 값의 평균을 회귀직선 으로 설정해 봅시다. $R^2$ 최소 값인 0 이 됩니다. 이 직선은 데이터를 전혀 설명하지 못하고 있네요.\n",
    "$R^2$ 값이 1에 가까울 수록 데이터를 잘 설명하는 모델이 됩니다. 기울기와 절편를 수동적으로 조절하는 과정에서 $R^2$ 값이 음수가 나올 수도 있습니다만 이렇게 적합이 되면 안되겠지요."
   ]
  },
  {
   "cell_type": "markdown",
   "metadata": {
    "id": "av2RlCINYrFx"
   },
   "source": [
    "이번에는 기울기를 조금 올려 보고 y절편도 조정해 보겠습니다. 에러가 많이 줄어드는 것을 볼 수 있습니다. $R^2$ 점수도 많이 올라 갔네요"
   ]
  },
  {
   "cell_type": "code",
   "execution_count": null,
   "metadata": {
    "colab": {
     "base_uri": "https://localhost:8080/",
     "height": 514
    },
    "id": "iIQGBjRNYrFx",
    "outputId": "606d87fa-00fe-4fea-f4b1-f8b83b43d8c0"
   },
   "outputs": [
    {
     "data": {
      "text/html": [
       "<div>\n",
       "<style scoped>\n",
       "    .dataframe tbody tr th:only-of-type {\n",
       "        vertical-align: middle;\n",
       "    }\n",
       "\n",
       "    .dataframe tbody tr th {\n",
       "        vertical-align: top;\n",
       "    }\n",
       "\n",
       "    .dataframe thead th {\n",
       "        text-align: right;\n",
       "    }\n",
       "</style>\n",
       "<table border=\"1\" class=\"dataframe\">\n",
       "  <thead>\n",
       "    <tr style=\"text-align: right;\">\n",
       "      <th></th>\n",
       "      <th>Metric</th>\n",
       "      <th>Score</th>\n",
       "    </tr>\n",
       "  </thead>\n",
       "  <tbody>\n",
       "    <tr>\n",
       "      <th>0</th>\n",
       "      <td>MSE</td>\n",
       "      <td>8.400000</td>\n",
       "    </tr>\n",
       "    <tr>\n",
       "      <th>1</th>\n",
       "      <td>MAE</td>\n",
       "      <td>2.400000</td>\n",
       "    </tr>\n",
       "    <tr>\n",
       "      <th>2</th>\n",
       "      <td>RMSE</td>\n",
       "      <td>2.898275</td>\n",
       "    </tr>\n",
       "    <tr>\n",
       "      <th>3</th>\n",
       "      <td>R2</td>\n",
       "      <td>0.764640</td>\n",
       "    </tr>\n",
       "  </tbody>\n",
       "</table>\n",
       "</div>"
      ],
      "text/plain": [
       "  Metric     Score\n",
       "0    MSE  8.400000\n",
       "1    MAE  2.400000\n",
       "2   RMSE  2.898275\n",
       "3     R2  0.764640"
      ]
     },
     "metadata": {
      "tags": []
     },
     "output_type": "display_data"
    },
    {
     "data": {
      "image/png": "[encoded data removed]",
      "text/plain": [
       "<Figure size 748.8x514.8 with 1 Axes>"
      ]
     },
     "metadata": {
      "needs_background": "light",
      "tags": []
     },
     "output_type": "display_data"
    }
   ],
   "source": [
    "evaluation_metrics(df_study, 'Q1', 'Total', 1, 5)"
   ]
  },
  {
   "cell_type": "markdown",
   "metadata": {
    "id": "KaJZqg1r5ahs"
   },
   "source": [
    "조금 더 파라미터를 조정해 보겠습니다. 오차가 더 적어지고 $R^2$ 는 1에 매우 가까워 졌습니다."
   ]
  },
  {
   "cell_type": "code",
   "execution_count": null,
   "metadata": {
    "id": "pu853FkHYrFx",
    "outputId": "29bef38b-e62d-487c-902b-24040b9d4003"
   },
   "outputs": [
    {
     "data": {
      "text/html": [
       "<div>\n",
       "<style scoped>\n",
       "    .dataframe tbody tr th:only-of-type {\n",
       "        vertical-align: middle;\n",
       "    }\n",
       "\n",
       "    .dataframe tbody tr th {\n",
       "        vertical-align: top;\n",
       "    }\n",
       "\n",
       "    .dataframe thead th {\n",
       "        text-align: right;\n",
       "    }\n",
       "</style>\n",
       "<table border=\"1\" class=\"dataframe\">\n",
       "  <thead>\n",
       "    <tr style=\"text-align: right;\">\n",
       "      <th></th>\n",
       "      <th>Metric</th>\n",
       "      <th>Score</th>\n",
       "    </tr>\n",
       "  </thead>\n",
       "  <tbody>\n",
       "    <tr>\n",
       "      <th>0</th>\n",
       "      <td>MSE</td>\n",
       "      <td>0.500000</td>\n",
       "    </tr>\n",
       "    <tr>\n",
       "      <th>1</th>\n",
       "      <td>MAE</td>\n",
       "      <td>0.500000</td>\n",
       "    </tr>\n",
       "    <tr>\n",
       "      <th>2</th>\n",
       "      <td>RMSE</td>\n",
       "      <td>0.707107</td>\n",
       "    </tr>\n",
       "    <tr>\n",
       "      <th>3</th>\n",
       "      <td>R2</td>\n",
       "      <td>0.985990</td>\n",
       "    </tr>\n",
       "  </tbody>\n",
       "</table>\n",
       "</div>"
      ],
      "text/plain": [
       "  Metric     Score\n",
       "0    MSE  0.500000\n",
       "1    MAE  0.500000\n",
       "2   RMSE  0.707107\n",
       "3     R2  0.985990"
      ]
     },
     "metadata": {
      "tags": []
     },
     "output_type": "display_data"
    },
    {
     "data": {
      "image/png": "[encoded data removed]",
      "text/plain": [
       "<Figure size 748.8x514.8 with 1 Axes>"
      ]
     },
     "metadata": {
      "needs_background": "light",
      "tags": []
     },
     "output_type": "display_data"
    }
   ],
   "source": [
    "evaluation_metrics(df_study, 'Q1', 'Total', 2, 0)"
   ]
  },
  {
   "cell_type": "markdown",
   "metadata": {
    "id": "KH4luyt4YrFy"
   },
   "source": [
    "$R^2$ 외에, MAE는 단위 유닛이 같으므로 보다 해석에 용이한 장점이 있고, MSE는 제곱을 하기 때문에 특이값에 보다 민감 합니다. RMSE는 MSE를 실제값과 유사한 단위로 변화시켜주는 장점이 있습니다.\n",
    "- [회귀의 오류지표 알아보기](https://partrita.github.io/posts/regression-error/)"
   ]
  },
  {
   "cell_type": "code",
   "execution_count": null,
   "metadata": {
    "id": "K7TfMiYBYrFy",
    "outputId": "c1b87d95-60e9-4e96-9408-af3e8da2f2f0"
   },
   "outputs": [
    {
     "data": {
      "application/vnd.plotly.v1+json": {
       "config": {
        "plotlyServerURL": "https://plot.ly"
       },
       "data": [
        {
         "hovertemplate": "Q1=%{x}<br>Total=%{y}<extra></extra>",
         "legendgroup": "",
         "marker": {
          "color": "#636efa",
          "symbol": "circle"
         },
         "mode": "markers",
         "name": "",
         "orientation": "v",
         "showlegend": false,
         "type": "scatter",
         "x": [
          1,
          2,
          3,
          4,
          4,
          5,
          7,
          9,
          10,
          10
         ],
         "xaxis": "x",
         "y": [
          3,
          3,
          6,
          9,
          8,
          10,
          14,
          17,
          19,
          20
         ],
         "yaxis": "y"
        },
        {
         "hovertemplate": "<b>OLS trendline</b><br>Total = 1.8934 * Q1 + 0.486294<br>R<sup>2</sup>=0.989407<br><br>Q1=%{x}<br>Total=%{y} <b>(trend)</b><extra></extra>",
         "legendgroup": "",
         "marker": {
          "color": "#636efa",
          "symbol": "circle"
         },
         "mode": "lines",
         "name": "",
         "showlegend": false,
         "type": "scatter",
         "x": [
          1,
          2,
          3,
          4,
          4,
          5,
          7,
          9,
          10,
          10
         ],
         "xaxis": "x",
         "y": [
          2.3796954314720793,
          4.273096446700507,
          6.166497461928932,
          8.05989847715736,
          8.05989847715736,
          9.953299492385787,
          13.74010152284264,
          17.526903553299494,
          19.42030456852792,
          19.42030456852792
         ],
         "yaxis": "y"
        }
       ],
       "layout": {
        "autosize": true,
        "legend": {
         "tracegroupgap": 0
        },
        "margin": {
         "t": 60
        },
        "template": {
         "data": {
          "bar": [
           {
            "error_x": {
             "color": "#2a3f5f"
            },
            "error_y": {
             "color": "#2a3f5f"
            },
            "marker": {
             "line": {
              "color": "#E5ECF6",
              "width": 0.5
             }
            },
            "type": "bar"
           }
          ],
          "barpolar": [
           {
            "marker": {
             "line": {
              "color": "#E5ECF6",
              "width": 0.5
             }
            },
            "type": "barpolar"
           }
          ],
          "carpet": [
           {
            "aaxis": {
             "endlinecolor": "#2a3f5f",
             "gridcolor": "white",
             "linecolor": "white",
             "minorgridcolor": "white",
             "startlinecolor": "#2a3f5f"
            },
            "baxis": {
             "endlinecolor": "#2a3f5f",
             "gridcolor": "white",
             "linecolor": "white",
             "minorgridcolor": "white",
             "startlinecolor": "#2a3f5f"
            },
            "type": "carpet"
           }
          ],
          "choropleth": [
           {
            "colorbar": {
             "outlinewidth": 0,
             "ticks": ""
            },
            "type": "choropleth"
           }
          ],
          "contour": [
           {
            "colorbar": {
             "outlinewidth": 0,
             "ticks": ""
            },
            "colorscale": [
             [
              0,
              "#0d0887"
             ],
             [
              0.1111111111111111,
              "#46039f"
             ],
             [
              0.2222222222222222,
              "#7201a8"
             ],
             [
              0.3333333333333333,
              "#9c179e"
             ],
             [
              0.4444444444444444,
              "#bd3786"
             ],
             [
              0.5555555555555556,
              "#d8576b"
             ],
             [
              0.6666666666666666,
              "#ed7953"
             ],
             [
              0.7777777777777778,
              "#fb9f3a"
             ],
             [
              0.8888888888888888,
              "#fdca26"
             ],
             [
              1,
              "#f0f921"
             ]
            ],
            "type": "contour"
           }
          ],
          "contourcarpet": [
           {
            "colorbar": {
             "outlinewidth": 0,
             "ticks": ""
            },
            "type": "contourcarpet"
           }
          ],
          "heatmap": [
           {
            "colorbar": {
             "outlinewidth": 0,
             "ticks": ""
            },
            "colorscale": [
             [
              0,
              "#0d0887"
             ],
             [
              0.1111111111111111,
              "#46039f"
             ],
             [
              0.2222222222222222,
              "#7201a8"
             ],
             [
              0.3333333333333333,
              "#9c179e"
             ],
             [
              0.4444444444444444,
              "#bd3786"
             ],
             [
              0.5555555555555556,
              "#d8576b"
             ],
             [
              0.6666666666666666,
              "#ed7953"
             ],
             [
              0.7777777777777778,
              "#fb9f3a"
             ],
             [
              0.8888888888888888,
              "#fdca26"
             ],
             [
              1,
              "#f0f921"
             ]
            ],
            "type": "heatmap"
           }
          ],
          "heatmapgl": [
           {
            "colorbar": {
             "outlinewidth": 0,
             "ticks": ""
            },
            "colorscale": [
             [
              0,
              "#0d0887"
             ],
             [
              0.1111111111111111,
              "#46039f"
             ],
             [
              0.2222222222222222,
              "#7201a8"
             ],
             [
              0.3333333333333333,
              "#9c179e"
             ],
             [
              0.4444444444444444,
              "#bd3786"
             ],
             [
              0.5555555555555556,
              "#d8576b"
             ],
             [
              0.6666666666666666,
              "#ed7953"
             ],
             [
              0.7777777777777778,
              "#fb9f3a"
             ],
             [
              0.8888888888888888,
              "#fdca26"
             ],
             [
              1,
              "#f0f921"
             ]
            ],
            "type": "heatmapgl"
           }
          ],
          "histogram": [
           {
            "marker": {
             "colorbar": {
              "outlinewidth": 0,
              "ticks": ""
             }
            },
            "type": "histogram"
           }
          ],
          "histogram2d": [
           {
            "colorbar": {
             "outlinewidth": 0,
             "ticks": ""
            },
            "colorscale": [
             [
              0,
              "#0d0887"
             ],
             [
              0.1111111111111111,
              "#46039f"
             ],
             [
              0.2222222222222222,
              "#7201a8"
             ],
             [
              0.3333333333333333,
              "#9c179e"
             ],
             [
              0.4444444444444444,
              "#bd3786"
             ],
             [
              0.5555555555555556,
              "#d8576b"
             ],
             [
              0.6666666666666666,
              "#ed7953"
             ],
             [
              0.7777777777777778,
              "#fb9f3a"
             ],
             [
              0.8888888888888888,
              "#fdca26"
             ],
             [
              1,
              "#f0f921"
             ]
            ],
            "type": "histogram2d"
           }
          ],
          "histogram2dcontour": [
           {
            "colorbar": {
             "outlinewidth": 0,
             "ticks": ""
            },
            "colorscale": [
             [
              0,
              "#0d0887"
             ],
             [
              0.1111111111111111,
              "#46039f"
             ],
             [
              0.2222222222222222,
              "#7201a8"
             ],
             [
              0.3333333333333333,
              "#9c179e"
             ],
             [
              0.4444444444444444,
              "#bd3786"
             ],
             [
              0.5555555555555556,
              "#d8576b"
             ],
             [
              0.6666666666666666,
              "#ed7953"
             ],
             [
              0.7777777777777778,
              "#fb9f3a"
             ],
             [
              0.8888888888888888,
              "#fdca26"
             ],
             [
              1,
              "#f0f921"
             ]
            ],
            "type": "histogram2dcontour"
           }
          ],
          "mesh3d": [
           {
            "colorbar": {
             "outlinewidth": 0,
             "ticks": ""
            },
            "type": "mesh3d"
           }
          ],
          "parcoords": [
           {
            "line": {
             "colorbar": {
              "outlinewidth": 0,
              "ticks": ""
             }
            },
            "type": "parcoords"
           }
          ],
          "pie": [
           {
            "automargin": true,
            "type": "pie"
           }
          ],
          "scatter": [
           {
            "marker": {
             "colorbar": {
              "outlinewidth": 0,
              "ticks": ""
             }
            },
            "type": "scatter"
           }
          ],
          "scatter3d": [
           {
            "line": {
             "colorbar": {
              "outlinewidth": 0,
              "ticks": ""
             }
            },
            "marker": {
             "colorbar": {
              "outlinewidth": 0,
              "ticks": ""
             }
            },
            "type": "scatter3d"
           }
          ],
          "scattercarpet": [
           {
            "marker": {
             "colorbar": {
              "outlinewidth": 0,
              "ticks": ""
             }
            },
            "type": "scattercarpet"
           }
          ],
          "scattergeo": [
           {
            "marker": {
             "colorbar": {
              "outlinewidth": 0,
              "ticks": ""
             }
            },
            "type": "scattergeo"
           }
          ],
          "scattergl": [
           {
            "marker": {
             "colorbar": {
              "outlinewidth": 0,
              "ticks": ""
             }
            },
            "type": "scattergl"
           }
          ],
          "scattermapbox": [
           {
            "marker": {
             "colorbar": {
              "outlinewidth": 0,
              "ticks": ""
             }
            },
            "type": "scattermapbox"
           }
          ],
          "scatterpolar": [
           {
            "marker": {
             "colorbar": {
              "outlinewidth": 0,
              "ticks": ""
             }
            },
            "type": "scatterpolar"
           }
          ],
          "scatterpolargl": [
           {
            "marker": {
             "colorbar": {
              "outlinewidth": 0,
              "ticks": ""
             }
            },
            "type": "scatterpolargl"
           }
          ],
          "scatterternary": [
           {
            "marker": {
             "colorbar": {
              "outlinewidth": 0,
              "ticks": ""
             }
            },
            "type": "scatterternary"
           }
          ],
          "surface": [
           {
            "colorbar": {
             "outlinewidth": 0,
             "ticks": ""
            },
            "colorscale": [
             [
              0,
              "#0d0887"
             ],
             [
              0.1111111111111111,
              "#46039f"
             ],
             [
              0.2222222222222222,
              "#7201a8"
             ],
             [
              0.3333333333333333,
              "#9c179e"
             ],
             [
              0.4444444444444444,
              "#bd3786"
             ],
             [
              0.5555555555555556,
              "#d8576b"
             ],
             [
              0.6666666666666666,
              "#ed7953"
             ],
             [
              0.7777777777777778,
              "#fb9f3a"
             ],
             [
              0.8888888888888888,
              "#fdca26"
             ],
             [
              1,
              "#f0f921"
             ]
            ],
            "type": "surface"
           }
          ],
          "table": [
           {
            "cells": {
             "fill": {
              "color": "#EBF0F8"
             },
             "line": {
              "color": "white"
             }
            },
            "header": {
             "fill": {
              "color": "#C8D4E3"
             },
             "line": {
              "color": "white"
             }
            },
            "type": "table"
           }
          ]
         },
         "layout": {
          "annotationdefaults": {
           "arrowcolor": "#2a3f5f",
           "arrowhead": 0,
           "arrowwidth": 1
          },
          "coloraxis": {
           "colorbar": {
            "outlinewidth": 0,
            "ticks": ""
           }
          },
          "colorscale": {
           "diverging": [
            [
             0,
             "#8e0152"
            ],
            [
             0.1,
             "#c51b7d"
            ],
            [
             0.2,
             "#de77ae"
            ],
            [
             0.3,
             "#f1b6da"
            ],
            [
             0.4,
             "#fde0ef"
            ],
            [
             0.5,
             "#f7f7f7"
            ],
            [
             0.6,
             "#e6f5d0"
            ],
            [
             0.7,
             "#b8e186"
            ],
            [
             0.8,
             "#7fbc41"
            ],
            [
             0.9,
             "#4d9221"
            ],
            [
             1,
             "#276419"
            ]
           ],
           "sequential": [
            [
             0,
             "#0d0887"
            ],
            [
             0.1111111111111111,
             "#46039f"
            ],
            [
             0.2222222222222222,
             "#7201a8"
            ],
            [
             0.3333333333333333,
             "#9c179e"
            ],
            [
             0.4444444444444444,
             "#bd3786"
            ],
            [
             0.5555555555555556,
             "#d8576b"
            ],
            [
             0.6666666666666666,
             "#ed7953"
            ],
            [
             0.7777777777777778,
             "#fb9f3a"
            ],
            [
             0.8888888888888888,
             "#fdca26"
            ],
            [
             1,
             "#f0f921"
            ]
           ],
           "sequentialminus": [
            [
             0,
             "#0d0887"
            ],
            [
             0.1111111111111111,
             "#46039f"
            ],
            [
             0.2222222222222222,
             "#7201a8"
            ],
            [
             0.3333333333333333,
             "#9c179e"
            ],
            [
             0.4444444444444444,
             "#bd3786"
            ],
            [
             0.5555555555555556,
             "#d8576b"
            ],
            [
             0.6666666666666666,
             "#ed7953"
            ],
            [
             0.7777777777777778,
             "#fb9f3a"
            ],
            [
             0.8888888888888888,
             "#fdca26"
            ],
            [
             1,
             "#f0f921"
            ]
           ]
          },
          "colorway": [
           "#636efa",
           "#EF553B",
           "#00cc96",
           "#ab63fa",
           "#FFA15A",
           "#19d3f3",
           "#FF6692",
           "#B6E880",
           "#FF97FF",
           "#FECB52"
          ],
          "font": {
           "color": "#2a3f5f"
          },
          "geo": {
           "bgcolor": "white",
           "lakecolor": "white",
           "landcolor": "#E5ECF6",
           "showlakes": true,
           "showland": true,
           "subunitcolor": "white"
          },
          "hoverlabel": {
           "align": "left"
          },
          "hovermode": "closest",
          "mapbox": {
           "style": "light"
          },
          "paper_bgcolor": "white",
          "plot_bgcolor": "#E5ECF6",
          "polar": {
           "angularaxis": {
            "gridcolor": "white",
            "linecolor": "white",
            "ticks": ""
           },
           "bgcolor": "#E5ECF6",
           "radialaxis": {
            "gridcolor": "white",
            "linecolor": "white",
            "ticks": ""
           }
          },
          "scene": {
           "xaxis": {
            "backgroundcolor": "#E5ECF6",
            "gridcolor": "white",
            "gridwidth": 2,
            "linecolor": "white",
            "showbackground": true,
            "ticks": "",
            "zerolinecolor": "white"
           },
           "yaxis": {
            "backgroundcolor": "#E5ECF6",
            "gridcolor": "white",
            "gridwidth": 2,
            "linecolor": "white",
            "showbackground": true,
            "ticks": "",
            "zerolinecolor": "white"
           },
           "zaxis": {
            "backgroundcolor": "#E5ECF6",
            "gridcolor": "white",
            "gridwidth": 2,
            "linecolor": "white",
            "showbackground": true,
            "ticks": "",
            "zerolinecolor": "white"
           }
          },
          "shapedefaults": {
           "line": {
            "color": "#2a3f5f"
           }
          },
          "ternary": {
           "aaxis": {
            "gridcolor": "white",
            "linecolor": "white",
            "ticks": ""
           },
           "baxis": {
            "gridcolor": "white",
            "linecolor": "white",
            "ticks": ""
           },
           "bgcolor": "#E5ECF6",
           "caxis": {
            "gridcolor": "white",
            "linecolor": "white",
            "ticks": ""
           }
          },
          "title": {
           "x": 0.05
          },
          "xaxis": {
           "automargin": true,
           "gridcolor": "white",
           "linecolor": "white",
           "ticks": "",
           "title": {
            "standoff": 15
           },
           "zerolinecolor": "white",
           "zerolinewidth": 2
          },
          "yaxis": {
           "automargin": true,
           "gridcolor": "white",
           "linecolor": "white",
           "ticks": "",
           "title": {
            "standoff": 15
           },
           "zerolinecolor": "white",
           "zerolinewidth": 2
          }
         }
        },
        "xaxis": {
         "anchor": "y",
         "autorange": true,
         "domain": [
          0,
          1
         ],
         "range": [
          0.45751189666893255,
          10.542488103331067
         ],
         "title": {
          "text": "Q1"
         },
         "type": "linear"
        },
        "yaxis": {
         "anchor": "x",
         "autorange": true,
         "domain": [
          0,
          1
         ],
         "range": [
          1.3874530307012063,
          21.232301046118664
         ],
         "title": {
          "text": "Total"
         },
         "type": "linear"
        }
       }
      },
      "image/png": "[encoded data removed]",
      "text/html": [
       "<div>\n",
       "        \n",
       "        \n",
       "            <div id=\"3553ab36-43b7-4c39-bf0e-886b29762c46\" class=\"plotly-graph-div\" style=\"height:525px; width:100%;\"></div>\n",
       "            <script type=\"text/javascript\">\n",
       "                require([\"plotly\"], function(Plotly) {\n",
       "                    window.PLOTLYENV=window.PLOTLYENV || {};\n",
       "                    \n",
       "                if (document.getElementById(\"3553ab36-43b7-4c39-bf0e-886b29762c46\")) {\n",
       "                    Plotly.newPlot(\n",
       "                        '3553ab36-43b7-4c39-bf0e-886b29762c46',\n",
       "                        [{\"hovertemplate\": \"Q1=%{x}<br>Total=%{y}<extra></extra>\", \"legendgroup\": \"\", \"marker\": {\"color\": \"#636efa\", \"symbol\": \"circle\"}, \"mode\": \"markers\", \"name\": \"\", \"orientation\": \"v\", \"showlegend\": false, \"type\": \"scatter\", \"x\": [1, 2, 3, 4, 4, 5, 7, 9, 10, 10], \"xaxis\": \"x\", \"y\": [3, 3, 6, 9, 8, 10, 14, 17, 19, 20], \"yaxis\": \"y\"}, {\"hovertemplate\": \"<b>OLS trendline</b><br>Total = 1.8934 * Q1 + 0.486294<br>R<sup>2</sup>=0.989407<br><br>Q1=%{x}<br>Total=%{y} <b>(trend)</b><extra></extra>\", \"legendgroup\": \"\", \"marker\": {\"color\": \"#636efa\", \"symbol\": \"circle\"}, \"mode\": \"lines\", \"name\": \"\", \"showlegend\": false, \"type\": \"scatter\", \"x\": [1, 2, 3, 4, 4, 5, 7, 9, 10, 10], \"xaxis\": \"x\", \"y\": [2.3796954314720793, 4.273096446700507, 6.166497461928932, 8.05989847715736, 8.05989847715736, 9.953299492385787, 13.74010152284264, 17.526903553299494, 19.42030456852792, 19.42030456852792], \"yaxis\": \"y\"}],\n",
       "                        {\"legend\": {\"tracegroupgap\": 0}, \"margin\": {\"t\": 60}, \"template\": {\"data\": {\"bar\": [{\"error_x\": {\"color\": \"#2a3f5f\"}, \"error_y\": {\"color\": \"#2a3f5f\"}, \"marker\": {\"line\": {\"color\": \"#E5ECF6\", \"width\": 0.5}}, \"type\": \"bar\"}], \"barpolar\": [{\"marker\": {\"line\": {\"color\": \"#E5ECF6\", \"width\": 0.5}}, \"type\": \"barpolar\"}], \"carpet\": [{\"aaxis\": {\"endlinecolor\": \"#2a3f5f\", \"gridcolor\": \"white\", \"linecolor\": \"white\", \"minorgridcolor\": \"white\", \"startlinecolor\": \"#2a3f5f\"}, \"baxis\": {\"endlinecolor\": \"#2a3f5f\", \"gridcolor\": \"white\", \"linecolor\": \"white\", \"minorgridcolor\": \"white\", \"startlinecolor\": \"#2a3f5f\"}, \"type\": \"carpet\"}], \"choropleth\": [{\"colorbar\": {\"outlinewidth\": 0, \"ticks\": \"\"}, \"type\": \"choropleth\"}], \"contour\": [{\"colorbar\": {\"outlinewidth\": 0, \"ticks\": \"\"}, \"colorscale\": [[0.0, \"#0d0887\"], [0.1111111111111111, \"#46039f\"], [0.2222222222222222, \"#7201a8\"], [0.3333333333333333, \"#9c179e\"], [0.4444444444444444, \"#bd3786\"], [0.5555555555555556, \"#d8576b\"], [0.6666666666666666, \"#ed7953\"], [0.7777777777777778, \"#fb9f3a\"], [0.8888888888888888, \"#fdca26\"], [1.0, \"#f0f921\"]], \"type\": \"contour\"}], \"contourcarpet\": [{\"colorbar\": {\"outlinewidth\": 0, \"ticks\": \"\"}, \"type\": \"contourcarpet\"}], \"heatmap\": [{\"colorbar\": {\"outlinewidth\": 0, \"ticks\": \"\"}, \"colorscale\": [[0.0, \"#0d0887\"], [0.1111111111111111, \"#46039f\"], [0.2222222222222222, \"#7201a8\"], [0.3333333333333333, \"#9c179e\"], [0.4444444444444444, \"#bd3786\"], [0.5555555555555556, \"#d8576b\"], [0.6666666666666666, \"#ed7953\"], [0.7777777777777778, \"#fb9f3a\"], [0.8888888888888888, \"#fdca26\"], [1.0, \"#f0f921\"]], \"type\": \"heatmap\"}], \"heatmapgl\": [{\"colorbar\": {\"outlinewidth\": 0, \"ticks\": \"\"}, \"colorscale\": [[0.0, \"#0d0887\"], [0.1111111111111111, \"#46039f\"], [0.2222222222222222, \"#7201a8\"], [0.3333333333333333, \"#9c179e\"], [0.4444444444444444, \"#bd3786\"], [0.5555555555555556, \"#d8576b\"], [0.6666666666666666, \"#ed7953\"], [0.7777777777777778, \"#fb9f3a\"], [0.8888888888888888, \"#fdca26\"], [1.0, \"#f0f921\"]], \"type\": \"heatmapgl\"}], \"histogram\": [{\"marker\": {\"colorbar\": {\"outlinewidth\": 0, \"ticks\": \"\"}}, \"type\": \"histogram\"}], \"histogram2d\": [{\"colorbar\": {\"outlinewidth\": 0, \"ticks\": \"\"}, \"colorscale\": [[0.0, \"#0d0887\"], [0.1111111111111111, \"#46039f\"], [0.2222222222222222, \"#7201a8\"], [0.3333333333333333, \"#9c179e\"], [0.4444444444444444, \"#bd3786\"], [0.5555555555555556, \"#d8576b\"], [0.6666666666666666, \"#ed7953\"], [0.7777777777777778, \"#fb9f3a\"], [0.8888888888888888, \"#fdca26\"], [1.0, \"#f0f921\"]], \"type\": \"histogram2d\"}], \"histogram2dcontour\": [{\"colorbar\": {\"outlinewidth\": 0, \"ticks\": \"\"}, \"colorscale\": [[0.0, \"#0d0887\"], [0.1111111111111111, \"#46039f\"], [0.2222222222222222, \"#7201a8\"], [0.3333333333333333, \"#9c179e\"], [0.4444444444444444, \"#bd3786\"], [0.5555555555555556, \"#d8576b\"], [0.6666666666666666, \"#ed7953\"], [0.7777777777777778, \"#fb9f3a\"], [0.8888888888888888, \"#fdca26\"], [1.0, \"#f0f921\"]], \"type\": \"histogram2dcontour\"}], \"mesh3d\": [{\"colorbar\": {\"outlinewidth\": 0, \"ticks\": \"\"}, \"type\": \"mesh3d\"}], \"parcoords\": [{\"line\": {\"colorbar\": {\"outlinewidth\": 0, \"ticks\": \"\"}}, \"type\": \"parcoords\"}], \"pie\": [{\"automargin\": true, \"type\": \"pie\"}], \"scatter\": [{\"marker\": {\"colorbar\": {\"outlinewidth\": 0, \"ticks\": \"\"}}, \"type\": \"scatter\"}], \"scatter3d\": [{\"line\": {\"colorbar\": {\"outlinewidth\": 0, \"ticks\": \"\"}}, \"marker\": {\"colorbar\": {\"outlinewidth\": 0, \"ticks\": \"\"}}, \"type\": \"scatter3d\"}], \"scattercarpet\": [{\"marker\": {\"colorbar\": {\"outlinewidth\": 0, \"ticks\": \"\"}}, \"type\": \"scattercarpet\"}], \"scattergeo\": [{\"marker\": {\"colorbar\": {\"outlinewidth\": 0, \"ticks\": \"\"}}, \"type\": \"scattergeo\"}], \"scattergl\": [{\"marker\": {\"colorbar\": {\"outlinewidth\": 0, \"ticks\": \"\"}}, \"type\": \"scattergl\"}], \"scattermapbox\": [{\"marker\": {\"colorbar\": {\"outlinewidth\": 0, \"ticks\": \"\"}}, \"type\": \"scattermapbox\"}], \"scatterpolar\": [{\"marker\": {\"colorbar\": {\"outlinewidth\": 0, \"ticks\": \"\"}}, \"type\": \"scatterpolar\"}], \"scatterpolargl\": [{\"marker\": {\"colorbar\": {\"outlinewidth\": 0, \"ticks\": \"\"}}, \"type\": \"scatterpolargl\"}], \"scatterternary\": [{\"marker\": {\"colorbar\": {\"outlinewidth\": 0, \"ticks\": \"\"}}, \"type\": \"scatterternary\"}], \"surface\": [{\"colorbar\": {\"outlinewidth\": 0, \"ticks\": \"\"}, \"colorscale\": [[0.0, \"#0d0887\"], [0.1111111111111111, \"#46039f\"], [0.2222222222222222, \"#7201a8\"], [0.3333333333333333, \"#9c179e\"], [0.4444444444444444, \"#bd3786\"], [0.5555555555555556, \"#d8576b\"], [0.6666666666666666, \"#ed7953\"], [0.7777777777777778, \"#fb9f3a\"], [0.8888888888888888, \"#fdca26\"], [1.0, \"#f0f921\"]], \"type\": \"surface\"}], \"table\": [{\"cells\": {\"fill\": {\"color\": \"#EBF0F8\"}, \"line\": {\"color\": \"white\"}}, \"header\": {\"fill\": {\"color\": \"#C8D4E3\"}, \"line\": {\"color\": \"white\"}}, \"type\": \"table\"}]}, \"layout\": {\"annotationdefaults\": {\"arrowcolor\": \"#2a3f5f\", \"arrowhead\": 0, \"arrowwidth\": 1}, \"coloraxis\": {\"colorbar\": {\"outlinewidth\": 0, \"ticks\": \"\"}}, \"colorscale\": {\"diverging\": [[0, \"#8e0152\"], [0.1, \"#c51b7d\"], [0.2, \"#de77ae\"], [0.3, \"#f1b6da\"], [0.4, \"#fde0ef\"], [0.5, \"#f7f7f7\"], [0.6, \"#e6f5d0\"], [0.7, \"#b8e186\"], [0.8, \"#7fbc41\"], [0.9, \"#4d9221\"], [1, \"#276419\"]], \"sequential\": [[0.0, \"#0d0887\"], [0.1111111111111111, \"#46039f\"], [0.2222222222222222, \"#7201a8\"], [0.3333333333333333, \"#9c179e\"], [0.4444444444444444, \"#bd3786\"], [0.5555555555555556, \"#d8576b\"], [0.6666666666666666, \"#ed7953\"], [0.7777777777777778, \"#fb9f3a\"], [0.8888888888888888, \"#fdca26\"], [1.0, \"#f0f921\"]], \"sequentialminus\": [[0.0, \"#0d0887\"], [0.1111111111111111, \"#46039f\"], [0.2222222222222222, \"#7201a8\"], [0.3333333333333333, \"#9c179e\"], [0.4444444444444444, \"#bd3786\"], [0.5555555555555556, \"#d8576b\"], [0.6666666666666666, \"#ed7953\"], [0.7777777777777778, \"#fb9f3a\"], [0.8888888888888888, \"#fdca26\"], [1.0, \"#f0f921\"]]}, \"colorway\": [\"#636efa\", \"#EF553B\", \"#00cc96\", \"#ab63fa\", \"#FFA15A\", \"#19d3f3\", \"#FF6692\", \"#B6E880\", \"#FF97FF\", \"#FECB52\"], \"font\": {\"color\": \"#2a3f5f\"}, \"geo\": {\"bgcolor\": \"white\", \"lakecolor\": \"white\", \"landcolor\": \"#E5ECF6\", \"showlakes\": true, \"showland\": true, \"subunitcolor\": \"white\"}, \"hoverlabel\": {\"align\": \"left\"}, \"hovermode\": \"closest\", \"mapbox\": {\"style\": \"light\"}, \"paper_bgcolor\": \"white\", \"plot_bgcolor\": \"#E5ECF6\", \"polar\": {\"angularaxis\": {\"gridcolor\": \"white\", \"linecolor\": \"white\", \"ticks\": \"\"}, \"bgcolor\": \"#E5ECF6\", \"radialaxis\": {\"gridcolor\": \"white\", \"linecolor\": \"white\", \"ticks\": \"\"}}, \"scene\": {\"xaxis\": {\"backgroundcolor\": \"#E5ECF6\", \"gridcolor\": \"white\", \"gridwidth\": 2, \"linecolor\": \"white\", \"showbackground\": true, \"ticks\": \"\", \"zerolinecolor\": \"white\"}, \"yaxis\": {\"backgroundcolor\": \"#E5ECF6\", \"gridcolor\": \"white\", \"gridwidth\": 2, \"linecolor\": \"white\", \"showbackground\": true, \"ticks\": \"\", \"zerolinecolor\": \"white\"}, \"zaxis\": {\"backgroundcolor\": \"#E5ECF6\", \"gridcolor\": \"white\", \"gridwidth\": 2, \"linecolor\": \"white\", \"showbackground\": true, \"ticks\": \"\", \"zerolinecolor\": \"white\"}}, \"shapedefaults\": {\"line\": {\"color\": \"#2a3f5f\"}}, \"ternary\": {\"aaxis\": {\"gridcolor\": \"white\", \"linecolor\": \"white\", \"ticks\": \"\"}, \"baxis\": {\"gridcolor\": \"white\", \"linecolor\": \"white\", \"ticks\": \"\"}, \"bgcolor\": \"#E5ECF6\", \"caxis\": {\"gridcolor\": \"white\", \"linecolor\": \"white\", \"ticks\": \"\"}}, \"title\": {\"x\": 0.05}, \"xaxis\": {\"automargin\": true, \"gridcolor\": \"white\", \"linecolor\": \"white\", \"ticks\": \"\", \"title\": {\"standoff\": 15}, \"zerolinecolor\": \"white\", \"zerolinewidth\": 2}, \"yaxis\": {\"automargin\": true, \"gridcolor\": \"white\", \"linecolor\": \"white\", \"ticks\": \"\", \"title\": {\"standoff\": 15}, \"zerolinecolor\": \"white\", \"zerolinewidth\": 2}}}, \"xaxis\": {\"anchor\": \"y\", \"domain\": [0.0, 1.0], \"title\": {\"text\": \"Q1\"}}, \"yaxis\": {\"anchor\": \"x\", \"domain\": [0.0, 1.0], \"title\": {\"text\": \"Total\"}}},\n",
       "                        {\"responsive\": true}\n",
       "                    ).then(function(){\n",
       "                            \n",
       "var gd = document.getElementById('3553ab36-43b7-4c39-bf0e-886b29762c46');\n",
       "var x = new MutationObserver(function (mutations, observer) {{\n",
       "        var display = window.getComputedStyle(gd).display;\n",
       "        if (!display || display === 'none') {{\n",
       "            console.log([gd, 'removed!']);\n",
       "            Plotly.purge(gd);\n",
       "            observer.disconnect();\n",
       "        }}\n",
       "}});\n",
       "\n",
       "// Listen for the removal of the full notebook cells\n",
       "var notebookContainer = gd.closest('#notebook-container');\n",
       "if (notebookContainer) {{\n",
       "    x.observe(notebookContainer, {childList: true});\n",
       "}}\n",
       "\n",
       "// Listen for the clearing of the current output cell\n",
       "var outputEl = gd.closest('.output');\n",
       "if (outputEl) {{\n",
       "    x.observe(outputEl, {childList: true});\n",
       "}}\n",
       "\n",
       "                        })\n",
       "                };\n",
       "                });\n",
       "            </script>\n",
       "        </div>"
      ]
     },
     "metadata": {
      "tags": []
     },
     "output_type": "display_data"
    }
   ],
   "source": [
    "import plotly.express as px\n",
    "px.scatter(\n",
    "    df_study,\n",
    "    x='Q1',\n",
    "    y='Total',\n",
    "    trendline='ols'\n",
    ")"
   ]
  },
  {
   "cell_type": "markdown",
   "metadata": {
    "id": "EplWz5opYrFy"
   },
   "source": [
    "## 과적합(Overfitting)과 과소적합(Underfitting)\n",
    "다음 내용을 공부하기 전에 먼저 **일반화(generalization)** 라는 용어를 살펴보겠습니다.\n",
    "- 테스트데이터에서 만들어내는 오차를 **일반화** 오차라고 부릅니다.\n",
    "- 훈련데이터에서와같이 테스트데이터에서도 좋은 성능을 내는 모델은 **일반화가 잘 된 모델**이라고 부릅니다.\n",
    "- 모델이 너무 훈련데이터에 과하게 학습(과적합)을 하지 않도록 하는 많은 **일반화 방법**들이 있습니다.\n",
    "\n",
    "우리는 당연히 예측모델이 훈련데이터에서보다 테스트데이터에서 오차가 적게 나오기를 기대합니다. 하지만 현실적으로 모든 데이터를 얻을 수 없기 때문에 훈련데이터로부터 일반화가 잘 되는 모델을 학습시켜야 합니다.\n",
    "\n",
    "- **과적합**은 모델이 훈련데이터에만 특수한 성질을 과하게 학습해 일반화를 못해 결국 테스트데이터에서 오차가 커지는 현상을 말합니다\n",
    "- 반대로 **과소적합**은 훈련데이터에 과적합도 못하고 일반화 성질도 학습하지 못해, 훈련/테스트 데이터 모두에서 오차가 크게 나오는 경우를 말합니다.\n",
    "\n",
    "사실 머신러닝과정 중에서 과적합은 피할 수 없는 문제이고 완전히 극복할 수도 없습니다. 그래서 대부분 학습알고리즘은 이런 과적합을 완화시킬 수 있는 방법을 제공하기 때문에 잘 알아 두어야 하겠습니다."
   ]
  },
  {
   "cell_type": "markdown",
   "metadata": {
    "id": "iBuMt4JEYrFz"
   },
   "source": [
    "### 분산/편향 트레이드오프\n",
    "과/소적합은 오차의 편향(Bias)과 분산(Variance)개념과 관계가 있습니다.\n",
    "\n",
    "결론만 우선 정리해 보면\n",
    "\n",
    "- **분산이 높은**경우는, 모델이 학습 데이터의 노이즈에 민감하게 적합하여 테스트데이터에서 일반화를 잘 못하는 경우 즉 **과적합** 상태입니다.\n",
    "\n",
    "- **편향이 높은**경우는, 모델이 학습 데이터에서, 특성과 타겟 변수의 관계를 잘 파악하지 못해 **과소적합** 상태입니다.\n",
    "\n",
    "#### 조금 더 자세하게 편향과 분산에 대한 식을 살펴보면,\n",
    "\n",
    "MSE 식을 reducible, irreducible 에러로 나누어 표현하면 결국 Bias 에러 + Variance + irre 로 나뉘게 됩니다.([Bias–variance tradeoff\n",
    "](https://en.wikipedia.org/wiki/Bias%E2%80%93variance_tradeoff))\n",
    "\n",
    "${\\displaystyle \\operatorname {E} _{D}{\\Big [}{\\big (}y-{\\hat {f}}(x;D){\\big )}^{2}{\\Big ]}={\\Big (}\\operatorname {Bias} _{D}{\\big [}{\\hat {f}}(x;D){\\big ]}{\\Big )}^{2}+\\operatorname {Var} _{D}{\\big [}{\\hat {f}}(x;D){\\big ]}+\\sigma ^{2}}$\n",
    "\n",
    "${\\displaystyle \\operatorname {Bias} _{D}{\\big [}{\\hat {f}}(x;D){\\big ]}=\\operatorname {E} _{D}{\\big [}{\\hat {f}}(x;D){\\big ]}-f(x)}$\n",
    "\n",
    "${\\displaystyle \\operatorname {Var} _{D}{\\big [}{\\hat {f}}(x;D){\\big ]}=\\operatorname {E} _{D}[{\\big (}\\operatorname {E} _{D}[{\\hat {f}}(x;D)]-{\\hat {f}}(x;D){\\big )}^{2}]}$\n",
    "\n"
   ]
  },
  {
   "cell_type": "markdown",
   "metadata": {
    "id": "EUuQCYOjYrFz"
   },
   "source": [
    "#### 예를 들어 보겠습니다. 독립변수와 종속변수가 비선형관계인 모델로 학습을 해야 하는 데이터에서,\n",
    "\n",
    "1) **단순선형모델로 학습**하는 경우와\n",
    "\n",
    "2) 데이터 포인트를 모두 지나가도록 곡선 피팅이 가능한 **다항모델로 학습**을 진행한다고 가정해 보겠습니다.\n",
    "\n",
    "선형모델 예측은 학습데이터에서 타겟값과 오차가 큽니다. 이를 **\"편향이 높다\"**고 합니다.(과소적합)\n",
    "\n",
    "하지만 훈련/테스트 두 데이터에서 그 오차가 비슷합니다 이를 **\"분산이 낮다\"**고 합니다. (오차는 여전히 많지만)\n",
    "\n",
    "<img src=\"https://i.imgur.com/MMgbCfP.png\" width=\"600\"/>\n",
    "\n",
    "<img src=\"https://i.imgur.com/ZuQBBBt.png\" width=\"600\"/>\n",
    "\n",
    "곡선을 피팅한 모델에서는, 학습데이터에서 오차가 0에 가까우나(**\"낮은 편향\"**), 테스트 데이터에서 오차가 많아집니다.\n",
    "\n",
    "이렇게 한 데이터세트에서는 오차가 적은데 다른 데이터 세트에서는 오차가 많이 늘어나는 현상\n",
    "(데이터 세트의 종류에 따라 예측값 분산이 높을 때)을 **과적합**이라고 하며 **\"분산이 높다\"**라고 합니다.\n"
   ]
  },
  {
   "cell_type": "markdown",
   "metadata": {
    "id": "6e3fx3ZIYrFz"
   },
   "source": [
    "<img src=\"https://miro.medium.com/max/1400/1*_7OPgojau8hkiPUiHoGK_w.png\" width=\"600\" />\n",
    "\n",
    "<img src=\"https://i.imgur.com/r1kNImu.png\" width=\"450\" />\n",
    "\n",
    "- [The Dangers of Under-fitting and Over-fitting](https://medium.com/analytics-vidhya/the-dangers-of-under-fitting-and-over-fitting-495f9efa1847)\n",
    "\n",
    "만들기 어렵지만, 편향도 적고 분산도 적은 모델이 좋은 모델입니다.\n",
    "\n",
    "우리가 어떤 모델을 학습시키든 훈련/테스트 데이터에서의 모델의 성능과 그 차이를 보고 과적합과 과소적합을 적절하게 구분해 낼 수 있는 것이 중요하겠습니다."
   ]
  },
  {
   "cell_type": "markdown",
   "metadata": {
    "id": "p_jRB_HeYrF0"
   },
   "source": [
    "추가적으로 몇가지 다른 그림을 더 살펴 보겠습니다.\n",
    "다음 그림은 높은 편향을 가지는 모델(과소적합), 높은 분산을 가지는 모델(과적합)을 비교하고 있습니다."
   ]
  },
  {
   "cell_type": "markdown",
   "metadata": {
    "id": "W9Aboy6MrzoR"
   },
   "source": [
    "[Python Data Science Handbook,_ Chapter 5.3](https://jakevdp.github.io/PythonDataScienceHandbook/05.03-hyperparameters-and-model-validation.html#The-Bias-variance-trade-off).\n",
    "\n",
    ">![](https://jakevdp.github.io/PythonDataScienceHandbook/figures/05.03-bias-variance-2.png)\n"
   ]
  },
  {
   "cell_type": "markdown",
   "metadata": {
    "id": "Q6smEDli6REF"
   },
   "source": [
    "> <img src=\"https://jakevdp.github.io/PythonDataScienceHandbook/figures/05.03-validation-curve.png\"/>\n",
    "\n",
    "모델의 복잡성에 따라 성능 그래프를 그려 보면, 모델이 복잡해질 수록 훈련데이터 성능은 계속 증가하는데 검증데이터 성능은 어느정도 증가하다가 증가세가 멈추고 오히려 낮아지는 지점을 찾을 수 있습니다. 우리는 보통 이 시점을 과적합이 일어나는 시점으로 파악하고 더 복잡한 모델은 불필요함을 알게 됩니다."
   ]
  },
  {
   "cell_type": "markdown",
   "metadata": {
    "id": "TWRkoX-75ahz"
   },
   "source": [
    "여러분은 앞으로 더 많은 features를 사용하고 여러 모델들을 배우고 사용하게 될 텐데 과적합/과소적합에 대한 내용은 계속 숙지하셔야 할 것입니다."
   ]
  },
  {
   "cell_type": "markdown",
   "metadata": {
    "id": "eeqQm4JM5ah0"
   },
   "source": [
    "### 다항회귀모델을 사용해서 과적합을 만들어 봅시다.\n",
    "마지막으로, 독립변수와 타겟변수 사이에 비선형 관계를 학습할 수 있는 다항회귀모델(polynomial regression)의 차수(degrees)를 조정해 회귀곡선을 만들어보는 실험을 해보겠습니다."
   ]
  },
  {
   "cell_type": "code",
   "execution_count": null,
   "metadata": {
    "id": "PjjCKlyZYrF1"
   },
   "outputs": [],
   "source": [
    "# 실험에 사용할 랜덤 데이터를 만듭니다 (30, 2)\n",
    "rng = np.random.RandomState(1)\n",
    "data = np.dot(rng.rand(2, 2), rng.randn(2, 30)).T\n",
    "X = pd.DataFrame([i[0] for i in data])\n",
    "y = pd.DataFrame([i[1] for i in data])"
   ]
  },
  {
   "cell_type": "markdown",
   "metadata": {
    "id": "VccY7fno9sA8"
   },
   "source": [
    "이번에는 훈련, 테스트셋을 scikit-learn을 사용해 나누어 보겠습니다. [train/test split](https://scikit-learn.org/stable/modules/generated/sklearn.model_selection.train_test_split.html)"
   ]
  },
  {
   "cell_type": "code",
   "execution_count": null,
   "metadata": {
    "id": "ki0qmlk69uWr"
   },
   "outputs": [],
   "source": [
    "from sklearn.model_selection import train_test_split\n",
    "\n",
    "## X_train, X_test, y_train, y_test\n",
    "X_train, X_test, y_train, y_test = train_test_split(X, y, random_state=1)"
   ]
  },
  {
   "cell_type": "code",
   "execution_count": null,
   "metadata": {
    "id": "pq38ff4dYrF2",
    "outputId": "b507d14f-01f0-4911-8e5e-e567c0426f40"
   },
   "outputs": [
    {
     "name": "stdout",
     "output_type": "stream",
     "text": [
      "[[0 1]\n",
      " [2 3]\n",
      " [4 5]]\n"
     ]
    }
   ],
   "source": [
    "from sklearn.preprocessing import PolynomialFeatures\n",
    "X1 = np.arange(6).reshape(3, 2)\n",
    "print(X1)\n",
    "\n",
    "poly = PolynomialFeatures(2)\n",
    "X_poly = poly.fit_transform(X1)\n",
    "\n",
    "# poly = PolynomialFeatures(interaction_only=True)\n",
    "# poly.fit_transforim(X)\n"
   ]
  },
  {
   "cell_type": "markdown",
   "metadata": {
    "id": "plMUW0DhYrF2"
   },
   "source": [
    "Sklearn의 **PolynomialFeatures**는 다항회귀모델을 쉽게 구현하도록 도와줍니다.\n",
    "이름에서 알 수 있듯이 다항 특성(polynomial features)을 방정식에 추가하는 것 입니다. 다항 특성은 특성들의 상호작용을 보여줄 수 있기 때문에 상호작용특성(interaction features)라고도 부릅니다.\n",
    "\n",
    "예를들어 $x_1$, $x_2$ 두 특성을 가진 데이터가 입력으로 들어오면 이것을 기준으로 degree=2 인 새로운 특성을 만들어 내는데 즉 특성이 다음과 같이 변합니다.\n",
    "($x_1$, $x_2$) -> (1, $x_1$, $x_2$, $x_1^2$, $x_1x_2$, $x_2^2$)\n",
    "\n",
    "degree = 3 인 경우는 특성이 더 많아 지겠지요?\n",
    "\n"
   ]
  },
  {
   "cell_type": "code",
   "execution_count": null,
   "metadata": {
    "id": "nOuJhy4fYrF2",
    "outputId": "1895941d-bc00-40bb-bf18-18fa35e1772a"
   },
   "outputs": [
    {
     "data": {
      "text/plain": [
       "array([[ 1.,  0.,  1.,  0.,  0.,  1.],\n",
       "       [ 1.,  2.,  3.,  4.,  6.,  9.],\n",
       "       [ 1.,  4.,  5., 16., 20., 25.]])"
      ]
     },
     "execution_count": 78,
     "metadata": {
      "tags": []
     },
     "output_type": "execute_result"
    }
   ],
   "source": [
    "## X_poly: [1, a, b, a^2, ab, b^2]\n",
    "X_poly"
   ]
  },
  {
   "cell_type": "markdown",
   "metadata": {
    "id": "HpQnoWJV9zkr"
   },
   "source": [
    "모델의 복잡도를 계속 올려 보겠습니다. 스코어를 눈여겨 봐 주세요.\n",
    "- [Hyperparameters and Model Validation](https://jakevdp.github.io/PythonDataScienceHandbook/05.03-hyperparameters-and-model-validation.html#Validation-curves-in-Scikit-Learn)"
   ]
  },
  {
   "cell_type": "code",
   "execution_count": null,
   "metadata": {
    "colab": {
     "base_uri": "https://localhost:8080/",
     "height": 1000
    },
    "id": "YShWjZrIrzoP",
    "outputId": "3a7101a1-3f88-4651-dafb-07a79ebb1203"
   },
   "outputs": [
    {
     "name": "stdout",
     "output_type": "stream",
     "text": [
      "Degree=1\n"
     ]
    },
    {
     "data": {
      "text/html": [
       "<b style=\"color: blue\">train R2 0.72</b>"
      ],
      "text/plain": [
       "<IPython.core.display.HTML object>"
      ]
     },
     "metadata": {
      "tags": []
     },
     "output_type": "display_data"
    },
    {
     "data": {
      "text/html": [
       "<b style=\"color: red\">test R2 0.04</b>"
      ],
      "text/plain": [
       "<IPython.core.display.HTML object>"
      ]
     },
     "metadata": {
      "tags": []
     },
     "output_type": "display_data"
    },
    {
     "data": {
      "image/png": "[encoded data removed]",
      "text/plain": [
       "<Figure size 360x360 with 1 Axes>"
      ]
     },
     "metadata": {
      "needs_background": "light",
      "tags": []
     },
     "output_type": "display_data"
    },
    {
     "data": {
      "text/html": [
       "<hr/>"
      ],
      "text/plain": [
       "<IPython.core.display.HTML object>"
      ]
     },
     "metadata": {
      "tags": []
     },
     "output_type": "display_data"
    },
    {
     "name": "stdout",
     "output_type": "stream",
     "text": [
      "Degree=3\n"
     ]
    },
    {
     "data": {
      "text/html": [
       "<b style=\"color: blue\">train R2 0.78</b>"
      ],
      "text/plain": [
       "<IPython.core.display.HTML object>"
      ]
     },
     "metadata": {
      "tags": []
     },
     "output_type": "display_data"
    },
    {
     "data": {
      "text/html": [
       "<b style=\"color: red\">test R2 0.34</b>"
      ],
      "text/plain": [
       "<IPython.core.display.HTML object>"
      ]
     },
     "metadata": {
      "tags": []
     },
     "output_type": "display_data"
    },
    {
     "data": {
      "image/png": "[encoded data removed]",
      "text/plain": [
       "<Figure size 360x360 with 1 Axes>"
      ]
     },
     "metadata": {
      "needs_background": "light",
      "tags": []
     },
     "output_type": "display_data"
    },
    {
     "data": {
      "text/html": [
       "<hr/>"
      ],
      "text/plain": [
       "<IPython.core.display.HTML object>"
      ]
     },
     "metadata": {
      "tags": []
     },
     "output_type": "display_data"
    },
    {
     "name": "stdout",
     "output_type": "stream",
     "text": [
      "Degree=4\n"
     ]
    },
    {
     "data": {
      "text/html": [
       "<b style=\"color: blue\">train R2 0.78</b>"
      ],
      "text/plain": [
       "<IPython.core.display.HTML object>"
      ]
     },
     "metadata": {
      "tags": []
     },
     "output_type": "display_data"
    },
    {
     "data": {
      "text/html": [
       "<b style=\"color: red\">test R2 0.37</b>"
      ],
      "text/plain": [
       "<IPython.core.display.HTML object>"
      ]
     },
     "metadata": {
      "tags": []
     },
     "output_type": "display_data"
    },
    {
     "data": {
      "image/png": "[encoded data removed]",
      "text/plain": [
       "<Figure size 360x360 with 1 Axes>"
      ]
     },
     "metadata": {
      "needs_background": "light",
      "tags": []
     },
     "output_type": "display_data"
    },
    {
     "data": {
      "text/html": [
       "<hr/>"
      ],
      "text/plain": [
       "<IPython.core.display.HTML object>"
      ]
     },
     "metadata": {
      "tags": []
     },
     "output_type": "display_data"
    },
    {
     "name": "stdout",
     "output_type": "stream",
     "text": [
      "Degree=6\n"
     ]
    },
    {
     "data": {
      "text/html": [
       "<b style=\"color: blue\">train R2 0.79</b>"
      ],
      "text/plain": [
       "<IPython.core.display.HTML object>"
      ]
     },
     "metadata": {
      "tags": []
     },
     "output_type": "display_data"
    },
    {
     "data": {
      "text/html": [
       "<b style=\"color: red\">test R2 0.35</b>"
      ],
      "text/plain": [
       "<IPython.core.display.HTML object>"
      ]
     },
     "metadata": {
      "tags": []
     },
     "output_type": "display_data"
    },
    {
     "data": {
      "image/png": "[encoded data removed]",
      "text/plain": [
       "<Figure size 360x360 with 1 Axes>"
      ]
     },
     "metadata": {
      "needs_background": "light",
      "tags": []
     },
     "output_type": "display_data"
    },
    {
     "data": {
      "text/html": [
       "<hr/>"
      ],
      "text/plain": [
       "<IPython.core.display.HTML object>"
      ]
     },
     "metadata": {
      "tags": []
     },
     "output_type": "display_data"
    },
    {
     "name": "stdout",
     "output_type": "stream",
     "text": [
      "Degree=10\n"
     ]
    },
    {
     "data": {
      "text/html": [
       "<b style=\"color: blue\">train R2 0.80</b>"
      ],
      "text/plain": [
       "<IPython.core.display.HTML object>"
      ]
     },
     "metadata": {
      "tags": []
     },
     "output_type": "display_data"
    },
    {
     "data": {
      "text/html": [
       "<b style=\"color: red\">test R2 0.13</b>"
      ],
      "text/plain": [
       "<IPython.core.display.HTML object>"
      ]
     },
     "metadata": {
      "tags": []
     },
     "output_type": "display_data"
    },
    {
     "data": {
      "image/png": "[encoded data removed]",
      "text/plain": [
       "<Figure size 360x360 with 1 Axes>"
      ]
     },
     "metadata": {
      "needs_background": "light",
      "tags": []
     },
     "output_type": "display_data"
    },
    {
     "data": {
      "text/html": [
       "<hr/>"
      ],
      "text/plain": [
       "<IPython.core.display.HTML object>"
      ]
     },
     "metadata": {
      "tags": []
     },
     "output_type": "display_data"
    },
    {
     "name": "stdout",
     "output_type": "stream",
     "text": [
      "Degree=20\n"
     ]
    },
    {
     "data": {
      "text/html": [
       "<b style=\"color: blue\">train R2 1.00</b>"
      ],
      "text/plain": [
       "<IPython.core.display.HTML object>"
      ]
     },
     "metadata": {
      "tags": []
     },
     "output_type": "display_data"
    },
    {
     "data": {
      "text/html": [
       "<b style=\"color: red\">test R2 -809886603.75</b>"
      ],
      "text/plain": [
       "<IPython.core.display.HTML object>"
      ]
     },
     "metadata": {
      "tags": []
     },
     "output_type": "display_data"
    },
    {
     "data": {
      "image/png": "[encoded data removed]",
      "text/plain": [
       "<Figure size 360x360 with 1 Axes>"
      ]
     },
     "metadata": {
      "needs_background": "light",
      "tags": []
     },
     "output_type": "display_data"
    },
    {
     "data": {
      "text/html": [
       "<hr/>"
      ],
      "text/plain": [
       "<IPython.core.display.HTML object>"
      ]
     },
     "metadata": {
      "tags": []
     },
     "output_type": "display_data"
    }
   ],
   "source": [
    "from IPython.display import display, HTML\n",
    "from sklearn.linear_model import LinearRegression\n",
    "from sklearn.metrics import r2_score\n",
    "from sklearn.pipeline import make_pipeline\n",
    "from sklearn.preprocessing import PolynomialFeatures\n",
    "import matplotlib.pyplot as plt\n",
    "\n",
    "plt.rcParams[\"figure.figsize\"] = (5,5)\n",
    "\n",
    "# 다항회귀모델도 결국 다중선형회귀모델로 변형하여 모델을 만들 수 있는 선형모델입니다.\n",
    "def PolynomialRegression(degree=2, **kwargs):\n",
    "    return make_pipeline(PolynomialFeatures(degree), \n",
    "                         LinearRegression(**kwargs))\n",
    "\n",
    "\n",
    "polynomial_degrees = [1, 3, 4, 6, 10, 20]\n",
    "train_r2s = []\n",
    "test_r2s = []\n",
    "\n",
    "for degree in polynomial_degrees:\n",
    "    model = PolynomialRegression(degree)\n",
    "    print(f'Degree={degree}')\n",
    "    \n",
    "    model.fit(X_train, y_train)\n",
    "    train_r2 = model.score(X_train, y_train)\n",
    "    test_r2 = model.score(X_test, y_test)\n",
    "    display(HTML(f'<b style=\"color: blue\">train R2 {train_r2:.2f}</b>'))\n",
    "    display(HTML(f'<b style=\"color: red\">test R2 {test_r2:.2f}</b>'))\n",
    "\n",
    "    plt.scatter(X_train, y_train, color='blue', alpha=0.5)\n",
    "    plt.scatter(X_test, y_test, color='red', alpha=0.5)\n",
    "    \n",
    "\n",
    "    x_domain = np.linspace(X.min(), X.max())\n",
    "    curve = model.predict(x_domain)\n",
    "    plt.plot(x_domain, curve, color='blue')\n",
    "    plt.axis([-2., 2.0, -0.5, 0.5])\n",
    "    plt.show()\n",
    "    display(HTML('<hr/>'))\n",
    "    \n",
    "    train_r2s.append(train_r2)\n",
    "    test_r2s.append(test_r2)"
   ]
  },
  {
   "cell_type": "markdown",
   "metadata": {
    "id": "VxzxiDxz5ah4"
   },
   "source": [
    "모델 복잡도가(차수) 올라갈 수록 과적합 되어 훈련 $R^2$ 값이 좋아지지만 테스트 $R^2$ 값은 줄어드는 것을 확인 할 수 있습니다."
   ]
  },
  {
   "cell_type": "markdown",
   "metadata": {
    "id": "4WcLE44XwpOL"
   },
   "source": [
    "## 참고자료\n",
    "\n",
    "#### plotly\n",
    "- [plotly API reference](https://plotly.github.io/plotly.py-docs/index.html)\n",
    "\n",
    "#### 훈련/테스트 세트 분리\n",
    "- [Forecasting,Chapter 3.4](https://otexts.com/fpp2/accuracy.html)\n",
    "- [How (and why) to create a good validation set](https://www.fast.ai/2017/11/13/validation-sets/)\n",
    "\n",
    "#### Bias-Variance Tradeoff\n",
    "\n",
    "- [Bias/Variance](https://youtu.be/SjQyLhQIXSM)\n",
    "- [Machine Learning Fundamentals: Bias and Variance](https://youtu.be/EuBBz3bI-aA)\n",
    "- [The Bias-Variance Tradeoff](https://towardsdatascience.com/the-bias-variance-tradeoff-8818f41e39e9)\n",
    "- [Python Data Science Handbook,Chapter 5.3](https://jakevdp.github.io/PythonDataScienceHandbook/05.03-hyperparameters-and-model-validation.html#The-Bias-variance-trade-off)\n",
    "\n",
    "#### Regression\n",
    "- [5 step process](https://jakevdp.github.io/PythonDataScienceHandbook/05.02-introducing-scikit-learn.html#Basics-of-the-API)\n",
    "- [Scikit-Learn LinearRegression documentation](https://scikit-learn.org/stable/modules/generated/sklearn.linear_model.LinearRegression.html)\n",
    "- [Sum of Squares](https://corporatefinanceinstitute.com/resources/knowledge/other/sum-of-squares/)\n",
    "- [$R^2$](https://en.wikipedia.org/wiki/Coefficient_of_determination)\n",
    "- [상관계수 & 결정계수](https://m.blog.naver.com/istech7/50153288534)\n",
    "- [회귀의 오류지표 알아보기](https://partrita.github.io/posts/regression-error/)\n"
   ]
  }
 ],
 "metadata": {
  "colab": {
   "name": "n212-multiple-regression.ipynb의 사본의 사본",
   "provenance": [
    {
     "file_id": "1qde51YIIxi8-A-VkJ0o7ZmYEjOd-olB4",
     "timestamp": 1626792458617
    },
    {
     "file_id": "https://github.com/codestates/ds-section2-sprint1/blob/main/n212-multiple-regression/n212-multiple-regression.ipynb",
     "timestamp": 1626792444240
    }
   ]
  },
  "kernelspec": {
   "display_name": "Python 3",
   "language": "python",
   "name": "python3"
  },
  "language_info": {
   "codemirror_mode": {
    "name": "ipython",
    "version": 3
   },
   "file_extension": ".py",
   "mimetype": "text/x-python",
   "name": "python",
   "nbconvert_exporter": "python",
   "pygments_lexer": "ipython3",
   "version": "3.8.8"
  }
 },
 "nbformat": 4,
 "nbformat_minor": 4
}
