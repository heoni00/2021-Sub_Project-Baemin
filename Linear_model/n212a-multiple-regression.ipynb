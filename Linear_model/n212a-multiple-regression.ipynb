{
 "cells": [
  {
   "cell_type": "markdown",
   "metadata": {
    "id": "X0WGDR0WZHKC"
   },
   "source": [
    "## *SECTION 2 / SPRINT 1 / NOTE 2*\n",
    "\n",
    "# Assignment\n",
    "---"
   ]
  },
  {
   "cell_type": "markdown",
   "metadata": {
    "id": "7IXUfiQ2UKj6"
   },
   "source": [
    "# 다중선형회귀(Multiple Linear Regression)\n",
    "\n",
    "이번 과제에서도 n211 과제 에서 다루었던 housing price dataset을 가지고 배운 내용을 연습해 보겠습니다.\n",
    "다음 링크에서 다운로드 받아 사용해 주세요. [House Sales in King County, USA](https://www.kaggle.com/harlfoxem/housesalesprediction)"
   ]
  },
  {
   "cell_type": "code",
   "execution_count": 1,
   "metadata": {
    "id": "wC-H_9OgZHKH"
   },
   "outputs": [],
   "source": [
    "# 데이터는 캐글에서 받으셔도 되고 이 링크에서 불러와도 됩니다.\n",
    "import pandas as pd\n",
    "df = pd.read_csv('https://ds-lecture-data.s3.ap-northeast-2.amazonaws.com/kc_house_data/kc_house_data.csv')"
   ]
  },
  {
   "cell_type": "code",
   "execution_count": 2,
   "metadata": {
    "id": "_al9XZ0LZHKI"
   },
   "outputs": [
    {
     "data": {
      "text/plain": [
       "Index(['id', 'date', 'price', 'bedrooms', 'bathrooms', 'sqft_living',\n",
       "       'sqft_lot', 'floors', 'waterfront', 'view', 'condition', 'grade',\n",
       "       'sqft_above', 'sqft_basement', 'yr_built', 'yr_renovated', 'zipcode',\n",
       "       'lat', 'long', 'sqft_living15', 'sqft_lot15'],\n",
       "      dtype='object')"
      ]
     },
     "execution_count": 2,
     "metadata": {},
     "output_type": "execute_result"
    }
   ],
   "source": [
    "df.columns"
   ]
  },
  {
   "cell_type": "markdown",
   "metadata": {
    "id": "ZPZW-Cx7ZHKI"
   },
   "source": [
    "### 1) 데이터는 May 2014 ~ May 2015 의 2년치 데이터입니다. 2015-01-01 부터 큰 날짜의 데이터는 테스트, 그 이외의 데이터는 훈련 데이터셋으로 나누어 주세요\n",
    "- **훈련데이터 샘플의 갯수를 과제 제출폼에 제출하세요.**"
   ]
  },
  {
   "cell_type": "code",
   "execution_count": 31,
   "metadata": {},
   "outputs": [
    {
     "data": {
      "text/html": [
       "<div>\n",
       "<style scoped>\n",
       "    .dataframe tbody tr th:only-of-type {\n",
       "        vertical-align: middle;\n",
       "    }\n",
       "\n",
       "    .dataframe tbody tr th {\n",
       "        vertical-align: top;\n",
       "    }\n",
       "\n",
       "    .dataframe thead th {\n",
       "        text-align: right;\n",
       "    }\n",
       "</style>\n",
       "<table border=\"1\" class=\"dataframe\">\n",
       "  <thead>\n",
       "    <tr style=\"text-align: right;\">\n",
       "      <th></th>\n",
       "      <th>id</th>\n",
       "      <th>date</th>\n",
       "      <th>price</th>\n",
       "      <th>bedrooms</th>\n",
       "      <th>bathrooms</th>\n",
       "      <th>sqft_living</th>\n",
       "      <th>sqft_lot</th>\n",
       "      <th>floors</th>\n",
       "      <th>waterfront</th>\n",
       "      <th>view</th>\n",
       "      <th>...</th>\n",
       "      <th>grade</th>\n",
       "      <th>sqft_above</th>\n",
       "      <th>sqft_basement</th>\n",
       "      <th>yr_built</th>\n",
       "      <th>yr_renovated</th>\n",
       "      <th>zipcode</th>\n",
       "      <th>lat</th>\n",
       "      <th>long</th>\n",
       "      <th>sqft_living15</th>\n",
       "      <th>sqft_lot15</th>\n",
       "    </tr>\n",
       "  </thead>\n",
       "  <tbody>\n",
       "    <tr>\n",
       "      <th>16594</th>\n",
       "      <td>9106000005</td>\n",
       "      <td>20150527T000000</td>\n",
       "      <td>1310000.0</td>\n",
       "      <td>4</td>\n",
       "      <td>2.25</td>\n",
       "      <td>3750</td>\n",
       "      <td>5000</td>\n",
       "      <td>2.0</td>\n",
       "      <td>0</td>\n",
       "      <td>0</td>\n",
       "      <td>...</td>\n",
       "      <td>8</td>\n",
       "      <td>2440</td>\n",
       "      <td>1310</td>\n",
       "      <td>1924</td>\n",
       "      <td>0</td>\n",
       "      <td>98115</td>\n",
       "      <td>47.6747</td>\n",
       "      <td>-122.303</td>\n",
       "      <td>2170</td>\n",
       "      <td>4590</td>\n",
       "    </tr>\n",
       "    <tr>\n",
       "      <th>13053</th>\n",
       "      <td>5101400871</td>\n",
       "      <td>20150524T000000</td>\n",
       "      <td>445500.0</td>\n",
       "      <td>2</td>\n",
       "      <td>1.75</td>\n",
       "      <td>1390</td>\n",
       "      <td>6670</td>\n",
       "      <td>1.0</td>\n",
       "      <td>0</td>\n",
       "      <td>0</td>\n",
       "      <td>...</td>\n",
       "      <td>6</td>\n",
       "      <td>720</td>\n",
       "      <td>670</td>\n",
       "      <td>1941</td>\n",
       "      <td>0</td>\n",
       "      <td>98115</td>\n",
       "      <td>47.6914</td>\n",
       "      <td>-122.308</td>\n",
       "      <td>920</td>\n",
       "      <td>6380</td>\n",
       "    </tr>\n",
       "    <tr>\n",
       "      <th>5637</th>\n",
       "      <td>7923600250</td>\n",
       "      <td>20150515T000000</td>\n",
       "      <td>450000.0</td>\n",
       "      <td>5</td>\n",
       "      <td>2.00</td>\n",
       "      <td>1870</td>\n",
       "      <td>7344</td>\n",
       "      <td>1.5</td>\n",
       "      <td>0</td>\n",
       "      <td>0</td>\n",
       "      <td>...</td>\n",
       "      <td>7</td>\n",
       "      <td>1870</td>\n",
       "      <td>0</td>\n",
       "      <td>1960</td>\n",
       "      <td>0</td>\n",
       "      <td>98007</td>\n",
       "      <td>47.5951</td>\n",
       "      <td>-122.144</td>\n",
       "      <td>1870</td>\n",
       "      <td>7650</td>\n",
       "    </tr>\n",
       "    <tr>\n",
       "      <th>21450</th>\n",
       "      <td>8562790720</td>\n",
       "      <td>20150514T000000</td>\n",
       "      <td>749950.0</td>\n",
       "      <td>4</td>\n",
       "      <td>3.50</td>\n",
       "      <td>2630</td>\n",
       "      <td>3757</td>\n",
       "      <td>2.0</td>\n",
       "      <td>0</td>\n",
       "      <td>0</td>\n",
       "      <td>...</td>\n",
       "      <td>10</td>\n",
       "      <td>2200</td>\n",
       "      <td>430</td>\n",
       "      <td>2008</td>\n",
       "      <td>0</td>\n",
       "      <td>98027</td>\n",
       "      <td>47.5322</td>\n",
       "      <td>-122.075</td>\n",
       "      <td>2620</td>\n",
       "      <td>2699</td>\n",
       "    </tr>\n",
       "    <tr>\n",
       "      <th>928</th>\n",
       "      <td>8730000270</td>\n",
       "      <td>20150514T000000</td>\n",
       "      <td>359000.0</td>\n",
       "      <td>2</td>\n",
       "      <td>2.75</td>\n",
       "      <td>1370</td>\n",
       "      <td>1140</td>\n",
       "      <td>2.0</td>\n",
       "      <td>0</td>\n",
       "      <td>0</td>\n",
       "      <td>...</td>\n",
       "      <td>8</td>\n",
       "      <td>1080</td>\n",
       "      <td>290</td>\n",
       "      <td>2009</td>\n",
       "      <td>0</td>\n",
       "      <td>98133</td>\n",
       "      <td>47.7052</td>\n",
       "      <td>-122.343</td>\n",
       "      <td>1370</td>\n",
       "      <td>1090</td>\n",
       "    </tr>\n",
       "    <tr>\n",
       "      <th>...</th>\n",
       "      <td>...</td>\n",
       "      <td>...</td>\n",
       "      <td>...</td>\n",
       "      <td>...</td>\n",
       "      <td>...</td>\n",
       "      <td>...</td>\n",
       "      <td>...</td>\n",
       "      <td>...</td>\n",
       "      <td>...</td>\n",
       "      <td>...</td>\n",
       "      <td>...</td>\n",
       "      <td>...</td>\n",
       "      <td>...</td>\n",
       "      <td>...</td>\n",
       "      <td>...</td>\n",
       "      <td>...</td>\n",
       "      <td>...</td>\n",
       "      <td>...</td>\n",
       "      <td>...</td>\n",
       "      <td>...</td>\n",
       "      <td>...</td>\n",
       "    </tr>\n",
       "    <tr>\n",
       "      <th>17402</th>\n",
       "      <td>1868902745</td>\n",
       "      <td>20140502T000000</td>\n",
       "      <td>805000.0</td>\n",
       "      <td>3</td>\n",
       "      <td>2.00</td>\n",
       "      <td>2710</td>\n",
       "      <td>4500</td>\n",
       "      <td>1.5</td>\n",
       "      <td>0</td>\n",
       "      <td>0</td>\n",
       "      <td>...</td>\n",
       "      <td>8</td>\n",
       "      <td>1880</td>\n",
       "      <td>830</td>\n",
       "      <td>1929</td>\n",
       "      <td>0</td>\n",
       "      <td>98115</td>\n",
       "      <td>47.6747</td>\n",
       "      <td>-122.295</td>\n",
       "      <td>2060</td>\n",
       "      <td>4500</td>\n",
       "    </tr>\n",
       "    <tr>\n",
       "      <th>19566</th>\n",
       "      <td>2423600100</td>\n",
       "      <td>20140502T000000</td>\n",
       "      <td>491500.0</td>\n",
       "      <td>4</td>\n",
       "      <td>1.75</td>\n",
       "      <td>2190</td>\n",
       "      <td>125452</td>\n",
       "      <td>1.0</td>\n",
       "      <td>0</td>\n",
       "      <td>2</td>\n",
       "      <td>...</td>\n",
       "      <td>9</td>\n",
       "      <td>2190</td>\n",
       "      <td>0</td>\n",
       "      <td>1968</td>\n",
       "      <td>0</td>\n",
       "      <td>98092</td>\n",
       "      <td>47.2703</td>\n",
       "      <td>-122.069</td>\n",
       "      <td>3000</td>\n",
       "      <td>125017</td>\n",
       "    </tr>\n",
       "    <tr>\n",
       "      <th>8300</th>\n",
       "      <td>7575600100</td>\n",
       "      <td>20140502T000000</td>\n",
       "      <td>285000.0</td>\n",
       "      <td>3</td>\n",
       "      <td>2.50</td>\n",
       "      <td>2090</td>\n",
       "      <td>10834</td>\n",
       "      <td>1.0</td>\n",
       "      <td>0</td>\n",
       "      <td>0</td>\n",
       "      <td>...</td>\n",
       "      <td>8</td>\n",
       "      <td>1360</td>\n",
       "      <td>730</td>\n",
       "      <td>1987</td>\n",
       "      <td>0</td>\n",
       "      <td>98003</td>\n",
       "      <td>47.3537</td>\n",
       "      <td>-122.303</td>\n",
       "      <td>1750</td>\n",
       "      <td>8595</td>\n",
       "    </tr>\n",
       "    <tr>\n",
       "      <th>14088</th>\n",
       "      <td>943100683</td>\n",
       "      <td>20140502T000000</td>\n",
       "      <td>335000.0</td>\n",
       "      <td>3</td>\n",
       "      <td>2.25</td>\n",
       "      <td>1580</td>\n",
       "      <td>16215</td>\n",
       "      <td>1.0</td>\n",
       "      <td>0</td>\n",
       "      <td>0</td>\n",
       "      <td>...</td>\n",
       "      <td>7</td>\n",
       "      <td>1580</td>\n",
       "      <td>0</td>\n",
       "      <td>1978</td>\n",
       "      <td>0</td>\n",
       "      <td>98024</td>\n",
       "      <td>47.5643</td>\n",
       "      <td>-121.897</td>\n",
       "      <td>1450</td>\n",
       "      <td>16215</td>\n",
       "    </tr>\n",
       "    <tr>\n",
       "      <th>8326</th>\n",
       "      <td>2493200195</td>\n",
       "      <td>20140502T000000</td>\n",
       "      <td>615000.0</td>\n",
       "      <td>3</td>\n",
       "      <td>1.75</td>\n",
       "      <td>2360</td>\n",
       "      <td>7291</td>\n",
       "      <td>1.0</td>\n",
       "      <td>0</td>\n",
       "      <td>0</td>\n",
       "      <td>...</td>\n",
       "      <td>8</td>\n",
       "      <td>1360</td>\n",
       "      <td>1000</td>\n",
       "      <td>1948</td>\n",
       "      <td>0</td>\n",
       "      <td>98136</td>\n",
       "      <td>47.5274</td>\n",
       "      <td>-122.384</td>\n",
       "      <td>1860</td>\n",
       "      <td>5499</td>\n",
       "    </tr>\n",
       "  </tbody>\n",
       "</table>\n",
       "<p>21613 rows × 21 columns</p>\n",
       "</div>"
      ],
      "text/plain": [
       "               id             date      price  bedrooms  bathrooms  \\\n",
       "16594  9106000005  20150527T000000  1310000.0         4       2.25   \n",
       "13053  5101400871  20150524T000000   445500.0         2       1.75   \n",
       "5637   7923600250  20150515T000000   450000.0         5       2.00   \n",
       "21450  8562790720  20150514T000000   749950.0         4       3.50   \n",
       "928    8730000270  20150514T000000   359000.0         2       2.75   \n",
       "...           ...              ...        ...       ...        ...   \n",
       "17402  1868902745  20140502T000000   805000.0         3       2.00   \n",
       "19566  2423600100  20140502T000000   491500.0         4       1.75   \n",
       "8300   7575600100  20140502T000000   285000.0         3       2.50   \n",
       "14088   943100683  20140502T000000   335000.0         3       2.25   \n",
       "8326   2493200195  20140502T000000   615000.0         3       1.75   \n",
       "\n",
       "       sqft_living  sqft_lot  floors  waterfront  view  ...  grade  \\\n",
       "16594         3750      5000     2.0           0     0  ...      8   \n",
       "13053         1390      6670     1.0           0     0  ...      6   \n",
       "5637          1870      7344     1.5           0     0  ...      7   \n",
       "21450         2630      3757     2.0           0     0  ...     10   \n",
       "928           1370      1140     2.0           0     0  ...      8   \n",
       "...            ...       ...     ...         ...   ...  ...    ...   \n",
       "17402         2710      4500     1.5           0     0  ...      8   \n",
       "19566         2190    125452     1.0           0     2  ...      9   \n",
       "8300          2090     10834     1.0           0     0  ...      8   \n",
       "14088         1580     16215     1.0           0     0  ...      7   \n",
       "8326          2360      7291     1.0           0     0  ...      8   \n",
       "\n",
       "       sqft_above  sqft_basement  yr_built  yr_renovated  zipcode      lat  \\\n",
       "16594        2440           1310      1924             0    98115  47.6747   \n",
       "13053         720            670      1941             0    98115  47.6914   \n",
       "5637         1870              0      1960             0    98007  47.5951   \n",
       "21450        2200            430      2008             0    98027  47.5322   \n",
       "928          1080            290      2009             0    98133  47.7052   \n",
       "...           ...            ...       ...           ...      ...      ...   \n",
       "17402        1880            830      1929             0    98115  47.6747   \n",
       "19566        2190              0      1968             0    98092  47.2703   \n",
       "8300         1360            730      1987             0    98003  47.3537   \n",
       "14088        1580              0      1978             0    98024  47.5643   \n",
       "8326         1360           1000      1948             0    98136  47.5274   \n",
       "\n",
       "          long  sqft_living15  sqft_lot15  \n",
       "16594 -122.303           2170        4590  \n",
       "13053 -122.308            920        6380  \n",
       "5637  -122.144           1870        7650  \n",
       "21450 -122.075           2620        2699  \n",
       "928   -122.343           1370        1090  \n",
       "...        ...            ...         ...  \n",
       "17402 -122.295           2060        4500  \n",
       "19566 -122.069           3000      125017  \n",
       "8300  -122.303           1750        8595  \n",
       "14088 -121.897           1450       16215  \n",
       "8326  -122.384           1860        5499  \n",
       "\n",
       "[21613 rows x 21 columns]"
      ]
     },
     "execution_count": 31,
     "metadata": {},
     "output_type": "execute_result"
    }
   ],
   "source": [
    "df = df.sort_values(by='date' ,ascending= False)\n",
    "df"
   ]
  },
  {
   "cell_type": "code",
   "execution_count": 32,
   "metadata": {},
   "outputs": [],
   "source": [
    "train = df.iloc[0:round(len(df)*0.7)]\n",
    "test = df.drop(train.index)"
   ]
  },
  {
   "cell_type": "code",
   "execution_count": 33,
   "metadata": {},
   "outputs": [
    {
     "data": {
      "text/plain": [
       "6484"
      ]
     },
     "execution_count": 33,
     "metadata": {},
     "output_type": "execute_result"
    }
   ],
   "source": [
    "len(test)"
   ]
  },
  {
   "cell_type": "code",
   "execution_count": null,
   "metadata": {
    "id": "dUlxT_XQZHKJ"
   },
   "outputs": [],
   "source": [
    "### 이곳에서 과제를 진행해 주세요 ###"
   ]
  },
  {
   "cell_type": "markdown",
   "metadata": {
    "id": "QR86fWoxZHKJ"
   },
   "source": [
    "### 2) 두 특성(bathrooms, sqft_living)을 사용해서 다중선형회귀 모델을 만들어 보세요\n",
    "- 학습시 Parameters는 모두 기본값으로 합니다.\n",
    "- **테스트세트의 MAE 값을 과제 제출폼에 제출하세요.**"
   ]
  },
  {
   "cell_type": "code",
   "execution_count": null,
   "metadata": {
    "id": "KS68AxhwZHKK"
   },
   "outputs": [],
   "source": [
    "### 이곳에서 과제를 진행해 주세요 ###"
   ]
  },
  {
   "cell_type": "markdown",
   "metadata": {
    "id": "MTTKMHBAZHKK"
   },
   "source": [
    "### 3) 모델의 회귀계수(coefficients)와 절편(intercept)을 확인해 보세요.\n",
    "- **sqft_living의 회귀계수를 과제 제출폼에 제출하세요.**"
   ]
  },
  {
   "cell_type": "code",
   "execution_count": null,
   "metadata": {
    "id": "4CXSuhsvZHKL"
   },
   "outputs": [],
   "source": [
    "### 이곳에서 과제를 진행해 주세요 "
   ]
  },
  {
   "cell_type": "markdown",
   "metadata": {
    "id": "o9aYbkZNZHKL"
   },
   "source": [
    "### 4) MSE, RMSE, MAE, $R^2$ 를 훈련/테스트 데이터에 대해 확인해 보세요\n",
    "- **테스트 데이터에 대한 R^2 값을 과제 제출폼에 제출하세요.**"
   ]
  },
  {
   "cell_type": "code",
   "execution_count": null,
   "metadata": {
    "id": "DvW9QHCnZHKM"
   },
   "outputs": [],
   "source": [
    "### 이곳에서 과제를 진행해 주세요 ###"
   ]
  },
  {
   "cell_type": "markdown",
   "metadata": {
    "id": "td1z_8AqZHKM"
   },
   "source": [
    "## 🔥도전과제"
   ]
  },
  {
   "cell_type": "markdown",
   "metadata": {
    "id": "FGeYx3DvZHKM"
   },
   "source": [
    "### 5) 두가지 이상 특성을 선택하여 특성공학(feature engineering)을 진행합니다. (kaggle notebook을 참고하여 중요한 특성을 고르는 것이 힌트입니다.)\n",
    "- EDA를 자세히 진행하세요\n",
    "- 특성공학 과정을 자세히 기술하세요\n",
    "- 특성공학을 거친 특성을 포함해 다수의 특성을 사용한 모델을 학습하고 테스트 데이터에 대해 MSE, RMSE, MAE, R2 스코어를 계산하고 분석하세요\n",
    "- 만들어진 회귀계수를 사용해 모델을 설명하세요.\n",
    "- 모델이 과적합인지/과소적합인지 설명하세요.\n",
    "- 메신저 general 채널에서 4개 스코어를 제시하고 본인이 고른 특성, 특성공학 방법 등을 간략하게 공유하세요"
   ]
  },
  {
   "cell_type": "code",
   "execution_count": null,
   "metadata": {
    "id": "pFFEr092ZHKN"
   },
   "outputs": [],
   "source": [
    "### 이곳에서 과제를 진행해 주세요 ###"
   ]
  },
  {
   "cell_type": "markdown",
   "metadata": {
    "id": "npCNDtMrZHKN"
   },
   "source": [
    "## 참고자료\n",
    "* [Feature Engineering](https://en.wikipedia.org/wiki/Feature_engineering)\n",
    "* [\"A Few Useful Things to Know about Machine Learning\"](https://homes.cs.washington.edu/~pedrod/papers/cacm12.pdf)\n",
    "* [Machine Learning and AI via Brain simulations](https://forum.stanford.edu/events/2011/2011slides/plenary/2011plenaryNg.pdf)\n",
    "* [_An Introduction to Statistical Learning_](http://faculty.marshall.usc.edu/gareth-james/ISL/ISLR%20Seventh%20Printing.pdf),  Chapter 3.1, Simple Linear Regression, & Chapter 3.2, Multiple Linear Regression\n",
    "* [Brandon Foltz, Statistics 101: Simple Linear Regression](https://www.youtube.com/watch?v=ZkjP5RJLQF4)"
   ]
  }
 ],
 "metadata": {
  "colab": {
   "name": "n212a-multiple-regression.ipynb의 사본",
   "provenance": [
    {
     "file_id": "https://github.com/codestates/ds-section2-sprint1/blob/main/n212-multiple-regression/n212a-multiple-regression.ipynb",
     "timestamp": 1626792565895
    }
   ]
  },
  "kernelspec": {
   "display_name": "Python 3",
   "language": "python",
   "name": "python3"
  },
  "language_info": {
   "codemirror_mode": {
    "name": "ipython",
    "version": 3
   },
   "file_extension": ".py",
   "mimetype": "text/x-python",
   "name": "python",
   "nbconvert_exporter": "python",
   "pygments_lexer": "ipython3",
   "version": "3.8.8"
  }
 },
 "nbformat": 4,
 "nbformat_minor": 4
}
